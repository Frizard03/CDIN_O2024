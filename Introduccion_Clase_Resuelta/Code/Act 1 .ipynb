{
 "cells": [
  {
   "cell_type": "markdown",
   "id": "5992d9a6",
   "metadata": {},
   "source": [
    "**Actividad 1:**\n",
    "\n",
    "Se desea calcular el índice de masa corporal (IMC) de jugadores de un equipo de futbol. Los datos proporcionados corresponden a las listas de los nombres, altura y peso, tal como se muestra a continuación"
   ]
  },
  {
   "cell_type": "code",
   "execution_count": null,
   "id": "7e060fe9",
   "metadata": {},
   "outputs": [],
   "source": [
    "nombre= ['Bonifacio de Cifuentes',\n",
    "'Ángel Machado Lara',\n",
    "'Geraldo de Atienza',\n",
    "'Onofre Posada Grande',\n",
    "'Samu Cantón-Figuerola',\n",
    "'Camilo Pol',\n",
    "'Toni Galvez Lara',\n",
    "'Lucho Manzano Rivas',\n",
    "'Abraham Aroca',\n",
    "'Anselmo Bartolomé Folch',\n",
    "'Toni Inocencio Rozas Porras',\n",
    "'Fausto Cortés-Arco',\n",
    "'Baltasar Carreño Isern']\n",
    "\n",
    "altura = [180, 215, 210, 210, 188, 176, 209, 200, 210, 188, 176, 209, 200]\n",
    "peso =   [69, 74, 72, 75, 68, 70, 71, 73, 69, 74, 72, 75, 68]"
   ]
  },
  {
   "cell_type": "markdown",
   "id": "132daff2",
   "metadata": {},
   "source": [
    "El valor de IMC por cada jugador resulta de aplicar la fórmula:\n",
    "\n",
    "$$IMC = \\frac{peso(kg)}{altura(m)^2}$$\n",
    "\n",
    "**Nota:** Los valores de altura están dados en centímetros por lo que deberá hacer laconversión a metros previo a la aplicación de la fórmula. Adicionalmente, una vez obtenido el IMC se solicita:\n",
    "\n",
    "> a) Presentar el imc para cada jugador.\n",
    "\n",
    "> b) Indicar en qué índice se encuentra el imc más alto y a qué jugador le pertenece.\n",
    "\n",
    "> c) Calcular el promedio de los imc resultantes.\n",
    "\n",
    "> d) Muestre los nombres de los jugadores en orden de su imc, desde el que tiene menor imc al que tiene mayor imc."
   ]
  },
  {
   "cell_type": "code",
   "execution_count": null,
   "id": "90225fe2",
   "metadata": {},
   "outputs": [],
   "source": []
  }
 ],
 "metadata": {
  "kernelspec": {
   "display_name": "Python 3 (ipykernel)",
   "language": "python",
   "name": "python3"
  },
  "language_info": {
   "codemirror_mode": {
    "name": "ipython",
    "version": 3
   },
   "file_extension": ".py",
   "mimetype": "text/x-python",
   "name": "python",
   "nbconvert_exporter": "python",
   "pygments_lexer": "ipython3",
   "version": "3.8.8"
  }
 },
 "nbformat": 4,
 "nbformat_minor": 5
}
