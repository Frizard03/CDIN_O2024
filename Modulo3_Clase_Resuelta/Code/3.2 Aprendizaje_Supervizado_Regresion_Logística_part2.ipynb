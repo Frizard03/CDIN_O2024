{
 "cells": [
  {
   "cell_type": "markdown",
   "metadata": {},
   "source": [
    "<img style=\"float: left;;\" src='../Imagenes/iteso.jpg' width=\"50\" height=\"100\"/></a>\n",
    "\n",
    "# <center> <font color= #000047> Módulo III: Aprendizaje supervizado: Regresión Logística "
   ]
  },
  {
   "cell_type": "markdown",
   "metadata": {},
   "source": [
    "> La **regresión logística** es un método estadístico que trata de modelar la probabilidad de una variable cualitativa binaria (dos posibles valores) en función de una o más variables independientes. La principal aplicación de la regresión logística es la creación de modelos de clasificación binaria.\n",
    "\n",
    "Se llama **regresión logística simple** cuando solo hay una variable independiente y **regresión logística múltiple*** cuando hay más de una. Dependiendo del contexto, a la variable modelada se le conoce como variable dependiente o variable respuesta, y a las variables independientes como **regresores, predictores o features**."
   ]
  },
  {
   "cell_type": "markdown",
   "metadata": {},
   "source": [
    "Si una variable cualitativa con dos niveles (binaría) se codifica como 0 y 1, matemáticamente es posible ajustar un modelo de regresión lineal por mínimos cuadrados. Sin embargo, esta aproximación tiene dos problemas:\n",
    "\n",
    "- Al generar una recta (hiperplano si hay múltiples variables), se pueden obtener valores predichos distintos de 0 y 1, lo que entra en contradicción con la definición de la variable respuesta binaria.\n",
    "\n",
    "- Si se quiere interpretar las predicciones del modelo como probabilidades de pertenencia a cada clase, no se cumpliría la condición de que toda probabilidad ha de estar dentro del intervalo [0,1], ya que podrían obtenerse valores fuera de este.\n",
    "\n",
    "Para evitar estos problemas, la **regresión logística** transforma el valor devuelto por la regresión lineal con una función cuyo resultado siempre está comprendido entre 0 y 1 (función sigmoide). \n",
    "\n",
    "> Existen varias funciones que cumplen esta descripción, una de las más utilizadas es la función logística (también conocida como función sigmoide):\n",
    "\n",
    "$$sigmoide = \\sigma(y) = \\frac{1}{1+e^{-y}}$$\n",
    "\n",
    "<img style=\"float: center;;\" src='../Imagenes/sigmoide.png' width=\"500\" height=\"100\"/></a>"
   ]
  },
  {
   "cell_type": "markdown",
   "metadata": {},
   "source": [
    "\n",
    "> Para valores de $y$  positivos muy grandes,  $e^{−y}$  es aproximadamente 0, por lo que el valor de la función sigmoide es 1. Para valores de  $y$ negativos muy grandes,  $e^{−y}$  tiende a infinito, por lo que el valor de la función sigmoide es 0.\n",
    "\n",
    "> Sustituyendo la  y  de la ecuación anterior por la función de un modelo lineal $y=\\beta_0 + \\beta_1 x_1 + ... + \\beta_p x_p$ se obtiene que:\n",
    "\n",
    "$$P(y=1|X=x) = \\frac{e^{\\beta_0 + \\beta_1x_1 +...+\\beta_px_p}}{1 + e^{\\beta_0 + \\beta_1x_1 +...+\\beta_px_p}}$$\n",
    "\n",
    "> donde $P(y=1|X=x)$ puede interpretarse como la probabilidad de que la variable respuesta  y  adquiera el valor 1 (clase de referencia), dado los predictores $x_1,...,x_p$. El modelo resultante tiene los coeficientes de regresión en los exponentes, por lo que no es un modelo lineal.\n",
    "\n",
    "> La expresión obtenida tiene la característica de ser siempre positiva, ya que la función exponencial solo toma valores positivos y, el cociente de valores positivos, es siempre positivo. Esto hace posible aplicarle el logaritmo:\n",
    "\n",
    "$$ln(\\frac{P(y=1|X=x)}{P(y=0|X=x)}) = \\beta_0 + \\beta_1x_1 +...+\\beta_px_p$$\n",
    "\n",
    "> Al realizar la transformación, en el lado derecho se obtiene la ecuación de un modelo lineal. El término de la izquierda resulta ser el logaritmo de un cociente de probabilidades, lo que se conoce como razón de probabilidad (log of odds).\n",
    "\n",
    "> Como resultado de este proceso se consigue convertir un problema de clasificación no lineal, en un problema de regresión lineal que sí puede ajustarse mediante los métodos convencionales.\n",
    "\n",
    "\n",
    "### Función de Costo\n",
    "\n",
    "$$J(\\beta) = -\\frac{1}{m} \\sum_{i=1}^m[y^{(i)}\\log\\hat{y}(x^{(i)}) + (1-y^{(i)})\\log(1 - \\hat{y}(x^{(i)}))]$$"
   ]
  },
  {
   "cell_type": "markdown",
   "metadata": {},
   "source": [
    "### Ejemplos:"
   ]
  },
  {
   "cell_type": "code",
   "execution_count": 1,
   "metadata": {},
   "outputs": [],
   "source": [
    "import numpy as np\n",
    "from matplotlib import pyplot as plt\n",
    "import pandas as pd\n",
    "from sklearn.datasets import make_blobs\n",
    "import scipy.optimize as opt"
   ]
  },
  {
   "cell_type": "code",
   "execution_count": 2,
   "metadata": {},
   "outputs": [],
   "source": [
    "# Generar un conjuto de datos para clasificación\n",
    "X, Y = make_blobs(n_samples=200, centers = [[0,0], [3,3]], cluster_std = 0.5, n_features = 2) \n"
   ]
  },
  {
   "cell_type": "code",
   "execution_count": 3,
   "metadata": {},
   "outputs": [
    {
     "data": {
      "text/plain": [
       "200"
      ]
     },
     "execution_count": 3,
     "metadata": {},
     "output_type": "execute_result"
    }
   ],
   "source": [
    "len(Y)"
   ]
  },
  {
   "cell_type": "code",
   "execution_count": 4,
   "metadata": {},
   "outputs": [
    {
     "data": {
      "image/png": "[encoded data removed]",
      "text/plain": [
       "<Figure size 360x288 with 1 Axes>"
      ]
     },
     "metadata": {
      "needs_background": "light"
     },
     "output_type": "display_data"
    }
   ],
   "source": [
    "# Mostrar en una gráfica el conjunto de valores en X y su pertenencia a las clases 0 ó 1\n",
    "plt.figure(figsize=(5,4))\n",
    "plt.scatter(X[:,0], X[:,1], c = Y)\n",
    "plt.xlabel('$x_1$')\n",
    "plt.ylabel('$x_2$')\n",
    "plt.show()"
   ]
  },
  {
   "cell_type": "code",
   "execution_count": 5,
   "metadata": {},
   "outputs": [],
   "source": [
    "# Programar la función logísitca (Sigmoide)\n",
    "def fun_log(X):\n",
    "    return 1/(1+np.exp(-X))"
   ]
  },
  {
   "cell_type": "code",
   "execution_count": 6,
   "metadata": {},
   "outputs": [
    {
     "data": {
      "text/plain": [
       "[<matplotlib.lines.Line2D at 0x26f4d479a00>]"
      ]
     },
     "execution_count": 6,
     "metadata": {},
     "output_type": "execute_result"
    },
    {
     "data": {
      "image/png": "[encoded data removed]",
      "text/plain": [
       "<Figure size 432x288 with 1 Axes>"
      ]
     },
     "metadata": {
      "needs_background": "light"
     },
     "output_type": "display_data"
    }
   ],
   "source": [
    "xi = np.linspace(-100,100,1000)\n",
    "y_sigmoide = fun_log(xi)\n",
    "plt.plot(xi,y_sigmoide )"
   ]
  },
  {
   "cell_type": "code",
   "execution_count": 7,
   "metadata": {},
   "outputs": [],
   "source": [
    "#Función regresor logístico y_hat = fun_log(Beta^T*X)\n",
    "def reg_log(Beta, X, Y):\n",
    "    y_resgresor = np.matrix(X)*np.matrix(Beta).transpose()\n",
    "    y_hat = np.array(fun_log(y_resgresor))[:,0] # Valores entre 0 y 1\n",
    "    return y_hat"
   ]
  },
  {
   "cell_type": "code",
   "execution_count": 8,
   "metadata": {},
   "outputs": [
    {
     "data": {
      "text/plain": [
       "array([0, 0, 1, 1, 1, 1, 0, 0, 1, 0, 1, 0, 1, 0, 1, 0, 0, 0, 1, 1, 1, 0,\n",
       "       0, 1, 1, 1, 1, 0, 1, 0, 0, 0, 0, 1, 0, 1, 1, 1, 0, 0, 1, 1, 1, 0,\n",
       "       0, 0, 0, 1, 1, 1, 1, 0, 0, 0, 1, 0, 0, 1, 1, 0, 1, 1, 0, 1, 1, 1,\n",
       "       0, 0, 0, 1, 0, 1, 0, 0, 0, 1, 0, 1, 0, 0, 1, 1, 1, 0, 0, 1, 0, 0,\n",
       "       1, 1, 0, 0, 1, 0, 0, 1, 1, 0, 0, 1, 0, 0, 0, 0, 1, 0, 0, 0, 1, 0,\n",
       "       1, 0, 1, 0, 1, 0, 1, 1, 0, 0, 0, 1, 0, 0, 0, 0, 0, 0, 1, 0, 0, 1,\n",
       "       0, 1, 1, 0, 1, 1, 1, 0, 1, 0, 0, 1, 1, 1, 0, 0, 1, 1, 1, 0, 0, 0,\n",
       "       1, 1, 1, 0, 1, 0, 1, 1, 0, 1, 0, 1, 1, 1, 0, 0, 0, 1, 0, 1, 0, 0,\n",
       "       1, 0, 1, 1, 0, 0, 0, 1, 1, 1, 1, 0, 1, 1, 1, 1, 1, 1, 1, 0, 0, 1,\n",
       "       1, 1])"
      ]
     },
     "execution_count": 8,
     "metadata": {},
     "output_type": "execute_result"
    }
   ],
   "source": [
    "Y"
   ]
  },
  {
   "cell_type": "code",
   "execution_count": 9,
   "metadata": {},
   "outputs": [],
   "source": [
    "#Función de costo de entropía\n",
    "def fun_cost(Beta, X, Y):\n",
    "    m = len(Y)\n",
    "    yhat = reg_log(Beta, X, Y)\n",
    "    J = (1/m)*np.sum(-Y*np.log(yhat) - (1-Y)*np.log(1-yhat))\n",
    "    return J"
   ]
  },
  {
   "cell_type": "code",
   "execution_count": 10,
   "metadata": {},
   "outputs": [
    {
     "data": {
      "text/plain": [
       "array([[1.],\n",
       "       [1.],\n",
       "       [1.],\n",
       "       [1.],\n",
       "       [1.],\n",
       "       [1.],\n",
       "       [1.],\n",
       "       [1.],\n",
       "       [1.],\n",
       "       [1.],\n",
       "       [1.],\n",
       "       [1.],\n",
       "       [1.],\n",
       "       [1.],\n",
       "       [1.],\n",
       "       [1.],\n",
       "       [1.],\n",
       "       [1.],\n",
       "       [1.],\n",
       "       [1.],\n",
       "       [1.],\n",
       "       [1.],\n",
       "       [1.],\n",
       "       [1.],\n",
       "       [1.],\n",
       "       [1.],\n",
       "       [1.],\n",
       "       [1.],\n",
       "       [1.],\n",
       "       [1.],\n",
       "       [1.],\n",
       "       [1.],\n",
       "       [1.],\n",
       "       [1.],\n",
       "       [1.],\n",
       "       [1.],\n",
       "       [1.],\n",
       "       [1.],\n",
       "       [1.],\n",
       "       [1.],\n",
       "       [1.],\n",
       "       [1.],\n",
       "       [1.],\n",
       "       [1.],\n",
       "       [1.],\n",
       "       [1.],\n",
       "       [1.],\n",
       "       [1.],\n",
       "       [1.],\n",
       "       [1.],\n",
       "       [1.],\n",
       "       [1.],\n",
       "       [1.],\n",
       "       [1.],\n",
       "       [1.],\n",
       "       [1.],\n",
       "       [1.],\n",
       "       [1.],\n",
       "       [1.],\n",
       "       [1.],\n",
       "       [1.],\n",
       "       [1.],\n",
       "       [1.],\n",
       "       [1.],\n",
       "       [1.],\n",
       "       [1.],\n",
       "       [1.],\n",
       "       [1.],\n",
       "       [1.],\n",
       "       [1.],\n",
       "       [1.],\n",
       "       [1.],\n",
       "       [1.],\n",
       "       [1.],\n",
       "       [1.],\n",
       "       [1.],\n",
       "       [1.],\n",
       "       [1.],\n",
       "       [1.],\n",
       "       [1.],\n",
       "       [1.],\n",
       "       [1.],\n",
       "       [1.],\n",
       "       [1.],\n",
       "       [1.],\n",
       "       [1.],\n",
       "       [1.],\n",
       "       [1.],\n",
       "       [1.],\n",
       "       [1.],\n",
       "       [1.],\n",
       "       [1.],\n",
       "       [1.],\n",
       "       [1.],\n",
       "       [1.],\n",
       "       [1.],\n",
       "       [1.],\n",
       "       [1.],\n",
       "       [1.],\n",
       "       [1.],\n",
       "       [1.],\n",
       "       [1.],\n",
       "       [1.],\n",
       "       [1.],\n",
       "       [1.],\n",
       "       [1.],\n",
       "       [1.],\n",
       "       [1.],\n",
       "       [1.],\n",
       "       [1.],\n",
       "       [1.],\n",
       "       [1.],\n",
       "       [1.],\n",
       "       [1.],\n",
       "       [1.],\n",
       "       [1.],\n",
       "       [1.],\n",
       "       [1.],\n",
       "       [1.],\n",
       "       [1.],\n",
       "       [1.],\n",
       "       [1.],\n",
       "       [1.],\n",
       "       [1.],\n",
       "       [1.],\n",
       "       [1.],\n",
       "       [1.],\n",
       "       [1.],\n",
       "       [1.],\n",
       "       [1.],\n",
       "       [1.],\n",
       "       [1.],\n",
       "       [1.],\n",
       "       [1.],\n",
       "       [1.],\n",
       "       [1.],\n",
       "       [1.],\n",
       "       [1.],\n",
       "       [1.],\n",
       "       [1.],\n",
       "       [1.],\n",
       "       [1.],\n",
       "       [1.],\n",
       "       [1.],\n",
       "       [1.],\n",
       "       [1.],\n",
       "       [1.],\n",
       "       [1.],\n",
       "       [1.],\n",
       "       [1.],\n",
       "       [1.],\n",
       "       [1.],\n",
       "       [1.],\n",
       "       [1.],\n",
       "       [1.],\n",
       "       [1.],\n",
       "       [1.],\n",
       "       [1.],\n",
       "       [1.],\n",
       "       [1.],\n",
       "       [1.],\n",
       "       [1.],\n",
       "       [1.],\n",
       "       [1.],\n",
       "       [1.],\n",
       "       [1.],\n",
       "       [1.],\n",
       "       [1.],\n",
       "       [1.],\n",
       "       [1.],\n",
       "       [1.],\n",
       "       [1.],\n",
       "       [1.],\n",
       "       [1.],\n",
       "       [1.],\n",
       "       [1.],\n",
       "       [1.],\n",
       "       [1.],\n",
       "       [1.],\n",
       "       [1.],\n",
       "       [1.],\n",
       "       [1.],\n",
       "       [1.],\n",
       "       [1.],\n",
       "       [1.],\n",
       "       [1.],\n",
       "       [1.],\n",
       "       [1.],\n",
       "       [1.],\n",
       "       [1.],\n",
       "       [1.],\n",
       "       [1.],\n",
       "       [1.],\n",
       "       [1.],\n",
       "       [1.],\n",
       "       [1.],\n",
       "       [1.],\n",
       "       [1.],\n",
       "       [1.],\n",
       "       [1.]])"
      ]
     },
     "execution_count": 10,
     "metadata": {},
     "output_type": "execute_result"
    }
   ],
   "source": [
    "np.ones((len(Y),1))"
   ]
  },
  {
   "cell_type": "code",
   "execution_count": 11,
   "metadata": {},
   "outputs": [
    {
     "data": {
      "text/plain": [
       "array([0., 0., 0.])"
      ]
     },
     "execution_count": 11,
     "metadata": {},
     "output_type": "execute_result"
    }
   ],
   "source": [
    "#Inicializar las variables para la optimización\n",
    "# Xa = [1;X]\n",
    "#Beta = [beta_0, beta_1, ..., beta_n]\n",
    "\n",
    "Xa = np.append(np.ones((len(Y),1)), X, axis=1)\n",
    "m,n = np.shape(Xa)\n",
    "Beta = np.zeros(n)\n",
    "Beta"
   ]
  },
  {
   "cell_type": "code",
   "execution_count": 12,
   "metadata": {},
   "outputs": [
    {
     "data": {
      "text/plain": [
       "array([[ 1.00000000e+00,  1.24064357e-01,  2.79703688e-01],\n",
       "       [ 1.00000000e+00, -3.32766072e-01, -1.03150980e+00],\n",
       "       [ 1.00000000e+00,  3.58450810e+00,  3.19954669e+00],\n",
       "       [ 1.00000000e+00,  2.73343225e+00,  2.39453521e+00],\n",
       "       [ 1.00000000e+00,  3.16422057e+00,  2.83223999e+00],\n",
       "       [ 1.00000000e+00,  2.17450752e+00,  3.21953197e+00],\n",
       "       [ 1.00000000e+00, -5.30594151e-01, -3.98686179e-01],\n",
       "       [ 1.00000000e+00,  2.18710559e-01,  6.69859099e-01],\n",
       "       [ 1.00000000e+00,  3.34377364e+00,  2.78758342e+00],\n",
       "       [ 1.00000000e+00, -6.66255178e-01,  1.03951509e-01],\n",
       "       [ 1.00000000e+00,  3.20662588e+00,  2.09567437e+00],\n",
       "       [ 1.00000000e+00,  3.30754271e-01,  2.30847933e-01],\n",
       "       [ 1.00000000e+00,  3.43821864e+00,  3.63029339e+00],\n",
       "       [ 1.00000000e+00,  4.04223063e-01, -4.01815795e-01],\n",
       "       [ 1.00000000e+00,  2.86305738e+00,  2.86973132e+00],\n",
       "       [ 1.00000000e+00, -8.99107479e-01, -5.65758807e-01],\n",
       "       [ 1.00000000e+00,  3.63320252e-01,  6.67628934e-01],\n",
       "       [ 1.00000000e+00,  4.15692058e-01, -7.52791638e-01],\n",
       "       [ 1.00000000e+00,  3.20584422e+00,  3.17876070e+00],\n",
       "       [ 1.00000000e+00,  3.02413019e+00,  2.76705430e+00],\n",
       "       [ 1.00000000e+00,  2.51933034e+00,  2.67507005e+00],\n",
       "       [ 1.00000000e+00,  5.36672143e-01,  4.09296437e-01],\n",
       "       [ 1.00000000e+00,  2.50110442e-01,  4.58788833e-02],\n",
       "       [ 1.00000000e+00,  3.33075514e+00,  3.40215575e+00],\n",
       "       [ 1.00000000e+00,  2.84400560e+00,  2.85445535e+00],\n",
       "       [ 1.00000000e+00,  3.45282278e+00,  2.86996998e+00],\n",
       "       [ 1.00000000e+00,  2.58811754e+00,  3.65255073e+00],\n",
       "       [ 1.00000000e+00,  3.92740871e-02, -6.27761763e-01],\n",
       "       [ 1.00000000e+00,  3.39492745e+00,  3.11819779e+00],\n",
       "       [ 1.00000000e+00, -6.83982273e-01, -4.64379872e-01],\n",
       "       [ 1.00000000e+00,  1.01616208e-01, -8.17856417e-02],\n",
       "       [ 1.00000000e+00, -7.71229631e-01, -3.42322127e-01],\n",
       "       [ 1.00000000e+00,  7.84635529e-01, -4.56688101e-03],\n",
       "       [ 1.00000000e+00,  3.62191692e+00,  2.82864061e+00],\n",
       "       [ 1.00000000e+00, -2.06745302e-02,  1.11242857e+00],\n",
       "       [ 1.00000000e+00,  2.23840878e+00,  2.50307666e+00],\n",
       "       [ 1.00000000e+00,  3.27759382e+00,  2.02778386e+00],\n",
       "       [ 1.00000000e+00,  3.06575591e+00,  3.44961566e+00],\n",
       "       [ 1.00000000e+00, -3.36770618e-01, -6.44574580e-01],\n",
       "       [ 1.00000000e+00, -4.72114638e-01,  3.31466646e-01],\n",
       "       [ 1.00000000e+00,  3.48661738e+00,  3.04077762e+00],\n",
       "       [ 1.00000000e+00,  2.91805531e+00,  2.92308320e+00],\n",
       "       [ 1.00000000e+00,  2.52130022e+00,  3.07863735e+00],\n",
       "       [ 1.00000000e+00, -1.98214785e-01,  6.09059329e-01],\n",
       "       [ 1.00000000e+00,  9.64127700e-01, -4.82933498e-01],\n",
       "       [ 1.00000000e+00,  6.32877603e-01, -1.09448225e+00],\n",
       "       [ 1.00000000e+00, -4.62059753e-01, -2.23469690e-01],\n",
       "       [ 1.00000000e+00,  3.52592896e+00,  2.94414631e+00],\n",
       "       [ 1.00000000e+00,  3.24825001e+00,  3.42443016e+00],\n",
       "       [ 1.00000000e+00,  3.44596370e+00,  3.19860871e+00],\n",
       "       [ 1.00000000e+00,  3.36783370e+00,  3.01156342e+00],\n",
       "       [ 1.00000000e+00, -9.64937969e-01,  1.01593344e-01],\n",
       "       [ 1.00000000e+00,  8.47236431e-01,  1.45118496e-01],\n",
       "       [ 1.00000000e+00,  5.77894158e-01, -2.39630703e-01],\n",
       "       [ 1.00000000e+00,  2.42370856e+00,  2.84740872e+00],\n",
       "       [ 1.00000000e+00, -1.36286648e+00, -1.02370741e+00],\n",
       "       [ 1.00000000e+00, -6.81591351e-01, -2.03315619e-01],\n",
       "       [ 1.00000000e+00,  3.10777876e+00,  3.68460435e+00],\n",
       "       [ 1.00000000e+00,  3.21884600e+00,  2.78601615e+00],\n",
       "       [ 1.00000000e+00, -8.12028483e-01, -4.94293375e-01],\n",
       "       [ 1.00000000e+00,  3.88359479e+00,  3.77213755e+00],\n",
       "       [ 1.00000000e+00,  3.12105316e+00,  2.97219339e+00],\n",
       "       [ 1.00000000e+00,  2.77205893e-01,  3.64478960e-01],\n",
       "       [ 1.00000000e+00,  2.78789770e+00,  2.23806331e+00],\n",
       "       [ 1.00000000e+00,  2.93132970e+00,  3.38005265e+00],\n",
       "       [ 1.00000000e+00,  3.50538556e+00,  2.60692691e+00],\n",
       "       [ 1.00000000e+00, -3.62434089e-01, -4.72684094e-02],\n",
       "       [ 1.00000000e+00, -8.77703022e-02, -5.17307029e-01],\n",
       "       [ 1.00000000e+00, -3.57669517e-01, -4.84692999e-01],\n",
       "       [ 1.00000000e+00,  2.95070446e+00,  2.44004179e+00],\n",
       "       [ 1.00000000e+00, -3.32631341e-01,  2.86846692e-01],\n",
       "       [ 1.00000000e+00,  2.86794702e+00,  3.15112890e+00],\n",
       "       [ 1.00000000e+00, -5.14310849e-01, -4.42688749e-02],\n",
       "       [ 1.00000000e+00, -4.99549031e-01,  3.72657595e-02],\n",
       "       [ 1.00000000e+00, -1.11402973e-01,  2.25569008e-01],\n",
       "       [ 1.00000000e+00,  2.49185012e+00,  3.33019508e+00],\n",
       "       [ 1.00000000e+00, -7.56007853e-03,  3.18014566e-01],\n",
       "       [ 1.00000000e+00,  2.27332174e+00,  2.78679695e+00],\n",
       "       [ 1.00000000e+00,  3.99012319e-01, -2.88080037e-01],\n",
       "       [ 1.00000000e+00, -5.51288167e-01, -4.56245492e-01],\n",
       "       [ 1.00000000e+00,  3.39782195e+00,  4.03669415e+00],\n",
       "       [ 1.00000000e+00,  2.96410530e+00,  2.70390029e+00],\n",
       "       [ 1.00000000e+00,  3.17807496e+00,  2.42717579e+00],\n",
       "       [ 1.00000000e+00,  9.13296318e-02,  1.99416576e-01],\n",
       "       [ 1.00000000e+00,  2.93291184e-01,  2.98526400e-01],\n",
       "       [ 1.00000000e+00,  2.47603940e+00,  3.48755111e+00],\n",
       "       [ 1.00000000e+00,  5.39411933e-01, -6.99671957e-02],\n",
       "       [ 1.00000000e+00,  5.51483514e-01, -6.66712481e-02],\n",
       "       [ 1.00000000e+00,  3.09436001e+00,  2.92645581e+00],\n",
       "       [ 1.00000000e+00,  2.88273256e+00,  3.01604557e+00],\n",
       "       [ 1.00000000e+00,  4.65687441e-01,  3.47473609e-01],\n",
       "       [ 1.00000000e+00, -1.10694711e+00,  7.02385617e-01],\n",
       "       [ 1.00000000e+00,  3.10127090e+00,  2.28709861e+00],\n",
       "       [ 1.00000000e+00,  7.91777274e-03,  1.78423967e-01],\n",
       "       [ 1.00000000e+00, -5.49274240e-01, -2.61667563e-01],\n",
       "       [ 1.00000000e+00,  3.20494492e+00,  3.27836464e+00],\n",
       "       [ 1.00000000e+00,  3.30497675e+00,  2.96042193e+00],\n",
       "       [ 1.00000000e+00,  5.66790756e-01,  9.65550986e-02],\n",
       "       [ 1.00000000e+00,  4.40306726e-01, -3.03883575e-01],\n",
       "       [ 1.00000000e+00,  2.63471834e+00,  2.78115312e+00],\n",
       "       [ 1.00000000e+00,  4.46481273e-01,  4.34321557e-03],\n",
       "       [ 1.00000000e+00,  3.82009193e-01, -5.41986644e-01],\n",
       "       [ 1.00000000e+00, -6.85209390e-01,  2.67328256e-01],\n",
       "       [ 1.00000000e+00,  7.49098530e-02,  2.36664951e-01],\n",
       "       [ 1.00000000e+00,  2.71653116e+00,  2.63592511e+00],\n",
       "       [ 1.00000000e+00,  6.56699713e-01, -8.99939930e-01],\n",
       "       [ 1.00000000e+00,  2.29861047e-01, -1.09399195e-01],\n",
       "       [ 1.00000000e+00, -9.56391894e-01,  8.35855248e-01],\n",
       "       [ 1.00000000e+00,  4.71693701e+00,  1.96268179e+00],\n",
       "       [ 1.00000000e+00,  4.00811034e-02,  8.74619098e-01],\n",
       "       [ 1.00000000e+00,  3.34680292e+00,  2.60590718e+00],\n",
       "       [ 1.00000000e+00, -1.90965509e-01, -1.20755317e+00],\n",
       "       [ 1.00000000e+00,  2.33560592e+00,  3.02804146e+00],\n",
       "       [ 1.00000000e+00,  6.85643721e-01,  1.12317477e-01],\n",
       "       [ 1.00000000e+00,  3.10006642e+00,  2.75379561e+00],\n",
       "       [ 1.00000000e+00,  4.08971327e-01, -1.18352849e+00],\n",
       "       [ 1.00000000e+00,  2.44840853e+00,  3.79147488e+00],\n",
       "       [ 1.00000000e+00,  2.97430418e+00,  3.23773789e+00],\n",
       "       [ 1.00000000e+00,  7.22350288e-01,  4.86554113e-02],\n",
       "       [ 1.00000000e+00,  3.34655635e-01,  3.67929940e-01],\n",
       "       [ 1.00000000e+00, -7.59406789e-01,  7.31920187e-01],\n",
       "       [ 1.00000000e+00,  3.23520820e+00,  2.94241195e+00],\n",
       "       [ 1.00000000e+00, -5.18337478e-01,  5.67062284e-01],\n",
       "       [ 1.00000000e+00,  5.64313532e-01,  3.40365044e-01],\n",
       "       [ 1.00000000e+00,  3.28620016e-01,  1.15228528e-01],\n",
       "       [ 1.00000000e+00, -9.31849032e-01, -7.69622294e-01],\n",
       "       [ 1.00000000e+00, -5.97275732e-01, -9.62135550e-03],\n",
       "       [ 1.00000000e+00,  2.00140008e-02,  5.29460533e-01],\n",
       "       [ 1.00000000e+00,  3.65486545e+00,  2.75341432e+00],\n",
       "       [ 1.00000000e+00,  1.84184327e-01, -7.83915797e-03],\n",
       "       [ 1.00000000e+00, -2.23508223e-01, -4.75304675e-01],\n",
       "       [ 1.00000000e+00,  2.30078536e+00,  2.90022889e+00],\n",
       "       [ 1.00000000e+00, -9.72370643e-02,  5.56577826e-01],\n",
       "       [ 1.00000000e+00,  2.30481321e+00,  2.92884775e+00],\n",
       "       [ 1.00000000e+00,  3.04533055e+00,  2.70402090e+00],\n",
       "       [ 1.00000000e+00,  6.31209891e-02, -2.82446024e-02],\n",
       "       [ 1.00000000e+00,  3.03195001e+00,  2.32488456e+00],\n",
       "       [ 1.00000000e+00,  3.00719977e+00,  2.61518912e+00],\n",
       "       [ 1.00000000e+00,  4.04368799e+00,  3.23614504e+00],\n",
       "       [ 1.00000000e+00,  6.58631448e-01,  3.89762851e-02],\n",
       "       [ 1.00000000e+00,  3.68415394e+00,  3.34680182e+00],\n",
       "       [ 1.00000000e+00, -3.26495262e-01,  1.74600541e-01],\n",
       "       [ 1.00000000e+00,  2.80894254e-01, -1.93914991e-01],\n",
       "       [ 1.00000000e+00,  2.33281899e+00,  2.18683695e+00],\n",
       "       [ 1.00000000e+00,  1.74383881e+00,  3.33411239e+00],\n",
       "       [ 1.00000000e+00,  3.09631359e+00,  3.94196874e+00],\n",
       "       [ 1.00000000e+00, -4.85738605e-01, -3.32073419e-01],\n",
       "       [ 1.00000000e+00,  1.06474958e-01,  2.18869970e-02],\n",
       "       [ 1.00000000e+00,  3.75575556e+00,  3.28158735e+00],\n",
       "       [ 1.00000000e+00,  3.55998554e+00,  3.17517317e+00],\n",
       "       [ 1.00000000e+00,  2.49148306e+00,  2.00899875e+00],\n",
       "       [ 1.00000000e+00,  8.91891692e-01,  1.14204392e+00],\n",
       "       [ 1.00000000e+00,  1.76418804e-03,  3.83658289e-01],\n",
       "       [ 1.00000000e+00,  3.11340399e-01,  5.00249349e-01],\n",
       "       [ 1.00000000e+00,  3.26552762e+00,  3.41351544e+00],\n",
       "       [ 1.00000000e+00,  3.13082587e+00,  3.07598747e+00],\n",
       "       [ 1.00000000e+00,  3.56363862e+00,  2.60715723e+00],\n",
       "       [ 1.00000000e+00,  6.50359717e-01, -3.14256898e-02],\n",
       "       [ 1.00000000e+00,  3.41202843e+00,  2.75884067e+00],\n",
       "       [ 1.00000000e+00, -2.73888624e-01, -1.45463069e-01],\n",
       "       [ 1.00000000e+00,  2.49060201e+00,  2.77718893e+00],\n",
       "       [ 1.00000000e+00,  2.57978071e+00,  3.31927480e+00],\n",
       "       [ 1.00000000e+00, -1.27057307e-01,  4.00084574e-01],\n",
       "       [ 1.00000000e+00,  2.78447995e+00,  2.41751178e+00],\n",
       "       [ 1.00000000e+00,  8.43054017e-01,  5.08550439e-01],\n",
       "       [ 1.00000000e+00,  3.08472345e+00,  2.90701412e+00],\n",
       "       [ 1.00000000e+00,  3.27486471e+00,  3.70537356e+00],\n",
       "       [ 1.00000000e+00,  2.51732851e+00,  2.82176183e+00],\n",
       "       [ 1.00000000e+00, -3.81606602e-02,  8.01939882e-03],\n",
       "       [ 1.00000000e+00,  1.20566882e+00,  5.65948954e-01],\n",
       "       [ 1.00000000e+00,  1.88792238e-02,  2.90015647e-01],\n",
       "       [ 1.00000000e+00,  2.56520699e+00,  3.60205004e+00],\n",
       "       [ 1.00000000e+00, -3.87105699e-01, -2.18339353e-01],\n",
       "       [ 1.00000000e+00,  3.36564415e+00,  2.96381501e+00],\n",
       "       [ 1.00000000e+00,  5.29009137e-01,  8.91317360e-02],\n",
       "       [ 1.00000000e+00, -1.47481804e-01,  1.53353001e-01],\n",
       "       [ 1.00000000e+00,  2.78846532e+00,  2.89836340e+00],\n",
       "       [ 1.00000000e+00, -9.46887906e-02, -4.24481800e-02],\n",
       "       [ 1.00000000e+00,  2.53805642e+00,  2.22164056e+00],\n",
       "       [ 1.00000000e+00,  2.35722827e+00,  2.49252384e+00],\n",
       "       [ 1.00000000e+00,  9.32719540e-01, -2.88332873e-01],\n",
       "       [ 1.00000000e+00,  3.12578191e-01, -1.47733252e-01],\n",
       "       [ 1.00000000e+00, -6.20792184e-01,  3.21562704e-01],\n",
       "       [ 1.00000000e+00,  3.05903866e+00,  2.33638071e+00],\n",
       "       [ 1.00000000e+00,  3.24876556e+00,  2.98634580e+00],\n",
       "       [ 1.00000000e+00,  2.23863075e+00,  2.63567535e+00],\n",
       "       [ 1.00000000e+00,  2.98409533e+00,  3.05417111e+00],\n",
       "       [ 1.00000000e+00,  3.18930987e-01, -2.19273051e-01],\n",
       "       [ 1.00000000e+00,  3.39263810e+00,  3.19621770e+00],\n",
       "       [ 1.00000000e+00,  3.19989311e+00,  3.58377547e+00],\n",
       "       [ 1.00000000e+00,  3.44067906e+00,  2.97488742e+00],\n",
       "       [ 1.00000000e+00,  2.90990006e+00,  3.75223455e+00],\n",
       "       [ 1.00000000e+00,  2.52490655e+00,  2.51459811e+00],\n",
       "       [ 1.00000000e+00,  2.98991838e+00,  3.87547110e+00],\n",
       "       [ 1.00000000e+00,  3.88744624e+00,  3.18120561e+00],\n",
       "       [ 1.00000000e+00, -2.92697541e-01, -2.15978072e-01],\n",
       "       [ 1.00000000e+00, -3.18187499e-01, -2.99677961e-01],\n",
       "       [ 1.00000000e+00,  2.96837913e+00,  2.64415038e+00],\n",
       "       [ 1.00000000e+00,  3.45822858e+00,  3.82362350e+00],\n",
       "       [ 1.00000000e+00,  3.39302485e+00,  3.29899256e+00]])"
      ]
     },
     "execution_count": 12,
     "metadata": {},
     "output_type": "execute_result"
    }
   ],
   "source": [
    "Xa"
   ]
  },
  {
   "cell_type": "code",
   "execution_count": 13,
   "metadata": {},
   "outputs": [
    {
     "data": {
      "text/plain": [
       "array([0, 0, 1, 1, 1, 1, 0, 0, 1, 0, 1, 0, 1, 0, 1, 0, 0, 0, 1, 1, 1, 0,\n",
       "       0, 1, 1, 1, 1, 0, 1, 0, 0, 0, 0, 1, 0, 1, 1, 1, 0, 0, 1, 1, 1, 0,\n",
       "       0, 0, 0, 1, 1, 1, 1, 0, 0, 0, 1, 0, 0, 1, 1, 0, 1, 1, 0, 1, 1, 1,\n",
       "       0, 0, 0, 1, 0, 1, 0, 0, 0, 1, 0, 1, 0, 0, 1, 1, 1, 0, 0, 1, 0, 0,\n",
       "       1, 1, 0, 0, 1, 0, 0, 1, 1, 0, 0, 1, 0, 0, 0, 0, 1, 0, 0, 0, 1, 0,\n",
       "       1, 0, 1, 0, 1, 0, 1, 1, 0, 0, 0, 1, 0, 0, 0, 0, 0, 0, 1, 0, 0, 1,\n",
       "       0, 1, 1, 0, 1, 1, 1, 0, 1, 0, 0, 1, 1, 1, 0, 0, 1, 1, 1, 0, 0, 0,\n",
       "       1, 1, 1, 0, 1, 0, 1, 1, 0, 1, 0, 1, 1, 1, 0, 0, 0, 1, 0, 1, 0, 0,\n",
       "       1, 0, 1, 1, 0, 0, 0, 1, 1, 1, 1, 0, 1, 1, 1, 1, 1, 1, 1, 0, 0, 1,\n",
       "       1, 1])"
      ]
     },
     "execution_count": 13,
     "metadata": {},
     "output_type": "execute_result"
    }
   ],
   "source": [
    "Y"
   ]
  },
  {
   "cell_type": "code",
   "execution_count": 14,
   "metadata": {},
   "outputs": [
    {
     "name": "stderr",
     "output_type": "stream",
     "text": [
      "C:\\Users\\uie70742\\AppData\\Local\\Temp/ipykernel_52636/3281238034.py:5: RuntimeWarning: divide by zero encountered in log\n",
      "  J = (1/m)*np.sum(-Y*np.log(yhat) - (1-Y)*np.log(1-yhat))\n",
      "C:\\Users\\uie70742\\AppData\\Local\\Temp/ipykernel_52636/3281238034.py:5: RuntimeWarning: invalid value encountered in multiply\n",
      "  J = (1/m)*np.sum(-Y*np.log(yhat) - (1-Y)*np.log(1-yhat))\n",
      "C:\\Users\\uie70742\\AppData\\Local\\Temp/ipykernel_52636/1538973798.py:3: RuntimeWarning: overflow encountered in exp\n",
      "  return 1/(1+np.exp(-X))\n",
      "C:\\Users\\uie70742\\AppData\\Local\\Temp/ipykernel_52636/3281238034.py:5: RuntimeWarning: divide by zero encountered in log\n",
      "  J = (1/m)*np.sum(-Y*np.log(yhat) - (1-Y)*np.log(1-yhat))\n",
      "C:\\Users\\uie70742\\AppData\\Local\\Temp/ipykernel_52636/3281238034.py:5: RuntimeWarning: invalid value encountered in multiply\n",
      "  J = (1/m)*np.sum(-Y*np.log(yhat) - (1-Y)*np.log(1-yhat))\n",
      "C:\\Users\\uie70742\\AppData\\Local\\Temp/ipykernel_52636/1538973798.py:3: RuntimeWarning: overflow encountered in exp\n",
      "  return 1/(1+np.exp(-X))\n",
      "C:\\Users\\uie70742\\AppData\\Local\\Temp/ipykernel_52636/1538973798.py:3: RuntimeWarning: overflow encountered in exp\n",
      "  return 1/(1+np.exp(-X))\n",
      "C:\\Users\\uie70742\\AppData\\Local\\Temp/ipykernel_52636/3281238034.py:5: RuntimeWarning: divide by zero encountered in log\n",
      "  J = (1/m)*np.sum(-Y*np.log(yhat) - (1-Y)*np.log(1-yhat))\n",
      "C:\\Users\\uie70742\\AppData\\Local\\Temp/ipykernel_52636/3281238034.py:5: RuntimeWarning: invalid value encountered in multiply\n",
      "  J = (1/m)*np.sum(-Y*np.log(yhat) - (1-Y)*np.log(1-yhat))\n"
     ]
    },
    {
     "data": {
      "text/plain": [
       "      fun: nan\n",
       " hess_inv: array([[2593504.78191227, -633020.49854974, -733348.82087251],\n",
       "       [-633020.49854974,  154508.28659336,  178995.34742383],\n",
       "       [-733348.82087251,  178995.34742383,  207365.55637371]])\n",
       "      jac: array([nan, nan, nan])\n",
       "  message: 'Desired error not necessarily achieved due to precision loss.'\n",
       "     nfev: 532\n",
       "      nit: 22\n",
       "     njev: 133\n",
       "   status: 2\n",
       "  success: False\n",
       "        x: array([-3606.76429117,   880.65705824,  1020.17242026])"
      ]
     },
     "execution_count": 14,
     "metadata": {},
     "output_type": "execute_result"
    }
   ],
   "source": [
    "#Optimización para la regresión logística\n",
    "res = opt.minimize(fun_cost, Beta, args=(Xa, Y))\n",
    "res"
   ]
  },
  {
   "cell_type": "code",
   "execution_count": 15,
   "metadata": {},
   "outputs": [],
   "source": [
    "Beta = res.x"
   ]
  },
  {
   "cell_type": "code",
   "execution_count": 16,
   "metadata": {},
   "outputs": [
    {
     "name": "stderr",
     "output_type": "stream",
     "text": [
      "C:\\Users\\uie70742\\AppData\\Local\\Temp/ipykernel_52636/1538973798.py:3: RuntimeWarning: overflow encountered in exp\n",
      "  return 1/(1+np.exp(-X))\n"
     ]
    }
   ],
   "source": [
    "#Simular la regresión logística obtenida\n",
    "Y_pred = np.round(reg_log(Beta, Xa, Y))\n"
   ]
  },
  {
   "cell_type": "code",
   "execution_count": 17,
   "metadata": {},
   "outputs": [
    {
     "data": {
      "text/plain": [
       "array([0., 0., 1., 1., 1., 1., 0., 0., 1., 0., 1., 0., 1., 0., 1., 0., 0.,\n",
       "       0., 1., 1., 1., 0., 0., 1., 1., 1., 1., 0., 1., 0., 0., 0., 0., 1.,\n",
       "       0., 1., 1., 1., 0., 0., 1., 1., 1., 0., 0., 0., 0., 1., 1., 1., 1.,\n",
       "       0., 0., 0., 1., 0., 0., 1., 1., 0., 1., 1., 0., 1., 1., 1., 0., 0.,\n",
       "       0., 1., 0., 1., 0., 0., 0., 1., 0., 1., 0., 0., 1., 1., 1., 0., 0.,\n",
       "       1., 0., 0., 1., 1., 0., 0., 1., 0., 0., 1., 1., 0., 0., 1., 0., 0.,\n",
       "       0., 0., 1., 0., 0., 0., 1., 0., 1., 0., 1., 0., 1., 0., 1., 1., 0.,\n",
       "       0., 0., 1., 0., 0., 0., 0., 0., 0., 1., 0., 0., 1., 0., 1., 1., 0.,\n",
       "       1., 1., 1., 0., 1., 0., 0., 1., 1., 1., 0., 0., 1., 1., 1., 0., 0.,\n",
       "       0., 1., 1., 1., 0., 1., 0., 1., 1., 0., 1., 0., 1., 1., 1., 0., 0.,\n",
       "       0., 1., 0., 1., 0., 0., 1., 0., 1., 1., 0., 0., 0., 1., 1., 1., 1.,\n",
       "       0., 1., 1., 1., 1., 1., 1., 1., 0., 0., 1., 1., 1.])"
      ]
     },
     "execution_count": 17,
     "metadata": {},
     "output_type": "execute_result"
    }
   ],
   "source": [
    "Y_pred"
   ]
  },
  {
   "cell_type": "code",
   "execution_count": 18,
   "metadata": {},
   "outputs": [
    {
     "data": {
      "text/plain": [
       "array([0, 0, 1, 1, 1, 1, 0, 0, 1, 0, 1, 0, 1, 0, 1, 0, 0, 0, 1, 1, 1, 0,\n",
       "       0, 1, 1, 1, 1, 0, 1, 0, 0, 0, 0, 1, 0, 1, 1, 1, 0, 0, 1, 1, 1, 0,\n",
       "       0, 0, 0, 1, 1, 1, 1, 0, 0, 0, 1, 0, 0, 1, 1, 0, 1, 1, 0, 1, 1, 1,\n",
       "       0, 0, 0, 1, 0, 1, 0, 0, 0, 1, 0, 1, 0, 0, 1, 1, 1, 0, 0, 1, 0, 0,\n",
       "       1, 1, 0, 0, 1, 0, 0, 1, 1, 0, 0, 1, 0, 0, 0, 0, 1, 0, 0, 0, 1, 0,\n",
       "       1, 0, 1, 0, 1, 0, 1, 1, 0, 0, 0, 1, 0, 0, 0, 0, 0, 0, 1, 0, 0, 1,\n",
       "       0, 1, 1, 0, 1, 1, 1, 0, 1, 0, 0, 1, 1, 1, 0, 0, 1, 1, 1, 0, 0, 0,\n",
       "       1, 1, 1, 0, 1, 0, 1, 1, 0, 1, 0, 1, 1, 1, 0, 0, 0, 1, 0, 1, 0, 0,\n",
       "       1, 0, 1, 1, 0, 0, 0, 1, 1, 1, 1, 0, 1, 1, 1, 1, 1, 1, 1, 0, 0, 1,\n",
       "       1, 1])"
      ]
     },
     "execution_count": 18,
     "metadata": {},
     "output_type": "execute_result"
    }
   ],
   "source": [
    "Y"
   ]
  },
  {
   "cell_type": "code",
   "execution_count": 19,
   "metadata": {},
   "outputs": [],
   "source": [
    "from sklearn.metrics import (accuracy_score, precision_score, recall_score)"
   ]
  },
  {
   "cell_type": "code",
   "execution_count": 20,
   "metadata": {},
   "outputs": [
    {
     "data": {
      "text/plain": [
       "1.0"
      ]
     },
     "execution_count": 20,
     "metadata": {},
     "output_type": "execute_result"
    }
   ],
   "source": [
    "accuracy_score(Y_pred, Y)"
   ]
  },
  {
   "cell_type": "code",
   "execution_count": 21,
   "metadata": {},
   "outputs": [
    {
     "data": {
      "text/plain": [
       "1.0"
      ]
     },
     "execution_count": 21,
     "metadata": {},
     "output_type": "execute_result"
    }
   ],
   "source": [
    "precision_score(Y_pred, Y)"
   ]
  },
  {
   "cell_type": "code",
   "execution_count": 22,
   "metadata": {},
   "outputs": [
    {
     "data": {
      "text/plain": [
       "1.0"
      ]
     },
     "execution_count": 22,
     "metadata": {},
     "output_type": "execute_result"
    }
   ],
   "source": [
    "recall_score(Y_pred, Y)"
   ]
  },
  {
   "cell_type": "code",
   "execution_count": 23,
   "metadata": {},
   "outputs": [],
   "source": [
    "# Investigar las diferencias entre accuracy_score, precision_score, recall_score"
   ]
  },
  {
   "cell_type": "code",
   "execution_count": 24,
   "metadata": {},
   "outputs": [
    {
     "name": "stderr",
     "output_type": "stream",
     "text": [
      "C:\\Users\\uie70742\\AppData\\Local\\Temp/ipykernel_52636/1538973798.py:3: RuntimeWarning: overflow encountered in exp\n",
      "  return 1/(1+np.exp(-X))\n"
     ]
    }
   ],
   "source": [
    "#Graficar la linea de separación del conjunto de datos\n",
    "x = np.arange(-3,5,0.01)\n",
    "y = np.arange(-3,5,0.01)\n",
    "\n",
    "Xm, Ym = np.meshgrid(x,y)\n",
    "m,n = np.shape(Xm)\n",
    "\n",
    "Xmr = np.reshape(Xm, (m*n,1))\n",
    "Ymr = np.reshape(Ym, (m*n,1))\n",
    "\n",
    "Xtmp = np.append(Xmr,Ymr, axis=1)\n",
    "Xtmp = np.append(np.ones((len(Xmr),1)), Xtmp, axis=1)\n",
    "\n",
    "Ytmp = np.round(reg_log(Beta, Xtmp, Xmr), 0)\n",
    "\n",
    "Z = np.reshape(Ytmp, (m,n))"
   ]
  },
  {
   "cell_type": "code",
   "execution_count": 25,
   "metadata": {},
   "outputs": [
    {
     "data": {
      "text/plain": [
       "array([[0., 0., 0., ..., 0., 0., 0.],\n",
       "       [0., 0., 0., ..., 0., 0., 0.],\n",
       "       [0., 0., 0., ..., 0., 0., 0.],\n",
       "       ...,\n",
       "       [0., 0., 0., ..., 1., 1., 1.],\n",
       "       [0., 0., 0., ..., 1., 1., 1.],\n",
       "       [0., 0., 0., ..., 1., 1., 1.]])"
      ]
     },
     "execution_count": 25,
     "metadata": {},
     "output_type": "execute_result"
    }
   ],
   "source": [
    "Z"
   ]
  },
  {
   "cell_type": "code",
   "execution_count": 26,
   "metadata": {},
   "outputs": [
    {
     "data": {
      "image/png": "[encoded data removed]",
      "text/plain": [
       "<Figure size 360x288 with 1 Axes>"
      ]
     },
     "metadata": {
      "needs_background": "light"
     },
     "output_type": "display_data"
    }
   ],
   "source": [
    "plt.figure(figsize=(5,4))\n",
    "plt.scatter(X[:,0], X[:,1], c = Y_pred)\n",
    "plt.contour(Xm,Ym,Z)\n",
    "plt.xlabel('$x_1$')\n",
    "plt.ylabel('$x_2$')\n",
    "plt.show()"
   ]
  },
  {
   "cell_type": "markdown",
   "metadata": {},
   "source": [
    "### Utilizando Librerías"
   ]
  },
  {
   "cell_type": "code",
   "execution_count": 27,
   "metadata": {},
   "outputs": [],
   "source": [
    "from sklearn import linear_model\n",
    "from sklearn.preprocessing import PolynomialFeatures\n",
    "from sklearn.metrics import (accuracy_score, precision_score, recall_score)"
   ]
  },
  {
   "cell_type": "code",
   "execution_count": 28,
   "metadata": {},
   "outputs": [],
   "source": [
    "#Crear un modelo de regresión logística\n",
    "modelo = linear_model.LogisticRegression()\n",
    "modelo.fit(X, Y)\n",
    "Y_pred_sklearn = modelo.predict(X)\n"
   ]
  },
  {
   "cell_type": "code",
   "execution_count": 29,
   "metadata": {},
   "outputs": [
    {
     "data": {
      "text/plain": [
       "array([0, 0, 1, 1, 1, 1, 0, 0, 1, 0, 1, 0, 1, 0, 1, 0, 0, 0, 1, 1, 1, 0,\n",
       "       0, 1, 1, 1, 1, 0, 1, 0, 0, 0, 0, 1, 0, 1, 1, 1, 0, 0, 1, 1, 1, 0,\n",
       "       0, 0, 0, 1, 1, 1, 1, 0, 0, 0, 1, 0, 0, 1, 1, 0, 1, 1, 0, 1, 1, 1,\n",
       "       0, 0, 0, 1, 0, 1, 0, 0, 0, 1, 0, 1, 0, 0, 1, 1, 1, 0, 0, 1, 0, 0,\n",
       "       1, 1, 0, 0, 1, 0, 0, 1, 1, 0, 0, 1, 0, 0, 0, 0, 1, 0, 0, 0, 1, 0,\n",
       "       1, 0, 1, 0, 1, 0, 1, 1, 0, 0, 0, 1, 0, 0, 0, 0, 0, 0, 1, 0, 0, 1,\n",
       "       0, 1, 1, 0, 1, 1, 1, 0, 1, 0, 0, 1, 1, 1, 0, 0, 1, 1, 1, 0, 0, 0,\n",
       "       1, 1, 1, 0, 1, 0, 1, 1, 0, 1, 0, 1, 1, 1, 0, 0, 0, 1, 0, 1, 0, 0,\n",
       "       1, 0, 1, 1, 0, 0, 0, 1, 1, 1, 1, 0, 1, 1, 1, 1, 1, 1, 1, 0, 0, 1,\n",
       "       1, 1])"
      ]
     },
     "execution_count": 29,
     "metadata": {},
     "output_type": "execute_result"
    }
   ],
   "source": [
    "Y_pred_sklearn"
   ]
  },
  {
   "cell_type": "code",
   "execution_count": 30,
   "metadata": {},
   "outputs": [
    {
     "data": {
      "text/plain": [
       "1.0"
      ]
     },
     "execution_count": 30,
     "metadata": {},
     "output_type": "execute_result"
    }
   ],
   "source": [
    "accuracy_score(Y_pred_sklearn, Y)"
   ]
  },
  {
   "cell_type": "code",
   "execution_count": 31,
   "metadata": {},
   "outputs": [],
   "source": [
    "#Graficar la linea de separación del conjunto de datos\n",
    "x = np.arange(-3,5,0.01)\n",
    "y = np.arange(-3,5,0.01)\n",
    "\n",
    "Xm, Ym = np.meshgrid(x,y)\n",
    "m,n = np.shape(Xm)\n",
    "\n",
    "Xmr = np.reshape(Xm, (m*n,1))\n",
    "Ymr = np.reshape(Ym, (m*n,1))\n",
    "\n",
    "Xtmp = np.append(Xmr,Ymr, axis=1)\n",
    "#Xtmp = np.append(np.ones((len(Xmr),1)), Xtmp, axis=1)\n",
    "\n",
    "Ytmp = np.round(modelo.predict(Xtmp), 0)\n",
    "\n",
    "Z = np.reshape(Ytmp, (m,n))"
   ]
  },
  {
   "cell_type": "code",
   "execution_count": 32,
   "metadata": {},
   "outputs": [
    {
     "data": {
      "image/png": "[encoded data removed]",
      "text/plain": [
       "<Figure size 360x288 with 1 Axes>"
      ]
     },
     "metadata": {
      "needs_background": "light"
     },
     "output_type": "display_data"
    }
   ],
   "source": [
    "plt.figure(figsize=(5,4))\n",
    "plt.scatter(X[:,0], X[:,1], c = Y_pred_sklearn)\n",
    "plt.contour(Xm,Ym,Z)\n",
    "plt.xlabel('$x_1$')\n",
    "plt.ylabel('$x_2$')\n",
    "plt.show()"
   ]
  },
  {
   "cell_type": "markdown",
   "metadata": {},
   "source": [
    "### Ejemplo Reg Logística Linealmente no Separable"
   ]
  },
  {
   "cell_type": "code",
   "execution_count": 33,
   "metadata": {},
   "outputs": [
    {
     "data": {
      "text/html": [
       "<div>\n",
       "<style scoped>\n",
       "    .dataframe tbody tr th:only-of-type {\n",
       "        vertical-align: middle;\n",
       "    }\n",
       "\n",
       "    .dataframe tbody tr th {\n",
       "        vertical-align: top;\n",
       "    }\n",
       "\n",
       "    .dataframe thead th {\n",
       "        text-align: right;\n",
       "    }\n",
       "</style>\n",
       "<table border=\"1\" class=\"dataframe\">\n",
       "  <thead>\n",
       "    <tr style=\"text-align: right;\">\n",
       "      <th></th>\n",
       "      <th>0</th>\n",
       "      <th>1</th>\n",
       "      <th>2</th>\n",
       "    </tr>\n",
       "  </thead>\n",
       "  <tbody>\n",
       "    <tr>\n",
       "      <th>0</th>\n",
       "      <td>0.051267</td>\n",
       "      <td>0.69956</td>\n",
       "      <td>1</td>\n",
       "    </tr>\n",
       "    <tr>\n",
       "      <th>1</th>\n",
       "      <td>-0.092742</td>\n",
       "      <td>0.68494</td>\n",
       "      <td>1</td>\n",
       "    </tr>\n",
       "    <tr>\n",
       "      <th>2</th>\n",
       "      <td>-0.213710</td>\n",
       "      <td>0.69225</td>\n",
       "      <td>1</td>\n",
       "    </tr>\n",
       "    <tr>\n",
       "      <th>3</th>\n",
       "      <td>-0.375000</td>\n",
       "      <td>0.50219</td>\n",
       "      <td>1</td>\n",
       "    </tr>\n",
       "    <tr>\n",
       "      <th>4</th>\n",
       "      <td>-0.513250</td>\n",
       "      <td>0.46564</td>\n",
       "      <td>1</td>\n",
       "    </tr>\n",
       "  </tbody>\n",
       "</table>\n",
       "</div>"
      ],
      "text/plain": [
       "          0        1  2\n",
       "0  0.051267  0.69956  1\n",
       "1 -0.092742  0.68494  1\n",
       "2 -0.213710  0.69225  1\n",
       "3 -0.375000  0.50219  1\n",
       "4 -0.513250  0.46564  1"
      ]
     },
     "execution_count": 33,
     "metadata": {},
     "output_type": "execute_result"
    }
   ],
   "source": [
    "#Importar los datos de ex2data2\n",
    "data = pd.read_csv('../Data/ex2data2.txt',header=None)\n",
    "data.head()"
   ]
  },
  {
   "cell_type": "code",
   "execution_count": 34,
   "metadata": {},
   "outputs": [],
   "source": [
    "data.columns= ['x1','x2','y']"
   ]
  },
  {
   "cell_type": "code",
   "execution_count": 35,
   "metadata": {},
   "outputs": [
    {
     "data": {
      "text/html": [
       "<div>\n",
       "<style scoped>\n",
       "    .dataframe tbody tr th:only-of-type {\n",
       "        vertical-align: middle;\n",
       "    }\n",
       "\n",
       "    .dataframe tbody tr th {\n",
       "        vertical-align: top;\n",
       "    }\n",
       "\n",
       "    .dataframe thead th {\n",
       "        text-align: right;\n",
       "    }\n",
       "</style>\n",
       "<table border=\"1\" class=\"dataframe\">\n",
       "  <thead>\n",
       "    <tr style=\"text-align: right;\">\n",
       "      <th></th>\n",
       "      <th>x1</th>\n",
       "      <th>x2</th>\n",
       "      <th>y</th>\n",
       "    </tr>\n",
       "  </thead>\n",
       "  <tbody>\n",
       "    <tr>\n",
       "      <th>0</th>\n",
       "      <td>0.051267</td>\n",
       "      <td>0.69956</td>\n",
       "      <td>1</td>\n",
       "    </tr>\n",
       "    <tr>\n",
       "      <th>1</th>\n",
       "      <td>-0.092742</td>\n",
       "      <td>0.68494</td>\n",
       "      <td>1</td>\n",
       "    </tr>\n",
       "    <tr>\n",
       "      <th>2</th>\n",
       "      <td>-0.213710</td>\n",
       "      <td>0.69225</td>\n",
       "      <td>1</td>\n",
       "    </tr>\n",
       "    <tr>\n",
       "      <th>3</th>\n",
       "      <td>-0.375000</td>\n",
       "      <td>0.50219</td>\n",
       "      <td>1</td>\n",
       "    </tr>\n",
       "    <tr>\n",
       "      <th>4</th>\n",
       "      <td>-0.513250</td>\n",
       "      <td>0.46564</td>\n",
       "      <td>1</td>\n",
       "    </tr>\n",
       "  </tbody>\n",
       "</table>\n",
       "</div>"
      ],
      "text/plain": [
       "         x1       x2  y\n",
       "0  0.051267  0.69956  1\n",
       "1 -0.092742  0.68494  1\n",
       "2 -0.213710  0.69225  1\n",
       "3 -0.375000  0.50219  1\n",
       "4 -0.513250  0.46564  1"
      ]
     },
     "execution_count": 35,
     "metadata": {},
     "output_type": "execute_result"
    }
   ],
   "source": [
    "data.head()"
   ]
  },
  {
   "cell_type": "code",
   "execution_count": 36,
   "metadata": {},
   "outputs": [
    {
     "data": {
      "image/png": "[encoded data removed]",
      "text/plain": [
       "<Figure size 432x288 with 1 Axes>"
      ]
     },
     "metadata": {
      "needs_background": "light"
     },
     "output_type": "display_data"
    }
   ],
   "source": [
    "plt.figure(figsize=(6,4))\n",
    "plt.scatter(data.loc[:,'x1'], data.loc[:,'x2'], c = data.loc[:,'y'])\n",
    "plt.xlabel('$x_1$')\n",
    "plt.ylabel('$x_2$')\n",
    "plt.show()"
   ]
  },
  {
   "cell_type": "code",
   "execution_count": 37,
   "metadata": {},
   "outputs": [],
   "source": [
    "#Preparar los datos para crear un modelo polinomial logístico\n",
    "X = data.iloc[:,:2]\n",
    "Y = data.iloc[:,-1]\n"
   ]
  },
  {
   "cell_type": "code",
   "execution_count": 38,
   "metadata": {},
   "outputs": [],
   "source": [
    "# Modelo polinomial apartir de polynomialFeatures\n",
    "ngrado = 7\n",
    "poly = PolynomialFeatures(ngrado)\n",
    "Xa = poly.fit_transform(X)\n"
   ]
  },
  {
   "cell_type": "code",
   "execution_count": 39,
   "metadata": {},
   "outputs": [],
   "source": [
    "# Crear el modelo de regresión logística\n",
    "modelo = linear_model.LogisticRegression()\n",
    "modelo.fit(Xa , Y)\n",
    "Yhat_poly = modelo.predict(Xa)"
   ]
  },
  {
   "cell_type": "code",
   "execution_count": 40,
   "metadata": {},
   "outputs": [
    {
     "data": {
      "text/plain": [
       "array([1, 1, 1, 1, 1, 1, 1, 1, 1, 1, 1, 1, 1, 0, 1, 1, 1, 1, 1, 1, 1, 1,\n",
       "       0, 1, 1, 1, 1, 0, 1, 1, 0, 1, 1, 1, 1, 1, 1, 1, 1, 1, 1, 1, 1, 1,\n",
       "       1, 1, 0, 1, 1, 1, 1, 1, 1, 1, 1, 1, 1, 1, 0, 1, 1, 0, 0, 0, 0, 0,\n",
       "       0, 0, 0, 0, 0, 0, 0, 0, 0, 0, 1, 1, 0, 0, 1, 1, 0, 1, 0, 0, 0, 0,\n",
       "       1, 0, 0, 1, 1, 0, 0, 0, 0, 0, 0, 0, 0, 0, 0, 0, 1, 0, 1, 1, 0, 0,\n",
       "       0, 0, 0, 0, 1, 0, 0, 1], dtype=int64)"
      ]
     },
     "execution_count": 40,
     "metadata": {},
     "output_type": "execute_result"
    }
   ],
   "source": [
    "Yhat_poly"
   ]
  },
  {
   "cell_type": "code",
   "execution_count": 41,
   "metadata": {},
   "outputs": [
    {
     "name": "stdout",
     "output_type": "stream",
     "text": [
      "Presicion: 0.7794117647058824 \n",
      "Recall: 0.9137931034482759 \n",
      "Accuracy: 0.8305084745762712 \n"
     ]
    }
   ],
   "source": [
    "#Evaluación del modelo\n",
    "print(f'Presicion: {precision_score(Y,Yhat_poly)} ')\n",
    "print(f'Recall: {recall_score(Y,Yhat_poly)} ')\n",
    "print(f'Accuracy: {accuracy_score(Y,Yhat_poly)} ')"
   ]
  },
  {
   "cell_type": "code",
   "execution_count": 42,
   "metadata": {},
   "outputs": [
    {
     "data": {
      "image/png": "[encoded data removed]",
      "text/plain": [
       "<Figure size 432x288 with 1 Axes>"
      ]
     },
     "metadata": {
      "needs_background": "light"
     },
     "output_type": "display_data"
    }
   ],
   "source": [
    "#Ploteo del contorno obtenido de la regresión logística\n",
    "#xmin, xmax, ymin, ymax = X.values[0].min(), X.values[0].max(), X.values[1].min(), X.values[1].max()\n",
    "xmin, xmax, ymin, ymax = -1,1,-1,1\n",
    "xx, yy = np.meshgrid(np.arange(xmin,xmax,0.01), np.arange(ymin,ymax,0.01))\n",
    "\n",
    "Xnew = pd.DataFrame(np.c_[xx.ravel(), yy.ravel()])\n",
    "\n",
    "Xa_new = poly.fit_transform(Xnew)\n",
    "Z = modelo.predict(Xa_new)\n",
    "Z = Z.reshape(xx.shape)\n",
    "\n",
    "#Contorno obtenido por el modelo en función a los datos conocidos\n",
    "plt.figure(figsize=(6,4))\n",
    "plt.scatter(data.loc[:,'x1'], data.loc[:,'x2'], c = data.loc[:,'y'])\n",
    "plt.contour(xx,yy,Z)\n",
    "plt.xlabel('$x_1$')\n",
    "plt.ylabel('$x_2$')\n",
    "#plt.xlim(xmin,xmax)\n",
    "#plt.ylim(ymin,ymax)\n",
    "plt.show()"
   ]
  },
  {
   "cell_type": "code",
   "execution_count": 43,
   "metadata": {},
   "outputs": [
    {
     "data": {
      "image/png": "[encoded data removed]",
      "text/plain": [
       "<Figure size 432x288 with 1 Axes>"
      ]
     },
     "metadata": {
      "needs_background": "light"
     },
     "output_type": "display_data"
    }
   ],
   "source": [
    "#Contorno obtenido por el modelo en función a los datos conocidos\n",
    "plt.figure(figsize=(6,4))\n",
    "plt.scatter(data.loc[:,'x1'], data.loc[:,'x2'], c = Yhat_poly)\n",
    "plt.contour(xx,yy,Z)\n",
    "plt.xlabel('$x_1$')\n",
    "plt.ylabel('$x_2$')\n",
    "#plt.xlim(xmin,xmax)\n",
    "#plt.ylim(ymin,ymax)\n",
    "plt.show()"
   ]
  },
  {
   "cell_type": "markdown",
   "metadata": {},
   "source": [
    "### Obtener el mejor polinomio que se ajuste a los datos para la Rg. Logística"
   ]
  },
  {
   "cell_type": "code",
   "execution_count": 48,
   "metadata": {},
   "outputs": [
    {
     "data": {
      "image/png": "[encoded data removed]",
      "text/plain": [
       "<Figure size 432x288 with 1 Axes>"
      ]
     },
     "metadata": {
      "needs_background": "light"
     },
     "output_type": "display_data"
    },
    {
     "name": "stderr",
     "output_type": "stream",
     "text": [
      "C:\\ProgramData\\Anaconda3\\lib\\site-packages\\sklearn\\linear_model\\_logistic.py:763: ConvergenceWarning: lbfgs failed to converge (status=1):\n",
      "STOP: TOTAL NO. of ITERATIONS REACHED LIMIT.\n",
      "\n",
      "Increase the number of iterations (max_iter) or scale the data as shown in:\n",
      "    https://scikit-learn.org/stable/modules/preprocessing.html\n",
      "Please also refer to the documentation for alternative solver options:\n",
      "    https://scikit-learn.org/stable/modules/linear_model.html#logistic-regression\n",
      "  n_iter_i = _check_optimize_result(\n",
      "C:\\ProgramData\\Anaconda3\\lib\\site-packages\\sklearn\\linear_model\\_logistic.py:763: ConvergenceWarning: lbfgs failed to converge (status=1):\n",
      "STOP: TOTAL NO. of ITERATIONS REACHED LIMIT.\n",
      "\n",
      "Increase the number of iterations (max_iter) or scale the data as shown in:\n",
      "    https://scikit-learn.org/stable/modules/preprocessing.html\n",
      "Please also refer to the documentation for alternative solver options:\n",
      "    https://scikit-learn.org/stable/modules/linear_model.html#logistic-regression\n",
      "  n_iter_i = _check_optimize_result(\n",
      "C:\\ProgramData\\Anaconda3\\lib\\site-packages\\sklearn\\linear_model\\_logistic.py:763: ConvergenceWarning: lbfgs failed to converge (status=1):\n",
      "STOP: TOTAL NO. of ITERATIONS REACHED LIMIT.\n",
      "\n",
      "Increase the number of iterations (max_iter) or scale the data as shown in:\n",
      "    https://scikit-learn.org/stable/modules/preprocessing.html\n",
      "Please also refer to the documentation for alternative solver options:\n",
      "    https://scikit-learn.org/stable/modules/linear_model.html#logistic-regression\n",
      "  n_iter_i = _check_optimize_result(\n",
      "C:\\ProgramData\\Anaconda3\\lib\\site-packages\\sklearn\\linear_model\\_logistic.py:763: ConvergenceWarning: lbfgs failed to converge (status=1):\n",
      "STOP: TOTAL NO. of ITERATIONS REACHED LIMIT.\n",
      "\n",
      "Increase the number of iterations (max_iter) or scale the data as shown in:\n",
      "    https://scikit-learn.org/stable/modules/preprocessing.html\n",
      "Please also refer to the documentation for alternative solver options:\n",
      "    https://scikit-learn.org/stable/modules/linear_model.html#logistic-regression\n",
      "  n_iter_i = _check_optimize_result(\n",
      "C:\\ProgramData\\Anaconda3\\lib\\site-packages\\sklearn\\linear_model\\_logistic.py:763: ConvergenceWarning: lbfgs failed to converge (status=1):\n",
      "STOP: TOTAL NO. of ITERATIONS REACHED LIMIT.\n",
      "\n",
      "Increase the number of iterations (max_iter) or scale the data as shown in:\n",
      "    https://scikit-learn.org/stable/modules/preprocessing.html\n",
      "Please also refer to the documentation for alternative solver options:\n",
      "    https://scikit-learn.org/stable/modules/linear_model.html#logistic-regression\n",
      "  n_iter_i = _check_optimize_result(\n",
      "C:\\ProgramData\\Anaconda3\\lib\\site-packages\\sklearn\\linear_model\\_logistic.py:763: ConvergenceWarning: lbfgs failed to converge (status=1):\n",
      "STOP: TOTAL NO. of ITERATIONS REACHED LIMIT.\n",
      "\n",
      "Increase the number of iterations (max_iter) or scale the data as shown in:\n",
      "    https://scikit-learn.org/stable/modules/preprocessing.html\n",
      "Please also refer to the documentation for alternative solver options:\n",
      "    https://scikit-learn.org/stable/modules/linear_model.html#logistic-regression\n",
      "  n_iter_i = _check_optimize_result(\n",
      "C:\\ProgramData\\Anaconda3\\lib\\site-packages\\sklearn\\linear_model\\_logistic.py:763: ConvergenceWarning: lbfgs failed to converge (status=1):\n",
      "STOP: TOTAL NO. of ITERATIONS REACHED LIMIT.\n",
      "\n",
      "Increase the number of iterations (max_iter) or scale the data as shown in:\n",
      "    https://scikit-learn.org/stable/modules/preprocessing.html\n",
      "Please also refer to the documentation for alternative solver options:\n",
      "    https://scikit-learn.org/stable/modules/linear_model.html#logistic-regression\n",
      "  n_iter_i = _check_optimize_result(\n",
      "C:\\ProgramData\\Anaconda3\\lib\\site-packages\\sklearn\\linear_model\\_logistic.py:763: ConvergenceWarning: lbfgs failed to converge (status=1):\n",
      "STOP: TOTAL NO. of ITERATIONS REACHED LIMIT.\n",
      "\n",
      "Increase the number of iterations (max_iter) or scale the data as shown in:\n",
      "    https://scikit-learn.org/stable/modules/preprocessing.html\n",
      "Please also refer to the documentation for alternative solver options:\n",
      "    https://scikit-learn.org/stable/modules/linear_model.html#logistic-regression\n",
      "  n_iter_i = _check_optimize_result(\n",
      "C:\\ProgramData\\Anaconda3\\lib\\site-packages\\sklearn\\linear_model\\_logistic.py:763: ConvergenceWarning: lbfgs failed to converge (status=1):\n",
      "STOP: TOTAL NO. of ITERATIONS REACHED LIMIT.\n",
      "\n",
      "Increase the number of iterations (max_iter) or scale the data as shown in:\n",
      "    https://scikit-learn.org/stable/modules/preprocessing.html\n",
      "Please also refer to the documentation for alternative solver options:\n",
      "    https://scikit-learn.org/stable/modules/linear_model.html#logistic-regression\n",
      "  n_iter_i = _check_optimize_result(\n",
      "C:\\ProgramData\\Anaconda3\\lib\\site-packages\\sklearn\\linear_model\\_logistic.py:763: ConvergenceWarning: lbfgs failed to converge (status=1):\n",
      "STOP: TOTAL NO. of ITERATIONS REACHED LIMIT.\n",
      "\n",
      "Increase the number of iterations (max_iter) or scale the data as shown in:\n",
      "    https://scikit-learn.org/stable/modules/preprocessing.html\n",
      "Please also refer to the documentation for alternative solver options:\n",
      "    https://scikit-learn.org/stable/modules/linear_model.html#logistic-regression\n",
      "  n_iter_i = _check_optimize_result(\n",
      "C:\\ProgramData\\Anaconda3\\lib\\site-packages\\sklearn\\linear_model\\_logistic.py:763: ConvergenceWarning: lbfgs failed to converge (status=1):\n",
      "STOP: TOTAL NO. of ITERATIONS REACHED LIMIT.\n",
      "\n",
      "Increase the number of iterations (max_iter) or scale the data as shown in:\n",
      "    https://scikit-learn.org/stable/modules/preprocessing.html\n",
      "Please also refer to the documentation for alternative solver options:\n",
      "    https://scikit-learn.org/stable/modules/linear_model.html#logistic-regression\n",
      "  n_iter_i = _check_optimize_result(\n",
      "C:\\ProgramData\\Anaconda3\\lib\\site-packages\\sklearn\\linear_model\\_logistic.py:763: ConvergenceWarning: lbfgs failed to converge (status=1):\n",
      "STOP: TOTAL NO. of ITERATIONS REACHED LIMIT.\n",
      "\n",
      "Increase the number of iterations (max_iter) or scale the data as shown in:\n",
      "    https://scikit-learn.org/stable/modules/preprocessing.html\n",
      "Please also refer to the documentation for alternative solver options:\n",
      "    https://scikit-learn.org/stable/modules/linear_model.html#logistic-regression\n",
      "  n_iter_i = _check_optimize_result(\n",
      "C:\\ProgramData\\Anaconda3\\lib\\site-packages\\sklearn\\linear_model\\_logistic.py:763: ConvergenceWarning: lbfgs failed to converge (status=1):\n",
      "STOP: TOTAL NO. of ITERATIONS REACHED LIMIT.\n",
      "\n",
      "Increase the number of iterations (max_iter) or scale the data as shown in:\n",
      "    https://scikit-learn.org/stable/modules/preprocessing.html\n",
      "Please also refer to the documentation for alternative solver options:\n",
      "    https://scikit-learn.org/stable/modules/linear_model.html#logistic-regression\n",
      "  n_iter_i = _check_optimize_result(\n",
      "C:\\ProgramData\\Anaconda3\\lib\\site-packages\\sklearn\\linear_model\\_logistic.py:763: ConvergenceWarning: lbfgs failed to converge (status=1):\n",
      "STOP: TOTAL NO. of ITERATIONS REACHED LIMIT.\n",
      "\n",
      "Increase the number of iterations (max_iter) or scale the data as shown in:\n",
      "    https://scikit-learn.org/stable/modules/preprocessing.html\n",
      "Please also refer to the documentation for alternative solver options:\n",
      "    https://scikit-learn.org/stable/modules/linear_model.html#logistic-regression\n",
      "  n_iter_i = _check_optimize_result(\n",
      "C:\\ProgramData\\Anaconda3\\lib\\site-packages\\sklearn\\linear_model\\_logistic.py:763: ConvergenceWarning: lbfgs failed to converge (status=1):\n",
      "STOP: TOTAL NO. of ITERATIONS REACHED LIMIT.\n",
      "\n",
      "Increase the number of iterations (max_iter) or scale the data as shown in:\n",
      "    https://scikit-learn.org/stable/modules/preprocessing.html\n",
      "Please also refer to the documentation for alternative solver options:\n",
      "    https://scikit-learn.org/stable/modules/linear_model.html#logistic-regression\n",
      "  n_iter_i = _check_optimize_result(\n",
      "C:\\ProgramData\\Anaconda3\\lib\\site-packages\\sklearn\\linear_model\\_logistic.py:763: ConvergenceWarning: lbfgs failed to converge (status=1):\n",
      "STOP: TOTAL NO. of ITERATIONS REACHED LIMIT.\n",
      "\n",
      "Increase the number of iterations (max_iter) or scale the data as shown in:\n",
      "    https://scikit-learn.org/stable/modules/preprocessing.html\n",
      "Please also refer to the documentation for alternative solver options:\n",
      "    https://scikit-learn.org/stable/modules/linear_model.html#logistic-regression\n",
      "  n_iter_i = _check_optimize_result(\n"
     ]
    },
    {
     "data": {
      "image/png": "[encoded data removed]",
      "text/plain": [
       "<Figure size 720x576 with 1 Axes>"
      ]
     },
     "metadata": {
      "needs_background": "light"
     },
     "output_type": "display_data"
    }
   ],
   "source": [
    "# Importar el conjunto de datos\n",
    "data = pd.read_csv('../Data/ex2data2.txt',header=None)\n",
    "\n",
    "#Preparar los datos para crear un modelo polinomial logístico\n",
    "X = data.iloc[:,:2] # Las características de entrada\n",
    "Y = data.iloc[:,-1] # La variable a predecir\n",
    "\n",
    "plt.figure(figsize=(6,4))\n",
    "plt.scatter(X[0], X[1], c=Y)\n",
    "plt.xlabel('$x_1$')\n",
    "plt.ylabel('$x_2$')\n",
    "plt.show()\n",
    "\n",
    "#Buscar el grado del polinomio Opt\n",
    "modelo = linear_model.LogisticRegression(C = 1e10)\n",
    "grados = np.arange(1,20)\n",
    "Acc = np.zeros(grados.shape)\n",
    "Prec = np.zeros(grados.shape)\n",
    "Reca = np.zeros(grados.shape)\n",
    "Nvar = np.zeros(grados.shape)\n",
    "\n",
    "for ngrado in grados:\n",
    "    #Crear la transformación Xa de las variables de entrada X\n",
    "    poly = PolynomialFeatures(ngrado)\n",
    "    Xa = poly.fit_transform(X)\n",
    "    #Entrenamiento del modelo de reg Log. con ngrado\n",
    "    modelo.fit(Xa, Y)\n",
    "    #Predicción del modelo con los datos que se utilizaron en el entrenamiento\n",
    "    Yhat = modelo.predict(Xa)\n",
    "    Acc[ngrado-1] = accuracy_score(Y,Yhat)     \n",
    "    Prec[ngrado-1] = precision_score(Y,Yhat)     \n",
    "    Reca[ngrado-1] = recall_score(Y,Yhat) \n",
    "    \n",
    "plt.figure(figsize=(6,4))\n",
    "plt.plot(grados, Acc, label='Accuracy')\n",
    "plt.plot(grados, Prec, label='Precision')\n",
    "plt.plot(grados, Reca, label='Recall')\n",
    "plt.xlabel('Grado del polinomio')\n",
    "plt.legend()\n",
    "plt.grid()\n",
    "plt.show()"
   ]
  },
  {
   "cell_type": "markdown",
   "metadata": {},
   "source": [
    "### Ejemplo con Dataset Breast_Cancer"
   ]
  },
  {
   "cell_type": "code",
   "execution_count": 49,
   "metadata": {},
   "outputs": [],
   "source": [
    "from sklearn.datasets import load_breast_cancer"
   ]
  },
  {
   "cell_type": "code",
   "execution_count": 51,
   "metadata": {},
   "outputs": [],
   "source": [
    "#Cargar el conjunto de datos\n",
    "data = load_breast_cancer()\n",
    "X = data.data\n",
    "Y = data.target"
   ]
  },
  {
   "cell_type": "code",
   "execution_count": 54,
   "metadata": {},
   "outputs": [
    {
     "data": {
      "text/plain": [
       "array(['mean radius', 'mean texture', 'mean perimeter', 'mean area',\n",
       "       'mean smoothness', 'mean compactness', 'mean concavity',\n",
       "       'mean concave points', 'mean symmetry', 'mean fractal dimension',\n",
       "       'radius error', 'texture error', 'perimeter error', 'area error',\n",
       "       'smoothness error', 'compactness error', 'concavity error',\n",
       "       'concave points error', 'symmetry error',\n",
       "       'fractal dimension error', 'worst radius', 'worst texture',\n",
       "       'worst perimeter', 'worst area', 'worst smoothness',\n",
       "       'worst compactness', 'worst concavity', 'worst concave points',\n",
       "       'worst symmetry', 'worst fractal dimension'], dtype='<U23')"
      ]
     },
     "execution_count": 54,
     "metadata": {},
     "output_type": "execute_result"
    }
   ],
   "source": [
    "data.feature_names"
   ]
  },
  {
   "cell_type": "code",
   "execution_count": 55,
   "metadata": {},
   "outputs": [
    {
     "data": {
      "text/plain": [
       "(569, 30)"
      ]
     },
     "execution_count": 55,
     "metadata": {},
     "output_type": "execute_result"
    }
   ],
   "source": [
    "X.shape"
   ]
  },
  {
   "cell_type": "code",
   "execution_count": 56,
   "metadata": {},
   "outputs": [],
   "source": [
    "# EDA\n",
    "# dqr\n",
    "# Limpieza\n",
    "# Modelo"
   ]
  },
  {
   "cell_type": "code",
   "execution_count": 58,
   "metadata": {},
   "outputs": [],
   "source": [
    "#Dividir el conjunto de datos en datos para entrenar y datos para testear o probar\n",
    "from sklearn.model_selection import train_test_split\n",
    "\n",
    "X_train, X_test, Y_train, Y_test = train_test_split(X, Y, test_size=0.2, random_state = 0)\n"
   ]
  },
  {
   "cell_type": "code",
   "execution_count": 59,
   "metadata": {},
   "outputs": [
    {
     "data": {
      "text/plain": [
       "(455, 30)"
      ]
     },
     "execution_count": 59,
     "metadata": {},
     "output_type": "execute_result"
    }
   ],
   "source": [
    "X_train.shape"
   ]
  },
  {
   "cell_type": "code",
   "execution_count": 62,
   "metadata": {},
   "outputs": [],
   "source": [
    "modelo = linear_model.LogisticRegression(max_iter=10000)\n",
    "modelo.fit(X_train, Y_train)\n",
    "y_pred = modelo.predict(X_train)\n",
    "\n",
    "#Evaluamos el modelo\n",
    "acc = accuracy_score(Y_train,y_pred)     \n",
    "prec = precision_score(Y_train,y_pred)     \n",
    "rec = recall_score(Y_train,y_pred) "
   ]
  },
  {
   "cell_type": "code",
   "execution_count": 63,
   "metadata": {},
   "outputs": [
    {
     "data": {
      "text/plain": [
       "(0.9626373626373627, 0.9627118644067797, 0.9793103448275862)"
      ]
     },
     "execution_count": 63,
     "metadata": {},
     "output_type": "execute_result"
    }
   ],
   "source": [
    "acc, prec, rec"
   ]
  },
  {
   "cell_type": "code",
   "execution_count": null,
   "metadata": {},
   "outputs": [],
   "source": [
    "#Buscar el grado del polinomio Opt\n",
    "modelo = linear_model.LogisticRegression(max_iter=10000)\n",
    "grados = np.arange(1,2)\n",
    "Acc = np.zeros(grados.shape)\n",
    "Prec = np.zeros(grados.shape)\n",
    "Reca = np.zeros(grados.shape)\n",
    "Nvar = np.zeros(grados.shape)\n",
    "\n",
    "for ngrado in grados:\n",
    "    #Crear la transformación Xa de las variables de entrada X\n",
    "    poly = PolynomialFeatures(ngrado)\n",
    "    Xa = poly.fit_transform(X_train)\n",
    "    #Entrenamiento del modelo de reg Log. con ngrado\n",
    "    modelo.fit(Xa, Y_train)\n",
    "    #Predicción del modelo con los datos que se utilizaron en el entrenamiento\n",
    "    Yhat_train = modelo.predict(Xa)\n",
    "    Acc[ngrado-1] = accuracy_score(Y_train,Yhat_train)     \n",
    "    Prec[ngrado-1] = precision_score(Y_train,Yhat_train)     \n",
    "    Reca[ngrado-1] = recall_score(Y_train,Yhat_train) \n",
    "    \n",
    "plt.figure(figsize=(6,4))\n",
    "plt.plot(grados, Acc, label='Accuracy')\n",
    "plt.plot(grados, Prec, label='Precision')\n",
    "plt.plot(grados, Reca, label='Recall')\n",
    "plt.xlabel('Grado del polinomio')\n",
    "plt.legend()\n",
    "plt.grid()\n",
    "plt.show()"
   ]
  },
  {
   "cell_type": "markdown",
   "metadata": {},
   "source": [
    "### Actividad dataset Apples and Oranges"
   ]
  },
  {
   "cell_type": "code",
   "execution_count": 65,
   "metadata": {},
   "outputs": [
    {
     "data": {
      "text/html": [
       "<div>\n",
       "<style scoped>\n",
       "    .dataframe tbody tr th:only-of-type {\n",
       "        vertical-align: middle;\n",
       "    }\n",
       "\n",
       "    .dataframe tbody tr th {\n",
       "        vertical-align: top;\n",
       "    }\n",
       "\n",
       "    .dataframe thead th {\n",
       "        text-align: right;\n",
       "    }\n",
       "</style>\n",
       "<table border=\"1\" class=\"dataframe\">\n",
       "  <thead>\n",
       "    <tr style=\"text-align: right;\">\n",
       "      <th></th>\n",
       "      <th>Weight</th>\n",
       "      <th>Size</th>\n",
       "      <th>Class</th>\n",
       "    </tr>\n",
       "  </thead>\n",
       "  <tbody>\n",
       "    <tr>\n",
       "      <th>0</th>\n",
       "      <td>69</td>\n",
       "      <td>4.39</td>\n",
       "      <td>orange</td>\n",
       "    </tr>\n",
       "    <tr>\n",
       "      <th>1</th>\n",
       "      <td>69</td>\n",
       "      <td>4.21</td>\n",
       "      <td>orange</td>\n",
       "    </tr>\n",
       "    <tr>\n",
       "      <th>2</th>\n",
       "      <td>65</td>\n",
       "      <td>4.09</td>\n",
       "      <td>orange</td>\n",
       "    </tr>\n",
       "    <tr>\n",
       "      <th>3</th>\n",
       "      <td>72</td>\n",
       "      <td>5.85</td>\n",
       "      <td>apple</td>\n",
       "    </tr>\n",
       "    <tr>\n",
       "      <th>4</th>\n",
       "      <td>67</td>\n",
       "      <td>4.70</td>\n",
       "      <td>orange</td>\n",
       "    </tr>\n",
       "  </tbody>\n",
       "</table>\n",
       "</div>"
      ],
      "text/plain": [
       "   Weight  Size   Class\n",
       "0      69  4.39  orange\n",
       "1      69  4.21  orange\n",
       "2      65  4.09  orange\n",
       "3      72  5.85   apple\n",
       "4      67  4.70  orange"
      ]
     },
     "execution_count": 65,
     "metadata": {},
     "output_type": "execute_result"
    }
   ],
   "source": [
    "data = pd.read_csv('../Data/apples_and_oranges.csv')\n",
    "data.head()"
   ]
  },
  {
   "cell_type": "code",
   "execution_count": null,
   "metadata": {},
   "outputs": [],
   "source": []
  },
  {
   "cell_type": "markdown",
   "metadata": {},
   "source": [
    "## Entrega de 2da parte del proyecto 29 de Noviembre"
   ]
  },
  {
   "cell_type": "code",
   "execution_count": null,
   "metadata": {},
   "outputs": [],
   "source": []
  }
 ],
 "metadata": {
  "kernelspec": {
   "display_name": "Python 3 (ipykernel)",
   "language": "python",
   "name": "python3"
  },
  "language_info": {
   "codemirror_mode": {
    "name": "ipython",
    "version": 3
   },
   "file_extension": ".py",
   "mimetype": "text/x-python",
   "name": "python",
   "nbconvert_exporter": "python",
   "pygments_lexer": "ipython3",
   "version": "3.8.8"
  }
 },
 "nbformat": 4,
 "nbformat_minor": 2
}
