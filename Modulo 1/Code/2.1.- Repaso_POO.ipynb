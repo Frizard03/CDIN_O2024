{
 "cells": [
  {
   "cell_type": "markdown",
   "metadata": {},
   "source": [
    "<img style=\"float: left;;\" src='../Imagenes/iteso.jpg' width=\"50\" height=\"100\"/></a>\n",
    "\n",
    "\n",
    "# <center> <font color= #000047> Repaso: Programación orientada a objetos"
   ]
  },
  {
   "cell_type": "markdown",
   "metadata": {},
   "source": [
    "\n",
    "> Anteriormente en los repasos, vimos toda la sintaxis básica de Python, cómo hacer funciones y los diferentes clases de objetos que podemos utilizar. Vimos además que cada uno de los objetos tienen diferentes métodos y atributos que traen consigo, y nos facilitan la vida enormemente.\n",
    "\n",
    "> Pero, ¿qué son clases?, ¿qué son objetos?, ¿cómo construir nuestras propias clases?\n",
    "\n",
    "> Resolver estas preguntas nos ocupará en esta sesión.\n",
    "\n",
    "\n",
    "Referencias:\n",
    "- https://realpython.com/python3-object-oriented-programming/\n",
    "___"
   ]
  },
  {
   "cell_type": "markdown",
   "metadata": {},
   "source": [
    "# 0. ¿Qué son los objetos?\n",
    "\n",
    "La clase pasada ya hablamos un poco de esto. Dijimos que todo en python es un objeto. Por ejemplo:"
   ]
  },
  {
   "cell_type": "code",
   "execution_count": null,
   "metadata": {},
   "outputs": [],
   "source": [
    "x = 42\n",
    "print('%d es un objeto de %s' % (x, type(x)))\n",
    "\n",
    "x = 'Hello world!'\n",
    "print('%s es un objeto de %s' % (x, type(x)))\n",
    "\n",
    "x = {'name': 'Gaddiel', 'age': 32}\n",
    "print('%s es un objeto de %s' % (x, type(x)))"
   ]
  },
  {
   "cell_type": "markdown",
   "metadata": {},
   "source": [
    "Ya sabemos que los enteros (`int`), las cadenas de caracteres (`str`), y los diccionarios (`dict`) se comportan de formas distintas. Tienen distintas propiedades y funcionalidades, o técnicamente, tienen distintos **atributos** y **métodos**."
   ]
  },
  {
   "cell_type": "markdown",
   "metadata": {},
   "source": [
    "Como dijimos la clase pasada, los atributos de un objeto son variables internas que contienen información del objeto:"
   ]
  },
  {
   "cell_type": "code",
   "execution_count": null,
   "metadata": {},
   "outputs": [],
   "source": [
    "# Un número complejo y sus partes real e imaginaria\n",
    "x = complex(4, 5)  # 4 + 5j\n",
    "x.real, x.imag"
   ]
  },
  {
   "cell_type": "markdown",
   "metadata": {},
   "source": [
    "Los métodos de un objeto son funciones internas que implementan capacidades del objeto:"
   ]
  },
  {
   "cell_type": "code",
   "execution_count": null,
   "metadata": {},
   "outputs": [],
   "source": [
    "# Métodos upper y lower de un string\n",
    "x.conjugate(), x.conjugate() * x"
   ]
  },
  {
   "cell_type": "markdown",
   "metadata": {},
   "source": [
    "# 1. ¿Qué es programación orientada a objetos?\n",
    "\n",
    "La programación orientada a objetos (POO) es un paradigma de programación mediante el cual se pueden estructurar programas de forma que sus propiedades y comportamientos sean encapsulados en objetos individuales.\n",
    "\n",
    "Por ejemplo, un **objeto** puede representar a una persona:\n",
    "- con propiedades como nombre, edad, domicilio;\n",
    "- con comportamientos como caminar, hablar, respirar, correr.\n",
    " \n",
    "De manera concisa, POO es un enfoque para modelar cosas concretas, del mundo real como carros, y no solo eso, sino también las relaciones entre distintos objetos como compañías y empleados, estudiantes y profesores."
   ]
  },
  {
   "cell_type": "markdown",
   "metadata": {},
   "source": [
    "Nosotros no somos ajenos a los objetos, pues los hemos venido utilizando desde las clases pasadas.\n",
    "\n",
    "Por ejemplo:"
   ]
  },
  {
   "cell_type": "code",
   "execution_count": null,
   "metadata": {},
   "outputs": [],
   "source": [
    "# La lista de planetas\n",
    "planetas = ['Mercurio', 'Venus', 'Tierra', 'Marte', 'Jupiter', 'Saturno', 'Urano', 'Neptuno']"
   ]
  },
  {
   "cell_type": "code",
   "execution_count": null,
   "metadata": {},
   "outputs": [],
   "source": [
    "planetas"
   ]
  },
  {
   "cell_type": "markdown",
   "metadata": {},
   "source": [
    "Planetas no es solo la lista que vemos. Trae consigo ciertas funcionalidades (métodos) que resultan ser muy útiles"
   ]
  },
  {
   "cell_type": "code",
   "execution_count": null,
   "metadata": {},
   "outputs": [],
   "source": [
    "# Llamar la función help sobre planetas\n"
   ]
  },
  {
   "cell_type": "markdown",
   "metadata": {},
   "source": [
    "Por ejemplo, ya no queremos los planetas ordenados de acuerdo a su cercanía al sol, sino que los queremos ordenados de acuerdo a su lejanía al sol:"
   ]
  },
  {
   "cell_type": "code",
   "execution_count": null,
   "metadata": {},
   "outputs": [],
   "source": [
    "# Usar un método para hacer lo requerido\n"
   ]
  },
  {
   "cell_type": "markdown",
   "metadata": {},
   "source": [
    "No solo las listas son objetos. También lo son cada uno de los tipos de variables que hemos usado:"
   ]
  },
  {
   "cell_type": "code",
   "execution_count": null,
   "metadata": {},
   "outputs": [],
   "source": [
    "# list\n"
   ]
  },
  {
   "cell_type": "code",
   "execution_count": null,
   "metadata": {},
   "outputs": [],
   "source": [
    "# int\n"
   ]
  },
  {
   "cell_type": "code",
   "execution_count": null,
   "metadata": {},
   "outputs": [],
   "source": [
    "# float\n"
   ]
  },
  {
   "cell_type": "code",
   "execution_count": null,
   "metadata": {},
   "outputs": [],
   "source": [
    "# str\n"
   ]
  },
  {
   "cell_type": "markdown",
   "metadata": {},
   "source": [
    "___\n",
    "# 2. ¿Qué es una clase?\n",
    "\n",
    "Pensando en los objetos que vimos anteriormente, cada objeto es una **instancia** de alguna **clase**.\n",
    "\n",
    "Estas clases (`int`, `float`, `str`, `list`, ...) están diseñadas para representar cosas simples como el costo de algo, el nombre de un poema o tus colores favoritos."
   ]
  },
  {
   "cell_type": "markdown",
   "metadata": {},
   "source": [
    "Pero, ¿y si quisiéramos representar cosas mucho más complejas?\n",
    "\n",
    "Por ejemplo, digamos que tenemos que realizar un software para una veterinaria que guarde información de los diferentes animales que ingresan. Si usáramos una lsita, el primer elemento podría ser el nombre del animal, mientras que el segundo elemento podría representar la edad.\n",
    "\n",
    "¿Cómo sabríamos cuál elemento es cual? Si ingresaran 100 animales, ¿estamos seguros de que cada animal tiene un nombre y una edad? (si hay cierta ética, se recibirían animales de la calle).\n",
    "\n",
    "Por otra parte, si las necesidades de la veterinaria fueran creciendo y tuviéramos que añadir propiedades a esos animales, ¿cómo se modificaría esta lista? ... Todas estas cuestiones de organización que estamos viendo son exactamente el porqué de las clases."
   ]
  },
  {
   "cell_type": "markdown",
   "metadata": {},
   "source": [
    "Las **clases** se usan para crear nuevas estructuras de datos definidas por el programador, que contienen información arbitraria de algo. En el caso de los animales, podríamos crear una clase `Animal()` para guardar todas las propiedades acerca del animal, tales como el nombre y la edad.\n",
    "\n",
    "Es importante notar que la clase solo provee la estructura: *es un diseño de cómo algo debe ser definido*, pero no provee realmente ningún contenido real.\n",
    "\n",
    "La clase `Animal()` puede especificar que el nombre y la edad son necesarios para definir un animal, pero no especificará cuál es el nombre específico de un animal, o su edad.\n",
    "\n",
    "La mejor forma de pensar en una clase es como una **idea de cómo algo debe ser definido**."
   ]
  },
  {
   "cell_type": "markdown",
   "metadata": {},
   "source": [
    "## 2.1 Objetos de Python (Instancias)\n",
    "\n",
    "Mientras que la clase nos da la idea, una **instancia** es una copia de la clase con valores reales, o mejor, *un objeto que pertenece a una clase específica*. Un **objeto o instancia** ya no es una idea, sino un animal realmente con un nombre (por ejemplo, Bombón), y con una edad (por ejemplo, dos años) específicos.\n",
    "\n",
    "Poniéndolo en otros términos, una clase es como un cuestionario: define cierta información básica requerida para un objeto perteneciente a dicha clase. Luego de haber respondido el cuestionario, tenemos una copia con los campos específicamente llenados como una instancia de la clase.\n",
    "\n",
    "Podemos llenar varias copias para crear muchas instancias distintas, pero sin el cuestionario (clase) como la guía, estaríamos perdidos, sin saber qué información es requerida.\n",
    "\n",
    "Por tanto antes de crear instancias individuales de un objeto, primero debemos especificar qué es lo que se requiere definiendo una clase."
   ]
  },
  {
   "cell_type": "markdown",
   "metadata": {},
   "source": [
    "## 2.2 ¿Cómo definir una clase en Python?\n",
    "\n",
    "Definir una clase en Python es súper sencillo:"
   ]
  },
  {
   "cell_type": "code",
   "execution_count": null,
   "metadata": {},
   "outputs": [],
   "source": [
    "# Clase de los perros\n"
   ]
  },
  {
   "cell_type": "markdown",
   "metadata": {},
   "source": [
    "- Se comienza con la palabra clave `class` para indicar que estás creando una clase.\n",
    "\n",
    "- Luego, se añade el nombre de la clase (se recomienda usar notación [CamelCase](https://en.wikipedia.org/wiki/Camel_case), comenzando con letra mayúscula).\n",
    "\n",
    "- Como ya estamos acostumbrados, los dos puntos `:`, y abajo el cuerpo de la clase indentado."
   ]
  },
  {
   "cell_type": "markdown",
   "metadata": {},
   "source": [
    "### 2.2.1 Atributos de instancia\n",
    "\n",
    "Todas las clases sirven para instanciar objetos, y todos los objetos tienen características llamadas atributos.\n",
    "\n",
    "Usamos el **método constructor `__init__()`** para inicializar (especificar) los atributos iniciales de un objeto, dándoles su valor en específico.\n",
    "\n",
    "Este método tiene que tener, por lo menos, el argumento `self` el cual hace referencia al objeto."
   ]
  },
  {
   "cell_type": "code",
   "execution_count": null,
   "metadata": {},
   "outputs": [],
   "source": [
    "# Clase de los perros (con nombre y edad)\n"
   ]
  },
  {
   "cell_type": "markdown",
   "metadata": {},
   "source": [
    "En el caso de nuestra clase `Perro()`, cada perro tiene un nombre y una edad específicos, los cuales son claramente importantes para cuando creemos distintos perros.\n",
    "\n",
    "Recordemos que la clase es solo para definir la idea de lo que se necesita para definir un perro, y no para definir un perro en si. Ya veremos eso.\n",
    "\n",
    "Similarmente, la variable `self` representa una instancia de la clase, pero ninguna instancia en particular. Como las instancias de una clase tienen atributos variables, estaríamos tentados a escribir `Perro.nombre = nombre` en lugar de `self.nombre = nombre`. \n",
    "\n",
    "Sin embargo, no todos los perros tienen el mismo nombre, entonces debemos poder asignar diferentes valores de atributos a diferentes instancias. Por ello la necesidad de la variable especial `self`, que nos permite llevar el seguimiento de las instancias individuales de cada clase.\n",
    "\n",
    "> **Nota**: nunca será necesario llamar el método `__init__()`. Éste se llama automáticamente cuando creamos un nuevo objeto de la clase `Perro()`."
   ]
  },
  {
   "cell_type": "markdown",
   "metadata": {},
   "source": [
    "### 2.2.2 Atributos de clase\n",
    "\n",
    "Mientras que los atributos de instancia son específicos de cada objeto, los **atributos de clase** son los mismos para todas las instancias de la misma clase (en este caso, para todos los Perros)."
   ]
  },
  {
   "cell_type": "code",
   "execution_count": null,
   "metadata": {},
   "outputs": [],
   "source": [
    "# Clase de los perros (con nombre y edad, mamíferos)\n"
   ]
  },
  {
   "cell_type": "markdown",
   "metadata": {},
   "source": [
    "De forma que mientras que cada perro tiene un nombre y una edad particulares, todos los perros son mamíferos.\n",
    "\n",
    "Bueno, ahora creemos algunos perros ..."
   ]
  },
  {
   "cell_type": "markdown",
   "metadata": {},
   "source": [
    "## 2.2 Instanciando objetos\n",
    "\n",
    "Instanciar es un término estrambótico para referirse a crear una nueva y particular instancia de una clase.\n",
    "\n",
    "Por ejemplo:"
   ]
  },
  {
   "cell_type": "code",
   "execution_count": null,
   "metadata": {},
   "outputs": [],
   "source": [
    "# Instanciar dos objetos de la clase y ver si son iguales\n"
   ]
  },
  {
   "cell_type": "markdown",
   "metadata": {},
   "source": [
    "Comenzamos por definir la clase `Perro()`.\n",
    "\n",
    "Luego, creamos (instanciamos) dos objetos de la clase Perro: para crear una instancia de una clase, usamos el nombre de la clase, seguido de paréntesis.\n",
    "\n",
    "¿De qué tipo es `a` o `b`?"
   ]
  },
  {
   "cell_type": "markdown",
   "metadata": {},
   "source": [
    "Ahora, usemos la última clase `Perro()` que definimos, que ya tiene atributos:"
   ]
  },
  {
   "cell_type": "code",
   "execution_count": null,
   "metadata": {},
   "outputs": [],
   "source": [
    "# Acceder a los atributos de instancia: imprimir nombre y edad de cada perro\n"
   ]
  },
  {
   "cell_type": "code",
   "execution_count": null,
   "metadata": {},
   "outputs": [],
   "source": []
  },
  {
   "cell_type": "code",
   "execution_count": null,
   "metadata": {},
   "outputs": [],
   "source": [
    "# Acceder a los atributos de clase\n"
   ]
  },
  {
   "cell_type": "code",
   "execution_count": null,
   "metadata": {},
   "outputs": [],
   "source": [
    "# La clase no puede acceder a los atributos de instancia\n"
   ]
  },
  {
   "cell_type": "code",
   "execution_count": null,
   "metadata": {},
   "outputs": [],
   "source": []
  },
  {
   "cell_type": "markdown",
   "metadata": {},
   "source": [
    "¿Cómo saber que cierto objeto es una instancia de una clase en particular?"
   ]
  },
  {
   "cell_type": "code",
   "execution_count": null,
   "metadata": {},
   "outputs": [],
   "source": [
    "# Función isinstance\n"
   ]
  },
  {
   "cell_type": "code",
   "execution_count": null,
   "metadata": {},
   "outputs": [],
   "source": []
  },
  {
   "cell_type": "code",
   "execution_count": null,
   "metadata": {},
   "outputs": [],
   "source": [
    "# Función isinstance sobre los objetos\n"
   ]
  },
  {
   "cell_type": "code",
   "execution_count": null,
   "metadata": {},
   "outputs": [],
   "source": [
    "# La función is instance puede usarse para prevenir comportamientos no deseados\n"
   ]
  },
  {
   "cell_type": "markdown",
   "metadata": {},
   "source": [
    "#### ¿Qué sucedió?"
   ]
  },
  {
   "cell_type": "markdown",
   "metadata": {},
   "source": [
    "## 2.3 Métodos de instancia\n",
    "\n",
    "Los métodos de instancia se definen dentrp de una clase, y se usan para obtener/modificar los contenidos de la instancia.\n",
    "\n",
    "También pueden ser usados para llevar a cabo operaciones con los atributos de los objetos.\n",
    "\n",
    "De la misma manera que el método `__init__()`, el primer argumento es siempre `self`:"
   ]
  },
  {
   "cell_type": "code",
   "execution_count": null,
   "metadata": {},
   "outputs": [],
   "source": [
    "# A partir de la clase ya definida, crear dos métodos:\n",
    "# uno para describir el perro (nombre y edad),\n",
    "# y otro para que el perro ladre.\n"
   ]
  },
  {
   "cell_type": "code",
   "execution_count": null,
   "metadata": {},
   "outputs": [],
   "source": [
    "# Instanciar un perro y usar los métodos anteriormente definidos\n"
   ]
  },
  {
   "cell_type": "markdown",
   "metadata": {},
   "source": [
    "### 2.3.1 Modificando atributos\n",
    "\n",
    "Se puede modificar el valor de los atributos con base en algún comportamiento:\n",
    "\n",
    "> Se recomienda modificar estos atributos por medio de métodos y nunca directamente."
   ]
  },
  {
   "cell_type": "code",
   "execution_count": null,
   "metadata": {},
   "outputs": [],
   "source": [
    "# Ejemplo: clase email con atributo enviado y método enviar\n"
   ]
  },
  {
   "cell_type": "code",
   "execution_count": null,
   "metadata": {},
   "outputs": [],
   "source": [
    "# Instanciar, ver atributo, correr método y ver atributo de nuevo\n"
   ]
  },
  {
   "cell_type": "code",
   "execution_count": null,
   "metadata": {},
   "outputs": [],
   "source": []
  },
  {
   "cell_type": "markdown",
   "metadata": {},
   "source": [
    "No pretendo que se vuelvan expertos en una clase, pero hasta acá, deberían saber que son clases, porqué querríamos usarlas, y cómo usar herencia para estructurar mejor sus códigos.\n",
    "\n",
    "El paradigma de POO no es un concepto de Python. La mayoría de los lenguajes de programación modernos tales como Java, C#, C++ siguen principios de POO.\n",
    "\n",
    "La buena noticia es que los fundamentos de POO son transversales al lenguaje de programación.\n",
    "\n",
    "Adicionalmente, ya entenderán perfectamente cuando utilicemos las expresiones útiles\n",
    "\n",
    "`objeto.metodo()`\n",
    "\n",
    "`objeto.atributo`"
   ]
  },
  {
   "cell_type": "markdown",
   "metadata": {},
   "source": [
    "### Les recomiendo leer este [artículo](https://www.freecodecamp.org/news/object-oriented-programming-concepts-21bb035f7260/) acerca de los conceptos básicos de POO.\n"
   ]
  },
  {
   "cell_type": "code",
   "execution_count": null,
   "metadata": {},
   "outputs": [],
   "source": []
  }
 ],
 "metadata": {
  "kernelspec": {
   "display_name": "Python 3 (ipykernel)",
   "language": "python",
   "name": "python3"
  },
  "language_info": {
   "codemirror_mode": {
    "name": "ipython",
    "version": 3
   },
   "file_extension": ".py",
   "mimetype": "text/x-python",
   "name": "python",
   "nbconvert_exporter": "python",
   "pygments_lexer": "ipython3",
   "version": "3.8.8"
  }
 },
 "nbformat": 4,
 "nbformat_minor": 2
}
