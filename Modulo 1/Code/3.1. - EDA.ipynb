{
 "cells": [
  {
   "cell_type": "markdown",
   "id": "22da7b12",
   "metadata": {
    "slideshow": {
     "slide_type": "slide"
    }
   },
   "source": [
    "<img style=\"float: left;;\" src='../Imagenes/iteso.jpg' width=\"50\" height=\"100\"/></a>\n",
    "\n",
    "# <center> <font color= #000047> Módulo I: Análisis Exploratorio de Datos (EDA) Procesamiento de Datos </font> </center>\n",
    "\n"
   ]
  },
  {
   "cell_type": "markdown",
   "id": "f7946e3e",
   "metadata": {
    "slideshow": {
     "slide_type": "slide"
    }
   },
   "source": [
    "En esta sesión veremos un EDA aplicando algunas técnicas de procesamiento de datos.\n"
   ]
  },
  {
   "cell_type": "markdown",
   "id": "bb9223df",
   "metadata": {
    "slideshow": {
     "slide_type": "subslide"
    }
   },
   "source": [
    "#### Glass Identification Data Set\n",
    "Los datos que utilizaremos en esta sesion se pueden encontrar en:\n",
    "https://archive.ics.uci.edu/ml/datasets/glass+identification\n",
    "\n",
    "En el servicio forense, se busca identificar qué tipo de vidrio es una muestra definidos en términos de su contenido de óxido. \n",
    "\n",
    "- 1. Id number: 1 a 214\n",
    "- 2. RI: Indice Refractivo(medida para saber cuánto se reduce la velocidad de la luz al atravesarlo)\n",
    "- 3. Na: Sodio (unidad de medida: porcentaje en peso en el óxido correspondiente, como son los atributos 4-10)\n",
    "- 4. Mg: Magnesio\n",
    "- 5. Al: Aluminio\n",
    "- 6. Si: Silicon\n",
    "- 7. K: Potasio\n",
    "- 8. Ca: Calcio\n",
    "- 9. Ba: Bario\n",
    "- 10. Fe: Hierro\n",
    "- 11. Tipo de Vidrio: \n",
    "    1. ventanas de edificios procesadas por flotación \n",
    "    2. ventanas de edificios no procesadas por flotación \n",
    "    3. ventanas de vehículos procesadas por flotación\n",
    "    4. ventanas de vehículos no procesadas por flotación \n",
    "    5. contenedores\n",
    "    6. vajilla\n",
    "    7. faros\n"
   ]
  },
  {
   "cell_type": "code",
   "execution_count": 1,
   "id": "b7f1ebbd",
   "metadata": {
    "slideshow": {
     "slide_type": "slide"
    }
   },
   "outputs": [],
   "source": [
    "#Importar Librerías\n",
    "import numpy as np \n",
    "import pandas as pd\n",
    "import matplotlib.pyplot as plt \n",
    "import seaborn as sns \n"
   ]
  },
  {
   "cell_type": "code",
   "execution_count": 3,
   "id": "4e1cb997",
   "metadata": {
    "slideshow": {
     "slide_type": "subslide"
    }
   },
   "outputs": [],
   "source": [
    "data = pd.read_csv('../Data/glass_data.csv')"
   ]
  },
  {
   "cell_type": "code",
   "execution_count": 4,
   "id": "3a99688c",
   "metadata": {
    "slideshow": {
     "slide_type": "subslide"
    }
   },
   "outputs": [
    {
     "name": "stdout",
     "output_type": "stream",
     "text": [
      "<class 'pandas.core.frame.DataFrame'>\n",
      "RangeIndex: 214 entries, 0 to 213\n",
      "Data columns (total 11 columns):\n",
      " #   Column             Non-Null Count  Dtype  \n",
      "---  ------             --------------  -----  \n",
      " 0   ID                 214 non-null    int64  \n",
      " 1   Indice_Refraccion  214 non-null    float64\n",
      " 2   Na                 214 non-null    float64\n",
      " 3   Mg                 214 non-null    float64\n",
      " 4   Al                 214 non-null    float64\n",
      " 5   Si                 214 non-null    float64\n",
      " 6   K                  214 non-null    float64\n",
      " 7   Ca                 214 non-null    float64\n",
      " 8   Ba                 214 non-null    float64\n",
      " 9   Fe                 214 non-null    float64\n",
      " 10  Tipo_Vidrio        214 non-null    int64  \n",
      "dtypes: float64(9), int64(2)\n",
      "memory usage: 18.5 KB\n"
     ]
    }
   ],
   "source": [
    "data.info()"
   ]
  },
  {
   "cell_type": "code",
   "execution_count": 5,
   "id": "1e012c1f",
   "metadata": {
    "slideshow": {
     "slide_type": "slide"
    }
   },
   "outputs": [],
   "source": [
    "from CDIN import CDIN as cd"
   ]
  },
  {
   "cell_type": "code",
   "execution_count": 7,
   "id": "e3f94e35",
   "metadata": {
    "slideshow": {
     "slide_type": "subslide"
    }
   },
   "outputs": [
    {
     "data": {
      "text/html": [
       "<div>\n",
       "<style scoped>\n",
       "    .dataframe tbody tr th:only-of-type {\n",
       "        vertical-align: middle;\n",
       "    }\n",
       "\n",
       "    .dataframe tbody tr th {\n",
       "        vertical-align: top;\n",
       "    }\n",
       "\n",
       "    .dataframe thead th {\n",
       "        text-align: right;\n",
       "    }\n",
       "</style>\n",
       "<table border=\"1\" class=\"dataframe\">\n",
       "  <thead>\n",
       "    <tr style=\"text-align: right;\">\n",
       "      <th></th>\n",
       "      <th>Nombre columnas</th>\n",
       "      <th>Tipo de datos</th>\n",
       "      <th>valores faltantes</th>\n",
       "      <th>Valores presentes</th>\n",
       "      <th>valores unicos</th>\n",
       "      <th>lista valores unicos</th>\n",
       "      <th>Valores Max</th>\n",
       "      <th>Valores Min</th>\n",
       "    </tr>\n",
       "  </thead>\n",
       "  <tbody>\n",
       "    <tr>\n",
       "      <th>ID</th>\n",
       "      <td>ID</td>\n",
       "      <td>int64</td>\n",
       "      <td>0</td>\n",
       "      <td>214</td>\n",
       "      <td>214</td>\n",
       "      <td>[1, 2, 3, 4, 5, 6, 7, 8, 9, 10, 11, 12, 13, 14...</td>\n",
       "      <td>214.00000</td>\n",
       "      <td>1.00000</td>\n",
       "    </tr>\n",
       "    <tr>\n",
       "      <th>Indice_Refraccion</th>\n",
       "      <td>Indice_Refraccion</td>\n",
       "      <td>float64</td>\n",
       "      <td>0</td>\n",
       "      <td>214</td>\n",
       "      <td>178</td>\n",
       "      <td>[1.52101, 1.51761, 1.51618, 1.51766, 1.51742, ...</td>\n",
       "      <td>1.53393</td>\n",
       "      <td>1.51115</td>\n",
       "    </tr>\n",
       "    <tr>\n",
       "      <th>Na</th>\n",
       "      <td>Na</td>\n",
       "      <td>float64</td>\n",
       "      <td>0</td>\n",
       "      <td>214</td>\n",
       "      <td>142</td>\n",
       "      <td>[13.64, 13.89, 13.53, 13.21, 13.27, 12.79, 13....</td>\n",
       "      <td>17.38000</td>\n",
       "      <td>10.73000</td>\n",
       "    </tr>\n",
       "    <tr>\n",
       "      <th>Mg</th>\n",
       "      <td>Mg</td>\n",
       "      <td>float64</td>\n",
       "      <td>0</td>\n",
       "      <td>214</td>\n",
       "      <td>94</td>\n",
       "      <td>[4.49, 3.6, 3.55, 3.69, 3.62, 3.61, 3.58, 3.46...</td>\n",
       "      <td>4.49000</td>\n",
       "      <td>0.00000</td>\n",
       "    </tr>\n",
       "    <tr>\n",
       "      <th>Al</th>\n",
       "      <td>Al</td>\n",
       "      <td>float64</td>\n",
       "      <td>0</td>\n",
       "      <td>214</td>\n",
       "      <td>118</td>\n",
       "      <td>[1.1, 1.36, 1.54, 1.29, 1.24, 1.62, 1.14, 1.05...</td>\n",
       "      <td>3.50000</td>\n",
       "      <td>0.29000</td>\n",
       "    </tr>\n",
       "    <tr>\n",
       "      <th>Si</th>\n",
       "      <td>Si</td>\n",
       "      <td>float64</td>\n",
       "      <td>0</td>\n",
       "      <td>214</td>\n",
       "      <td>133</td>\n",
       "      <td>[71.78, 72.73, 72.99, 72.61, 73.08, 72.97, 73....</td>\n",
       "      <td>75.41000</td>\n",
       "      <td>69.81000</td>\n",
       "    </tr>\n",
       "    <tr>\n",
       "      <th>K</th>\n",
       "      <td>K</td>\n",
       "      <td>float64</td>\n",
       "      <td>0</td>\n",
       "      <td>214</td>\n",
       "      <td>65</td>\n",
       "      <td>[0.06, 0.48, 0.39, 0.57, 0.55, 0.64, 0.58, 0.5...</td>\n",
       "      <td>6.21000</td>\n",
       "      <td>0.00000</td>\n",
       "    </tr>\n",
       "    <tr>\n",
       "      <th>Ca</th>\n",
       "      <td>Ca</td>\n",
       "      <td>float64</td>\n",
       "      <td>0</td>\n",
       "      <td>214</td>\n",
       "      <td>143</td>\n",
       "      <td>[8.75, 7.83, 7.78, 8.22, 8.07, 8.17, 8.24, 8.3...</td>\n",
       "      <td>16.19000</td>\n",
       "      <td>5.43000</td>\n",
       "    </tr>\n",
       "    <tr>\n",
       "      <th>Ba</th>\n",
       "      <td>Ba</td>\n",
       "      <td>float64</td>\n",
       "      <td>0</td>\n",
       "      <td>214</td>\n",
       "      <td>34</td>\n",
       "      <td>[0.0, 0.09, 0.11, 0.69, 0.14, 3.15, 0.27, 0.06...</td>\n",
       "      <td>3.15000</td>\n",
       "      <td>0.00000</td>\n",
       "    </tr>\n",
       "    <tr>\n",
       "      <th>Fe</th>\n",
       "      <td>Fe</td>\n",
       "      <td>float64</td>\n",
       "      <td>0</td>\n",
       "      <td>214</td>\n",
       "      <td>32</td>\n",
       "      <td>[0.0, 0.26, 0.11, 0.24, 0.17, 0.07, 0.19, 0.14...</td>\n",
       "      <td>0.51000</td>\n",
       "      <td>0.00000</td>\n",
       "    </tr>\n",
       "    <tr>\n",
       "      <th>Tipo_Vidrio</th>\n",
       "      <td>Tipo_Vidrio</td>\n",
       "      <td>int64</td>\n",
       "      <td>0</td>\n",
       "      <td>214</td>\n",
       "      <td>6</td>\n",
       "      <td>[1, 2, 3, 5, 6, 7]</td>\n",
       "      <td>7.00000</td>\n",
       "      <td>1.00000</td>\n",
       "    </tr>\n",
       "  </tbody>\n",
       "</table>\n",
       "</div>"
      ],
      "text/plain": [
       "                     Nombre columnas Tipo de datos  valores faltantes  \\\n",
       "ID                                ID         int64                  0   \n",
       "Indice_Refraccion  Indice_Refraccion       float64                  0   \n",
       "Na                                Na       float64                  0   \n",
       "Mg                                Mg       float64                  0   \n",
       "Al                                Al       float64                  0   \n",
       "Si                                Si       float64                  0   \n",
       "K                                  K       float64                  0   \n",
       "Ca                                Ca       float64                  0   \n",
       "Ba                                Ba       float64                  0   \n",
       "Fe                                Fe       float64                  0   \n",
       "Tipo_Vidrio              Tipo_Vidrio         int64                  0   \n",
       "\n",
       "                   Valores presentes  valores unicos  \\\n",
       "ID                               214             214   \n",
       "Indice_Refraccion                214             178   \n",
       "Na                               214             142   \n",
       "Mg                               214              94   \n",
       "Al                               214             118   \n",
       "Si                               214             133   \n",
       "K                                214              65   \n",
       "Ca                               214             143   \n",
       "Ba                               214              34   \n",
       "Fe                               214              32   \n",
       "Tipo_Vidrio                      214               6   \n",
       "\n",
       "                                                lista valores unicos  \\\n",
       "ID                 [1, 2, 3, 4, 5, 6, 7, 8, 9, 10, 11, 12, 13, 14...   \n",
       "Indice_Refraccion  [1.52101, 1.51761, 1.51618, 1.51766, 1.51742, ...   \n",
       "Na                 [13.64, 13.89, 13.53, 13.21, 13.27, 12.79, 13....   \n",
       "Mg                 [4.49, 3.6, 3.55, 3.69, 3.62, 3.61, 3.58, 3.46...   \n",
       "Al                 [1.1, 1.36, 1.54, 1.29, 1.24, 1.62, 1.14, 1.05...   \n",
       "Si                 [71.78, 72.73, 72.99, 72.61, 73.08, 72.97, 73....   \n",
       "K                  [0.06, 0.48, 0.39, 0.57, 0.55, 0.64, 0.58, 0.5...   \n",
       "Ca                 [8.75, 7.83, 7.78, 8.22, 8.07, 8.17, 8.24, 8.3...   \n",
       "Ba                 [0.0, 0.09, 0.11, 0.69, 0.14, 3.15, 0.27, 0.06...   \n",
       "Fe                 [0.0, 0.26, 0.11, 0.24, 0.17, 0.07, 0.19, 0.14...   \n",
       "Tipo_Vidrio                                       [1, 2, 3, 5, 6, 7]   \n",
       "\n",
       "                   Valores Max  Valores Min  \n",
       "ID                   214.00000      1.00000  \n",
       "Indice_Refraccion      1.53393      1.51115  \n",
       "Na                    17.38000     10.73000  \n",
       "Mg                     4.49000      0.00000  \n",
       "Al                     3.50000      0.29000  \n",
       "Si                    75.41000     69.81000  \n",
       "K                      6.21000      0.00000  \n",
       "Ca                    16.19000      5.43000  \n",
       "Ba                     3.15000      0.00000  \n",
       "Fe                     0.51000      0.00000  \n",
       "Tipo_Vidrio            7.00000      1.00000  "
      ]
     },
     "execution_count": 7,
     "metadata": {},
     "output_type": "execute_result"
    }
   ],
   "source": [
    "#Reporte de calidad de datos\n",
    "cd.dqr(data)"
   ]
  },
  {
   "cell_type": "code",
   "execution_count": 8,
   "id": "0393c834",
   "metadata": {
    "slideshow": {
     "slide_type": "slide"
    }
   },
   "outputs": [
    {
     "data": {
      "text/html": [
       "<div>\n",
       "<style scoped>\n",
       "    .dataframe tbody tr th:only-of-type {\n",
       "        vertical-align: middle;\n",
       "    }\n",
       "\n",
       "    .dataframe tbody tr th {\n",
       "        vertical-align: top;\n",
       "    }\n",
       "\n",
       "    .dataframe thead th {\n",
       "        text-align: right;\n",
       "    }\n",
       "</style>\n",
       "<table border=\"1\" class=\"dataframe\">\n",
       "  <thead>\n",
       "    <tr style=\"text-align: right;\">\n",
       "      <th></th>\n",
       "      <th>ID</th>\n",
       "      <th>Indice_Refraccion</th>\n",
       "      <th>Na</th>\n",
       "      <th>Mg</th>\n",
       "      <th>Al</th>\n",
       "      <th>Si</th>\n",
       "      <th>K</th>\n",
       "      <th>Ca</th>\n",
       "      <th>Ba</th>\n",
       "      <th>Fe</th>\n",
       "      <th>Tipo_Vidrio</th>\n",
       "    </tr>\n",
       "  </thead>\n",
       "  <tbody>\n",
       "    <tr>\n",
       "      <th>count</th>\n",
       "      <td>214.000000</td>\n",
       "      <td>214.000000</td>\n",
       "      <td>214.000000</td>\n",
       "      <td>214.000000</td>\n",
       "      <td>214.000000</td>\n",
       "      <td>214.000000</td>\n",
       "      <td>214.000000</td>\n",
       "      <td>214.000000</td>\n",
       "      <td>214.000000</td>\n",
       "      <td>214.000000</td>\n",
       "      <td>214.000000</td>\n",
       "    </tr>\n",
       "    <tr>\n",
       "      <th>mean</th>\n",
       "      <td>107.500000</td>\n",
       "      <td>1.518365</td>\n",
       "      <td>13.407850</td>\n",
       "      <td>2.684533</td>\n",
       "      <td>1.444907</td>\n",
       "      <td>72.650935</td>\n",
       "      <td>0.497056</td>\n",
       "      <td>8.956963</td>\n",
       "      <td>0.175047</td>\n",
       "      <td>0.057009</td>\n",
       "      <td>2.780374</td>\n",
       "    </tr>\n",
       "    <tr>\n",
       "      <th>std</th>\n",
       "      <td>61.920648</td>\n",
       "      <td>0.003037</td>\n",
       "      <td>0.816604</td>\n",
       "      <td>1.442408</td>\n",
       "      <td>0.499270</td>\n",
       "      <td>0.774546</td>\n",
       "      <td>0.652192</td>\n",
       "      <td>1.423153</td>\n",
       "      <td>0.497219</td>\n",
       "      <td>0.097439</td>\n",
       "      <td>2.103739</td>\n",
       "    </tr>\n",
       "    <tr>\n",
       "      <th>min</th>\n",
       "      <td>1.000000</td>\n",
       "      <td>1.511150</td>\n",
       "      <td>10.730000</td>\n",
       "      <td>0.000000</td>\n",
       "      <td>0.290000</td>\n",
       "      <td>69.810000</td>\n",
       "      <td>0.000000</td>\n",
       "      <td>5.430000</td>\n",
       "      <td>0.000000</td>\n",
       "      <td>0.000000</td>\n",
       "      <td>1.000000</td>\n",
       "    </tr>\n",
       "    <tr>\n",
       "      <th>25%</th>\n",
       "      <td>54.250000</td>\n",
       "      <td>1.516522</td>\n",
       "      <td>12.907500</td>\n",
       "      <td>2.115000</td>\n",
       "      <td>1.190000</td>\n",
       "      <td>72.280000</td>\n",
       "      <td>0.122500</td>\n",
       "      <td>8.240000</td>\n",
       "      <td>0.000000</td>\n",
       "      <td>0.000000</td>\n",
       "      <td>1.000000</td>\n",
       "    </tr>\n",
       "    <tr>\n",
       "      <th>50%</th>\n",
       "      <td>107.500000</td>\n",
       "      <td>1.517680</td>\n",
       "      <td>13.300000</td>\n",
       "      <td>3.480000</td>\n",
       "      <td>1.360000</td>\n",
       "      <td>72.790000</td>\n",
       "      <td>0.555000</td>\n",
       "      <td>8.600000</td>\n",
       "      <td>0.000000</td>\n",
       "      <td>0.000000</td>\n",
       "      <td>2.000000</td>\n",
       "    </tr>\n",
       "    <tr>\n",
       "      <th>75%</th>\n",
       "      <td>160.750000</td>\n",
       "      <td>1.519157</td>\n",
       "      <td>13.825000</td>\n",
       "      <td>3.600000</td>\n",
       "      <td>1.630000</td>\n",
       "      <td>73.087500</td>\n",
       "      <td>0.610000</td>\n",
       "      <td>9.172500</td>\n",
       "      <td>0.000000</td>\n",
       "      <td>0.100000</td>\n",
       "      <td>3.000000</td>\n",
       "    </tr>\n",
       "    <tr>\n",
       "      <th>max</th>\n",
       "      <td>214.000000</td>\n",
       "      <td>1.533930</td>\n",
       "      <td>17.380000</td>\n",
       "      <td>4.490000</td>\n",
       "      <td>3.500000</td>\n",
       "      <td>75.410000</td>\n",
       "      <td>6.210000</td>\n",
       "      <td>16.190000</td>\n",
       "      <td>3.150000</td>\n",
       "      <td>0.510000</td>\n",
       "      <td>7.000000</td>\n",
       "    </tr>\n",
       "  </tbody>\n",
       "</table>\n",
       "</div>"
      ],
      "text/plain": [
       "               ID  Indice_Refraccion          Na          Mg          Al  \\\n",
       "count  214.000000         214.000000  214.000000  214.000000  214.000000   \n",
       "mean   107.500000           1.518365   13.407850    2.684533    1.444907   \n",
       "std     61.920648           0.003037    0.816604    1.442408    0.499270   \n",
       "min      1.000000           1.511150   10.730000    0.000000    0.290000   \n",
       "25%     54.250000           1.516522   12.907500    2.115000    1.190000   \n",
       "50%    107.500000           1.517680   13.300000    3.480000    1.360000   \n",
       "75%    160.750000           1.519157   13.825000    3.600000    1.630000   \n",
       "max    214.000000           1.533930   17.380000    4.490000    3.500000   \n",
       "\n",
       "               Si           K          Ca          Ba          Fe  Tipo_Vidrio  \n",
       "count  214.000000  214.000000  214.000000  214.000000  214.000000   214.000000  \n",
       "mean    72.650935    0.497056    8.956963    0.175047    0.057009     2.780374  \n",
       "std      0.774546    0.652192    1.423153    0.497219    0.097439     2.103739  \n",
       "min     69.810000    0.000000    5.430000    0.000000    0.000000     1.000000  \n",
       "25%     72.280000    0.122500    8.240000    0.000000    0.000000     1.000000  \n",
       "50%     72.790000    0.555000    8.600000    0.000000    0.000000     2.000000  \n",
       "75%     73.087500    0.610000    9.172500    0.000000    0.100000     3.000000  \n",
       "max     75.410000    6.210000   16.190000    3.150000    0.510000     7.000000  "
      ]
     },
     "execution_count": 8,
     "metadata": {},
     "output_type": "execute_result"
    }
   ],
   "source": [
    "data.describe(include='all')"
   ]
  },
  {
   "cell_type": "markdown",
   "id": "73169a96",
   "metadata": {
    "slideshow": {
     "slide_type": "slide"
    }
   },
   "source": [
    "### Análisis Univariado"
   ]
  },
  {
   "cell_type": "code",
   "execution_count": 9,
   "id": "0eb41aad",
   "metadata": {
    "slideshow": {
     "slide_type": "subslide"
    }
   },
   "outputs": [
    {
     "data": {
      "text/plain": [
       "<AxesSubplot:xlabel='Tipo_Vidrio', ylabel='count'>"
      ]
     },
     "execution_count": 9,
     "metadata": {},
     "output_type": "execute_result"
    },
    {
     "data": {
      "image/png": "[encoded data removed]",
      "text/plain": [
       "<Figure size 432x288 with 1 Axes>"
      ]
     },
     "metadata": {
      "needs_background": "light"
     },
     "output_type": "display_data"
    }
   ],
   "source": [
    "# Variable -> Tipo de Vidrio\n",
    "#cuántos datos hay de cada tipo de vidrio\n",
    "\n",
    "sns.countplot(x=data['Tipo_Vidrio'])"
   ]
  },
  {
   "cell_type": "code",
   "execution_count": 10,
   "id": "a47de3c6",
   "metadata": {
    "slideshow": {
     "slide_type": "subslide"
    }
   },
   "outputs": [
    {
     "data": {
      "text/plain": [
       "2    76\n",
       "1    70\n",
       "7    29\n",
       "3    17\n",
       "5    13\n",
       "6     9\n",
       "Name: Tipo_Vidrio, dtype: int64"
      ]
     },
     "execution_count": 10,
     "metadata": {},
     "output_type": "execute_result"
    }
   ],
   "source": [
    "# No hay vidrio de tipo 4\n",
    "data['Tipo_Vidrio'].value_counts()"
   ]
  },
  {
   "cell_type": "code",
   "execution_count": 11,
   "id": "1d23a4ed",
   "metadata": {
    "slideshow": {
     "slide_type": "slide"
    }
   },
   "outputs": [
    {
     "data": {
      "image/png": "[encoded data removed]",
      "text/plain": [
       "<Figure size 432x288 with 1 Axes>"
      ]
     },
     "metadata": {
      "needs_background": "light"
     },
     "output_type": "display_data"
    }
   ],
   "source": [
    "#Graficar una sola variable\n",
    "plt.scatter(data.ID, data.Indice_Refraccion)\n",
    "plt.xlabel('ID'),plt.ylabel('Indice Refraccion')\n",
    "plt.grid()\n",
    "plt.show()"
   ]
  },
  {
   "cell_type": "markdown",
   "id": "da04d29e",
   "metadata": {
    "slideshow": {
     "slide_type": "slide"
    }
   },
   "source": [
    "### Análisis Bivariado"
   ]
  },
  {
   "cell_type": "code",
   "execution_count": 12,
   "id": "e083f8fa",
   "metadata": {
    "slideshow": {
     "slide_type": "subslide"
    }
   },
   "outputs": [
    {
     "data": {
      "image/png": "[encoded data removed]",
      "text/plain": [
       "<Figure size 432x288 with 1 Axes>"
      ]
     },
     "metadata": {
      "needs_background": "light"
     },
     "output_type": "display_data"
    }
   ],
   "source": [
    "#Indice de refracción vs tipo de vidrio\n",
    "plt.scatter(data.Tipo_Vidrio, data.Indice_Refraccion)\n",
    "plt.xlabel('Tipo Vidrio'),plt.ylabel('Indice de Refraccion')\n",
    "plt.title(\"Indice Refracion vs Tipo Vidrio\")\n",
    "plt.grid()\n",
    "plt.show()"
   ]
  },
  {
   "cell_type": "markdown",
   "id": "ac309c98",
   "metadata": {
    "slideshow": {
     "slide_type": "subslide"
    }
   },
   "source": [
    "**insight1:** El vidrio numero 2 es un vidrio muy resistente ya que tiene un indice de refracción mayor que a los demás"
   ]
  },
  {
   "cell_type": "code",
   "execution_count": 13,
   "id": "4aa9f3b7",
   "metadata": {
    "slideshow": {
     "slide_type": "slide"
    }
   },
   "outputs": [
    {
     "data": {
      "image/png": "[encoded data removed]",
      "text/plain": [
       "<Figure size 432x288 with 1 Axes>"
      ]
     },
     "metadata": {
      "needs_background": "light"
     },
     "output_type": "display_data"
    }
   ],
   "source": [
    "#Potasio vs Calcio\n",
    "plt.scatter(data.K,data.Ca)\n",
    "plt.xlabel('K'),plt.ylabel('Ca')\n",
    "plt.grid()\n",
    "plt.show()"
   ]
  },
  {
   "cell_type": "markdown",
   "id": "8f1d626a",
   "metadata": {
    "slideshow": {
     "slide_type": "subslide"
    }
   },
   "source": [
    "**insight2:** a mayor potasio hay menos calsio, si estan los dos altos, los vidrios se vuelven más resistentes"
   ]
  },
  {
   "cell_type": "code",
   "execution_count": 14,
   "id": "dfeecfff",
   "metadata": {
    "slideshow": {
     "slide_type": "slide"
    }
   },
   "outputs": [
    {
     "data": {
      "text/plain": [
       "<seaborn.axisgrid.FacetGrid at 0x223bed5d250>"
      ]
     },
     "execution_count": 14,
     "metadata": {},
     "output_type": "execute_result"
    },
    {
     "data": {
      "image/png": "[encoded data removed]",
      "text/plain": [
       "<Figure size 422.75x360 with 1 Axes>"
      ]
     },
     "metadata": {
      "needs_background": "light"
     },
     "output_type": "display_data"
    }
   ],
   "source": [
    "#Graficar una varible con otra y colorear por tipo de vidrio\n",
    "sns.lmplot(x='K', y='Ca', data=data, hue='Tipo_Vidrio', fit_reg=False)"
   ]
  },
  {
   "cell_type": "markdown",
   "id": "ce75a322",
   "metadata": {
    "slideshow": {
     "slide_type": "slide"
    }
   },
   "source": [
    "### Escalamiento\n",
    "**¿Qué es el escalamiento de los datos?**: Es poner valores en el mismo rango o escala para que ninguna variable sea dominada por otra\n",
    "\n",
    "**¿Para qué nos sirve?**: La mayoría de las veces, los datos tienen variables que varían mucho en magnitudes, unidades y rango. Pero dado que la mayoría de los algoritmos de aprendizaje automático utilizan la distancia euclidiana entre dos puntos de datos en sus cálculos, esto es un problema.\n",
    "\n",
    "Las variables con magnitudes altas pesarán mucho más en los cálculos de distancia que las variables con magnitudes bajas. Para que esto no afecte tanto, debemos llevar todas las variables al mismo nivel de magnitudes. Esto se puede lograr escalando.\n",
    "\n",
    "\n",
    "\n",
    "Algunos algoritmos de aprendizaje auntomático donde el escalamiento importa son:\n",
    "> **KNN**: con la ditancia Euclidiana es sensible a magnitudes\n",
    "\n",
    "> **PCA**: este busca traer características con máxima varianza y la varianza es grande para variables con grandes magnitudes. Esto sesga el PCA a variables con grandes magnitudes \n",
    "\n",
    "> **Gradiente Descendiente:** se puede acelerar escalando. Ya que $\\theta$ desciende más rápido en rangos pequeños y eso hace que oscile menos ya que los brincos son más parejos\n"
   ]
  },
  {
   "cell_type": "code",
   "execution_count": 15,
   "id": "64f99320",
   "metadata": {
    "slideshow": {
     "slide_type": "slide"
    }
   },
   "outputs": [
    {
     "data": {
      "text/html": [
       "<div>\n",
       "<style scoped>\n",
       "    .dataframe tbody tr th:only-of-type {\n",
       "        vertical-align: middle;\n",
       "    }\n",
       "\n",
       "    .dataframe tbody tr th {\n",
       "        vertical-align: top;\n",
       "    }\n",
       "\n",
       "    .dataframe thead th {\n",
       "        text-align: right;\n",
       "    }\n",
       "</style>\n",
       "<table border=\"1\" class=\"dataframe\">\n",
       "  <thead>\n",
       "    <tr style=\"text-align: right;\">\n",
       "      <th></th>\n",
       "      <th>ID</th>\n",
       "      <th>Indice_Refraccion</th>\n",
       "      <th>Na</th>\n",
       "      <th>Mg</th>\n",
       "      <th>Al</th>\n",
       "      <th>Si</th>\n",
       "      <th>K</th>\n",
       "      <th>Ca</th>\n",
       "      <th>Ba</th>\n",
       "      <th>Fe</th>\n",
       "      <th>Tipo_Vidrio</th>\n",
       "    </tr>\n",
       "  </thead>\n",
       "  <tbody>\n",
       "    <tr>\n",
       "      <th>0</th>\n",
       "      <td>1</td>\n",
       "      <td>1.52101</td>\n",
       "      <td>13.64</td>\n",
       "      <td>4.49</td>\n",
       "      <td>1.10</td>\n",
       "      <td>71.78</td>\n",
       "      <td>0.06</td>\n",
       "      <td>8.75</td>\n",
       "      <td>0.0</td>\n",
       "      <td>0.00</td>\n",
       "      <td>1</td>\n",
       "    </tr>\n",
       "    <tr>\n",
       "      <th>1</th>\n",
       "      <td>2</td>\n",
       "      <td>1.51761</td>\n",
       "      <td>13.89</td>\n",
       "      <td>3.60</td>\n",
       "      <td>1.36</td>\n",
       "      <td>72.73</td>\n",
       "      <td>0.48</td>\n",
       "      <td>7.83</td>\n",
       "      <td>0.0</td>\n",
       "      <td>0.00</td>\n",
       "      <td>1</td>\n",
       "    </tr>\n",
       "    <tr>\n",
       "      <th>2</th>\n",
       "      <td>3</td>\n",
       "      <td>1.51618</td>\n",
       "      <td>13.53</td>\n",
       "      <td>3.55</td>\n",
       "      <td>1.54</td>\n",
       "      <td>72.99</td>\n",
       "      <td>0.39</td>\n",
       "      <td>7.78</td>\n",
       "      <td>0.0</td>\n",
       "      <td>0.00</td>\n",
       "      <td>1</td>\n",
       "    </tr>\n",
       "    <tr>\n",
       "      <th>3</th>\n",
       "      <td>4</td>\n",
       "      <td>1.51766</td>\n",
       "      <td>13.21</td>\n",
       "      <td>3.69</td>\n",
       "      <td>1.29</td>\n",
       "      <td>72.61</td>\n",
       "      <td>0.57</td>\n",
       "      <td>8.22</td>\n",
       "      <td>0.0</td>\n",
       "      <td>0.00</td>\n",
       "      <td>1</td>\n",
       "    </tr>\n",
       "    <tr>\n",
       "      <th>4</th>\n",
       "      <td>5</td>\n",
       "      <td>1.51742</td>\n",
       "      <td>13.27</td>\n",
       "      <td>3.62</td>\n",
       "      <td>1.24</td>\n",
       "      <td>73.08</td>\n",
       "      <td>0.55</td>\n",
       "      <td>8.07</td>\n",
       "      <td>0.0</td>\n",
       "      <td>0.00</td>\n",
       "      <td>1</td>\n",
       "    </tr>\n",
       "    <tr>\n",
       "      <th>5</th>\n",
       "      <td>6</td>\n",
       "      <td>1.51596</td>\n",
       "      <td>12.79</td>\n",
       "      <td>3.61</td>\n",
       "      <td>1.62</td>\n",
       "      <td>72.97</td>\n",
       "      <td>0.64</td>\n",
       "      <td>8.07</td>\n",
       "      <td>0.0</td>\n",
       "      <td>0.26</td>\n",
       "      <td>1</td>\n",
       "    </tr>\n",
       "    <tr>\n",
       "      <th>6</th>\n",
       "      <td>7</td>\n",
       "      <td>1.51743</td>\n",
       "      <td>13.30</td>\n",
       "      <td>3.60</td>\n",
       "      <td>1.14</td>\n",
       "      <td>73.09</td>\n",
       "      <td>0.58</td>\n",
       "      <td>8.17</td>\n",
       "      <td>0.0</td>\n",
       "      <td>0.00</td>\n",
       "      <td>1</td>\n",
       "    </tr>\n",
       "    <tr>\n",
       "      <th>7</th>\n",
       "      <td>8</td>\n",
       "      <td>1.51756</td>\n",
       "      <td>13.15</td>\n",
       "      <td>3.61</td>\n",
       "      <td>1.05</td>\n",
       "      <td>73.24</td>\n",
       "      <td>0.57</td>\n",
       "      <td>8.24</td>\n",
       "      <td>0.0</td>\n",
       "      <td>0.00</td>\n",
       "      <td>1</td>\n",
       "    </tr>\n",
       "    <tr>\n",
       "      <th>8</th>\n",
       "      <td>9</td>\n",
       "      <td>1.51918</td>\n",
       "      <td>14.04</td>\n",
       "      <td>3.58</td>\n",
       "      <td>1.37</td>\n",
       "      <td>72.08</td>\n",
       "      <td>0.56</td>\n",
       "      <td>8.30</td>\n",
       "      <td>0.0</td>\n",
       "      <td>0.00</td>\n",
       "      <td>1</td>\n",
       "    </tr>\n",
       "    <tr>\n",
       "      <th>9</th>\n",
       "      <td>10</td>\n",
       "      <td>1.51755</td>\n",
       "      <td>13.00</td>\n",
       "      <td>3.60</td>\n",
       "      <td>1.36</td>\n",
       "      <td>72.99</td>\n",
       "      <td>0.57</td>\n",
       "      <td>8.40</td>\n",
       "      <td>0.0</td>\n",
       "      <td>0.11</td>\n",
       "      <td>1</td>\n",
       "    </tr>\n",
       "  </tbody>\n",
       "</table>\n",
       "</div>"
      ],
      "text/plain": [
       "   ID  Indice_Refraccion     Na    Mg    Al     Si     K    Ca   Ba    Fe  \\\n",
       "0   1            1.52101  13.64  4.49  1.10  71.78  0.06  8.75  0.0  0.00   \n",
       "1   2            1.51761  13.89  3.60  1.36  72.73  0.48  7.83  0.0  0.00   \n",
       "2   3            1.51618  13.53  3.55  1.54  72.99  0.39  7.78  0.0  0.00   \n",
       "3   4            1.51766  13.21  3.69  1.29  72.61  0.57  8.22  0.0  0.00   \n",
       "4   5            1.51742  13.27  3.62  1.24  73.08  0.55  8.07  0.0  0.00   \n",
       "5   6            1.51596  12.79  3.61  1.62  72.97  0.64  8.07  0.0  0.26   \n",
       "6   7            1.51743  13.30  3.60  1.14  73.09  0.58  8.17  0.0  0.00   \n",
       "7   8            1.51756  13.15  3.61  1.05  73.24  0.57  8.24  0.0  0.00   \n",
       "8   9            1.51918  14.04  3.58  1.37  72.08  0.56  8.30  0.0  0.00   \n",
       "9  10            1.51755  13.00  3.60  1.36  72.99  0.57  8.40  0.0  0.11   \n",
       "\n",
       "   Tipo_Vidrio  \n",
       "0            1  \n",
       "1            1  \n",
       "2            1  \n",
       "3            1  \n",
       "4            1  \n",
       "5            1  \n",
       "6            1  \n",
       "7            1  \n",
       "8            1  \n",
       "9            1  "
      ]
     },
     "execution_count": 15,
     "metadata": {},
     "output_type": "execute_result"
    }
   ],
   "source": [
    "#Datos originales\n",
    "data.head(10)"
   ]
  },
  {
   "cell_type": "markdown",
   "id": "d0f3aa3c",
   "metadata": {
    "slideshow": {
     "slide_type": "slide"
    }
   },
   "source": [
    "#### Normalizacion\n",
    "\n",
    "La ecuación para normalizar datos (MinMaxScaler):\n",
    "\n",
    "$$X\\prime = \\frac{X-X_{min}}{X_{max}-X_{min}}$$\n",
    "\n",
    "Los valores quedan entre un rango específico como \\[0,1\\]. Trata de hacer que los valores sean cercanos a su media\n"
   ]
  },
  {
   "cell_type": "code",
   "execution_count": 17,
   "id": "c12a415e",
   "metadata": {
    "slideshow": {
     "slide_type": "subslide"
    }
   },
   "outputs": [
    {
     "data": {
      "text/html": [
       "<div>\n",
       "<style scoped>\n",
       "    .dataframe tbody tr th:only-of-type {\n",
       "        vertical-align: middle;\n",
       "    }\n",
       "\n",
       "    .dataframe tbody tr th {\n",
       "        vertical-align: top;\n",
       "    }\n",
       "\n",
       "    .dataframe thead th {\n",
       "        text-align: right;\n",
       "    }\n",
       "</style>\n",
       "<table border=\"1\" class=\"dataframe\">\n",
       "  <thead>\n",
       "    <tr style=\"text-align: right;\">\n",
       "      <th></th>\n",
       "      <th>Indice_Refraccion</th>\n",
       "      <th>Na</th>\n",
       "      <th>Mg</th>\n",
       "      <th>Al</th>\n",
       "      <th>Si</th>\n",
       "      <th>K</th>\n",
       "      <th>Ca</th>\n",
       "      <th>Ba</th>\n",
       "      <th>Fe</th>\n",
       "      <th>Tipo_Vidrio</th>\n",
       "    </tr>\n",
       "  </thead>\n",
       "  <tbody>\n",
       "    <tr>\n",
       "      <th>0</th>\n",
       "      <td>0.432836</td>\n",
       "      <td>0.437594</td>\n",
       "      <td>1.000000</td>\n",
       "      <td>0.252336</td>\n",
       "      <td>0.351786</td>\n",
       "      <td>0.009662</td>\n",
       "      <td>0.308550</td>\n",
       "      <td>0.0</td>\n",
       "      <td>0.0</td>\n",
       "      <td>1</td>\n",
       "    </tr>\n",
       "    <tr>\n",
       "      <th>1</th>\n",
       "      <td>0.283582</td>\n",
       "      <td>0.475188</td>\n",
       "      <td>0.801782</td>\n",
       "      <td>0.333333</td>\n",
       "      <td>0.521429</td>\n",
       "      <td>0.077295</td>\n",
       "      <td>0.223048</td>\n",
       "      <td>0.0</td>\n",
       "      <td>0.0</td>\n",
       "      <td>1</td>\n",
       "    </tr>\n",
       "    <tr>\n",
       "      <th>2</th>\n",
       "      <td>0.220808</td>\n",
       "      <td>0.421053</td>\n",
       "      <td>0.790646</td>\n",
       "      <td>0.389408</td>\n",
       "      <td>0.567857</td>\n",
       "      <td>0.062802</td>\n",
       "      <td>0.218401</td>\n",
       "      <td>0.0</td>\n",
       "      <td>0.0</td>\n",
       "      <td>1</td>\n",
       "    </tr>\n",
       "    <tr>\n",
       "      <th>3</th>\n",
       "      <td>0.285777</td>\n",
       "      <td>0.372932</td>\n",
       "      <td>0.821826</td>\n",
       "      <td>0.311526</td>\n",
       "      <td>0.500000</td>\n",
       "      <td>0.091787</td>\n",
       "      <td>0.259294</td>\n",
       "      <td>0.0</td>\n",
       "      <td>0.0</td>\n",
       "      <td>1</td>\n",
       "    </tr>\n",
       "    <tr>\n",
       "      <th>4</th>\n",
       "      <td>0.275241</td>\n",
       "      <td>0.381955</td>\n",
       "      <td>0.806236</td>\n",
       "      <td>0.295950</td>\n",
       "      <td>0.583929</td>\n",
       "      <td>0.088567</td>\n",
       "      <td>0.245353</td>\n",
       "      <td>0.0</td>\n",
       "      <td>0.0</td>\n",
       "      <td>1</td>\n",
       "    </tr>\n",
       "  </tbody>\n",
       "</table>\n",
       "</div>"
      ],
      "text/plain": [
       "   Indice_Refraccion        Na        Mg        Al        Si         K  \\\n",
       "0           0.432836  0.437594  1.000000  0.252336  0.351786  0.009662   \n",
       "1           0.283582  0.475188  0.801782  0.333333  0.521429  0.077295   \n",
       "2           0.220808  0.421053  0.790646  0.389408  0.567857  0.062802   \n",
       "3           0.285777  0.372932  0.821826  0.311526  0.500000  0.091787   \n",
       "4           0.275241  0.381955  0.806236  0.295950  0.583929  0.088567   \n",
       "\n",
       "         Ca   Ba   Fe  Tipo_Vidrio  \n",
       "0  0.308550  0.0  0.0            1  \n",
       "1  0.223048  0.0  0.0            1  \n",
       "2  0.218401  0.0  0.0            1  \n",
       "3  0.259294  0.0  0.0            1  \n",
       "4  0.245353  0.0  0.0            1  "
      ]
     },
     "execution_count": 17,
     "metadata": {},
     "output_type": "execute_result"
    }
   ],
   "source": [
    "#Usando la librería\n",
    "from sklearn import preprocessing #librería de machine learning en python\n",
    "\n",
    "scaler = preprocessing.MinMaxScaler()\n",
    "names = data.columns[1:10]\n",
    "scaler_1 = scaler.fit_transform(data.iloc[:,1:10]) #aplicando escalamiento\n",
    "scaled_df = pd.DataFrame(scaler_1, columns=names)\n",
    "scaled_df['Tipo_Vidrio'] = data['Tipo_Vidrio']\n",
    "scaled_df.head()"
   ]
  },
  {
   "cell_type": "code",
   "execution_count": 18,
   "id": "3c7d0fc5",
   "metadata": {
    "slideshow": {
     "slide_type": "slide"
    }
   },
   "outputs": [
    {
     "data": {
      "text/plain": [
       "<seaborn.axisgrid.FacetGrid at 0x223bf094bb0>"
      ]
     },
     "execution_count": 18,
     "metadata": {},
     "output_type": "execute_result"
    },
    {
     "data": {
      "image/png": "[encoded data removed]",
      "text/plain": [
       "<Figure size 422.75x360 with 1 Axes>"
      ]
     },
     "metadata": {
      "needs_background": "light"
     },
     "output_type": "display_data"
    }
   ],
   "source": [
    "#Graficando las variables transformadas (Normalizadas)\n",
    "sns.lmplot(x='K', y='Ca', data=scaled_df, hue='Tipo_Vidrio', fit_reg=False)"
   ]
  },
  {
   "cell_type": "code",
   "execution_count": 22,
   "id": "62931bc9",
   "metadata": {
    "slideshow": {
     "slide_type": "subslide"
    }
   },
   "outputs": [
    {
     "name": "stderr",
     "output_type": "stream",
     "text": [
      "C:\\ProgramData\\Anaconda3\\lib\\site-packages\\seaborn\\distributions.py:2557: FutureWarning: `distplot` is a deprecated function and will be removed in a future version. Please adapt your code to use either `displot` (a figure-level function with similar flexibility) or `histplot` (an axes-level function for histograms).\n",
      "  warnings.warn(msg, FutureWarning)\n",
      "C:\\ProgramData\\Anaconda3\\lib\\site-packages\\seaborn\\distributions.py:2557: FutureWarning: `distplot` is a deprecated function and will be removed in a future version. Please adapt your code to use either `displot` (a figure-level function with similar flexibility) or `histplot` (an axes-level function for histograms).\n",
      "  warnings.warn(msg, FutureWarning)\n"
     ]
    },
    {
     "data": {
      "image/png": "[encoded data removed]",
      "text/plain": [
       "<Figure size 432x288 with 2 Axes>"
      ]
     },
     "metadata": {
      "needs_background": "light"
     },
     "output_type": "display_data"
    }
   ],
   "source": [
    "# Graficamos variable original (Ca) vs variable escalada por minmax\n",
    "fig, ax=plt.subplots(1,2)\n",
    "sns.distplot(data.Ca, ax=ax[0], color='y')\n",
    "ax[0].set_title(\"Datos Originales\")\n",
    "sns.distplot(scaled_df.Ca, ax=ax[1])\n",
    "ax[1].set_title(\"Datos Escalados\")\n",
    "plt.show()"
   ]
  },
  {
   "cell_type": "markdown",
   "id": "4c402dd0",
   "metadata": {
    "slideshow": {
     "slide_type": "subslide"
    }
   },
   "source": [
    "**La distribución de los datos no cambia después de haber hecho la Normalización**"
   ]
  },
  {
   "cell_type": "markdown",
   "id": "f1ad89c1",
   "metadata": {
    "slideshow": {
     "slide_type": "slide"
    }
   },
   "source": [
    "#### Estandarizacion\n",
    "\n",
    "La ecuación para escalar las variables por Estandarizacion (z-score):\n",
    "\n",
    "$$x\\prime=\\frac{x-\\bar x}{\\sigma}$$\n",
    "\n",
    "Transforma los datos tal que la distribución resultante tiene media de 0 y desviación estándar de 1.\n",
    "Cuando hay datos atípicos que son importantes y no queremos perder su impacto, usamos esta normalización. Aquí sí se obtienen datos negativos"
   ]
  },
  {
   "cell_type": "code",
   "execution_count": 23,
   "id": "fa11297d",
   "metadata": {
    "slideshow": {
     "slide_type": "subslide"
    }
   },
   "outputs": [
    {
     "data": {
      "text/html": [
       "<div>\n",
       "<style scoped>\n",
       "    .dataframe tbody tr th:only-of-type {\n",
       "        vertical-align: middle;\n",
       "    }\n",
       "\n",
       "    .dataframe tbody tr th {\n",
       "        vertical-align: top;\n",
       "    }\n",
       "\n",
       "    .dataframe thead th {\n",
       "        text-align: right;\n",
       "    }\n",
       "</style>\n",
       "<table border=\"1\" class=\"dataframe\">\n",
       "  <thead>\n",
       "    <tr style=\"text-align: right;\">\n",
       "      <th></th>\n",
       "      <th>Indice_Refraccion</th>\n",
       "      <th>Na</th>\n",
       "      <th>Mg</th>\n",
       "      <th>Al</th>\n",
       "      <th>Si</th>\n",
       "      <th>K</th>\n",
       "      <th>Ca</th>\n",
       "      <th>Ba</th>\n",
       "      <th>Fe</th>\n",
       "      <th>Tipo_Vidrio</th>\n",
       "    </tr>\n",
       "  </thead>\n",
       "  <tbody>\n",
       "    <tr>\n",
       "      <th>0</th>\n",
       "      <td>0.872868</td>\n",
       "      <td>0.284953</td>\n",
       "      <td>1.254639</td>\n",
       "      <td>-0.692442</td>\n",
       "      <td>-1.127082</td>\n",
       "      <td>-0.671705</td>\n",
       "      <td>-0.145766</td>\n",
       "      <td>-0.352877</td>\n",
       "      <td>-0.586451</td>\n",
       "      <td>1</td>\n",
       "    </tr>\n",
       "    <tr>\n",
       "      <th>1</th>\n",
       "      <td>-0.249333</td>\n",
       "      <td>0.591817</td>\n",
       "      <td>0.636168</td>\n",
       "      <td>-0.170460</td>\n",
       "      <td>0.102319</td>\n",
       "      <td>-0.026213</td>\n",
       "      <td>-0.793734</td>\n",
       "      <td>-0.352877</td>\n",
       "      <td>-0.586451</td>\n",
       "      <td>1</td>\n",
       "    </tr>\n",
       "    <tr>\n",
       "      <th>2</th>\n",
       "      <td>-0.721318</td>\n",
       "      <td>0.149933</td>\n",
       "      <td>0.601422</td>\n",
       "      <td>0.190912</td>\n",
       "      <td>0.438787</td>\n",
       "      <td>-0.164533</td>\n",
       "      <td>-0.828949</td>\n",
       "      <td>-0.352877</td>\n",
       "      <td>-0.586451</td>\n",
       "      <td>1</td>\n",
       "    </tr>\n",
       "    <tr>\n",
       "      <th>3</th>\n",
       "      <td>-0.232831</td>\n",
       "      <td>-0.242853</td>\n",
       "      <td>0.698710</td>\n",
       "      <td>-0.310994</td>\n",
       "      <td>-0.052974</td>\n",
       "      <td>0.112107</td>\n",
       "      <td>-0.519052</td>\n",
       "      <td>-0.352877</td>\n",
       "      <td>-0.586451</td>\n",
       "      <td>1</td>\n",
       "    </tr>\n",
       "    <tr>\n",
       "      <th>4</th>\n",
       "      <td>-0.312045</td>\n",
       "      <td>-0.169205</td>\n",
       "      <td>0.650066</td>\n",
       "      <td>-0.411375</td>\n",
       "      <td>0.555256</td>\n",
       "      <td>0.081369</td>\n",
       "      <td>-0.624699</td>\n",
       "      <td>-0.352877</td>\n",
       "      <td>-0.586451</td>\n",
       "      <td>1</td>\n",
       "    </tr>\n",
       "  </tbody>\n",
       "</table>\n",
       "</div>"
      ],
      "text/plain": [
       "   Indice_Refraccion        Na        Mg        Al        Si         K  \\\n",
       "0           0.872868  0.284953  1.254639 -0.692442 -1.127082 -0.671705   \n",
       "1          -0.249333  0.591817  0.636168 -0.170460  0.102319 -0.026213   \n",
       "2          -0.721318  0.149933  0.601422  0.190912  0.438787 -0.164533   \n",
       "3          -0.232831 -0.242853  0.698710 -0.310994 -0.052974  0.112107   \n",
       "4          -0.312045 -0.169205  0.650066 -0.411375  0.555256  0.081369   \n",
       "\n",
       "         Ca        Ba        Fe  Tipo_Vidrio  \n",
       "0 -0.145766 -0.352877 -0.586451            1  \n",
       "1 -0.793734 -0.352877 -0.586451            1  \n",
       "2 -0.828949 -0.352877 -0.586451            1  \n",
       "3 -0.519052 -0.352877 -0.586451            1  \n",
       "4 -0.624699 -0.352877 -0.586451            1  "
      ]
     },
     "execution_count": 23,
     "metadata": {},
     "output_type": "execute_result"
    }
   ],
   "source": [
    "#con librería\n",
    "names = data.columns[1:10]\n",
    "d = preprocessing.scale(data.iloc[:,1:10]) #aplicando la estandarizacion\n",
    "standard = pd.DataFrame(d, columns=names)\n",
    "standard['Tipo_Vidrio'] = data['Tipo_Vidrio']\n",
    "standard.head()"
   ]
  },
  {
   "cell_type": "code",
   "execution_count": 24,
   "id": "e381d96e",
   "metadata": {
    "slideshow": {
     "slide_type": "slide"
    }
   },
   "outputs": [
    {
     "data": {
      "text/plain": [
       "<seaborn.axisgrid.FacetGrid at 0x223bf5aabe0>"
      ]
     },
     "execution_count": 24,
     "metadata": {},
     "output_type": "execute_result"
    },
    {
     "data": {
      "image/png": "[encoded data removed]",
      "text/plain": [
       "<Figure size 422.75x360 with 1 Axes>"
      ]
     },
     "metadata": {
      "needs_background": "light"
     },
     "output_type": "display_data"
    }
   ],
   "source": [
    "sns.lmplot(x='K', y='Ca', data=standard, hue='Tipo_Vidrio', fit_reg=False)"
   ]
  },
  {
   "cell_type": "code",
   "execution_count": 25,
   "id": "9dc44818",
   "metadata": {
    "slideshow": {
     "slide_type": "slide"
    }
   },
   "outputs": [
    {
     "name": "stderr",
     "output_type": "stream",
     "text": [
      "C:\\ProgramData\\Anaconda3\\lib\\site-packages\\seaborn\\distributions.py:2557: FutureWarning: `distplot` is a deprecated function and will be removed in a future version. Please adapt your code to use either `displot` (a figure-level function with similar flexibility) or `histplot` (an axes-level function for histograms).\n",
      "  warnings.warn(msg, FutureWarning)\n",
      "C:\\ProgramData\\Anaconda3\\lib\\site-packages\\seaborn\\distributions.py:2557: FutureWarning: `distplot` is a deprecated function and will be removed in a future version. Please adapt your code to use either `displot` (a figure-level function with similar flexibility) or `histplot` (an axes-level function for histograms).\n",
      "  warnings.warn(msg, FutureWarning)\n"
     ]
    },
    {
     "data": {
      "image/png": "[encoded data removed]",
      "text/plain": [
       "<Figure size 432x288 with 2 Axes>"
      ]
     },
     "metadata": {
      "needs_background": "light"
     },
     "output_type": "display_data"
    }
   ],
   "source": [
    "fig, ax=plt.subplots(1,2)\n",
    "sns.distplot(data.Ca, ax=ax[0], color='y')\n",
    "ax[0].set_title(\"Original Data\")\n",
    "sns.distplot(standard.Ca, ax=ax[1])\n",
    "ax[1].set_title(\"Scaled data\")\n",
    "plt.show()"
   ]
  },
  {
   "cell_type": "markdown",
   "id": "3aea60bd",
   "metadata": {
    "slideshow": {
     "slide_type": "slide"
    }
   },
   "source": [
    "### Asimetría en los datos\n",
    "\n",
    "La probabilidad de que los datos aparezcan por arriba de su media no es la misma que para valores por debajo de la media. \n",
    "\n",
    "Si estamos seguros que los datos son correctos, se puede realizar una transformación para evitar la asimetría\n",
    "\n",
    "<img style=\"float: center; margin: 0px 0px 15px 15px;\" src=\"https://miro.medium.com/max/765/1*hxVvqttoCSkUT2_R1zA0Tg.gif\" width=\"450px\" height=\"280px\" />"
   ]
  },
  {
   "cell_type": "code",
   "execution_count": 26,
   "id": "e688116d",
   "metadata": {
    "slideshow": {
     "slide_type": "slide"
    }
   },
   "outputs": [
    {
     "data": {
      "image/png": "[encoded data removed]",
      "text/plain": [
       "<Figure size 1440x720 with 12 Axes>"
      ]
     },
     "metadata": {
      "needs_background": "light"
     },
     "output_type": "display_data"
    }
   ],
   "source": [
    "#¿Cómo observar la asimetría de lso datos? --> Histogramas\n",
    "data.hist(bins=30,figsize=(20,10))\n",
    "plt.show()"
   ]
  },
  {
   "cell_type": "markdown",
   "id": "cb1303df",
   "metadata": {
    "slideshow": {
     "slide_type": "slide"
    }
   },
   "source": [
    "#### Efectos de la asimetría\n",
    "\n",
    "En datos asimétricos, la región de la cola puede actuar como un valor atípico para el modelo estadístico y sabemos que los valores atípicos afectan negativamente el rendimiento del modelo, especialmente los modelos basados en regresión. Hay modelos estadísticos que son robustos a valores atípicos como los modelos basados en árboles, pero limitarán la posibilidad de probar otros modelos. Por lo tanto, es necesario transformar los datos asimétricos para que se acerquen lo suficiente a una distribución gaussiana o distribución normal. Esto nos permitirá probar más modelos estadísticos."
   ]
  },
  {
   "cell_type": "markdown",
   "id": "203e8ad0",
   "metadata": {
    "slideshow": {
     "slide_type": "slide"
    }
   },
   "source": [
    "Fórmula del índice de asimetría estática:\n",
    "$$skewness = \\frac{\\sum_{i=1}^{m}(x_{i}-\\bar x_{i})^{3}}{(m-1)v^{3/2}}, v=\\frac{\\sum_{i=1}^{n}(x_{i}-\\bar x_{i})^{2}}{m-1} $$\n",
    "\n",
    "Podemos determinar el nivel de asimetría de la forma:\n",
    "- Distribución altamente sesgada: si el valor del sesgo es menor a -1 o mayor a +1.\n",
    "- Distrubición moderadamente sesgada: si el valor del sesgo es entre -1 y -0.5 o entre +0.5 y +1\n",
    "- Distribución aproximadamente simétrica: si el valor del sesgo está entre -0.5 y +0.5\n"
   ]
  },
  {
   "cell_type": "code",
   "execution_count": 38,
   "id": "12dd0a54",
   "metadata": {
    "slideshow": {
     "slide_type": "slide"
    }
   },
   "outputs": [],
   "source": [
    "def dqr(df):\n",
    "    #%% Lista de variables de la base de datos\n",
    "    columns = pd.DataFrame(list(data.columns.values), columns=['Nombre columnas'], index=list(data.columns.values))\n",
    "    \n",
    "    #%% Calculo de la asimetría\n",
    "    skewness = round(df.skew(),2)\n",
    "    skewness = skewness.to_frame()\n",
    "    skewness = skewness.rename(columns={0: \"skewness value\"}) \n",
    "\n",
    "    def f(x):\n",
    "        if x['skewness value'] < -1 or x['skewness value'] > 1: return 'Highly Skewed'\n",
    "        elif (x['skewness value']<=0 and x['skewness value']>=-0.5) or (x['skewness value'] >=0 and x['skewness value']<=0.5):\n",
    "            return 'Symmetric distribution'\n",
    "        else: return 'Moderately skewed'\n",
    "\n",
    "    skewness['skewness'] = skewness.apply(f, axis=1)\n",
    "    return columns.join(skewness)\n",
    "\n"
   ]
  },
  {
   "cell_type": "code",
   "execution_count": 39,
   "id": "e6481605",
   "metadata": {
    "slideshow": {
     "slide_type": "slide"
    }
   },
   "outputs": [
    {
     "data": {
      "text/html": [
       "<div>\n",
       "<style scoped>\n",
       "    .dataframe tbody tr th:only-of-type {\n",
       "        vertical-align: middle;\n",
       "    }\n",
       "\n",
       "    .dataframe tbody tr th {\n",
       "        vertical-align: top;\n",
       "    }\n",
       "\n",
       "    .dataframe thead th {\n",
       "        text-align: right;\n",
       "    }\n",
       "</style>\n",
       "<table border=\"1\" class=\"dataframe\">\n",
       "  <thead>\n",
       "    <tr style=\"text-align: right;\">\n",
       "      <th></th>\n",
       "      <th>Nombre columnas</th>\n",
       "      <th>skewness value</th>\n",
       "      <th>skewness</th>\n",
       "    </tr>\n",
       "  </thead>\n",
       "  <tbody>\n",
       "    <tr>\n",
       "      <th>ID</th>\n",
       "      <td>ID</td>\n",
       "      <td>0.00</td>\n",
       "      <td>Symmetric distribution</td>\n",
       "    </tr>\n",
       "    <tr>\n",
       "      <th>Indice_Refraccion</th>\n",
       "      <td>Indice_Refraccion</td>\n",
       "      <td>1.63</td>\n",
       "      <td>Highly Skewed</td>\n",
       "    </tr>\n",
       "    <tr>\n",
       "      <th>Na</th>\n",
       "      <td>Na</td>\n",
       "      <td>0.45</td>\n",
       "      <td>Symmetric distribution</td>\n",
       "    </tr>\n",
       "    <tr>\n",
       "      <th>Mg</th>\n",
       "      <td>Mg</td>\n",
       "      <td>-1.15</td>\n",
       "      <td>Highly Skewed</td>\n",
       "    </tr>\n",
       "    <tr>\n",
       "      <th>Al</th>\n",
       "      <td>Al</td>\n",
       "      <td>0.91</td>\n",
       "      <td>Moderately skewed</td>\n",
       "    </tr>\n",
       "    <tr>\n",
       "      <th>Si</th>\n",
       "      <td>Si</td>\n",
       "      <td>-0.73</td>\n",
       "      <td>Moderately skewed</td>\n",
       "    </tr>\n",
       "    <tr>\n",
       "      <th>K</th>\n",
       "      <td>K</td>\n",
       "      <td>6.55</td>\n",
       "      <td>Highly Skewed</td>\n",
       "    </tr>\n",
       "    <tr>\n",
       "      <th>Ca</th>\n",
       "      <td>Ca</td>\n",
       "      <td>2.05</td>\n",
       "      <td>Highly Skewed</td>\n",
       "    </tr>\n",
       "    <tr>\n",
       "      <th>Ba</th>\n",
       "      <td>Ba</td>\n",
       "      <td>3.42</td>\n",
       "      <td>Highly Skewed</td>\n",
       "    </tr>\n",
       "    <tr>\n",
       "      <th>Fe</th>\n",
       "      <td>Fe</td>\n",
       "      <td>1.75</td>\n",
       "      <td>Highly Skewed</td>\n",
       "    </tr>\n",
       "    <tr>\n",
       "      <th>Tipo_Vidrio</th>\n",
       "      <td>Tipo_Vidrio</td>\n",
       "      <td>1.11</td>\n",
       "      <td>Highly Skewed</td>\n",
       "    </tr>\n",
       "  </tbody>\n",
       "</table>\n",
       "</div>"
      ],
      "text/plain": [
       "                     Nombre columnas  skewness value                skewness\n",
       "ID                                ID            0.00  Symmetric distribution\n",
       "Indice_Refraccion  Indice_Refraccion            1.63           Highly Skewed\n",
       "Na                                Na            0.45  Symmetric distribution\n",
       "Mg                                Mg           -1.15           Highly Skewed\n",
       "Al                                Al            0.91       Moderately skewed\n",
       "Si                                Si           -0.73       Moderately skewed\n",
       "K                                  K            6.55           Highly Skewed\n",
       "Ca                                Ca            2.05           Highly Skewed\n",
       "Ba                                Ba            3.42           Highly Skewed\n",
       "Fe                                Fe            1.75           Highly Skewed\n",
       "Tipo_Vidrio              Tipo_Vidrio            1.11           Highly Skewed"
      ]
     },
     "execution_count": 39,
     "metadata": {},
     "output_type": "execute_result"
    }
   ],
   "source": [
    "dqr(data)"
   ]
  },
  {
   "cell_type": "markdown",
   "id": "41ce049b",
   "metadata": {
    "slideshow": {
     "slide_type": "slide"
    }
   },
   "source": [
    "### ¿Cómo mitigar la asimetría?\n",
    "\n",
    "**Box Cox:** Una transformación de Box Cox es una transformación de variables no normales en una forma normal. (Lambda entre -5 y 5). Aplicada a valores positivos. \n",
    "\n",
    "$$y(\\lambda)=\n",
    "    \\begin{cases}\n",
    "      \\frac{(y)^{\\lambda}-1}{\\lambda} & \\text{if $\\lambda\\neq0$}\\\\\n",
    "      \\log(y) & \\text{if $\\lambda=0$ }\\\\\n",
    "     \\end{cases}$$\n",
    "\n",
    "\n",
    "### Datos con sesgo positivo\n",
    "\n",
    "**Transformación de raíz cúbica:** Es una transformación bastante fuerte con un efecto sustancial en la forma de la distribución, pero es más débil que el logaritmo. También se puede aplicar a valores negativos y cero.\n",
    "$$x_{i}^{*}=(x_{i})^{1/3}$$\n",
    "\n",
    "**Transformación de raíz cuadrada:** Aplicado solo a valores positivos. \n",
    "$$x_{i}^{*}=\\sqrt(x_{i})$$\n",
    "\n",
    "**Transformación logarítmica:** Es una transformación fuerte que puede ser usada para reducir el sesgo positivo. Aplicado solo a valores positivos\n",
    "$$x_{i}^{*}=\\log(x_{i})$$\n"
   ]
  },
  {
   "cell_type": "markdown",
   "id": "c1f47bab",
   "metadata": {
    "slideshow": {
     "slide_type": "slide"
    }
   },
   "source": [
    "\n",
    "### Datos con sesgo negativo\n",
    "\n",
    "Las transformaciones comunes incluyen elevar al cuadrado, raíz cúbica y logarítmica.\n",
    "\n",
    "**Transformación al cuadrado:** Tiene un efecto moderado en la forma de la distribución y podría usarse para reducir el sesgo hacia la izquierda.\n",
    "$$x_{i}^{*}=(x_{i})^{2}$$\n",
    "\n",
    "\n",
    "Otro método para manejar la asimetría es encontrar valores atípicos y posiblemente eliminarlos.\n"
   ]
  },
  {
   "cell_type": "code",
   "execution_count": 44,
   "id": "0593b6a9",
   "metadata": {
    "slideshow": {
     "slide_type": "slide"
    }
   },
   "outputs": [
    {
     "data": {
      "text/html": [
       "<div>\n",
       "<style scoped>\n",
       "    .dataframe tbody tr th:only-of-type {\n",
       "        vertical-align: middle;\n",
       "    }\n",
       "\n",
       "    .dataframe tbody tr th {\n",
       "        vertical-align: top;\n",
       "    }\n",
       "\n",
       "    .dataframe thead th {\n",
       "        text-align: right;\n",
       "    }\n",
       "</style>\n",
       "<table border=\"1\" class=\"dataframe\">\n",
       "  <thead>\n",
       "    <tr style=\"text-align: right;\">\n",
       "      <th></th>\n",
       "      <th>ID</th>\n",
       "      <th>Indice_Refraccion</th>\n",
       "      <th>Na</th>\n",
       "      <th>Mg</th>\n",
       "      <th>Al</th>\n",
       "      <th>Si</th>\n",
       "      <th>K</th>\n",
       "      <th>Ca</th>\n",
       "      <th>Ba</th>\n",
       "      <th>Fe</th>\n",
       "      <th>Tipo_Vidrio</th>\n",
       "      <th>Indice_Refraccion_no_skewness</th>\n",
       "    </tr>\n",
       "  </thead>\n",
       "  <tbody>\n",
       "    <tr>\n",
       "      <th>0</th>\n",
       "      <td>1</td>\n",
       "      <td>1.52101</td>\n",
       "      <td>13.64</td>\n",
       "      <td>4.49</td>\n",
       "      <td>1.10</td>\n",
       "      <td>71.78</td>\n",
       "      <td>0.06</td>\n",
       "      <td>8.75</td>\n",
       "      <td>0.0</td>\n",
       "      <td>0.0</td>\n",
       "      <td>1</td>\n",
       "      <td>0.419375</td>\n",
       "    </tr>\n",
       "    <tr>\n",
       "      <th>1</th>\n",
       "      <td>2</td>\n",
       "      <td>1.51761</td>\n",
       "      <td>13.89</td>\n",
       "      <td>3.60</td>\n",
       "      <td>1.36</td>\n",
       "      <td>72.73</td>\n",
       "      <td>0.48</td>\n",
       "      <td>7.83</td>\n",
       "      <td>0.0</td>\n",
       "      <td>0.0</td>\n",
       "      <td>1</td>\n",
       "      <td>0.417137</td>\n",
       "    </tr>\n",
       "    <tr>\n",
       "      <th>2</th>\n",
       "      <td>3</td>\n",
       "      <td>1.51618</td>\n",
       "      <td>13.53</td>\n",
       "      <td>3.55</td>\n",
       "      <td>1.54</td>\n",
       "      <td>72.99</td>\n",
       "      <td>0.39</td>\n",
       "      <td>7.78</td>\n",
       "      <td>0.0</td>\n",
       "      <td>0.0</td>\n",
       "      <td>1</td>\n",
       "      <td>0.416194</td>\n",
       "    </tr>\n",
       "    <tr>\n",
       "      <th>3</th>\n",
       "      <td>4</td>\n",
       "      <td>1.51766</td>\n",
       "      <td>13.21</td>\n",
       "      <td>3.69</td>\n",
       "      <td>1.29</td>\n",
       "      <td>72.61</td>\n",
       "      <td>0.57</td>\n",
       "      <td>8.22</td>\n",
       "      <td>0.0</td>\n",
       "      <td>0.0</td>\n",
       "      <td>1</td>\n",
       "      <td>0.417170</td>\n",
       "    </tr>\n",
       "    <tr>\n",
       "      <th>4</th>\n",
       "      <td>5</td>\n",
       "      <td>1.51742</td>\n",
       "      <td>13.27</td>\n",
       "      <td>3.62</td>\n",
       "      <td>1.24</td>\n",
       "      <td>73.08</td>\n",
       "      <td>0.55</td>\n",
       "      <td>8.07</td>\n",
       "      <td>0.0</td>\n",
       "      <td>0.0</td>\n",
       "      <td>1</td>\n",
       "      <td>0.417012</td>\n",
       "    </tr>\n",
       "  </tbody>\n",
       "</table>\n",
       "</div>"
      ],
      "text/plain": [
       "   ID  Indice_Refraccion     Na    Mg    Al     Si     K    Ca   Ba   Fe  \\\n",
       "0   1            1.52101  13.64  4.49  1.10  71.78  0.06  8.75  0.0  0.0   \n",
       "1   2            1.51761  13.89  3.60  1.36  72.73  0.48  7.83  0.0  0.0   \n",
       "2   3            1.51618  13.53  3.55  1.54  72.99  0.39  7.78  0.0  0.0   \n",
       "3   4            1.51766  13.21  3.69  1.29  72.61  0.57  8.22  0.0  0.0   \n",
       "4   5            1.51742  13.27  3.62  1.24  73.08  0.55  8.07  0.0  0.0   \n",
       "\n",
       "   Tipo_Vidrio  Indice_Refraccion_no_skewness  \n",
       "0            1                       0.419375  \n",
       "1            1                       0.417137  \n",
       "2            1                       0.416194  \n",
       "3            1                       0.417170  \n",
       "4            1                       0.417012  "
      ]
     },
     "execution_count": 44,
     "metadata": {},
     "output_type": "execute_result"
    }
   ],
   "source": [
    "# Varias transformaciones\n",
    "data1=data.copy()\n",
    "#Logarítmica\n",
    "data1['Indice_Refraccion_no_skewness'] = np.log(data1.Indice_Refraccion)\n",
    "data1.head()"
   ]
  },
  {
   "cell_type": "code",
   "execution_count": 45,
   "id": "fdf9a7b4",
   "metadata": {
    "slideshow": {
     "slide_type": "subslide"
    }
   },
   "outputs": [
    {
     "data": {
      "text/html": [
       "<div>\n",
       "<style scoped>\n",
       "    .dataframe tbody tr th:only-of-type {\n",
       "        vertical-align: middle;\n",
       "    }\n",
       "\n",
       "    .dataframe tbody tr th {\n",
       "        vertical-align: top;\n",
       "    }\n",
       "\n",
       "    .dataframe thead th {\n",
       "        text-align: right;\n",
       "    }\n",
       "</style>\n",
       "<table border=\"1\" class=\"dataframe\">\n",
       "  <thead>\n",
       "    <tr style=\"text-align: right;\">\n",
       "      <th></th>\n",
       "      <th>ID</th>\n",
       "      <th>Indice_Refraccion</th>\n",
       "      <th>Na</th>\n",
       "      <th>Mg</th>\n",
       "      <th>Al</th>\n",
       "      <th>Si</th>\n",
       "      <th>K</th>\n",
       "      <th>Ca</th>\n",
       "      <th>Ba</th>\n",
       "      <th>Fe</th>\n",
       "      <th>Tipo_Vidrio</th>\n",
       "      <th>Indice_Refraccion_no_skewness</th>\n",
       "    </tr>\n",
       "  </thead>\n",
       "  <tbody>\n",
       "    <tr>\n",
       "      <th>0</th>\n",
       "      <td>1</td>\n",
       "      <td>1.52101</td>\n",
       "      <td>13.64</td>\n",
       "      <td>4.49</td>\n",
       "      <td>1.10</td>\n",
       "      <td>71.78</td>\n",
       "      <td>0.06</td>\n",
       "      <td>8.75</td>\n",
       "      <td>0.0</td>\n",
       "      <td>0.0</td>\n",
       "      <td>1</td>\n",
       "      <td>1.233292</td>\n",
       "    </tr>\n",
       "    <tr>\n",
       "      <th>1</th>\n",
       "      <td>2</td>\n",
       "      <td>1.51761</td>\n",
       "      <td>13.89</td>\n",
       "      <td>3.60</td>\n",
       "      <td>1.36</td>\n",
       "      <td>72.73</td>\n",
       "      <td>0.48</td>\n",
       "      <td>7.83</td>\n",
       "      <td>0.0</td>\n",
       "      <td>0.0</td>\n",
       "      <td>1</td>\n",
       "      <td>1.231913</td>\n",
       "    </tr>\n",
       "    <tr>\n",
       "      <th>2</th>\n",
       "      <td>3</td>\n",
       "      <td>1.51618</td>\n",
       "      <td>13.53</td>\n",
       "      <td>3.55</td>\n",
       "      <td>1.54</td>\n",
       "      <td>72.99</td>\n",
       "      <td>0.39</td>\n",
       "      <td>7.78</td>\n",
       "      <td>0.0</td>\n",
       "      <td>0.0</td>\n",
       "      <td>1</td>\n",
       "      <td>1.231333</td>\n",
       "    </tr>\n",
       "    <tr>\n",
       "      <th>3</th>\n",
       "      <td>4</td>\n",
       "      <td>1.51766</td>\n",
       "      <td>13.21</td>\n",
       "      <td>3.69</td>\n",
       "      <td>1.29</td>\n",
       "      <td>72.61</td>\n",
       "      <td>0.57</td>\n",
       "      <td>8.22</td>\n",
       "      <td>0.0</td>\n",
       "      <td>0.0</td>\n",
       "      <td>1</td>\n",
       "      <td>1.231933</td>\n",
       "    </tr>\n",
       "    <tr>\n",
       "      <th>4</th>\n",
       "      <td>5</td>\n",
       "      <td>1.51742</td>\n",
       "      <td>13.27</td>\n",
       "      <td>3.62</td>\n",
       "      <td>1.24</td>\n",
       "      <td>73.08</td>\n",
       "      <td>0.55</td>\n",
       "      <td>8.07</td>\n",
       "      <td>0.0</td>\n",
       "      <td>0.0</td>\n",
       "      <td>1</td>\n",
       "      <td>1.231836</td>\n",
       "    </tr>\n",
       "  </tbody>\n",
       "</table>\n",
       "</div>"
      ],
      "text/plain": [
       "   ID  Indice_Refraccion     Na    Mg    Al     Si     K    Ca   Ba   Fe  \\\n",
       "0   1            1.52101  13.64  4.49  1.10  71.78  0.06  8.75  0.0  0.0   \n",
       "1   2            1.51761  13.89  3.60  1.36  72.73  0.48  7.83  0.0  0.0   \n",
       "2   3            1.51618  13.53  3.55  1.54  72.99  0.39  7.78  0.0  0.0   \n",
       "3   4            1.51766  13.21  3.69  1.29  72.61  0.57  8.22  0.0  0.0   \n",
       "4   5            1.51742  13.27  3.62  1.24  73.08  0.55  8.07  0.0  0.0   \n",
       "\n",
       "   Tipo_Vidrio  Indice_Refraccion_no_skewness  \n",
       "0            1                       1.233292  \n",
       "1            1                       1.231913  \n",
       "2            1                       1.231333  \n",
       "3            1                       1.231933  \n",
       "4            1                       1.231836  "
      ]
     },
     "execution_count": 45,
     "metadata": {},
     "output_type": "execute_result"
    }
   ],
   "source": [
    "#Elevar al cuadrado\n",
    "data1['Indice_Refraccion_no_skewness'] = np.sqrt(data1.Indice_Refraccion)\n",
    "data1.head()"
   ]
  },
  {
   "cell_type": "code",
   "execution_count": 46,
   "id": "ec05ed3f",
   "metadata": {
    "slideshow": {
     "slide_type": "slide"
    }
   },
   "outputs": [
    {
     "data": {
      "text/html": [
       "<div>\n",
       "<style scoped>\n",
       "    .dataframe tbody tr th:only-of-type {\n",
       "        vertical-align: middle;\n",
       "    }\n",
       "\n",
       "    .dataframe tbody tr th {\n",
       "        vertical-align: top;\n",
       "    }\n",
       "\n",
       "    .dataframe thead th {\n",
       "        text-align: right;\n",
       "    }\n",
       "</style>\n",
       "<table border=\"1\" class=\"dataframe\">\n",
       "  <thead>\n",
       "    <tr style=\"text-align: right;\">\n",
       "      <th></th>\n",
       "      <th>ID</th>\n",
       "      <th>Indice_Refraccion</th>\n",
       "      <th>Na</th>\n",
       "      <th>Mg</th>\n",
       "      <th>Al</th>\n",
       "      <th>Si</th>\n",
       "      <th>K</th>\n",
       "      <th>Ca</th>\n",
       "      <th>Ba</th>\n",
       "      <th>Fe</th>\n",
       "      <th>Tipo_Vidrio</th>\n",
       "      <th>Indice_Refraccion_no_skewness</th>\n",
       "    </tr>\n",
       "  </thead>\n",
       "  <tbody>\n",
       "    <tr>\n",
       "      <th>0</th>\n",
       "      <td>1</td>\n",
       "      <td>1.52101</td>\n",
       "      <td>13.64</td>\n",
       "      <td>4.49</td>\n",
       "      <td>1.10</td>\n",
       "      <td>71.78</td>\n",
       "      <td>0.06</td>\n",
       "      <td>8.75</td>\n",
       "      <td>0.0</td>\n",
       "      <td>0.0</td>\n",
       "      <td>1</td>\n",
       "      <td>0.175432</td>\n",
       "    </tr>\n",
       "    <tr>\n",
       "      <th>1</th>\n",
       "      <td>2</td>\n",
       "      <td>1.51761</td>\n",
       "      <td>13.89</td>\n",
       "      <td>3.60</td>\n",
       "      <td>1.36</td>\n",
       "      <td>72.73</td>\n",
       "      <td>0.48</td>\n",
       "      <td>7.83</td>\n",
       "      <td>0.0</td>\n",
       "      <td>0.0</td>\n",
       "      <td>1</td>\n",
       "      <td>0.175156</td>\n",
       "    </tr>\n",
       "    <tr>\n",
       "      <th>2</th>\n",
       "      <td>3</td>\n",
       "      <td>1.51618</td>\n",
       "      <td>13.53</td>\n",
       "      <td>3.55</td>\n",
       "      <td>1.54</td>\n",
       "      <td>72.99</td>\n",
       "      <td>0.39</td>\n",
       "      <td>7.78</td>\n",
       "      <td>0.0</td>\n",
       "      <td>0.0</td>\n",
       "      <td>1</td>\n",
       "      <td>0.175038</td>\n",
       "    </tr>\n",
       "    <tr>\n",
       "      <th>3</th>\n",
       "      <td>4</td>\n",
       "      <td>1.51766</td>\n",
       "      <td>13.21</td>\n",
       "      <td>3.69</td>\n",
       "      <td>1.29</td>\n",
       "      <td>72.61</td>\n",
       "      <td>0.57</td>\n",
       "      <td>8.22</td>\n",
       "      <td>0.0</td>\n",
       "      <td>0.0</td>\n",
       "      <td>1</td>\n",
       "      <td>0.175160</td>\n",
       "    </tr>\n",
       "    <tr>\n",
       "      <th>4</th>\n",
       "      <td>5</td>\n",
       "      <td>1.51742</td>\n",
       "      <td>13.27</td>\n",
       "      <td>3.62</td>\n",
       "      <td>1.24</td>\n",
       "      <td>73.08</td>\n",
       "      <td>0.55</td>\n",
       "      <td>8.07</td>\n",
       "      <td>0.0</td>\n",
       "      <td>0.0</td>\n",
       "      <td>1</td>\n",
       "      <td>0.175140</td>\n",
       "    </tr>\n",
       "  </tbody>\n",
       "</table>\n",
       "</div>"
      ],
      "text/plain": [
       "   ID  Indice_Refraccion     Na    Mg    Al     Si     K    Ca   Ba   Fe  \\\n",
       "0   1            1.52101  13.64  4.49  1.10  71.78  0.06  8.75  0.0  0.0   \n",
       "1   2            1.51761  13.89  3.60  1.36  72.73  0.48  7.83  0.0  0.0   \n",
       "2   3            1.51618  13.53  3.55  1.54  72.99  0.39  7.78  0.0  0.0   \n",
       "3   4            1.51766  13.21  3.69  1.29  72.61  0.57  8.22  0.0  0.0   \n",
       "4   5            1.51742  13.27  3.62  1.24  73.08  0.55  8.07  0.0  0.0   \n",
       "\n",
       "   Tipo_Vidrio  Indice_Refraccion_no_skewness  \n",
       "0            1                       0.175432  \n",
       "1            1                       0.175156  \n",
       "2            1                       0.175038  \n",
       "3            1                       0.175160  \n",
       "4            1                       0.175140  "
      ]
     },
     "execution_count": 46,
     "metadata": {},
     "output_type": "execute_result"
    }
   ],
   "source": [
    "## Transformacion BoxCox usando scipy\n",
    "from scipy import stats\n",
    "data1['Indice_Refraccion_no_skewness'] = stats.boxcox(data1.Indice_Refraccion,lmbda=-5)\n",
    "data1.head()"
   ]
  },
  {
   "cell_type": "code",
   "execution_count": 47,
   "id": "93c9364e",
   "metadata": {
    "slideshow": {
     "slide_type": "slide"
    }
   },
   "outputs": [
    {
     "data": {
      "image/png": "[encoded data removed]",
      "text/plain": [
       "<Figure size 432x288 with 2 Axes>"
      ]
     },
     "metadata": {
      "needs_background": "light"
     },
     "output_type": "display_data"
    }
   ],
   "source": [
    "#Comparación de datos sesgados y transformados\n",
    "fig = plt.figure()\n",
    "plt.subplot(1,2,1)\n",
    "plt.hist(data1.Indice_Refraccion)\n",
    "plt.xlabel('Indice_Refraccion'),plt.ylabel('Frecuencia')\n",
    "plt.subplot(1,2,2)\n",
    "plt.hist(data1.Indice_Refraccion_no_skewness)\n",
    "plt.xlabel('Indice_Refraccion_no_skewness'),plt.ylabel('Frecuencia')\n",
    "fig.tight_layout()\n",
    "plt.show()\n"
   ]
  },
  {
   "cell_type": "code",
   "execution_count": 50,
   "id": "b07328f9",
   "metadata": {
    "slideshow": {
     "slide_type": "subslide"
    }
   },
   "outputs": [
    {
     "data": {
      "text/plain": [
       "1.6254305060087644"
      ]
     },
     "execution_count": 50,
     "metadata": {},
     "output_type": "execute_result"
    }
   ],
   "source": [
    "#Sesgo para el índice de refracción transformado\n",
    "data.Indice_Refraccion.skew()"
   ]
  },
  {
   "cell_type": "code",
   "execution_count": 51,
   "id": "c982f092",
   "metadata": {
    "slideshow": {
     "slide_type": "subslide"
    }
   },
   "outputs": [
    {
     "data": {
      "text/plain": [
       "1.5506119529509017"
      ]
     },
     "execution_count": 51,
     "metadata": {},
     "output_type": "execute_result"
    }
   ],
   "source": [
    "#Sesgo para el índice de refracción transformado\n",
    "(data1.Indice_Refraccion_no_skewness.skew())"
   ]
  },
  {
   "cell_type": "markdown",
   "id": "86b4c7a6",
   "metadata": {
    "slideshow": {
     "slide_type": "slide"
    }
   },
   "source": [
    "### Valores Atípicos\n",
    "\n",
    "> Un dato se considera atípico si aparece por fuera de un rango que se considera válido o aceptable para el fenómeno que se analiza.\n",
    "\n",
    "> Para determinar si los datos tienen valores atípicos es posible usar gráficas de bigotes en los datos.\n",
    "\n",
    "> Para cuantificar el rango aceptable o permitido para encontrar datos atípicos se utiliza el parámetro IQR (inter quantilerange).\n",
    "\n",
    "$$IQR=75^{th}quantile - 25^{th}quantile$$\n",
    "$$upper_{boundary}=75^{th}quantile+(\\alpha*IQR)$$\n",
    "$$lower_{boundary}=25^{th}quantile-(\\alpha*IQR)$$\n",
    "\n",
    "donde $\\alpha$=1.5, y está relacionado a la probabilidad de ocurrencia si los datos tuvieran una distribución normal."
   ]
  },
  {
   "cell_type": "code",
   "execution_count": 52,
   "id": "566b622d",
   "metadata": {
    "slideshow": {
     "slide_type": "slide"
    }
   },
   "outputs": [
    {
     "data": {
      "image/png": "[encoded data removed]",
      "text/plain": [
       "<Figure size 432x288 with 1 Axes>"
      ]
     },
     "metadata": {
      "needs_background": "light"
     },
     "output_type": "display_data"
    }
   ],
   "source": [
    "#Una forma de ver datos atípicos --> con gráficos de bigote (Boxplot)\n",
    "ax = sns.boxplot(data=data.iloc[:,6:9], orient=\"h\", palette=\"Set2\")\n"
   ]
  },
  {
   "cell_type": "code",
   "execution_count": 53,
   "id": "4a57a0c1",
   "metadata": {
    "slideshow": {
     "slide_type": "slide"
    }
   },
   "outputs": [
    {
     "data": {
      "text/plain": [
       "<AxesSubplot:ylabel='Indice_Refraccion'>"
      ]
     },
     "execution_count": 53,
     "metadata": {},
     "output_type": "execute_result"
    },
    {
     "data": {
      "image/png": "[encoded data removed]",
      "text/plain": [
       "<Figure size 432x288 with 1 Axes>"
      ]
     },
     "metadata": {
      "needs_background": "light"
     },
     "output_type": "display_data"
    }
   ],
   "source": [
    "# Un boxplot no se ve afectado por el escalamiento\n",
    "#Datos sin transformar\n",
    "sns.boxplot(y=data['Indice_Refraccion'])"
   ]
  },
  {
   "cell_type": "code",
   "execution_count": 54,
   "id": "afd78c3a",
   "metadata": {
    "slideshow": {
     "slide_type": "subslide"
    }
   },
   "outputs": [
    {
     "data": {
      "text/plain": [
       "<AxesSubplot:ylabel='Indice_Refraccion_no_skewness'>"
      ]
     },
     "execution_count": 54,
     "metadata": {},
     "output_type": "execute_result"
    },
    {
     "data": {
      "image/png": "[encoded data removed]",
      "text/plain": [
       "<Figure size 432x288 with 1 Axes>"
      ]
     },
     "metadata": {
      "needs_background": "light"
     },
     "output_type": "display_data"
    }
   ],
   "source": [
    "# Un boxplot no se ve afectado por el escalamiento\n",
    "#Datos transformados\n",
    "sns.boxplot(y=data1['Indice_Refraccion_no_skewness'])"
   ]
  },
  {
   "cell_type": "code",
   "execution_count": 58,
   "id": "4280b75e",
   "metadata": {
    "slideshow": {
     "slide_type": "slide"
    }
   },
   "outputs": [
    {
     "name": "stdout",
     "output_type": "stream",
     "text": [
      "column: ID\n",
      "Series([], Name: ID, dtype: int64)\n",
      "column: Indice_Refraccion\n",
      "47     1.52667\n",
      "50     1.52320\n",
      "56     1.51215\n",
      "103    1.52725\n",
      "104    1.52410\n",
      "Name: Indice_Refraccion, dtype: float64\n",
      "column: Na\n",
      "0    13.64\n",
      "1    13.89\n",
      "2    13.53\n",
      "3    13.21\n",
      "4    13.27\n",
      "Name: Na, dtype: float64\n",
      "column: Mg\n",
      "Series([], Name: Mg, dtype: float64)\n",
      "column: Al\n",
      "163    3.50\n",
      "171    3.04\n",
      "172    3.02\n",
      "191    2.38\n",
      "192    2.79\n",
      "Name: Al, dtype: float64\n",
      "column: Si\n",
      "0    71.78\n",
      "1    72.73\n",
      "2    72.99\n",
      "3    72.61\n",
      "4    73.08\n",
      "Name: Si, dtype: float64\n",
      "column: K\n",
      "163    1.68\n",
      "171    6.21\n",
      "172    6.21\n",
      "185    1.76\n",
      "186    1.46\n",
      "Name: K, dtype: float64\n",
      "column: Ca\n",
      "0    8.75\n",
      "1    7.83\n",
      "2    7.78\n",
      "3    8.22\n",
      "4    8.07\n",
      "Name: Ca, dtype: float64\n",
      "column: Ba\n",
      "32     0.09\n",
      "36     0.11\n",
      "61     0.69\n",
      "99     0.14\n",
      "100    0.11\n",
      "Name: Ba, dtype: float64\n",
      "column: Fe\n",
      "5      0.26\n",
      "44     0.30\n",
      "56     0.31\n",
      "71     0.32\n",
      "105    0.34\n",
      "Name: Fe, dtype: float64\n",
      "column: Tipo_Vidrio\n",
      "185    7\n",
      "186    7\n",
      "187    7\n",
      "188    7\n",
      "189    7\n",
      "Name: Tipo_Vidrio, dtype: int64\n"
     ]
    }
   ],
   "source": [
    "#Funcion para determinar más específicamente los outliers a través del rango IQR\n",
    "\n",
    "def find_boundaries(df_var,distance=1.5):\n",
    "    IQR = df_var.quantile(0.75)-df_var.quantile(0.25)\n",
    "    lower = df_var.quantile(0.25)-IQR*distance\n",
    "    upper = df_var.quantile(0.75)+IQR*distance\n",
    "    return lower,upper\n",
    "\n",
    "for col in data.columns:\n",
    "    lmin,lmax = find_boundaries(data[col])\n",
    "    outliers = np.where(data[col] > lmax, True,np.where(data['Indice_Refraccion'] < lmin, True, False))\n",
    "    outliers_df = data.loc[outliers, col]\n",
    "    print(f'column: {col}\\n{outliers_df.head()}')"
   ]
  },
  {
   "cell_type": "markdown",
   "id": "9885dd17",
   "metadata": {
    "slideshow": {
     "slide_type": "subslide"
    }
   },
   "source": [
    "#### Tranformación de datos atípicos\n",
    "Si los datos atípicos son importantes y no es posible descartarlos, entonces \n",
    "es posible hacer una transformación de los datos para que se encuentren en un espacio con escalas similares.\n",
    "\n",
    "Una transformación que se puede hacer es utilizar una función que mitigue la asimetría. "
   ]
  },
  {
   "cell_type": "markdown",
   "id": "eb2f8e1e",
   "metadata": {
    "slideshow": {
     "slide_type": "slide"
    }
   },
   "source": [
    "### Datos Nulos\n",
    "\n",
    "Un dato nulo se refiere a la ausencia de un valor o valores en al menos una de las variables.\n",
    "El origen de estos valores pueden ser distintos (errores de captura, censura, funcionamiento del fenómeno, etc.), pero hay que tratar de identificarlas para poder realizar el tratamiento correcto.\n",
    "\n",
    "Si los datos no pueden ser eliminados y es necesario sustituirlos para poder procesarlos con algoritmos sensibles a la falta de datos.\n",
    "Dentro de los criterios comúnmente usados para sustituir los valores nulos se encuentran.\n",
    "\n",
    ">Sustitución por una constante\n",
    "\n",
    ">Sustitución por una etiqueta\n",
    "\n",
    ">Sustitución por la media\n",
    "\n",
    ">Sustitución por la mediana\n",
    "\n",
    ">Sustitución por el más frecuente"
   ]
  },
  {
   "cell_type": "code",
   "execution_count": 63,
   "id": "50b8fdeb",
   "metadata": {
    "slideshow": {
     "slide_type": "slide"
    }
   },
   "outputs": [],
   "source": [
    "#Insertar datos nulos (10%)\n",
    "data_nulos = data.mask(np.random.random(data.shape) < .1)"
   ]
  },
  {
   "cell_type": "code",
   "execution_count": 64,
   "id": "930e00be",
   "metadata": {
    "slideshow": {
     "slide_type": "subslide"
    }
   },
   "outputs": [
    {
     "data": {
      "text/html": [
       "<div>\n",
       "<style scoped>\n",
       "    .dataframe tbody tr th:only-of-type {\n",
       "        vertical-align: middle;\n",
       "    }\n",
       "\n",
       "    .dataframe tbody tr th {\n",
       "        vertical-align: top;\n",
       "    }\n",
       "\n",
       "    .dataframe thead th {\n",
       "        text-align: right;\n",
       "    }\n",
       "</style>\n",
       "<table border=\"1\" class=\"dataframe\">\n",
       "  <thead>\n",
       "    <tr style=\"text-align: right;\">\n",
       "      <th></th>\n",
       "      <th>Valores_Nulos</th>\n",
       "    </tr>\n",
       "  </thead>\n",
       "  <tbody>\n",
       "    <tr>\n",
       "      <th>ID</th>\n",
       "      <td>24</td>\n",
       "    </tr>\n",
       "    <tr>\n",
       "      <th>Indice_Refraccion</th>\n",
       "      <td>20</td>\n",
       "    </tr>\n",
       "    <tr>\n",
       "      <th>Na</th>\n",
       "      <td>19</td>\n",
       "    </tr>\n",
       "    <tr>\n",
       "      <th>Mg</th>\n",
       "      <td>21</td>\n",
       "    </tr>\n",
       "    <tr>\n",
       "      <th>Al</th>\n",
       "      <td>33</td>\n",
       "    </tr>\n",
       "    <tr>\n",
       "      <th>Si</th>\n",
       "      <td>22</td>\n",
       "    </tr>\n",
       "    <tr>\n",
       "      <th>K</th>\n",
       "      <td>18</td>\n",
       "    </tr>\n",
       "    <tr>\n",
       "      <th>Ca</th>\n",
       "      <td>18</td>\n",
       "    </tr>\n",
       "    <tr>\n",
       "      <th>Ba</th>\n",
       "      <td>20</td>\n",
       "    </tr>\n",
       "    <tr>\n",
       "      <th>Fe</th>\n",
       "      <td>20</td>\n",
       "    </tr>\n",
       "    <tr>\n",
       "      <th>Tipo_Vidrio</th>\n",
       "      <td>21</td>\n",
       "    </tr>\n",
       "  </tbody>\n",
       "</table>\n",
       "</div>"
      ],
      "text/plain": [
       "                   Valores_Nulos\n",
       "ID                            24\n",
       "Indice_Refraccion             20\n",
       "Na                            19\n",
       "Mg                            21\n",
       "Al                            33\n",
       "Si                            22\n",
       "K                             18\n",
       "Ca                            18\n",
       "Ba                            20\n",
       "Fe                            20\n",
       "Tipo_Vidrio                   21"
      ]
     },
     "execution_count": 64,
     "metadata": {},
     "output_type": "execute_result"
    }
   ],
   "source": [
    "#Contar datos nulos en nuevo dataset\n",
    "pd.DataFrame(data_nulos.isnull().sum(), columns=['Valores_Nulos'])"
   ]
  },
  {
   "cell_type": "markdown",
   "id": "097ef5c2",
   "metadata": {
    "slideshow": {
     "slide_type": "subslide"
    }
   },
   "source": [
    "**Generalmente si tenemos arriba del 90% de datos nulos quitamos la variable, sino podemos utilizar una medida estadística para imputar esos valores nulos**\n",
    "\n",
    "### Imputación de datos nulos"
   ]
  },
  {
   "cell_type": "code",
   "execution_count": 65,
   "id": "3b241434",
   "metadata": {
    "slideshow": {
     "slide_type": "slide"
    }
   },
   "outputs": [
    {
     "data": {
      "text/plain": [
       "array([ 1.    ,  1.5159, 13.    ,  0.    ,  1.54  , 72.99  ,  0.    ,\n",
       "        8.43  ,  0.    ,  0.    ,  1.    ])"
      ]
     },
     "execution_count": 65,
     "metadata": {},
     "output_type": "execute_result"
    }
   ],
   "source": [
    "#Imputar datos nulos\n",
    "from sklearn.impute import SimpleImputer\n",
    "imputer = SimpleImputer(strategy='constant', fill_value=99)\n",
    "imputer = SimpleImputer(strategy='constant', fill_value='Missing')\n",
    "imputer = SimpleImputer(strategy='mean')\n",
    "imputer = SimpleImputer(strategy='median')\n",
    "imputer = SimpleImputer(strategy='most_frequent')\n",
    "\n",
    "imputer.fit(data_nulos)\n",
    "imputer.statistics_ # revisar los valores por los que remplazará\n"
   ]
  },
  {
   "cell_type": "code",
   "execution_count": 68,
   "id": "7f8c8782",
   "metadata": {
    "slideshow": {
     "slide_type": "subslide"
    }
   },
   "outputs": [
    {
     "data": {
      "text/html": [
       "<div>\n",
       "<style scoped>\n",
       "    .dataframe tbody tr th:only-of-type {\n",
       "        vertical-align: middle;\n",
       "    }\n",
       "\n",
       "    .dataframe tbody tr th {\n",
       "        vertical-align: top;\n",
       "    }\n",
       "\n",
       "    .dataframe thead th {\n",
       "        text-align: right;\n",
       "    }\n",
       "</style>\n",
       "<table border=\"1\" class=\"dataframe\">\n",
       "  <thead>\n",
       "    <tr style=\"text-align: right;\">\n",
       "      <th></th>\n",
       "      <th>Valores_Nulos</th>\n",
       "    </tr>\n",
       "  </thead>\n",
       "  <tbody>\n",
       "    <tr>\n",
       "      <th>ID</th>\n",
       "      <td>0</td>\n",
       "    </tr>\n",
       "    <tr>\n",
       "      <th>Indice_Refraccion</th>\n",
       "      <td>0</td>\n",
       "    </tr>\n",
       "    <tr>\n",
       "      <th>Na</th>\n",
       "      <td>0</td>\n",
       "    </tr>\n",
       "    <tr>\n",
       "      <th>Mg</th>\n",
       "      <td>0</td>\n",
       "    </tr>\n",
       "    <tr>\n",
       "      <th>Al</th>\n",
       "      <td>0</td>\n",
       "    </tr>\n",
       "    <tr>\n",
       "      <th>Si</th>\n",
       "      <td>0</td>\n",
       "    </tr>\n",
       "    <tr>\n",
       "      <th>K</th>\n",
       "      <td>0</td>\n",
       "    </tr>\n",
       "    <tr>\n",
       "      <th>Ca</th>\n",
       "      <td>0</td>\n",
       "    </tr>\n",
       "    <tr>\n",
       "      <th>Ba</th>\n",
       "      <td>0</td>\n",
       "    </tr>\n",
       "    <tr>\n",
       "      <th>Fe</th>\n",
       "      <td>0</td>\n",
       "    </tr>\n",
       "    <tr>\n",
       "      <th>Tipo_Vidrio</th>\n",
       "      <td>0</td>\n",
       "    </tr>\n",
       "  </tbody>\n",
       "</table>\n",
       "</div>"
      ],
      "text/plain": [
       "                   Valores_Nulos\n",
       "ID                             0\n",
       "Indice_Refraccion              0\n",
       "Na                             0\n",
       "Mg                             0\n",
       "Al                             0\n",
       "Si                             0\n",
       "K                              0\n",
       "Ca                             0\n",
       "Ba                             0\n",
       "Fe                             0\n",
       "Tipo_Vidrio                    0"
      ]
     },
     "execution_count": 68,
     "metadata": {},
     "output_type": "execute_result"
    }
   ],
   "source": [
    "data_nulos_imputados = imputer.transform(data_nulos)\n",
    "data_nulos_imputados = pd.DataFrame(data_nulos_imputados, columns=data.columns)\n",
    "pd.DataFrame(data_nulos_imputados.isnull().sum(), columns=['Valores_Nulos'])"
   ]
  },
  {
   "cell_type": "code",
   "execution_count": null,
   "id": "157217c8",
   "metadata": {},
   "outputs": [],
   "source": []
  }
 ],
 "metadata": {
  "celltoolbar": "Slideshow",
  "kernelspec": {
   "display_name": "Python 3 (ipykernel)",
   "language": "python",
   "name": "python3"
  },
  "language_info": {
   "codemirror_mode": {
    "name": "ipython",
    "version": 3
   },
   "file_extension": ".py",
   "mimetype": "text/x-python",
   "name": "python",
   "nbconvert_exporter": "python",
   "pygments_lexer": "ipython3",
   "version": "3.8.8"
  }
 },
 "nbformat": 4,
 "nbformat_minor": 5
}
