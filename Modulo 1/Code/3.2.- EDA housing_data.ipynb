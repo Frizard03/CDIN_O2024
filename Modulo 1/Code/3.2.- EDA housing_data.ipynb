{
 "cells": [
  {
   "cell_type": "markdown",
   "id": "f3b88d62",
   "metadata": {},
   "source": [
    "<img style=\"float: left;;\" src='../Imagenes/iteso.jpg' width=\"50\" height=\"100\"/></a>\n",
    "\n",
    "# <center> <font color= #000047> Módulo I: Ejemplo EDA Housing Data </font> </center>\n",
    "\n"
   ]
  },
  {
   "cell_type": "markdown",
   "id": "90ab0148",
   "metadata": {},
   "source": [
    "Pasos para hacer un EDA para el dataset `housing.csv`\n",
    "\n",
    "1. **Cargando el dataset**: Cargamos el dataset de precios de casas desde una URL en un DataFrame de pandas.\n",
    "2. **Entender la estructura del dataset**: Usamos `head()`, `info()` y `describe()` para obtener una visión general del dataset.\n",
    "3. **Estadísticas descriptivas**: Mostramos estadísticas descriptivas para entender la distribución de los datos.\n",
    "4. **Verificar valores faltantes**: Verificamos si hay valores faltantes en el dataset.\n",
    "5. **Visualizar los datos**:\n",
    "   - **Histogramas**: Graficamos histogramas para cada característica numérica para entender sus distribuciones.\n",
    "   - **Scatterplots**: Usamos `seaborn.scatterplot` para visualizar la relación entre características y el precio de venta.\n",
    "   - **Matriz de Correlación**: Graficamos un heatmap de la matriz de correlación para ver la correlación entre características.\n",
    "   - **Boxplots**: Usamos boxplots para visualizar la distribución del valor de la casa por categoría de ingreso.\n",
    "   - **Countplot**: Usamos countplots para visualizar la distribución de la categoría de ingreso.\n",
    "\n",
    "### Gráficos\n",
    "- **Histogramas**: Muestran la distribución de las características numéricas.\n",
    "- **Scatterplots**: Muestran la relación entre características y el precio de venta.\n",
    "- **Matriz de Correlación**: Muestra la correlación entre características.\n",
    "- **Boxplots**: Muestran la distribución del valor de la casa por categoría de ingreso.\n",
    "- **Countplot**: Muestra la distribución de la categoría de ingreso.\n",
    "\n",
    "Este EDA proporciona una visión completa del dataset de precios de casas, ayudando a entender la estructura de los datos, su distribución y las relaciones entre las características."
   ]
  },
  {
   "cell_type": "code",
   "execution_count": null,
   "id": "02b8749b",
   "metadata": {},
   "outputs": [],
   "source": [
    "# Importar las bibliotecas necesarias\n",
    "\n"
   ]
  },
  {
   "cell_type": "code",
   "execution_count": null,
   "id": "448bdef5",
   "metadata": {},
   "outputs": [],
   "source": [
    "\n",
    "# Mostrar las primeras filas del dataset\n"
   ]
  },
  {
   "cell_type": "code",
   "execution_count": null,
   "id": "cebb5452",
   "metadata": {},
   "outputs": [],
   "source": [
    "\n",
    "# Mostrar información básica sobre el dataset\n"
   ]
  },
  {
   "cell_type": "code",
   "execution_count": null,
   "id": "02d5a09d",
   "metadata": {},
   "outputs": [],
   "source": [
    "\n",
    "# Mostrar estadísticas descriptivas\n",
    "\n"
   ]
  },
  {
   "cell_type": "code",
   "execution_count": null,
   "id": "99ad0066",
   "metadata": {},
   "outputs": [],
   "source": [
    "\n",
    "# Verificar valores faltantes\n"
   ]
  },
  {
   "cell_type": "code",
   "execution_count": null,
   "id": "0983f544",
   "metadata": {},
   "outputs": [],
   "source": []
  },
  {
   "cell_type": "markdown",
   "id": "863303b5",
   "metadata": {},
   "source": [
    "#### reporte de calidad de datos (dqr)"
   ]
  },
  {
   "cell_type": "code",
   "execution_count": null,
   "id": "f3e6bf7c",
   "metadata": {},
   "outputs": [],
   "source": []
  },
  {
   "cell_type": "code",
   "execution_count": null,
   "id": "d0016e66",
   "metadata": {},
   "outputs": [],
   "source": []
  },
  {
   "cell_type": "markdown",
   "id": "f887fb8b",
   "metadata": {},
   "source": [
    "##### Limpieza de datos"
   ]
  },
  {
   "cell_type": "code",
   "execution_count": null,
   "id": "9fc4c0a9",
   "metadata": {},
   "outputs": [],
   "source": []
  },
  {
   "cell_type": "markdown",
   "id": "6c5a1fe2",
   "metadata": {},
   "source": [
    "#### graficas"
   ]
  },
  {
   "cell_type": "code",
   "execution_count": null,
   "id": "368065a6",
   "metadata": {},
   "outputs": [],
   "source": [
    "# Visualizar la distribución de las características numéricas\n"
   ]
  },
  {
   "cell_type": "code",
   "execution_count": null,
   "id": "e75e8d4f",
   "metadata": {},
   "outputs": [],
   "source": [
    "# Visualizar la relación entre las características y el precio de venta\n",
    "\n"
   ]
  },
  {
   "cell_type": "code",
   "execution_count": null,
   "id": "8daa8ca7",
   "metadata": {},
   "outputs": [],
   "source": []
  },
  {
   "cell_type": "code",
   "execution_count": null,
   "id": "31763a67",
   "metadata": {},
   "outputs": [],
   "source": [
    "# Visualizar la matriz de correlación\n",
    "\n"
   ]
  },
  {
   "cell_type": "code",
   "execution_count": null,
   "id": "745f2df2",
   "metadata": {},
   "outputs": [],
   "source": [
    "# Boxplot para visualizar la distribución del valor de la casa por categoría de ingreso\n"
   ]
  },
  {
   "cell_type": "code",
   "execution_count": null,
   "id": "6052e0de",
   "metadata": {},
   "outputs": [],
   "source": [
    "# Countplot para visualizar la distribución de la categoría de ingreso\n"
   ]
  },
  {
   "cell_type": "markdown",
   "id": "e69b653e",
   "metadata": {},
   "source": [
    "### Actividad 4"
   ]
  },
  {
   "cell_type": "markdown",
   "id": "04770716",
   "metadata": {},
   "source": [
    "> Un dato se considera atípico si aparece por fuera de un rango que se considera válido o aceptable para el fenómeno que se analiza.\n",
    "\n",
    "> Para determinar si los datos tienen valores atípicos es posible usar gráficas de bigotes en los datos.\n",
    "\n",
    "> Para cuantificar el rango aceptable o permitido para encontrar datos atípicos se utiliza el parámetro IQR (inter quantilerange).\n",
    "\n",
    "$$IQR=75^{th}quantile - 25^{th}quantile$$\n",
    "$$upper_{boundary}=75^{th}quantile+(\\alpha*IQR)$$\n",
    "$$lower_{boundary}=25^{th}quantile-(\\alpha*IQR)$$\n",
    "\n",
    "donde $\\alpha$=1.5, y está relacionado a la probabilidad de ocurrencia si los datos tuvieran una distribución normal.\n",
    "\n",
    "**Considere el dataset `housing.csv`, elimine los outliers de cada columna numérica que se encuentre en el dataset, puede utilizar el código de la celda de abajo**"
   ]
  },
  {
   "cell_type": "markdown",
   "id": "3e89cef5",
   "metadata": {},
   "source": [
    "```\n",
    "#Funcion para determinar más específicamente los outliers a través del rango IQR\n",
    "\n",
    "def find_boundaries(df_var,distance=1.5):\n",
    "    IQR = df_var.quantile(0.75)-df_var.quantile(0.25)\n",
    "    lower = df_var.quantile(0.25)-IQR*distance\n",
    "    upper = df_var.quantile(0.75)+IQR*distance\n",
    "    return lower,upper\n",
    "\n",
    "for col in data.columns:\n",
    "    lmin,lmax = find_boundaries(data[col])\n",
    "    outliers = np.where(data[col] > lmax, True,np.where(data['Indice_Refraccion'] < lmin, True, False))\n",
    "    outliers_df = data.loc[outliers, col]\n",
    "    print(f'column: {col}\\n{outliers_df.head()}')\n",
    "```"
   ]
  },
  {
   "cell_type": "markdown",
   "id": "f87998df",
   "metadata": {},
   "source": [
    "**Agregue el código a su librería CDIN, importela y grafique nuevamente con un gráfico de bigotes las columnas numéricas después de haber eliminado los outliers**"
   ]
  },
  {
   "cell_type": "code",
   "execution_count": null,
   "id": "8ee04eb8",
   "metadata": {},
   "outputs": [],
   "source": []
  }
 ],
 "metadata": {
  "kernelspec": {
   "display_name": "Python 3 (ipykernel)",
   "language": "python",
   "name": "python3"
  },
  "language_info": {
   "codemirror_mode": {
    "name": "ipython",
    "version": 3
   },
   "file_extension": ".py",
   "mimetype": "text/x-python",
   "name": "python",
   "nbconvert_exporter": "python",
   "pygments_lexer": "ipython3",
   "version": "3.8.8"
  }
 },
 "nbformat": 4,
 "nbformat_minor": 5
}
