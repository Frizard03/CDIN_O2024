{
 "cells": [
  {
   "cell_type": "markdown",
   "metadata": {},
   "source": [
    "<img style=\"float: left;;\" src='../Imagenes/iteso.jpg' width=\"50\" height=\"100\"/></a>\n",
    "\n",
    "\n",
    "# <center> <font color= #000047> Repaso: Programación orientada a objetos"
   ]
  },
  {
   "cell_type": "markdown",
   "metadata": {},
   "source": [
    "\n",
    "> Anteriormente en los repasos, vimos toda la sintaxis básica de Python, cómo hacer funciones y los diferentes clases de objetos que podemos utilizar. Vimos además que cada uno de los objetos tienen diferentes métodos y atributos que traen consigo, y nos facilitan la vida enormemente.\n",
    "\n",
    "> Pero, ¿qué son clases?, ¿qué son objetos?, ¿cómo construir nuestras propias clases?\n",
    "\n",
    "> Resolver estas preguntas nos ocupará en esta sesión.\n",
    "\n",
    "\n",
    "Referencias:\n",
    "- https://realpython.com/python3-object-oriented-programming/\n",
    "___"
   ]
  },
  {
   "cell_type": "markdown",
   "metadata": {},
   "source": [
    "# 0. ¿Qué son los objetos?\n",
    "\n",
    "La clase pasada ya hablamos un poco de esto. Dijimos que todo en python es un objeto. Por ejemplo:"
   ]
  },
  {
   "cell_type": "code",
   "execution_count": 1,
   "metadata": {},
   "outputs": [
    {
     "name": "stdout",
     "output_type": "stream",
     "text": [
      "42 es un objeto de <class 'int'>\n",
      "Hello world! es un objeto de <class 'str'>\n",
      "{'name': 'Gaddiel', 'age': 32} es un objeto de <class 'dict'>\n"
     ]
    }
   ],
   "source": [
    "x = 42\n",
    "print('%d es un objeto de %s' % (x, type(x)))\n",
    "\n",
    "x = 'Hello world!'\n",
    "print('%s es un objeto de %s' % (x, type(x)))\n",
    "\n",
    "x = {'name': 'Gaddiel', 'age': 32}\n",
    "print('%s es un objeto de %s' % (x, type(x)))"
   ]
  },
  {
   "cell_type": "markdown",
   "metadata": {},
   "source": [
    "Ya sabemos que los enteros (`int`), las cadenas de caracteres (`str`), y los diccionarios (`dict`) se comportan de formas distintas. Tienen distintas propiedades y funcionalidades, o técnicamente, tienen distintos **atributos** y **métodos**."
   ]
  },
  {
   "cell_type": "markdown",
   "metadata": {},
   "source": [
    "Como dijimos la clase pasada, los atributos de un objeto son variables internas que contienen información del objeto:"
   ]
  },
  {
   "cell_type": "code",
   "execution_count": 2,
   "metadata": {},
   "outputs": [
    {
     "data": {
      "text/plain": [
       "(4.0, 5.0)"
      ]
     },
     "execution_count": 2,
     "metadata": {},
     "output_type": "execute_result"
    }
   ],
   "source": [
    "# Un número complejo y sus partes real e imaginaria\n",
    "x = complex(4, 5)  # 4 + 5j\n",
    "x.real, x.imag"
   ]
  },
  {
   "cell_type": "markdown",
   "metadata": {},
   "source": [
    "Los métodos de un objeto son funciones internas que implementan capacidades del objeto:"
   ]
  },
  {
   "cell_type": "code",
   "execution_count": 3,
   "metadata": {},
   "outputs": [
    {
     "data": {
      "text/plain": [
       "((4-5j), (41+0j))"
      ]
     },
     "execution_count": 3,
     "metadata": {},
     "output_type": "execute_result"
    }
   ],
   "source": [
    "# Métodos upper y lower de un string\n",
    "x.conjugate(), x.conjugate() * x"
   ]
  },
  {
   "cell_type": "markdown",
   "metadata": {},
   "source": [
    "# 1. ¿Qué es programación orientada a objetos?\n",
    "\n",
    "La programación orientada a objetos (POO) es un paradigma de programación mediante el cual se pueden estructurar programas de forma que sus propiedades y comportamientos sean encapsulados en objetos individuales.\n",
    "\n",
    "Por ejemplo, un **objeto** puede representar a una persona:\n",
    "- con propiedades como nombre, edad, domicilio;\n",
    "- con comportamientos como caminar, hablar, respirar, correr.\n",
    " \n",
    "De manera concisa, POO es un enfoque para modelar cosas concretas, del mundo real como carros, y no solo eso, sino también las relaciones entre distintos objetos como compañías y empleados, estudiantes y profesores."
   ]
  },
  {
   "cell_type": "markdown",
   "metadata": {},
   "source": [
    "Nosotros no somos ajenos a los objetos, pues los hemos venido utilizando desde las clases pasadas.\n",
    "\n",
    "Por ejemplo:"
   ]
  },
  {
   "cell_type": "code",
   "execution_count": 4,
   "metadata": {},
   "outputs": [],
   "source": [
    "# La lista de planetas\n",
    "planetas = ['Mercurio', 'Venus', 'Tierra', 'Marte', 'Jupiter', 'Saturno', 'Urano', 'Neptuno']"
   ]
  },
  {
   "cell_type": "code",
   "execution_count": 5,
   "metadata": {},
   "outputs": [
    {
     "data": {
      "text/plain": [
       "['Mercurio',\n",
       " 'Venus',\n",
       " 'Tierra',\n",
       " 'Marte',\n",
       " 'Jupiter',\n",
       " 'Saturno',\n",
       " 'Urano',\n",
       " 'Neptuno']"
      ]
     },
     "execution_count": 5,
     "metadata": {},
     "output_type": "execute_result"
    }
   ],
   "source": [
    "planetas"
   ]
  },
  {
   "cell_type": "markdown",
   "metadata": {},
   "source": [
    "Planetas no es solo la lista que vemos. Trae consigo ciertas funcionalidades (métodos) que resultan ser muy útiles"
   ]
  },
  {
   "cell_type": "code",
   "execution_count": 6,
   "metadata": {},
   "outputs": [],
   "source": [
    "# Llamar la función help sobre planetas\n",
    "planetas.reverse()"
   ]
  },
  {
   "cell_type": "code",
   "execution_count": 7,
   "metadata": {},
   "outputs": [
    {
     "data": {
      "text/plain": [
       "['Neptuno',\n",
       " 'Urano',\n",
       " 'Saturno',\n",
       " 'Jupiter',\n",
       " 'Marte',\n",
       " 'Tierra',\n",
       " 'Venus',\n",
       " 'Mercurio']"
      ]
     },
     "execution_count": 7,
     "metadata": {},
     "output_type": "execute_result"
    }
   ],
   "source": [
    "planetas"
   ]
  },
  {
   "cell_type": "markdown",
   "metadata": {},
   "source": [
    "Por ejemplo, ya no queremos los planetas ordenados de acuerdo a su cercanía al sol, sino que los queremos ordenados de acuerdo a su lejanía al sol:"
   ]
  },
  {
   "cell_type": "code",
   "execution_count": 8,
   "metadata": {},
   "outputs": [],
   "source": [
    "# Usar un método para hacer lo requerido\n"
   ]
  },
  {
   "cell_type": "markdown",
   "metadata": {},
   "source": [
    "No solo las listas son objetos. También lo son cada uno de los tipos de variables que hemos usado:"
   ]
  },
  {
   "cell_type": "code",
   "execution_count": 9,
   "metadata": {},
   "outputs": [
    {
     "data": {
      "text/plain": [
       "True"
      ]
     },
     "execution_count": 9,
     "metadata": {},
     "output_type": "execute_result"
    }
   ],
   "source": [
    "# list\n",
    "isinstance(planetas,object)"
   ]
  },
  {
   "cell_type": "code",
   "execution_count": 10,
   "metadata": {},
   "outputs": [
    {
     "data": {
      "text/plain": [
       "True"
      ]
     },
     "execution_count": 10,
     "metadata": {},
     "output_type": "execute_result"
    }
   ],
   "source": [
    "# int\n",
    "isinstance(4,int)"
   ]
  },
  {
   "cell_type": "code",
   "execution_count": 11,
   "metadata": {},
   "outputs": [
    {
     "data": {
      "text/plain": [
       "True"
      ]
     },
     "execution_count": 11,
     "metadata": {},
     "output_type": "execute_result"
    }
   ],
   "source": [
    "# float\n",
    "isinstance(6.3,float)"
   ]
  },
  {
   "cell_type": "code",
   "execution_count": 12,
   "metadata": {},
   "outputs": [
    {
     "data": {
      "text/plain": [
       "True"
      ]
     },
     "execution_count": 12,
     "metadata": {},
     "output_type": "execute_result"
    }
   ],
   "source": [
    "# str\n",
    "isinstance('kaskd',str)"
   ]
  },
  {
   "cell_type": "markdown",
   "metadata": {},
   "source": [
    "___\n",
    "# 2. ¿Qué es una clase?\n",
    "\n",
    "Pensando en los objetos que vimos anteriormente, cada objeto es una **instancia** de alguna **clase**.\n",
    "\n",
    "Estas clases (`int`, `float`, `str`, `list`, ...) están diseñadas para representar cosas simples como el costo de algo, el nombre de un poema o tus colores favoritos."
   ]
  },
  {
   "cell_type": "markdown",
   "metadata": {},
   "source": [
    "Pero, ¿y si quisiéramos representar cosas mucho más complejas?\n",
    "\n",
    "Por ejemplo, digamos que tenemos que realizar un software para una veterinaria que guarde información de los diferentes animales que ingresan. Si usáramos una lsita, el primer elemento podría ser el nombre del animal, mientras que el segundo elemento podría representar la edad.\n",
    "\n",
    "¿Cómo sabríamos cuál elemento es cual? Si ingresaran 100 animales, ¿estamos seguros de que cada animal tiene un nombre y una edad? (si hay cierta ética, se recibirían animales de la calle).\n",
    "\n",
    "Por otra parte, si las necesidades de la veterinaria fueran creciendo y tuviéramos que añadir propiedades a esos animales, ¿cómo se modificaría esta lista? ... Todas estas cuestiones de organización que estamos viendo son exactamente el porqué de las clases."
   ]
  },
  {
   "cell_type": "markdown",
   "metadata": {},
   "source": [
    "Las **clases** se usan para crear nuevas estructuras de datos definidas por el programador, que contienen información arbitraria de algo. En el caso de los animales, podríamos crear una clase `Animal()` para guardar todas las propiedades acerca del animal, tales como el nombre y la edad.\n",
    "\n",
    "Es importante notar que la clase solo provee la estructura: *es un diseño de cómo algo debe ser definido*, pero no provee realmente ningún contenido real.\n",
    "\n",
    "La clase `Animal()` puede especificar que el nombre y la edad son necesarios para definir un animal, pero no especificará cuál es el nombre específico de un animal, o su edad.\n",
    "\n",
    "La mejor forma de pensar en una clase es como una **idea de cómo algo debe ser definido**."
   ]
  },
  {
   "cell_type": "markdown",
   "metadata": {},
   "source": [
    "## 2.1 Objetos de Python (Instancias)\n",
    "\n",
    "Mientras que la clase nos da la idea, una **instancia** es una copia de la clase con valores reales, o mejor, *un objeto que pertenece a una clase específica*. Un **objeto o instancia** ya no es una idea, sino un animal realmente con un nombre (por ejemplo, Bombón), y con una edad (por ejemplo, dos años) específicos.\n",
    "\n",
    "Poniéndolo en otros términos, una clase es como un cuestionario: define cierta información básica requerida para un objeto perteneciente a dicha clase. Luego de haber respondido el cuestionario, tenemos una copia con los campos específicamente llenados como una instancia de la clase.\n",
    "\n",
    "Podemos llenar varias copias para crear muchas instancias distintas, pero sin el cuestionario (clase) como la guía, estaríamos perdidos, sin saber qué información es requerida.\n",
    "\n",
    "Por tanto antes de crear instancias individuales de un objeto, primero debemos especificar qué es lo que se requiere definiendo una clase."
   ]
  },
  {
   "cell_type": "markdown",
   "metadata": {},
   "source": [
    "## 2.2 ¿Cómo definir una clase en Python?\n",
    "\n",
    "Definir una clase en Python es súper sencillo:"
   ]
  },
  {
   "cell_type": "code",
   "execution_count": 13,
   "metadata": {},
   "outputs": [],
   "source": [
    "# Clase de los perros\n",
    "class Perro():\n",
    "    pass"
   ]
  },
  {
   "cell_type": "markdown",
   "metadata": {},
   "source": [
    "- Se comienza con la palabra clave `class` para indicar que estás creando una clase.\n",
    "\n",
    "- Luego, se añade el nombre de la clase (se recomienda usar notación [CamelCase](https://en.wikipedia.org/wiki/Camel_case), comenzando con letra mayúscula).\n",
    "\n",
    "- Como ya estamos acostumbrados, los dos puntos `:`, y abajo el cuerpo de la clase indentado."
   ]
  },
  {
   "cell_type": "markdown",
   "metadata": {},
   "source": [
    "### 2.2.1 Atributos de instancia\n",
    "\n",
    "Todas las clases sirven para instanciar objetos, y todos los objetos tienen características llamadas atributos.\n",
    "\n",
    "Usamos el **método constructor `__init__()`** para inicializar (especificar) los atributos iniciales de un objeto, dándoles su valor en específico.\n",
    "\n",
    "Este método tiene que tener, por lo menos, el argumento `self` el cual hace referencia al objeto."
   ]
  },
  {
   "cell_type": "code",
   "execution_count": 14,
   "metadata": {},
   "outputs": [],
   "source": [
    "# Clase de los perros (con nombre y edad)\n",
    "class Perro():\n",
    "    def __init__(self, nombre, edad):\n",
    "        self.nombre = nombre\n",
    "        self.edad = edad"
   ]
  },
  {
   "cell_type": "code",
   "execution_count": 15,
   "metadata": {},
   "outputs": [
    {
     "data": {
      "text/plain": [
       "<__main__.Perro at 0x1e73db0beb0>"
      ]
     },
     "execution_count": 15,
     "metadata": {},
     "output_type": "execute_result"
    }
   ],
   "source": [
    "Max = Perro('Max', 2)\n",
    "Max"
   ]
  },
  {
   "cell_type": "code",
   "execution_count": 16,
   "metadata": {},
   "outputs": [
    {
     "data": {
      "text/plain": [
       "'Max'"
      ]
     },
     "execution_count": 16,
     "metadata": {},
     "output_type": "execute_result"
    }
   ],
   "source": [
    "Max.nombre"
   ]
  },
  {
   "cell_type": "code",
   "execution_count": 17,
   "metadata": {},
   "outputs": [
    {
     "data": {
      "text/plain": [
       "2"
      ]
     },
     "execution_count": 17,
     "metadata": {},
     "output_type": "execute_result"
    }
   ],
   "source": [
    "Max.edad"
   ]
  },
  {
   "cell_type": "markdown",
   "metadata": {},
   "source": [
    "En el caso de nuestra clase `Perro()`, cada perro tiene un nombre y una edad específicos, los cuales son claramente importantes para cuando creemos distintos perros.\n",
    "\n",
    "Recordemos que la clase es solo para definir la idea de lo que se necesita para definir un perro, y no para definir un perro en si. Ya veremos eso.\n",
    "\n",
    "Similarmente, la variable `self` representa una instancia de la clase, pero ninguna instancia en particular. Como las instancias de una clase tienen atributos variables, estaríamos tentados a escribir `Perro.nombre = nombre` en lugar de `self.nombre = nombre`. \n",
    "\n",
    "Sin embargo, no todos los perros tienen el mismo nombre, entonces debemos poder asignar diferentes valores de atributos a diferentes instancias. Por ello la necesidad de la variable especial `self`, que nos permite llevar el seguimiento de las instancias individuales de cada clase.\n",
    "\n",
    "> **Nota**: nunca será necesario llamar el método `__init__()`. Éste se llama automáticamente cuando creamos un nuevo objeto de la clase `Perro()`."
   ]
  },
  {
   "cell_type": "markdown",
   "metadata": {},
   "source": [
    "### 2.2.2 Atributos de clase\n",
    "\n",
    "Mientras que los atributos de instancia son específicos de cada objeto, los **atributos de clase** son los mismos para todas las instancias de la misma clase (en este caso, para todos los Perros)."
   ]
  },
  {
   "cell_type": "code",
   "execution_count": 18,
   "metadata": {},
   "outputs": [],
   "source": [
    "# Clase de los perros (con nombre y edad, mamíferos)\n",
    "class Perro():\n",
    "    def __init__(self, nombre='perro', edad=3):\n",
    "        self.nombre = nombre\n",
    "        self.edad = edad\n",
    "        Perro.especie = 'Mamifero'"
   ]
  },
  {
   "cell_type": "code",
   "execution_count": 19,
   "metadata": {},
   "outputs": [],
   "source": [
    "perro1 = Perro(nombre='Max', edad=2)\n"
   ]
  },
  {
   "cell_type": "code",
   "execution_count": 20,
   "metadata": {},
   "outputs": [
    {
     "data": {
      "text/plain": [
       "'Max'"
      ]
     },
     "execution_count": 20,
     "metadata": {},
     "output_type": "execute_result"
    }
   ],
   "source": [
    "perro1.nombre"
   ]
  },
  {
   "cell_type": "code",
   "execution_count": 21,
   "metadata": {},
   "outputs": [
    {
     "data": {
      "text/plain": [
       "2"
      ]
     },
     "execution_count": 21,
     "metadata": {},
     "output_type": "execute_result"
    }
   ],
   "source": [
    "perro1.edad"
   ]
  },
  {
   "cell_type": "code",
   "execution_count": 22,
   "metadata": {},
   "outputs": [
    {
     "data": {
      "text/plain": [
       "'Mamifero'"
      ]
     },
     "execution_count": 22,
     "metadata": {},
     "output_type": "execute_result"
    }
   ],
   "source": [
    "perro1.especie"
   ]
  },
  {
   "cell_type": "code",
   "execution_count": 23,
   "metadata": {},
   "outputs": [],
   "source": [
    "perro2 = Perro(nombre='bombon', edad=4)"
   ]
  },
  {
   "cell_type": "code",
   "execution_count": 24,
   "metadata": {},
   "outputs": [
    {
     "data": {
      "text/plain": [
       "('bombon', 4, 'Mamifero')"
      ]
     },
     "execution_count": 24,
     "metadata": {},
     "output_type": "execute_result"
    }
   ],
   "source": [
    "perro2.nombre, perro2.edad, perro2.especie"
   ]
  },
  {
   "cell_type": "markdown",
   "metadata": {},
   "source": [
    "De forma que mientras que cada perro tiene un nombre y una edad particulares, todos los perros son mamíferos.\n",
    "\n",
    "Bueno, ahora creemos algunos perros ..."
   ]
  },
  {
   "cell_type": "markdown",
   "metadata": {},
   "source": [
    "## 2.2 Instanciando objetos\n",
    "\n",
    "Instanciar es un término estrambótico para referirse a crear una nueva y particular instancia de una clase.\n",
    "\n",
    "Por ejemplo:"
   ]
  },
  {
   "cell_type": "code",
   "execution_count": 25,
   "metadata": {},
   "outputs": [
    {
     "data": {
      "text/plain": [
       "(<__main__.Perro at 0x1e73db10a90>, <__main__.Perro at 0x1e73db1a2e0>)"
      ]
     },
     "execution_count": 25,
     "metadata": {},
     "output_type": "execute_result"
    }
   ],
   "source": [
    "# Instanciar dos objetos de la clase y ver si son iguales\n",
    "perro1, perro2"
   ]
  },
  {
   "cell_type": "code",
   "execution_count": 26,
   "metadata": {},
   "outputs": [
    {
     "data": {
      "text/plain": [
       "(__main__.Perro, __main__.Perro)"
      ]
     },
     "execution_count": 26,
     "metadata": {},
     "output_type": "execute_result"
    }
   ],
   "source": [
    "type(perro1), type(perro2)"
   ]
  },
  {
   "cell_type": "markdown",
   "metadata": {},
   "source": [
    "Comenzamos por definir la clase `Perro()`.\n",
    "\n",
    "Luego, creamos (instanciamos) dos objetos de la clase Perro: para crear una instancia de una clase, usamos el nombre de la clase, seguido de paréntesis.\n",
    "\n",
    "¿De qué tipo es `a` o `b`?"
   ]
  },
  {
   "cell_type": "code",
   "execution_count": 27,
   "metadata": {},
   "outputs": [
    {
     "data": {
      "text/plain": [
       "__main__.Perro"
      ]
     },
     "execution_count": 27,
     "metadata": {},
     "output_type": "execute_result"
    }
   ],
   "source": [
    "type(perro1)"
   ]
  },
  {
   "cell_type": "code",
   "execution_count": 28,
   "metadata": {},
   "outputs": [
    {
     "data": {
      "text/plain": [
       "False"
      ]
     },
     "execution_count": 28,
     "metadata": {},
     "output_type": "execute_result"
    }
   ],
   "source": [
    "perro1==perro2"
   ]
  },
  {
   "cell_type": "markdown",
   "metadata": {},
   "source": [
    "Ahora, usemos la última clase `Perro()` que definimos, que ya tiene atributos:"
   ]
  },
  {
   "cell_type": "code",
   "execution_count": 29,
   "metadata": {},
   "outputs": [
    {
     "data": {
      "text/plain": [
       "'Max'"
      ]
     },
     "execution_count": 29,
     "metadata": {},
     "output_type": "execute_result"
    }
   ],
   "source": [
    "# Acceder a los atributos de instancia: imprimir nombre y edad de cada perro\n",
    "perro1.nombre"
   ]
  },
  {
   "cell_type": "code",
   "execution_count": 30,
   "metadata": {},
   "outputs": [
    {
     "data": {
      "text/plain": [
       "'Mamifero'"
      ]
     },
     "execution_count": 30,
     "metadata": {},
     "output_type": "execute_result"
    }
   ],
   "source": [
    "# Acceder a los atributos de clase\n",
    "perro1.especie"
   ]
  },
  {
   "cell_type": "code",
   "execution_count": 31,
   "metadata": {},
   "outputs": [
    {
     "ename": "AttributeError",
     "evalue": "type object 'Perro' has no attribute 'edad'",
     "output_type": "error",
     "traceback": [
      "\u001b[1;31m---------------------------------------------------------------------------\u001b[0m",
      "\u001b[1;31mAttributeError\u001b[0m                            Traceback (most recent call last)",
      "\u001b[1;32m~\\AppData\\Local\\Temp/ipykernel_40632/815111852.py\u001b[0m in \u001b[0;36m<module>\u001b[1;34m\u001b[0m\n\u001b[0;32m      1\u001b[0m \u001b[1;31m# La clase no puede acceder a los atributos de instancia\u001b[0m\u001b[1;33m\u001b[0m\u001b[1;33m\u001b[0m\u001b[1;33m\u001b[0m\u001b[0m\n\u001b[1;32m----> 2\u001b[1;33m \u001b[0mPerro\u001b[0m\u001b[1;33m.\u001b[0m\u001b[0medad\u001b[0m\u001b[1;33m\u001b[0m\u001b[1;33m\u001b[0m\u001b[0m\n\u001b[0m",
      "\u001b[1;31mAttributeError\u001b[0m: type object 'Perro' has no attribute 'edad'"
     ]
    }
   ],
   "source": [
    "# La clase no puede acceder a los atributos de instancia\n",
    "Perro.edad"
   ]
  },
  {
   "cell_type": "code",
   "execution_count": null,
   "metadata": {},
   "outputs": [],
   "source": []
  },
  {
   "cell_type": "markdown",
   "metadata": {},
   "source": [
    "¿Cómo saber que cierto objeto es una instancia de una clase en particular?"
   ]
  },
  {
   "cell_type": "code",
   "execution_count": 32,
   "metadata": {},
   "outputs": [
    {
     "data": {
      "text/plain": [
       "True"
      ]
     },
     "execution_count": 32,
     "metadata": {},
     "output_type": "execute_result"
    }
   ],
   "source": [
    "# Función isinstance\n",
    "isinstance(perro1,Perro)"
   ]
  },
  {
   "cell_type": "code",
   "execution_count": 33,
   "metadata": {},
   "outputs": [
    {
     "data": {
      "text/plain": [
       "False"
      ]
     },
     "execution_count": 33,
     "metadata": {},
     "output_type": "execute_result"
    }
   ],
   "source": [
    "isinstance(1,Perro)"
   ]
  },
  {
   "cell_type": "code",
   "execution_count": 34,
   "metadata": {},
   "outputs": [],
   "source": [
    "# Función isinstance sobre los objetos\n"
   ]
  },
  {
   "cell_type": "code",
   "execution_count": 35,
   "metadata": {},
   "outputs": [],
   "source": [
    "# La función is instance puede usarse para prevenir comportamientos no deseados\n",
    "class Perro():\n",
    "    def __init__(self, nombre, edad):\n",
    "        if isinstance(nombre, str):\n",
    "            self.nombre = nombre\n",
    "        else:\n",
    "            raise ValueError(f'La entrada nombre tiene que ser una instancia de las clase str en vez de {type(nombre)}')\n",
    "        self.edad = edad\n",
    "        Perro.especie = 'Mamifero'"
   ]
  },
  {
   "cell_type": "code",
   "execution_count": 36,
   "metadata": {},
   "outputs": [],
   "source": [
    "p1 = Perro(nombre='Bombon', edad=3)"
   ]
  },
  {
   "cell_type": "code",
   "execution_count": 37,
   "metadata": {},
   "outputs": [
    {
     "ename": "ValueError",
     "evalue": "La entrada nombre tiene que ser una instancia de las clase str en vez de <class 'int'>",
     "output_type": "error",
     "traceback": [
      "\u001b[1;31m---------------------------------------------------------------------------\u001b[0m",
      "\u001b[1;31mValueError\u001b[0m                                Traceback (most recent call last)",
      "\u001b[1;32m~\\AppData\\Local\\Temp/ipykernel_40632/2137654329.py\u001b[0m in \u001b[0;36m<module>\u001b[1;34m\u001b[0m\n\u001b[1;32m----> 1\u001b[1;33m \u001b[0mp2\u001b[0m \u001b[1;33m=\u001b[0m \u001b[0mPerro\u001b[0m\u001b[1;33m(\u001b[0m\u001b[0mnombre\u001b[0m\u001b[1;33m=\u001b[0m\u001b[1;36m5\u001b[0m\u001b[1;33m,\u001b[0m \u001b[0medad\u001b[0m\u001b[1;33m=\u001b[0m\u001b[1;36m3\u001b[0m\u001b[1;33m)\u001b[0m\u001b[1;33m\u001b[0m\u001b[1;33m\u001b[0m\u001b[0m\n\u001b[0m",
      "\u001b[1;32m~\\AppData\\Local\\Temp/ipykernel_40632/204726255.py\u001b[0m in \u001b[0;36m__init__\u001b[1;34m(self, nombre, edad)\u001b[0m\n\u001b[0;32m      5\u001b[0m             \u001b[0mself\u001b[0m\u001b[1;33m.\u001b[0m\u001b[0mnombre\u001b[0m \u001b[1;33m=\u001b[0m \u001b[0mnombre\u001b[0m\u001b[1;33m\u001b[0m\u001b[1;33m\u001b[0m\u001b[0m\n\u001b[0;32m      6\u001b[0m         \u001b[1;32melse\u001b[0m\u001b[1;33m:\u001b[0m\u001b[1;33m\u001b[0m\u001b[1;33m\u001b[0m\u001b[0m\n\u001b[1;32m----> 7\u001b[1;33m             \u001b[1;32mraise\u001b[0m \u001b[0mValueError\u001b[0m\u001b[1;33m(\u001b[0m\u001b[1;34mf'La entrada nombre tiene que ser una instancia de las clase str en vez de {type(nombre)}'\u001b[0m\u001b[1;33m)\u001b[0m\u001b[1;33m\u001b[0m\u001b[1;33m\u001b[0m\u001b[0m\n\u001b[0m\u001b[0;32m      8\u001b[0m         \u001b[0mself\u001b[0m\u001b[1;33m.\u001b[0m\u001b[0medad\u001b[0m \u001b[1;33m=\u001b[0m \u001b[0medad\u001b[0m\u001b[1;33m\u001b[0m\u001b[1;33m\u001b[0m\u001b[0m\n\u001b[0;32m      9\u001b[0m         \u001b[0mPerro\u001b[0m\u001b[1;33m.\u001b[0m\u001b[0mespecie\u001b[0m \u001b[1;33m=\u001b[0m \u001b[1;34m'Mamifero'\u001b[0m\u001b[1;33m\u001b[0m\u001b[1;33m\u001b[0m\u001b[0m\n",
      "\u001b[1;31mValueError\u001b[0m: La entrada nombre tiene que ser una instancia de las clase str en vez de <class 'int'>"
     ]
    }
   ],
   "source": [
    "p2 = Perro(nombre=5, edad=3)"
   ]
  },
  {
   "cell_type": "markdown",
   "metadata": {},
   "source": [
    "#### ¿Qué sucedió?"
   ]
  },
  {
   "cell_type": "markdown",
   "metadata": {},
   "source": [
    "## 2.3 Métodos de instancia\n",
    "\n",
    "Los métodos de instancia se definen dentrp de una clase, y se usan para obtener/modificar los contenidos de la instancia.\n",
    "\n",
    "También pueden ser usados para llevar a cabo operaciones con los atributos de los objetos.\n",
    "\n",
    "De la misma manera que el método `__init__()`, el primer argumento es siempre `self`:"
   ]
  },
  {
   "cell_type": "code",
   "execution_count": 38,
   "metadata": {},
   "outputs": [],
   "source": [
    "# A partir de la clase ya definida, crear dos métodos:\n",
    "# uno para describir el perro (nombre y edad),\n",
    "# y otro para que el perro ladre.\n",
    "class Perro():\n",
    "    def __init__(self, nombre, edad):\n",
    "        if isinstance(nombre, str):\n",
    "            self.nombre = nombre\n",
    "        else:\n",
    "            raise ValueError(f'La entrada nombre tiene que ser una instancia de las clase str en vez de {type(nombre)}')\n",
    "        self.edad = edad\n",
    "        Perro.especie = 'Mamifero'\n",
    "    \n",
    "    def ladrar(self, ladrido='gua'):\n",
    "        print(f'{ladrido}, {ladrido}')\n",
    "        \n",
    "    def describir(self):\n",
    "        print(f'{self.nombre} tiene {self.edad} años')"
   ]
  },
  {
   "cell_type": "code",
   "execution_count": 39,
   "metadata": {},
   "outputs": [
    {
     "data": {
      "text/plain": [
       "<__main__.Perro at 0x1e73db00550>"
      ]
     },
     "execution_count": 39,
     "metadata": {},
     "output_type": "execute_result"
    }
   ],
   "source": [
    "# Instanciar un perro y usar los métodos anteriormente definidos\n",
    "p1= Perro(nombre='bombon', edad=3)\n",
    "p1"
   ]
  },
  {
   "cell_type": "code",
   "execution_count": 40,
   "metadata": {},
   "outputs": [
    {
     "name": "stdout",
     "output_type": "stream",
     "text": [
      "gua, gua\n"
     ]
    }
   ],
   "source": [
    "p1.ladrar()"
   ]
  },
  {
   "cell_type": "code",
   "execution_count": 41,
   "metadata": {},
   "outputs": [
    {
     "name": "stdout",
     "output_type": "stream",
     "text": [
      "bombon tiene 3 años\n"
     ]
    }
   ],
   "source": [
    "p1.describir()"
   ]
  },
  {
   "cell_type": "markdown",
   "metadata": {},
   "source": [
    "### 2.3.1 Modificando atributos\n",
    "\n",
    "Se puede modificar el valor de los atributos con base en algún comportamiento:\n",
    "\n",
    "> Se recomienda modificar estos atributos por medio de métodos y nunca directamente."
   ]
  },
  {
   "cell_type": "code",
   "execution_count": 42,
   "metadata": {},
   "outputs": [],
   "source": [
    "# Ejemplo: clase email con atributo enviado y método enviar\n",
    "class EMail():\n",
    "    def __init__(self):\n",
    "        self.mensaje=''\n",
    "        self.enviado=False\n",
    "    \n",
    "    def escribir_mensaje(self, mensaje):\n",
    "        self.mensaje = mensaje\n",
    "    \n",
    "    def enviar(self):\n",
    "        self.enviado=True"
   ]
  },
  {
   "cell_type": "code",
   "execution_count": 43,
   "metadata": {},
   "outputs": [],
   "source": [
    "# Instanciar, ver atributo, correr método y ver atributo de nuevo\n",
    "email = EMail()"
   ]
  },
  {
   "cell_type": "code",
   "execution_count": 44,
   "metadata": {},
   "outputs": [
    {
     "data": {
      "text/plain": [
       "('', False)"
      ]
     },
     "execution_count": 44,
     "metadata": {},
     "output_type": "execute_result"
    }
   ],
   "source": [
    "email.mensaje, email.enviado"
   ]
  },
  {
   "cell_type": "code",
   "execution_count": 45,
   "metadata": {},
   "outputs": [],
   "source": [
    "email.escribir_mensaje('Hola a todos!')"
   ]
  },
  {
   "cell_type": "code",
   "execution_count": 46,
   "metadata": {},
   "outputs": [
    {
     "data": {
      "text/plain": [
       "'Hola a todos!'"
      ]
     },
     "execution_count": 46,
     "metadata": {},
     "output_type": "execute_result"
    }
   ],
   "source": [
    "email.mensaje"
   ]
  },
  {
   "cell_type": "code",
   "execution_count": 47,
   "metadata": {},
   "outputs": [
    {
     "data": {
      "text/plain": [
       "False"
      ]
     },
     "execution_count": 47,
     "metadata": {},
     "output_type": "execute_result"
    }
   ],
   "source": [
    "email.enviado"
   ]
  },
  {
   "cell_type": "code",
   "execution_count": 48,
   "metadata": {},
   "outputs": [],
   "source": [
    "email.enviar()"
   ]
  },
  {
   "cell_type": "code",
   "execution_count": 49,
   "metadata": {},
   "outputs": [
    {
     "data": {
      "text/plain": [
       "True"
      ]
     },
     "execution_count": 49,
     "metadata": {},
     "output_type": "execute_result"
    }
   ],
   "source": [
    "email.enviado"
   ]
  },
  {
   "cell_type": "markdown",
   "metadata": {},
   "source": [
    "No pretendo que se vuelvan expertos en una clase, pero hasta acá, deberían saber que son clases, porqué querríamos usarlas, y cómo usar herencia para estructurar mejor sus códigos.\n",
    "\n",
    "El paradigma de POO no es un concepto de Python. La mayoría de los lenguajes de programación modernos tales como Java, C#, C++ siguen principios de POO.\n",
    "\n",
    "La buena noticia es que los fundamentos de POO son transversales al lenguaje de programación.\n",
    "\n",
    "Adicionalmente, ya entenderán perfectamente cuando utilicemos las expresiones útiles\n",
    "\n",
    "`objeto.metodo()`\n",
    "\n",
    "`objeto.atributo`"
   ]
  },
  {
   "cell_type": "markdown",
   "metadata": {},
   "source": [
    "### Les recomiendo leer este [artículo](https://www.freecodecamp.org/news/object-oriented-programming-concepts-21bb035f7260/) acerca de los conceptos básicos de POO.\n"
   ]
  },
  {
   "cell_type": "markdown",
   "metadata": {},
   "source": [
    "## Crear una clase del curso en Python"
   ]
  },
  {
   "cell_type": "code",
   "execution_count": null,
   "metadata": {},
   "outputs": [],
   "source": [
    "class CDIN:\n",
    "    def __init__(self,...):\n",
    "        self.atributo1=None\n",
    "        self.atributo2=None\n",
    "    \n",
    "    def get_binarios(self):\n",
    "        \n",
    "    def get_cualitativos(self,...):\n",
    "        \n",
    "    def get_cuantitativos(self,...):\n",
    "        \n",
    "        \n",
    "    "
   ]
  },
  {
   "cell_type": "code",
   "execution_count": null,
   "metadata": {},
   "outputs": [],
   "source": [
    "cd = CDIN(....)\n",
    "cd.get_binarios()\n"
   ]
  },
  {
   "cell_type": "markdown",
   "metadata": {},
   "source": [
    "## Actividad 2:\n",
    "\n",
    "- Crear una clase que contenga los métodos de selección de tipos de datos (binarios, cualitativos, cuantitativos)\n",
    "- Instanciar un objeto y utilizar el dataset df_bank para obtener la clasificación de los datos"
   ]
  },
  {
   "cell_type": "code",
   "execution_count": null,
   "metadata": {},
   "outputs": [],
   "source": [
    "def get_binarios(df):\n",
    "    col = df.columns\n",
    "    col_binarias = []\n",
    "    for c in col:\n",
    "        if df[c].nunique()==2:\n",
    "            col_binarias.append(c)\n",
    "    return col_binarias, df[col_binarias]"
   ]
  },
  {
   "cell_type": "code",
   "execution_count": null,
   "metadata": {},
   "outputs": [],
   "source": [
    "def get_cualitativos(df):\n",
    "    df_cuali = df.select_dtypes(include=['object']).copy()\n",
    "    # No se hace distinción entre cat nominales y ordinales\n",
    "    return df_cuali, df_cuali.columns"
   ]
  },
  {
   "cell_type": "code",
   "execution_count": null,
   "metadata": {},
   "outputs": [],
   "source": [
    "def get_cuantitativos(df):\n",
    "    df_cuanti = df.select_dtypes(include=['number']).copy()\n",
    "    return df_cuanti, df_cuanti.columns"
   ]
  },
  {
   "cell_type": "code",
   "execution_count": 72,
   "metadata": {},
   "outputs": [],
   "source": [
    "class CDIN:\n",
    "    def __init__(self,df):\n",
    "        self.df=df\n",
    "        self.col_binarios=None\n",
    "        self.col_cuantitativos=None\n",
    "        self.col_cualitativos=None\n",
    "   \n",
    "    # Métodos para obtener la clasificación de los datos en un dataframe \n",
    "    def get_binarios(self):\n",
    "        col = self.df.columns\n",
    "        col_binarias = []\n",
    "        for c in col:\n",
    "            if self.df[c].nunique()==2:\n",
    "                col_binarias.append(c)\n",
    "        \n",
    "        self.col_binarios = col_binarias\n",
    "        return self.col_binarios, self.df[self.col_binarios]\n",
    "        \n",
    "    def get_cualitativos(self):\n",
    "        df_cuali = self.df.select_dtypes(include=['object']).copy()\n",
    "        self.col_cualitativos = df_cuali.columns\n",
    "        # No se hace distinción entre cat nominales y ordinales\n",
    "        \n",
    "        return self.col_cualitativos, df_cuali\n",
    "    \n",
    "    def get_cuantitativos(self):\n",
    "        df_cuanti = df.select_dtypes(include=['number']).copy()\n",
    "        self.col_cuantitativos = df_cuanti.columns\n",
    "        return self.col_cuantitativos, df_cuanti\n",
    "        "
   ]
  },
  {
   "cell_type": "code",
   "execution_count": 73,
   "metadata": {},
   "outputs": [],
   "source": [
    "import pandas as pd\n",
    "df_bank = pd.read_csv('../Data/bank.csv')"
   ]
  },
  {
   "cell_type": "code",
   "execution_count": 74,
   "metadata": {},
   "outputs": [
    {
     "data": {
      "text/html": [
       "<div>\n",
       "<style scoped>\n",
       "    .dataframe tbody tr th:only-of-type {\n",
       "        vertical-align: middle;\n",
       "    }\n",
       "\n",
       "    .dataframe tbody tr th {\n",
       "        vertical-align: top;\n",
       "    }\n",
       "\n",
       "    .dataframe thead th {\n",
       "        text-align: right;\n",
       "    }\n",
       "</style>\n",
       "<table border=\"1\" class=\"dataframe\">\n",
       "  <thead>\n",
       "    <tr style=\"text-align: right;\">\n",
       "      <th></th>\n",
       "      <th>age</th>\n",
       "      <th>job</th>\n",
       "      <th>marital</th>\n",
       "      <th>education</th>\n",
       "      <th>default</th>\n",
       "      <th>balance</th>\n",
       "      <th>housing</th>\n",
       "      <th>loan</th>\n",
       "      <th>contact</th>\n",
       "      <th>day</th>\n",
       "      <th>month</th>\n",
       "      <th>duration</th>\n",
       "      <th>campaign</th>\n",
       "      <th>pdays</th>\n",
       "      <th>previous</th>\n",
       "      <th>poutcome</th>\n",
       "      <th>y</th>\n",
       "    </tr>\n",
       "  </thead>\n",
       "  <tbody>\n",
       "    <tr>\n",
       "      <th>0</th>\n",
       "      <td>30</td>\n",
       "      <td>unemployed</td>\n",
       "      <td>married</td>\n",
       "      <td>primary</td>\n",
       "      <td>no</td>\n",
       "      <td>1787</td>\n",
       "      <td>no</td>\n",
       "      <td>no</td>\n",
       "      <td>cellular</td>\n",
       "      <td>19</td>\n",
       "      <td>oct</td>\n",
       "      <td>79</td>\n",
       "      <td>1</td>\n",
       "      <td>-1</td>\n",
       "      <td>0</td>\n",
       "      <td>unknown</td>\n",
       "      <td>no</td>\n",
       "    </tr>\n",
       "    <tr>\n",
       "      <th>1</th>\n",
       "      <td>33</td>\n",
       "      <td>services</td>\n",
       "      <td>married</td>\n",
       "      <td>secondary</td>\n",
       "      <td>no</td>\n",
       "      <td>4789</td>\n",
       "      <td>yes</td>\n",
       "      <td>yes</td>\n",
       "      <td>cellular</td>\n",
       "      <td>11</td>\n",
       "      <td>may</td>\n",
       "      <td>220</td>\n",
       "      <td>1</td>\n",
       "      <td>339</td>\n",
       "      <td>4</td>\n",
       "      <td>failure</td>\n",
       "      <td>no</td>\n",
       "    </tr>\n",
       "    <tr>\n",
       "      <th>2</th>\n",
       "      <td>35</td>\n",
       "      <td>management</td>\n",
       "      <td>single</td>\n",
       "      <td>tertiary</td>\n",
       "      <td>no</td>\n",
       "      <td>1350</td>\n",
       "      <td>yes</td>\n",
       "      <td>no</td>\n",
       "      <td>cellular</td>\n",
       "      <td>16</td>\n",
       "      <td>apr</td>\n",
       "      <td>185</td>\n",
       "      <td>1</td>\n",
       "      <td>330</td>\n",
       "      <td>1</td>\n",
       "      <td>failure</td>\n",
       "      <td>no</td>\n",
       "    </tr>\n",
       "    <tr>\n",
       "      <th>3</th>\n",
       "      <td>30</td>\n",
       "      <td>management</td>\n",
       "      <td>married</td>\n",
       "      <td>tertiary</td>\n",
       "      <td>no</td>\n",
       "      <td>1476</td>\n",
       "      <td>yes</td>\n",
       "      <td>yes</td>\n",
       "      <td>unknown</td>\n",
       "      <td>3</td>\n",
       "      <td>jun</td>\n",
       "      <td>199</td>\n",
       "      <td>4</td>\n",
       "      <td>-1</td>\n",
       "      <td>0</td>\n",
       "      <td>unknown</td>\n",
       "      <td>no</td>\n",
       "    </tr>\n",
       "    <tr>\n",
       "      <th>4</th>\n",
       "      <td>59</td>\n",
       "      <td>blue-collar</td>\n",
       "      <td>married</td>\n",
       "      <td>secondary</td>\n",
       "      <td>no</td>\n",
       "      <td>0</td>\n",
       "      <td>yes</td>\n",
       "      <td>no</td>\n",
       "      <td>unknown</td>\n",
       "      <td>5</td>\n",
       "      <td>may</td>\n",
       "      <td>226</td>\n",
       "      <td>1</td>\n",
       "      <td>-1</td>\n",
       "      <td>0</td>\n",
       "      <td>unknown</td>\n",
       "      <td>no</td>\n",
       "    </tr>\n",
       "  </tbody>\n",
       "</table>\n",
       "</div>"
      ],
      "text/plain": [
       "   age          job  marital  education default  balance housing loan  \\\n",
       "0   30   unemployed  married    primary      no     1787      no   no   \n",
       "1   33     services  married  secondary      no     4789     yes  yes   \n",
       "2   35   management   single   tertiary      no     1350     yes   no   \n",
       "3   30   management  married   tertiary      no     1476     yes  yes   \n",
       "4   59  blue-collar  married  secondary      no        0     yes   no   \n",
       "\n",
       "    contact  day month  duration  campaign  pdays  previous poutcome   y  \n",
       "0  cellular   19   oct        79         1     -1         0  unknown  no  \n",
       "1  cellular   11   may       220         1    339         4  failure  no  \n",
       "2  cellular   16   apr       185         1    330         1  failure  no  \n",
       "3   unknown    3   jun       199         4     -1         0  unknown  no  \n",
       "4   unknown    5   may       226         1     -1         0  unknown  no  "
      ]
     },
     "execution_count": 74,
     "metadata": {},
     "output_type": "execute_result"
    }
   ],
   "source": [
    "df_bank.head()"
   ]
  },
  {
   "cell_type": "code",
   "execution_count": 75,
   "metadata": {},
   "outputs": [],
   "source": [
    "obj1 = CDIN(df_bank)"
   ]
  },
  {
   "cell_type": "code",
   "execution_count": 76,
   "metadata": {},
   "outputs": [
    {
     "data": {
      "text/plain": [
       "(['default', 'housing', 'loan', 'y'],\n",
       "      default housing loan   y\n",
       " 0         no      no   no  no\n",
       " 1         no     yes  yes  no\n",
       " 2         no     yes   no  no\n",
       " 3         no     yes  yes  no\n",
       " 4         no     yes   no  no\n",
       " ...      ...     ...  ...  ..\n",
       " 4516      no     yes   no  no\n",
       " 4517     yes     yes  yes  no\n",
       " 4518      no      no   no  no\n",
       " 4519      no      no   no  no\n",
       " 4520      no     yes  yes  no\n",
       " \n",
       " [4521 rows x 4 columns])"
      ]
     },
     "execution_count": 76,
     "metadata": {},
     "output_type": "execute_result"
    }
   ],
   "source": [
    "obj1.get_binarios()"
   ]
  },
  {
   "cell_type": "code",
   "execution_count": null,
   "metadata": {},
   "outputs": [],
   "source": []
  }
 ],
 "metadata": {
  "kernelspec": {
   "display_name": "Python 3 (ipykernel)",
   "language": "python",
   "name": "python3"
  },
  "language_info": {
   "codemirror_mode": {
    "name": "ipython",
    "version": 3
   },
   "file_extension": ".py",
   "mimetype": "text/x-python",
   "name": "python",
   "nbconvert_exporter": "python",
   "pygments_lexer": "ipython3",
   "version": "3.8.8"
  }
 },
 "nbformat": 4,
 "nbformat_minor": 2
}
