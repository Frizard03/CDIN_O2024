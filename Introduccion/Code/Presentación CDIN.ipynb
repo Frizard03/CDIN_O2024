{
 "cells": [
  {
   "cell_type": "markdown",
   "metadata": {},
   "source": [
    "\n",
    "<img style=\"float: left;;\" src='../Figures/iteso.jpg' width=\"100\" height=\"200\"/></a>\n",
    "\n",
    "\n",
    "## <center> <font color= #000047> Bienvenidos al curso: </font> </center>\n",
    "\n",
    "# <center> <font color= #000047> Ciencia de Datos e Inteligencia de Negocios (CDIN)</font> </center>\n",
    "\n"
   ]
  },
  {
   "cell_type": "markdown",
   "metadata": {},
   "source": [
    "\n",
    "\n",
    "#### <font color= #2E9AFE>  Modalidad Virtual `Martes, y Viernes(Virtual)  de 7:00hrs a 9:00 hrs`</font>\n",
    "- <Strong> Gaddiel Desirena López </Strong>\n",
    "\n",
    "\n",
    "- <Strong> Email: </Strong>  <font color=\"blue\"> gdesirena@iteso.mx </font>\n",
    "\n",
    "___"
   ]
  },
  {
   "cell_type": "markdown",
   "metadata": {},
   "source": [
    "**La ciencia de datos es un campo interdisciplinario que involucra a los procesos y sistemas para extraer conocimiento o un mejor entendimiento de grandes volúmenes de datos en sus \n",
    "diferentes formas y formatos. Por otra parte, la inteligencia empresarial, inteligencia de negocios o BI (del inglés business intelligence), es el conjunto de estrategias, aplicaciones, datos, \n",
    "productos, tecnologías y arquitectura técnica, los cuales están enfocados a la administración y creación de conocimiento a través del análisis de los datos existentes en una organización \n",
    "o empresa.**\n",
    "\n",
    "**La asignatura de Ciencia de Datos e Inteligencia de Negocios introduce técnicas de manejo y limpieza de datos para ser analizados y visualizados para la obtención de conocimiento y \n",
    "realizar la toma de decisiones en los negocios. Además, se plantea el fundamento, funcionamiento y la implementación de métodos de análisis de datos por medio de algoritmos de \n",
    "aprendizaje máquina (Machine Learning) supervisado y no supervisado.**"
   ]
  },
  {
   "cell_type": "markdown",
   "metadata": {},
   "source": [
    "# Propósito General\n",
    "\n",
    "Analizar bases de datos mediante el uso de algoritmos de\n",
    "aprendizaje máquina para la toma de decisiones en fenómenos\n",
    "financieros."
   ]
  },
  {
   "cell_type": "markdown",
   "metadata": {},
   "source": [
    "# Temario\n",
    "\n",
    "Este curso está dividido en cuatro módulos. \n",
    "\n",
    "`Introducción.` **Repaso de Librerías Numpy, Pandas.**\n",
    "\n",
    "    1. Lenguaje de Programación del Curso.\n",
    "    2. Repaso librería Numpy.\n",
    "    3. Repaso librería Pandas.\n",
    "        - Tarea 1.\n",
    "    4.- ¿Qué es la Ciencia de Datos?\n",
    "    5.- Definiciones.\n",
    "    \n",
    "`Módulo 1.` **Minería de Datos: Datos y su clasificación.**\n",
    "\n",
    "    1. Datos y su Clasificación.\n",
    "    2. Análisis Exploratorio de Datos (EDA).\n",
    "    3. Reporte de Calidad de Datos (DQR).\n",
    "    4. Limpieza de datos.\n",
    "    5. Medidas de Similitud datos.\n",
    "    - Tarea 2.\n",
    "\n",
    "`Módulo 2.` **Preprocesamiento de Datos y Aprendizaje no Supervizado.**\n",
    "\n",
    "    1. Integración de datos.\n",
    "    2. ¿Qué es el Aprendizaje Automático?\n",
    "    3. Aprendizaje no Supervizado para Ciencia de Datos\n",
    "    4. Búsqueda de Patrones (algoritmos de clustering)\n",
    "    5. Reducción de Datos (Análisis de Componentes Principales)\n",
    "    - Tarea 3.\n",
    "    \n",
    "`Módulo 3.` **Aprendizaje Supervizado en Ciencia de Datos.**\n",
    "\n",
    "    1. Análisis de Discriminantes Lineales.\n",
    "    2. Regresión Logística.\n",
    "    3. Máquina de Vector Soporte (SVM)\n",
    "    4. Introducción a las Redes Neuronales\n",
    "    - Tarea 4."
   ]
  },
  {
   "cell_type": "markdown",
   "metadata": {},
   "source": [
    "### `Evaluación`\n",
    "\n",
    "- **2 Proyectos (trabajo en equipo) 40%**\n",
    " - Cada proyecto tiene el mismo valor\n",
    "  - La evaluación de cada proyecto se divide en dos partes \n",
    "   - Reporte     50%\n",
    "   - Exposición  50% \n",
    "- **3 Examenes (Teórico y Práctico) 30%**\n",
    "- **Tareas y actividades de clase 30%**\n"
   ]
  },
  {
   "cell_type": "markdown",
   "metadata": {},
   "source": [
    "____\n",
    "### Herramientas computacionales\n",
    "\n",
    "### - [python](https://www.python.org) - [Anaconda](https://www.anaconda.com/distribution/) - [Jupyter](http://jupyter.org)\n",
    "\n",
    " <div>\n",
    "<img style=\"float: left; margin: 0px 0px 15px 15px;\" src=\"https://www.python.org/static/community_logos/python-logo.png\" width=\"200px\" height=\"200px\" alt=\"atom\" />\n",
    "<img style=\"float: left; margin: 0px 0px 15px 15px;\" src=\"https://upload.wikimedia.org/wikipedia/en/c/cd/Anaconda_Logo.png\" width=\"120\" />\n",
    "<img style=\"float: left; margin: 0px 0px 15px 15px;\" src=\"http://jupyter.org/assets/main-logo.svg\" width=\"80\" />\n"
   ]
  },
  {
   "cell_type": "markdown",
   "metadata": {},
   "source": [
    "## Herramientas adicionales"
   ]
  },
  {
   "cell_type": "markdown",
   "metadata": {},
   "source": [
    "- [Markdown](https://confluence.atlassian.com/bitbucketserver/markdown-syntax-guide-776639995.html)\n",
    "- [git](https://git-scm.com)\n",
    "- [GitHub](https://github.com)\n",
    "- [GitKraken](https://www.gitkraken.com/)"
   ]
  },
  {
   "cell_type": "markdown",
   "metadata": {},
   "source": [
    "**Primer tarea**\n",
    "\n",
    "Instalar `Git`, crear una cuenta en `GitHub`"
   ]
  },
  {
   "cell_type": "markdown",
   "metadata": {},
   "source": [
    "# Repaso de Python y Librerías"
   ]
  },
  {
   "cell_type": "markdown",
   "metadata": {},
   "source": [
    "\n",
    "\n",
    "- `Librería Numpy`\n",
    "\n",
    "- `Librería Pandas`"
   ]
  },
  {
   "cell_type": "code",
   "execution_count": null,
   "metadata": {},
   "outputs": [],
   "source": []
  }
 ],
 "metadata": {
  "kernelspec": {
   "display_name": "Python 3 (ipykernel)",
   "language": "python",
   "name": "python3"
  },
  "language_info": {
   "codemirror_mode": {
    "name": "ipython",
    "version": 3
   },
   "file_extension": ".py",
   "mimetype": "text/x-python",
   "name": "python",
   "nbconvert_exporter": "python",
   "pygments_lexer": "ipython3",
   "version": "3.8.8"
  }
 },
 "nbformat": 4,
 "nbformat_minor": 2
}
