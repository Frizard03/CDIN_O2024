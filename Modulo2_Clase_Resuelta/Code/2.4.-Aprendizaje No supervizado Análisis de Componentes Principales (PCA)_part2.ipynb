{
 "cells": [
  {
   "cell_type": "markdown",
   "metadata": {},
   "source": [
    "<img style=\"float: left;;\" src='../Imagenes/iteso.jpg' width=\"50\" height=\"100\"/></a>\n",
    "\n",
    "# <center> <font color= #000047> Módulo II: Aprendizaje No supervizado: PCA\n"
   ]
  },
  {
   "cell_type": "markdown",
   "metadata": {},
   "source": [
    "## Introducción\n"
   ]
  },
  {
   "cell_type": "markdown",
   "metadata": {},
   "source": [
    "A menudo, el objetivo deseado es reducir las dimensiones de un conjunto de datos $d$ dimensional proyectándolo en un subespacio de $k$ dimensiones ($k<d$) para aumentar la eficiencia computacional mientras se conserva la mayor parte de la información. \n",
    "\n",
    "**Obj de PCA:** Reducir las dimensiones de un conjunto de datos a una dimensión menor\n",
    "\n",
    "Una pregunta importante que hay que hacer es \n",
    "\n",
    "- ¿Pero, como saber cuál es el tamaño de  𝑘  que representa la mayor información de nuestros datos?\n",
    "\n"
   ]
  },
  {
   "cell_type": "markdown",
   "metadata": {},
   "source": [
    "### Algoritmo\n",
    "\n",
    "1.- Obtener la matriz de covarianza\n",
    "\n",
    "2.- Obtener los valores y vectores propios de la matriz covarianza\n",
    "\n",
    "3.- Realizar una transformación de datos del espacio original al espacio con una dimensión menor"
   ]
  },
  {
   "cell_type": "markdown",
   "metadata": {},
   "source": [
    "### 1.- Matriz de covarianza\n",
    "\n",
    "La matriz de covarianza se denota como $\\sigma$, el cual es una matriz de $d \\times d$ donde cada elemento representa la matriz de covarianza de dos features (variables). La covarianza de dos datos se calcula como sigue:\n",
    "\n",
    "$$\\sigma_{jk} = \\frac{1}{n-1}\\sum_{i=1}^{N}\\left(  x_{ij}-\\bar{x}_j \\right)  \\left( x_{ik}-\\bar{x}_k \\right).$$\n",
    "\n",
    "Podemos resumir el calculo de la matriz de covarianza de forma matricial como:\n",
    "$\\Sigma = \\frac{1}{n-1} \\left( (\\mathbf{X} - \\mathbf{\\bar{x}})^T\\;(\\mathbf{X} - \\mathbf{\\bar{x}}) \\right)$\n",
    "donde $\\mathbf{\\bar{x}}$ es el vector de medias $\\mathbf{\\bar{x}} = 1/n\\sum\\limits_{i=1}^n x_{i}.$\n",
    "El vector de medias es un vector de dimension $d$ donde cada valor en este vector representa la media de cada columna de datos en el dataset."
   ]
  },
  {
   "cell_type": "markdown",
   "metadata": {},
   "source": [
    "### 2.- Valores y Vectores Propios\n",
    "\n",
    "### Repaso:\n",
    "\n",
    "#### Valores propios\n",
    "$det(\\lambda I - A) = 0$\n",
    "\n",
    "Para encontrar los valores propios veamos un ejemplo:\n",
    "\n",
    "$$A=\\begin{bmatrix} 4 &  1\\\\ -6 & -3 \\end{bmatrix}$$\n",
    "\n",
    "$$ I=\\begin{bmatrix} 1 &  0\\\\ 0 & 1 \\end{bmatrix}$$\n",
    "$$\\lambda I - A= \\begin{bmatrix} \\lambda - 4 &  -1\\\\ 6 & \\lambda + 3 \\end{bmatrix} $$\n",
    "\n",
    "$$det(\\lambda I - A)= (\\lambda -4)(\\lambda + 3) + 6 = \\lambda^2 -\\lambda -12 + 6= \\lambda^2 - \\lambda - 6 = 0 $$\n",
    "\n",
    "$$ \\lambda_1 = 3$$\n",
    "$$ \\lambda_2 = -2$$"
   ]
  },
  {
   "cell_type": "markdown",
   "metadata": {},
   "source": [
    "#### Vectores propios\n",
    "\n",
    "$$ (\\lambda I - A)v = 0 $$\n",
    "\n",
    "$$v=\\begin{bmatrix} x_1\\\\ x_2 \\end{bmatrix}$$"
   ]
  },
  {
   "cell_type": "markdown",
   "metadata": {},
   "source": [
    "$$(\\lambda I - A)v = \\lambda I - A= \\begin{bmatrix} \\lambda - 4 &  -1\\\\ 6 & \\lambda + 3 \\end{bmatrix}\\begin{bmatrix} x_1\\\\ x_2 \\end{bmatrix}=$$\n",
    "\n",
    "$$\\begin{bmatrix} x_1(\\lambda - 4) -x2\\\\ 6x_1 + x_2(\\lambda + 3) \\end{bmatrix} = \\begin{bmatrix} x_1\\lambda - 4x_1 -x_2\\\\ 6x_1 + x_2\\lambda + 3x_2 \\end{bmatrix} = \\begin{bmatrix} 0\\\\ 0 \\end{bmatrix}$$\n",
    "\n",
    "a) $\\lambda_1 = 3$\n",
    "$$ (\\lambda_1 -4)x_1 - x_2 = 0$$\n",
    "$$ 6x_1 + (\\lambda_1 +3)x_2 = 0$$\n",
    "\n",
    "$$ -x_1 - x_2 = 0$$\n",
    "$$ 6x_1 + 6x_2 = 0$$\n",
    "\n",
    "$x_1 = -x_2$\n",
    "\n",
    "\n",
    "$$v=\\begin{bmatrix} -x_2\\\\ x_2 \\end{bmatrix}$$\n",
    "$$ x_2=1$$\n",
    "$$v=\\begin{bmatrix} -1\\\\ 1 \\end{bmatrix}$$\n",
    "\n",
    "b) $\\lambda_2 = -2$\n",
    "$$x_2=6$$\n",
    "$$v_2=\\begin{bmatrix} -1\\\\ 6 \\end{bmatrix}$$\n",
    "\n",
    "$$ Av = \\lambda v$$\n"
   ]
  },
  {
   "cell_type": "markdown",
   "metadata": {},
   "source": [
    "### Cuales son los vectores que expanden el espacio en $\\mathcal{R}^2$\n",
    "\n",
    "$$ x= \\alpha_1 w_1 + \\alpha_2 w_2$$\n",
    "\n",
    "$$ x = \\begin{bmatrix} -1\\\\ 6 \\end{bmatrix}$$\n",
    "\n",
    "$$ w_1 = \\begin{bmatrix} 1\\\\ 0 \\end{bmatrix}$$\n",
    "\n",
    "$$ w_2 = \\begin{bmatrix} 0\\\\ 1 \\end{bmatrix}$$\n",
    "\n",
    "$$ x= -1w_1 + 6w_2$$\n",
    "\n",
    "$$ x_2 = \\begin{bmatrix} 4\\\\ 8 \\end{bmatrix}$$\n",
    "\n",
    "$$ x= 4w_1 + 8w_2$$\n",
    "\n",
    "Ahora en $\\mathcal{R}^3$ \n",
    "\n",
    "$$ w_1 = \\begin{bmatrix} 1\\\\ 0 \\\\ 0 \\end{bmatrix}$$\n",
    "\n",
    "$$ w_2 = \\begin{bmatrix} 0\\\\ 1 \\\\ 0\\end{bmatrix}$$\n",
    "\n",
    "$$ w_3 = \\begin{bmatrix} 0\\\\ 0 \\\\ 1\\end{bmatrix}$$\n",
    "\n"
   ]
  },
  {
   "cell_type": "markdown",
   "metadata": {},
   "source": [
    "### 3.- Transformación de espacios\n",
    "\n",
    "#### Matriz de transformación\n",
    "\n",
    "$T =[w_1 w_2 w_3]$\n",
    "\n",
    "$$ I=\\begin{bmatrix} 1 &  0 & 0\\\\ 0 &  1 & 0\\\\ 0 & 0 & 1 \\end{bmatrix}$$\n",
    "\n",
    "$$A * T_2 = \\bar{A}$$\n",
    "\n",
    "\n",
    "$$ T_2 \\in \\mathcal{R}^{3x2}$$\n",
    "\n",
    "Si se requiere una transformación de espacios $\\mathcal{R}^3 -> \\mathcal{R}^2$\n",
    "\n",
    "$$A=\\begin{bmatrix} 4 &  1 & 5\\\\ -6 & -3 & 3\\\\ 1 & 2 & 1\\end{bmatrix}$$\n",
    "\n",
    "\n",
    "$$w_1 = \n",
    "\\begin{bmatrix} 1 \\\\ 0 \\\\ 0\\end{bmatrix}$$\n",
    "\n",
    "$$w_2 = \n",
    "\\begin{bmatrix} 0 \\\\ 1 \\\\ 0\\end{bmatrix}$$\n",
    "\n",
    "$$w_3 = \n",
    "\\begin{bmatrix} 0 \\\\ 0 \\\\ 1\\end{bmatrix}$$\n",
    "\n",
    "$T =[w_1 w_2]$\n",
    "\n",
    "$$T=\\begin{bmatrix} 1  & 0\\\\ 0 & 1\\\\ 0 & 0 \\end{bmatrix} \\in \\mathcal{R}^{3x2} $$\n",
    "\n",
    "$$ A*T = ?$$\n",
    "\n",
    "$$\\bar{A}=\\begin{bmatrix} 4 &  1 \\\\ -6 & -3\\\\ 0 & 0 \\end{bmatrix}$$\n",
    "\n",
    "$T=[v_1, v_2, ...,v_n]$\n",
    "\n",
    "$T=[v_1, v_2,v_3]$\n",
    "\n",
    "$A_{new} = A*T$\n",
    "\n",
    "$A = A_{new} T^{-1}$\n",
    "\n",
    "$A = A_{new} T^{T}$\n",
    "\n"
   ]
  },
  {
   "cell_type": "markdown",
   "metadata": {},
   "source": [
    "### Resumen de PCA\n",
    "\n",
    "- Estandarizar los datos\n",
    "- Obtener la matriz de covarianzas\n",
    "- Obtener los valores y vectores propios de la matriz de covarianzas\n",
    "- Ordenar los valores y vectores propios de manera descendente y escoger los k vectores propios que corresponden a los k valores propios más grandes donde k es la dimesion del nuevo espacio \n",
    "- Contruir la matriz de transformación $T$\n",
    "- Realizar la transformación del conjunto de datos $X$ con $T$ para obtener un conjunto de datos $X_{new}$ en un espacio con menor dimensión\n",
    "\n",
    "#### ¿Por qué PCA es útil en el aprendizaje automático?, aquí está la lista de los 3 beneficios principales:\n",
    "\n",
    "- Reduce el tiempo de entrenamiento, debido a un conjunto de datos más pequeño.\n",
    "\n",
    "- Elimina el ruido, manteniendo solo lo relevante.\n",
    "\n",
    "- Hace posible la visualización, en los casos en los que se tiene un máximo de 3 componentes principales.\n"
   ]
  },
  {
   "cell_type": "markdown",
   "metadata": {},
   "source": [
    "## Ejemplo 1:\n",
    "\n"
   ]
  },
  {
   "cell_type": "code",
   "execution_count": 1,
   "metadata": {},
   "outputs": [],
   "source": [
    "import numpy as np\n",
    "import matplotlib.pyplot as plt\n",
    "import pandas as pd"
   ]
  },
  {
   "cell_type": "code",
   "execution_count": 2,
   "metadata": {},
   "outputs": [],
   "source": [
    "data = np.array([[2.5,2.4],\n",
    "                 [0.5,0.6],\n",
    "                 [3.0,3.1],\n",
    "                 [2.5,2.2],\n",
    "                 [1.5,1.2],\n",
    "                 [0.2,0.4],\n",
    "                 [4.5,4.7],\n",
    "                 [1.7,1.2],\n",
    "                 [3.7,3.8],\n",
    "                 [2.1,1.9]])"
   ]
  },
  {
   "cell_type": "code",
   "execution_count": 3,
   "metadata": {},
   "outputs": [
    {
     "data": {
      "text/plain": [
       "array([[2.5, 2.4],\n",
       "       [0.5, 0.6],\n",
       "       [3. , 3.1],\n",
       "       [2.5, 2.2],\n",
       "       [1.5, 1.2],\n",
       "       [0.2, 0.4],\n",
       "       [4.5, 4.7],\n",
       "       [1.7, 1.2],\n",
       "       [3.7, 3.8],\n",
       "       [2.1, 1.9]])"
      ]
     },
     "execution_count": 3,
     "metadata": {},
     "output_type": "execute_result"
    }
   ],
   "source": [
    "data"
   ]
  },
  {
   "cell_type": "code",
   "execution_count": 4,
   "metadata": {},
   "outputs": [
    {
     "data": {
      "text/html": [
       "<div>\n",
       "<style scoped>\n",
       "    .dataframe tbody tr th:only-of-type {\n",
       "        vertical-align: middle;\n",
       "    }\n",
       "\n",
       "    .dataframe tbody tr th {\n",
       "        vertical-align: top;\n",
       "    }\n",
       "\n",
       "    .dataframe thead th {\n",
       "        text-align: right;\n",
       "    }\n",
       "</style>\n",
       "<table border=\"1\" class=\"dataframe\">\n",
       "  <thead>\n",
       "    <tr style=\"text-align: right;\">\n",
       "      <th></th>\n",
       "      <th>x1</th>\n",
       "      <th>x2</th>\n",
       "    </tr>\n",
       "  </thead>\n",
       "  <tbody>\n",
       "    <tr>\n",
       "      <th>0</th>\n",
       "      <td>2.5</td>\n",
       "      <td>2.4</td>\n",
       "    </tr>\n",
       "    <tr>\n",
       "      <th>1</th>\n",
       "      <td>0.5</td>\n",
       "      <td>0.6</td>\n",
       "    </tr>\n",
       "    <tr>\n",
       "      <th>2</th>\n",
       "      <td>3.0</td>\n",
       "      <td>3.1</td>\n",
       "    </tr>\n",
       "    <tr>\n",
       "      <th>3</th>\n",
       "      <td>2.5</td>\n",
       "      <td>2.2</td>\n",
       "    </tr>\n",
       "    <tr>\n",
       "      <th>4</th>\n",
       "      <td>1.5</td>\n",
       "      <td>1.2</td>\n",
       "    </tr>\n",
       "    <tr>\n",
       "      <th>5</th>\n",
       "      <td>0.2</td>\n",
       "      <td>0.4</td>\n",
       "    </tr>\n",
       "    <tr>\n",
       "      <th>6</th>\n",
       "      <td>4.5</td>\n",
       "      <td>4.7</td>\n",
       "    </tr>\n",
       "    <tr>\n",
       "      <th>7</th>\n",
       "      <td>1.7</td>\n",
       "      <td>1.2</td>\n",
       "    </tr>\n",
       "    <tr>\n",
       "      <th>8</th>\n",
       "      <td>3.7</td>\n",
       "      <td>3.8</td>\n",
       "    </tr>\n",
       "    <tr>\n",
       "      <th>9</th>\n",
       "      <td>2.1</td>\n",
       "      <td>1.9</td>\n",
       "    </tr>\n",
       "  </tbody>\n",
       "</table>\n",
       "</div>"
      ],
      "text/plain": [
       "    x1   x2\n",
       "0  2.5  2.4\n",
       "1  0.5  0.6\n",
       "2  3.0  3.1\n",
       "3  2.5  2.2\n",
       "4  1.5  1.2\n",
       "5  0.2  0.4\n",
       "6  4.5  4.7\n",
       "7  1.7  1.2\n",
       "8  3.7  3.8\n",
       "9  2.1  1.9"
      ]
     },
     "execution_count": 4,
     "metadata": {},
     "output_type": "execute_result"
    }
   ],
   "source": [
    "df_data = pd.DataFrame(data, columns = ['x1', 'x2'])\n",
    "df_data\n"
   ]
  },
  {
   "cell_type": "code",
   "execution_count": 5,
   "metadata": {},
   "outputs": [
    {
     "data": {
      "text/plain": [
       "array([[<AxesSubplot:title={'center':'x1'}>,\n",
       "        <AxesSubplot:title={'center':'x2'}>]], dtype=object)"
      ]
     },
     "execution_count": 5,
     "metadata": {},
     "output_type": "execute_result"
    },
    {
     "data": {
      "image/png": "[encoded data removed]",
      "text/plain": [
       "<Figure size 432x288 with 2 Axes>"
      ]
     },
     "metadata": {
      "needs_background": "light"
     },
     "output_type": "display_data"
    }
   ],
   "source": [
    "df_data.hist()"
   ]
  },
  {
   "cell_type": "code",
   "execution_count": 6,
   "metadata": {},
   "outputs": [
    {
     "data": {
      "image/png": "[encoded data removed]",
      "text/plain": [
       "<Figure size 432x288 with 1 Axes>"
      ]
     },
     "metadata": {
      "needs_background": "light"
     },
     "output_type": "display_data"
    }
   ],
   "source": [
    "plt.figure(figsize=(6,4))\n",
    "plt.scatter(df_data.iloc[:,0].values, df_data.iloc[:,1].values)\n",
    "plt.grid()\n",
    "plt.show()"
   ]
  },
  {
   "cell_type": "markdown",
   "metadata": {},
   "source": [
    "### 1.- Estandarizar los datos\n",
    "\n",
    "$$z = \\frac{x -\\bar{x}}{\\sigma}$$"
   ]
  },
  {
   "cell_type": "code",
   "execution_count": 7,
   "metadata": {},
   "outputs": [
    {
     "data": {
      "text/plain": [
       "array([[ 0.22138711,  0.18884739],\n",
       "       [-1.3599494 , -1.17085384],\n",
       "       [ 0.61672124,  0.7176201 ],\n",
       "       [ 0.22138711,  0.03776948],\n",
       "       [-0.56928114, -0.7176201 ],\n",
       "       [-1.59714987, -1.32193176],\n",
       "       [ 1.80272362,  1.92624342],\n",
       "       [-0.41114749, -0.7176201 ],\n",
       "       [ 1.17018902,  1.2463928 ],\n",
       "       [-0.09488019, -0.18884739]])"
      ]
     },
     "execution_count": 7,
     "metadata": {},
     "output_type": "execute_result"
    }
   ],
   "source": [
    "medias = data.mean(axis=0)\n",
    "std = data.std(axis=0)\n",
    "\n",
    "data_std = (data - medias)/std\n",
    "data_std"
   ]
  },
  {
   "cell_type": "code",
   "execution_count": 8,
   "metadata": {},
   "outputs": [
    {
     "data": {
      "text/html": [
       "<div>\n",
       "<style scoped>\n",
       "    .dataframe tbody tr th:only-of-type {\n",
       "        vertical-align: middle;\n",
       "    }\n",
       "\n",
       "    .dataframe tbody tr th {\n",
       "        vertical-align: top;\n",
       "    }\n",
       "\n",
       "    .dataframe thead th {\n",
       "        text-align: right;\n",
       "    }\n",
       "</style>\n",
       "<table border=\"1\" class=\"dataframe\">\n",
       "  <thead>\n",
       "    <tr style=\"text-align: right;\">\n",
       "      <th></th>\n",
       "      <th>x1</th>\n",
       "      <th>x2</th>\n",
       "    </tr>\n",
       "  </thead>\n",
       "  <tbody>\n",
       "    <tr>\n",
       "      <th>0</th>\n",
       "      <td>0.221387</td>\n",
       "      <td>0.188847</td>\n",
       "    </tr>\n",
       "    <tr>\n",
       "      <th>1</th>\n",
       "      <td>-1.359949</td>\n",
       "      <td>-1.170854</td>\n",
       "    </tr>\n",
       "    <tr>\n",
       "      <th>2</th>\n",
       "      <td>0.616721</td>\n",
       "      <td>0.717620</td>\n",
       "    </tr>\n",
       "    <tr>\n",
       "      <th>3</th>\n",
       "      <td>0.221387</td>\n",
       "      <td>0.037769</td>\n",
       "    </tr>\n",
       "    <tr>\n",
       "      <th>4</th>\n",
       "      <td>-0.569281</td>\n",
       "      <td>-0.717620</td>\n",
       "    </tr>\n",
       "    <tr>\n",
       "      <th>5</th>\n",
       "      <td>-1.597150</td>\n",
       "      <td>-1.321932</td>\n",
       "    </tr>\n",
       "    <tr>\n",
       "      <th>6</th>\n",
       "      <td>1.802724</td>\n",
       "      <td>1.926243</td>\n",
       "    </tr>\n",
       "    <tr>\n",
       "      <th>7</th>\n",
       "      <td>-0.411147</td>\n",
       "      <td>-0.717620</td>\n",
       "    </tr>\n",
       "    <tr>\n",
       "      <th>8</th>\n",
       "      <td>1.170189</td>\n",
       "      <td>1.246393</td>\n",
       "    </tr>\n",
       "    <tr>\n",
       "      <th>9</th>\n",
       "      <td>-0.094880</td>\n",
       "      <td>-0.188847</td>\n",
       "    </tr>\n",
       "  </tbody>\n",
       "</table>\n",
       "</div>"
      ],
      "text/plain": [
       "         x1        x2\n",
       "0  0.221387  0.188847\n",
       "1 -1.359949 -1.170854\n",
       "2  0.616721  0.717620\n",
       "3  0.221387  0.037769\n",
       "4 -0.569281 -0.717620\n",
       "5 -1.597150 -1.321932\n",
       "6  1.802724  1.926243\n",
       "7 -0.411147 -0.717620\n",
       "8  1.170189  1.246393\n",
       "9 -0.094880 -0.188847"
      ]
     },
     "execution_count": 8,
     "metadata": {},
     "output_type": "execute_result"
    }
   ],
   "source": [
    "df_data_std = pd.DataFrame(data_std, columns = ['x1', 'x2'])\n",
    "df_data_std"
   ]
  },
  {
   "cell_type": "code",
   "execution_count": 9,
   "metadata": {},
   "outputs": [
    {
     "data": {
      "image/png": "[encoded data removed]",
      "text/plain": [
       "<Figure size 432x288 with 1 Axes>"
      ]
     },
     "metadata": {
      "needs_background": "light"
     },
     "output_type": "display_data"
    }
   ],
   "source": [
    "plt.figure(figsize=(6,4))\n",
    "plt.scatter(df_data_std.iloc[:,0].values, df_data_std.iloc[:,1].values)\n",
    "plt.grid()\n",
    "plt.show()"
   ]
  },
  {
   "cell_type": "code",
   "execution_count": 10,
   "metadata": {},
   "outputs": [
    {
     "data": {
      "text/plain": [
       "array([[<AxesSubplot:title={'center':'x1'}>,\n",
       "        <AxesSubplot:title={'center':'x2'}>]], dtype=object)"
      ]
     },
     "execution_count": 10,
     "metadata": {},
     "output_type": "execute_result"
    },
    {
     "data": {
      "image/png": "[encoded data removed]",
      "text/plain": [
       "<Figure size 432x288 with 2 Axes>"
      ]
     },
     "metadata": {
      "needs_background": "light"
     },
     "output_type": "display_data"
    }
   ],
   "source": [
    "df_data_std.hist()"
   ]
  },
  {
   "cell_type": "markdown",
   "metadata": {},
   "source": [
    "### 2.-  Obtener la matriz de covarianzas"
   ]
  },
  {
   "cell_type": "code",
   "execution_count": 11,
   "metadata": {},
   "outputs": [
    {
     "name": "stdout",
     "output_type": "stream",
     "text": [
      "Help on function cov in module numpy:\n",
      "\n",
      "cov(m, y=None, rowvar=True, bias=False, ddof=None, fweights=None, aweights=None, *, dtype=None)\n",
      "    Estimate a covariance matrix, given data and weights.\n",
      "    \n",
      "    Covariance indicates the level to which two variables vary together.\n",
      "    If we examine N-dimensional samples, :math:`X = [x_1, x_2, ... x_N]^T`,\n",
      "    then the covariance matrix element :math:`C_{ij}` is the covariance of\n",
      "    :math:`x_i` and :math:`x_j`. The element :math:`C_{ii}` is the variance\n",
      "    of :math:`x_i`.\n",
      "    \n",
      "    See the notes for an outline of the algorithm.\n",
      "    \n",
      "    Parameters\n",
      "    ----------\n",
      "    m : array_like\n",
      "        A 1-D or 2-D array containing multiple variables and observations.\n",
      "        Each row of `m` represents a variable, and each column a single\n",
      "        observation of all those variables. Also see `rowvar` below.\n",
      "    y : array_like, optional\n",
      "        An additional set of variables and observations. `y` has the same form\n",
      "        as that of `m`.\n",
      "    rowvar : bool, optional\n",
      "        If `rowvar` is True (default), then each row represents a\n",
      "        variable, with observations in the columns. Otherwise, the relationship\n",
      "        is transposed: each column represents a variable, while the rows\n",
      "        contain observations.\n",
      "    bias : bool, optional\n",
      "        Default normalization (False) is by ``(N - 1)``, where ``N`` is the\n",
      "        number of observations given (unbiased estimate). If `bias` is True,\n",
      "        then normalization is by ``N``. These values can be overridden by using\n",
      "        the keyword ``ddof`` in numpy versions >= 1.5.\n",
      "    ddof : int, optional\n",
      "        If not ``None`` the default value implied by `bias` is overridden.\n",
      "        Note that ``ddof=1`` will return the unbiased estimate, even if both\n",
      "        `fweights` and `aweights` are specified, and ``ddof=0`` will return\n",
      "        the simple average. See the notes for the details. The default value\n",
      "        is ``None``.\n",
      "    \n",
      "        .. versionadded:: 1.5\n",
      "    fweights : array_like, int, optional\n",
      "        1-D array of integer frequency weights; the number of times each\n",
      "        observation vector should be repeated.\n",
      "    \n",
      "        .. versionadded:: 1.10\n",
      "    aweights : array_like, optional\n",
      "        1-D array of observation vector weights. These relative weights are\n",
      "        typically large for observations considered \"important\" and smaller for\n",
      "        observations considered less \"important\". If ``ddof=0`` the array of\n",
      "        weights can be used to assign probabilities to observation vectors.\n",
      "    \n",
      "        .. versionadded:: 1.10\n",
      "    dtype : data-type, optional\n",
      "        Data-type of the result. By default, the return data-type will have\n",
      "        at least `numpy.float64` precision.\n",
      "    \n",
      "        .. versionadded:: 1.20\n",
      "    \n",
      "    Returns\n",
      "    -------\n",
      "    out : ndarray\n",
      "        The covariance matrix of the variables.\n",
      "    \n",
      "    See Also\n",
      "    --------\n",
      "    corrcoef : Normalized covariance matrix\n",
      "    \n",
      "    Notes\n",
      "    -----\n",
      "    Assume that the observations are in the columns of the observation\n",
      "    array `m` and let ``f = fweights`` and ``a = aweights`` for brevity. The\n",
      "    steps to compute the weighted covariance are as follows::\n",
      "    \n",
      "        >>> m = np.arange(10, dtype=np.float64)\n",
      "        >>> f = np.arange(10) * 2\n",
      "        >>> a = np.arange(10) ** 2.\n",
      "        >>> ddof = 1\n",
      "        >>> w = f * a\n",
      "        >>> v1 = np.sum(w)\n",
      "        >>> v2 = np.sum(w * a)\n",
      "        >>> m -= np.sum(m * w, axis=None, keepdims=True) / v1\n",
      "        >>> cov = np.dot(m * w, m.T) * v1 / (v1**2 - ddof * v2)\n",
      "    \n",
      "    Note that when ``a == 1``, the normalization factor\n",
      "    ``v1 / (v1**2 - ddof * v2)`` goes over to ``1 / (np.sum(f) - ddof)``\n",
      "    as it should.\n",
      "    \n",
      "    Examples\n",
      "    --------\n",
      "    Consider two variables, :math:`x_0` and :math:`x_1`, which\n",
      "    correlate perfectly, but in opposite directions:\n",
      "    \n",
      "    >>> x = np.array([[0, 2], [1, 1], [2, 0]]).T\n",
      "    >>> x\n",
      "    array([[0, 1, 2],\n",
      "           [2, 1, 0]])\n",
      "    \n",
      "    Note how :math:`x_0` increases while :math:`x_1` decreases. The covariance\n",
      "    matrix shows this clearly:\n",
      "    \n",
      "    >>> np.cov(x)\n",
      "    array([[ 1., -1.],\n",
      "           [-1.,  1.]])\n",
      "    \n",
      "    Note that element :math:`C_{0,1}`, which shows the correlation between\n",
      "    :math:`x_0` and :math:`x_1`, is negative.\n",
      "    \n",
      "    Further, note how `x` and `y` are combined:\n",
      "    \n",
      "    >>> x = [-2.1, -1,  4.3]\n",
      "    >>> y = [3,  1.1,  0.12]\n",
      "    >>> X = np.stack((x, y), axis=0)\n",
      "    >>> np.cov(X)\n",
      "    array([[11.71      , -4.286     ], # may vary\n",
      "           [-4.286     ,  2.144133]])\n",
      "    >>> np.cov(x, y)\n",
      "    array([[11.71      , -4.286     ], # may vary\n",
      "           [-4.286     ,  2.144133]])\n",
      "    >>> np.cov(x)\n",
      "    array(11.71)\n",
      "\n"
     ]
    }
   ],
   "source": [
    "help(np.cov)"
   ]
  },
  {
   "cell_type": "code",
   "execution_count": 12,
   "metadata": {},
   "outputs": [
    {
     "data": {
      "text/plain": [
       "array([[1.11111111, 1.09431773],\n",
       "       [1.09431773, 1.11111111]])"
      ]
     },
     "execution_count": 12,
     "metadata": {},
     "output_type": "execute_result"
    }
   ],
   "source": [
    "data_cov = np.cov(data_std.transpose()) #Matriz de covarianzas del conjunto de datos estandarizados\n",
    "data_cov"
   ]
  },
  {
   "cell_type": "markdown",
   "metadata": {},
   "source": [
    "### 3.- Obtener los valores y vectores propios de la matriz de covarianzas"
   ]
  },
  {
   "cell_type": "code",
   "execution_count": 13,
   "metadata": {},
   "outputs": [
    {
     "name": "stdout",
     "output_type": "stream",
     "text": [
      "Help on function eig in module numpy.linalg:\n",
      "\n",
      "eig(a)\n",
      "    Compute the eigenvalues and right eigenvectors of a square array.\n",
      "    \n",
      "    Parameters\n",
      "    ----------\n",
      "    a : (..., M, M) array\n",
      "        Matrices for which the eigenvalues and right eigenvectors will\n",
      "        be computed\n",
      "    \n",
      "    Returns\n",
      "    -------\n",
      "    w : (..., M) array\n",
      "        The eigenvalues, each repeated according to its multiplicity.\n",
      "        The eigenvalues are not necessarily ordered. The resulting\n",
      "        array will be of complex type, unless the imaginary part is\n",
      "        zero in which case it will be cast to a real type. When `a`\n",
      "        is real the resulting eigenvalues will be real (0 imaginary\n",
      "        part) or occur in conjugate pairs\n",
      "    \n",
      "    v : (..., M, M) array\n",
      "        The normalized (unit \"length\") eigenvectors, such that the\n",
      "        column ``v[:,i]`` is the eigenvector corresponding to the\n",
      "        eigenvalue ``w[i]``.\n",
      "    \n",
      "    Raises\n",
      "    ------\n",
      "    LinAlgError\n",
      "        If the eigenvalue computation does not converge.\n",
      "    \n",
      "    See Also\n",
      "    --------\n",
      "    eigvals : eigenvalues of a non-symmetric array.\n",
      "    eigh : eigenvalues and eigenvectors of a real symmetric or complex\n",
      "           Hermitian (conjugate symmetric) array.\n",
      "    eigvalsh : eigenvalues of a real symmetric or complex Hermitian\n",
      "               (conjugate symmetric) array.\n",
      "    scipy.linalg.eig : Similar function in SciPy that also solves the\n",
      "                       generalized eigenvalue problem.\n",
      "    scipy.linalg.schur : Best choice for unitary and other non-Hermitian\n",
      "                         normal matrices.\n",
      "    \n",
      "    Notes\n",
      "    -----\n",
      "    \n",
      "    .. versionadded:: 1.8.0\n",
      "    \n",
      "    Broadcasting rules apply, see the `numpy.linalg` documentation for\n",
      "    details.\n",
      "    \n",
      "    This is implemented using the ``_geev`` LAPACK routines which compute\n",
      "    the eigenvalues and eigenvectors of general square arrays.\n",
      "    \n",
      "    The number `w` is an eigenvalue of `a` if there exists a vector\n",
      "    `v` such that ``a @ v = w * v``. Thus, the arrays `a`, `w`, and\n",
      "    `v` satisfy the equations ``a @ v[:,i] = w[i] * v[:,i]``\n",
      "    for :math:`i \\in \\{0,...,M-1\\}`.\n",
      "    \n",
      "    The array `v` of eigenvectors may not be of maximum rank, that is, some\n",
      "    of the columns may be linearly dependent, although round-off error may\n",
      "    obscure that fact. If the eigenvalues are all different, then theoretically\n",
      "    the eigenvectors are linearly independent and `a` can be diagonalized by\n",
      "    a similarity transformation using `v`, i.e, ``inv(v) @ a @ v`` is diagonal.\n",
      "    \n",
      "    For non-Hermitian normal matrices the SciPy function `scipy.linalg.schur`\n",
      "    is preferred because the matrix `v` is guaranteed to be unitary, which is\n",
      "    not the case when using `eig`. The Schur factorization produces an\n",
      "    upper triangular matrix rather than a diagonal matrix, but for normal\n",
      "    matrices only the diagonal of the upper triangular matrix is needed, the\n",
      "    rest is roundoff error.\n",
      "    \n",
      "    Finally, it is emphasized that `v` consists of the *right* (as in\n",
      "    right-hand side) eigenvectors of `a`.  A vector `y` satisfying\n",
      "    ``y.T @ a = z * y.T`` for some number `z` is called a *left*\n",
      "    eigenvector of `a`, and, in general, the left and right eigenvectors\n",
      "    of a matrix are not necessarily the (perhaps conjugate) transposes\n",
      "    of each other.\n",
      "    \n",
      "    References\n",
      "    ----------\n",
      "    G. Strang, *Linear Algebra and Its Applications*, 2nd Ed., Orlando, FL,\n",
      "    Academic Press, Inc., 1980, Various pp.\n",
      "    \n",
      "    Examples\n",
      "    --------\n",
      "    >>> from numpy import linalg as LA\n",
      "    \n",
      "    (Almost) trivial example with real e-values and e-vectors.\n",
      "    \n",
      "    >>> w, v = LA.eig(np.diag((1, 2, 3)))\n",
      "    >>> w; v\n",
      "    array([1., 2., 3.])\n",
      "    array([[1., 0., 0.],\n",
      "           [0., 1., 0.],\n",
      "           [0., 0., 1.]])\n",
      "    \n",
      "    Real matrix possessing complex e-values and e-vectors; note that the\n",
      "    e-values are complex conjugates of each other.\n",
      "    \n",
      "    >>> w, v = LA.eig(np.array([[1, -1], [1, 1]]))\n",
      "    >>> w; v\n",
      "    array([1.+1.j, 1.-1.j])\n",
      "    array([[0.70710678+0.j        , 0.70710678-0.j        ],\n",
      "           [0.        -0.70710678j, 0.        +0.70710678j]])\n",
      "    \n",
      "    Complex-valued matrix with real e-values (but complex-valued e-vectors);\n",
      "    note that ``a.conj().T == a``, i.e., `a` is Hermitian.\n",
      "    \n",
      "    >>> a = np.array([[1, 1j], [-1j, 1]])\n",
      "    >>> w, v = LA.eig(a)\n",
      "    >>> w; v\n",
      "    array([2.+0.j, 0.+0.j])\n",
      "    array([[ 0.        +0.70710678j,  0.70710678+0.j        ], # may vary\n",
      "           [ 0.70710678+0.j        , -0.        +0.70710678j]])\n",
      "    \n",
      "    Be careful about round-off error!\n",
      "    \n",
      "    >>> a = np.array([[1 + 1e-9, 0], [0, 1 - 1e-9]])\n",
      "    >>> # Theor. e-values are 1 +/- 1e-9\n",
      "    >>> w, v = LA.eig(a)\n",
      "    >>> w; v\n",
      "    array([1., 1.])\n",
      "    array([[1., 0.],\n",
      "           [0., 1.]])\n",
      "\n"
     ]
    }
   ],
   "source": [
    "help(np.linalg.eig)"
   ]
  },
  {
   "cell_type": "code",
   "execution_count": 14,
   "metadata": {},
   "outputs": [],
   "source": [
    "#w son los valores propios de la amtriz\n",
    "# v los eigenvectores (vectorees propios de la matriz)\n",
    "w, v  = np.linalg.eig(data_cov)"
   ]
  },
  {
   "cell_type": "code",
   "execution_count": 15,
   "metadata": {},
   "outputs": [
    {
     "data": {
      "text/plain": [
       "array([2.20542884, 0.01679338])"
      ]
     },
     "execution_count": 15,
     "metadata": {},
     "output_type": "execute_result"
    }
   ],
   "source": [
    "w"
   ]
  },
  {
   "cell_type": "code",
   "execution_count": 16,
   "metadata": {},
   "outputs": [
    {
     "data": {
      "text/plain": [
       "array([[ 0.70710678, -0.70710678],\n",
       "       [ 0.70710678,  0.70710678]])"
      ]
     },
     "execution_count": 16,
     "metadata": {},
     "output_type": "execute_result"
    }
   ],
   "source": [
    "v "
   ]
  },
  {
   "cell_type": "code",
   "execution_count": 17,
   "metadata": {},
   "outputs": [
    {
     "data": {
      "text/plain": [
       "1.0"
      ]
     },
     "execution_count": 17,
     "metadata": {},
     "output_type": "execute_result"
    }
   ],
   "source": [
    "v[1,0]/v[0,0]"
   ]
  },
  {
   "cell_type": "code",
   "execution_count": 18,
   "metadata": {},
   "outputs": [
    {
     "data": {
      "text/plain": [
       "-1.0"
      ]
     },
     "execution_count": 18,
     "metadata": {},
     "output_type": "execute_result"
    }
   ],
   "source": [
    "v[1,1]/v[0,1]"
   ]
  },
  {
   "cell_type": "code",
   "execution_count": 19,
   "metadata": {},
   "outputs": [
    {
     "data": {
      "image/png": "[encoded data removed]",
      "text/plain": [
       "<Figure size 432x288 with 1 Axes>"
      ]
     },
     "metadata": {
      "needs_background": "light"
     },
     "output_type": "display_data"
    }
   ],
   "source": [
    "x = np.linspace(-2,2)\n",
    "plt.figure(figsize=(6,4))\n",
    "plt.scatter(df_data_std.iloc[:,0].values, df_data_std.iloc[:,1].values)\n",
    "plt.plot(x, (v[1,0]/v[0,0])*x, 'b--')\n",
    "plt.plot(x, (v[1,1]/v[0,1])*x, 'g--')\n",
    "plt.grid()\n",
    "plt.show()"
   ]
  },
  {
   "cell_type": "code",
   "execution_count": 20,
   "metadata": {},
   "outputs": [
    {
     "data": {
      "text/plain": [
       "array([2.20542884, 0.01679338])"
      ]
     },
     "execution_count": 20,
     "metadata": {},
     "output_type": "execute_result"
    }
   ],
   "source": [
    "w"
   ]
  },
  {
   "cell_type": "code",
   "execution_count": 21,
   "metadata": {},
   "outputs": [
    {
     "data": {
      "text/plain": [
       "array([[ 0.70710678, -0.70710678],\n",
       "       [ 0.70710678,  0.70710678]])"
      ]
     },
     "execution_count": 21,
     "metadata": {},
     "output_type": "execute_result"
    }
   ],
   "source": [
    "v"
   ]
  },
  {
   "cell_type": "code",
   "execution_count": 22,
   "metadata": {},
   "outputs": [
    {
     "data": {
      "text/plain": [
       "array([0.99244298, 0.00755702])"
      ]
     },
     "execution_count": 22,
     "metadata": {},
     "output_type": "execute_result"
    }
   ],
   "source": [
    "w/w.sum()"
   ]
  },
  {
   "cell_type": "markdown",
   "metadata": {},
   "source": [
    "### 4.- Ordenar los vectores propios y valores propios y obtener la matriz de tansformación"
   ]
  },
  {
   "cell_type": "code",
   "execution_count": 23,
   "metadata": {},
   "outputs": [
    {
     "data": {
      "text/plain": [
       "array([2.20542884, 0.01679338])"
      ]
     },
     "execution_count": 23,
     "metadata": {},
     "output_type": "execute_result"
    }
   ],
   "source": [
    "w_sort = np.sort(w)[::-1]\n",
    "w_sort"
   ]
  },
  {
   "cell_type": "code",
   "execution_count": 24,
   "metadata": {},
   "outputs": [],
   "source": [
    "w_sort_index = np.argsort(w)[::-1]"
   ]
  },
  {
   "cell_type": "code",
   "execution_count": 25,
   "metadata": {},
   "outputs": [
    {
     "data": {
      "text/plain": [
       "array([0, 1], dtype=int64)"
      ]
     },
     "execution_count": 25,
     "metadata": {},
     "output_type": "execute_result"
    }
   ],
   "source": [
    "w_sort_index"
   ]
  },
  {
   "cell_type": "code",
   "execution_count": 26,
   "metadata": {},
   "outputs": [
    {
     "data": {
      "text/plain": [
       "array([[ 0.70710678, -0.70710678],\n",
       "       [ 0.70710678,  0.70710678]])"
      ]
     },
     "execution_count": 26,
     "metadata": {},
     "output_type": "execute_result"
    }
   ],
   "source": [
    "v_sort = v[:,w_sort_index]\n",
    "v_sort"
   ]
  },
  {
   "cell_type": "markdown",
   "metadata": {},
   "source": [
    "### 5.- Reduciendo la dimension de los datos"
   ]
  },
  {
   "cell_type": "code",
   "execution_count": 27,
   "metadata": {},
   "outputs": [
    {
     "data": {
      "text/plain": [
       "array([[ 0.70710678, -0.70710678],\n",
       "       [ 0.70710678,  0.70710678]])"
      ]
     },
     "execution_count": 27,
     "metadata": {},
     "output_type": "execute_result"
    }
   ],
   "source": [
    "k = 2 # k<d   d=2\n",
    "T = v_sort[:,:k]\n",
    "T"
   ]
  },
  {
   "cell_type": "code",
   "execution_count": 28,
   "metadata": {},
   "outputs": [
    {
     "data": {
      "text/plain": [
       "array([[ 0.02300906,  0.2900796 ],\n",
       "       [-0.13371075, -1.78954813],\n",
       "       [-0.07134627,  0.94352181],\n",
       "       [ 0.12983727,  0.18325138],\n",
       "       [ 0.10489148, -0.90997659],\n",
       "       [-0.1946086 , -2.06410242],\n",
       "       [-0.08734168,  2.63677788],\n",
       "       [ 0.21670886, -0.79815922],\n",
       "       [-0.05388421,  1.70878139],\n",
       "       [ 0.06644485, -0.2006257 ]])"
      ]
     },
     "execution_count": 28,
     "metadata": {},
     "output_type": "execute_result"
    }
   ],
   "source": [
    "#Transformación de los datos\n",
    "data_newk = np.array(np.matrix(data_std)*np.matrix(T.transpose()))\n",
    "data_newk "
   ]
  },
  {
   "cell_type": "code",
   "execution_count": 29,
   "metadata": {},
   "outputs": [
    {
     "data": {
      "text/html": [
       "<div>\n",
       "<style scoped>\n",
       "    .dataframe tbody tr th:only-of-type {\n",
       "        vertical-align: middle;\n",
       "    }\n",
       "\n",
       "    .dataframe tbody tr th {\n",
       "        vertical-align: top;\n",
       "    }\n",
       "\n",
       "    .dataframe thead th {\n",
       "        text-align: right;\n",
       "    }\n",
       "</style>\n",
       "<table border=\"1\" class=\"dataframe\">\n",
       "  <thead>\n",
       "    <tr style=\"text-align: right;\">\n",
       "      <th></th>\n",
       "      <th>x1</th>\n",
       "      <th>x2</th>\n",
       "    </tr>\n",
       "  </thead>\n",
       "  <tbody>\n",
       "    <tr>\n",
       "      <th>0</th>\n",
       "      <td>0.023009</td>\n",
       "      <td>0.290080</td>\n",
       "    </tr>\n",
       "    <tr>\n",
       "      <th>1</th>\n",
       "      <td>-0.133711</td>\n",
       "      <td>-1.789548</td>\n",
       "    </tr>\n",
       "    <tr>\n",
       "      <th>2</th>\n",
       "      <td>-0.071346</td>\n",
       "      <td>0.943522</td>\n",
       "    </tr>\n",
       "    <tr>\n",
       "      <th>3</th>\n",
       "      <td>0.129837</td>\n",
       "      <td>0.183251</td>\n",
       "    </tr>\n",
       "    <tr>\n",
       "      <th>4</th>\n",
       "      <td>0.104891</td>\n",
       "      <td>-0.909977</td>\n",
       "    </tr>\n",
       "    <tr>\n",
       "      <th>5</th>\n",
       "      <td>-0.194609</td>\n",
       "      <td>-2.064102</td>\n",
       "    </tr>\n",
       "    <tr>\n",
       "      <th>6</th>\n",
       "      <td>-0.087342</td>\n",
       "      <td>2.636778</td>\n",
       "    </tr>\n",
       "    <tr>\n",
       "      <th>7</th>\n",
       "      <td>0.216709</td>\n",
       "      <td>-0.798159</td>\n",
       "    </tr>\n",
       "    <tr>\n",
       "      <th>8</th>\n",
       "      <td>-0.053884</td>\n",
       "      <td>1.708781</td>\n",
       "    </tr>\n",
       "    <tr>\n",
       "      <th>9</th>\n",
       "      <td>0.066445</td>\n",
       "      <td>-0.200626</td>\n",
       "    </tr>\n",
       "  </tbody>\n",
       "</table>\n",
       "</div>"
      ],
      "text/plain": [
       "         x1        x2\n",
       "0  0.023009  0.290080\n",
       "1 -0.133711 -1.789548\n",
       "2 -0.071346  0.943522\n",
       "3  0.129837  0.183251\n",
       "4  0.104891 -0.909977\n",
       "5 -0.194609 -2.064102\n",
       "6 -0.087342  2.636778\n",
       "7  0.216709 -0.798159\n",
       "8 -0.053884  1.708781\n",
       "9  0.066445 -0.200626"
      ]
     },
     "execution_count": 29,
     "metadata": {},
     "output_type": "execute_result"
    }
   ],
   "source": [
    "df_data_newk = pd.DataFrame(data_newk, columns=['x1','x2'])\n",
    "df_data_newk"
   ]
  },
  {
   "cell_type": "code",
   "execution_count": 30,
   "metadata": {},
   "outputs": [
    {
     "data": {
      "image/png": "[encoded data removed]",
      "text/plain": [
       "<Figure size 432x288 with 1 Axes>"
      ]
     },
     "metadata": {
      "needs_background": "light"
     },
     "output_type": "display_data"
    }
   ],
   "source": [
    "x = np.linspace(-2,2)\n",
    "plt.figure(figsize=(6,4))\n",
    "plt.scatter(df_data_newk.iloc[:,0].values, df_data_newk.iloc[:,1].values)\n",
    "plt.hlines(0,-3,3,'g')\n",
    "plt.vlines(0,-3,3,'b')\n",
    "plt.grid()\n",
    "plt.show()"
   ]
  },
  {
   "cell_type": "code",
   "execution_count": 31,
   "metadata": {},
   "outputs": [
    {
     "data": {
      "text/plain": [
       "array([[0.70710678],\n",
       "       [0.70710678]])"
      ]
     },
     "execution_count": 31,
     "metadata": {},
     "output_type": "execute_result"
    }
   ],
   "source": [
    "k = 1 # k<d   d=2\n",
    "T = v_sort[:,:k]\n",
    "T"
   ]
  },
  {
   "cell_type": "code",
   "execution_count": 32,
   "metadata": {},
   "outputs": [
    {
     "data": {
      "text/plain": [
       "array([[ 0.2900796 ],\n",
       "       [-1.78954813],\n",
       "       [ 0.94352181],\n",
       "       [ 0.18325138],\n",
       "       [-0.90997659],\n",
       "       [-2.06410242],\n",
       "       [ 2.63677788],\n",
       "       [-0.79815922],\n",
       "       [ 1.70878139],\n",
       "       [-0.2006257 ]])"
      ]
     },
     "execution_count": 32,
     "metadata": {},
     "output_type": "execute_result"
    }
   ],
   "source": [
    "#Transformación de los datos\n",
    "data_newk = np.array(np.matrix(data_std)*np.matrix(T))\n",
    "data_newk "
   ]
  },
  {
   "cell_type": "code",
   "execution_count": 33,
   "metadata": {},
   "outputs": [
    {
     "data": {
      "text/html": [
       "<div>\n",
       "<style scoped>\n",
       "    .dataframe tbody tr th:only-of-type {\n",
       "        vertical-align: middle;\n",
       "    }\n",
       "\n",
       "    .dataframe tbody tr th {\n",
       "        vertical-align: top;\n",
       "    }\n",
       "\n",
       "    .dataframe thead th {\n",
       "        text-align: right;\n",
       "    }\n",
       "</style>\n",
       "<table border=\"1\" class=\"dataframe\">\n",
       "  <thead>\n",
       "    <tr style=\"text-align: right;\">\n",
       "      <th></th>\n",
       "      <th>pca1</th>\n",
       "    </tr>\n",
       "  </thead>\n",
       "  <tbody>\n",
       "    <tr>\n",
       "      <th>0</th>\n",
       "      <td>0.290080</td>\n",
       "    </tr>\n",
       "    <tr>\n",
       "      <th>1</th>\n",
       "      <td>-1.789548</td>\n",
       "    </tr>\n",
       "    <tr>\n",
       "      <th>2</th>\n",
       "      <td>0.943522</td>\n",
       "    </tr>\n",
       "    <tr>\n",
       "      <th>3</th>\n",
       "      <td>0.183251</td>\n",
       "    </tr>\n",
       "    <tr>\n",
       "      <th>4</th>\n",
       "      <td>-0.909977</td>\n",
       "    </tr>\n",
       "    <tr>\n",
       "      <th>5</th>\n",
       "      <td>-2.064102</td>\n",
       "    </tr>\n",
       "    <tr>\n",
       "      <th>6</th>\n",
       "      <td>2.636778</td>\n",
       "    </tr>\n",
       "    <tr>\n",
       "      <th>7</th>\n",
       "      <td>-0.798159</td>\n",
       "    </tr>\n",
       "    <tr>\n",
       "      <th>8</th>\n",
       "      <td>1.708781</td>\n",
       "    </tr>\n",
       "    <tr>\n",
       "      <th>9</th>\n",
       "      <td>-0.200626</td>\n",
       "    </tr>\n",
       "  </tbody>\n",
       "</table>\n",
       "</div>"
      ],
      "text/plain": [
       "       pca1\n",
       "0  0.290080\n",
       "1 -1.789548\n",
       "2  0.943522\n",
       "3  0.183251\n",
       "4 -0.909977\n",
       "5 -2.064102\n",
       "6  2.636778\n",
       "7 -0.798159\n",
       "8  1.708781\n",
       "9 -0.200626"
      ]
     },
     "execution_count": 33,
     "metadata": {},
     "output_type": "execute_result"
    }
   ],
   "source": [
    "df_data_newk = pd.DataFrame(data_newk, columns=['pca1'])\n",
    "df_data_newk"
   ]
  },
  {
   "cell_type": "markdown",
   "metadata": {},
   "source": [
    "### Recuperar la información"
   ]
  },
  {
   "cell_type": "markdown",
   "metadata": {},
   "source": [
    "$$data_{new} = data_{std}*M_{trans}$$\n",
    "\n",
    "$$data_{new}*M_{trans}^{-1} = data_{std}*M_{trans}*M_{trans}^{-1} $$\n",
    "\n",
    "$$data_{new}*M_{trans}^{-1} = data_{std} $$\n",
    "\n",
    "$$data_{new}*M_{trans}^{-1} = (data - medias)/varian $$\n",
    "\n",
    "$$data_{new}*M_{trans}^{-1}*varian + medias = data$$"
   ]
  },
  {
   "cell_type": "code",
   "execution_count": 34,
   "metadata": {},
   "outputs": [
    {
     "data": {
      "text/plain": [
       "array([[2.47942265, 2.42153837],\n",
       "       [0.61957958, 0.47483574],\n",
       "       [3.06380606, 3.03321403],\n",
       "       [2.38388453, 2.32153837],\n",
       "       [1.40619394, 1.29818705],\n",
       "       [0.37404146, 0.21783034],\n",
       "       [4.57811101, 4.618241  ],\n",
       "       [1.50619394, 1.40285732],\n",
       "       [3.74818948, 3.74955995],\n",
       "       [2.04057735, 1.96219784]])"
      ]
     },
     "execution_count": 34,
     "metadata": {},
     "output_type": "execute_result"
    }
   ],
   "source": [
    "data_std_r = np.array(np.matrix(df_data_newk)*np.matrix(T.transpose()))\n",
    "data_r = data_std_r*std + medias\n",
    "data_r"
   ]
  },
  {
   "cell_type": "code",
   "execution_count": 35,
   "metadata": {},
   "outputs": [],
   "source": [
    "df_data_recuperada = pd.DataFrame(data_r, columns=['x1','x2'])"
   ]
  },
  {
   "cell_type": "code",
   "execution_count": 36,
   "metadata": {},
   "outputs": [
    {
     "data": {
      "text/plain": [
       "array([[2.5, 2.4],\n",
       "       [0.5, 0.6],\n",
       "       [3. , 3.1],\n",
       "       [2.5, 2.2],\n",
       "       [1.5, 1.2],\n",
       "       [0.2, 0.4],\n",
       "       [4.5, 4.7],\n",
       "       [1.7, 1.2],\n",
       "       [3.7, 3.8],\n",
       "       [2.1, 1.9]])"
      ]
     },
     "execution_count": 36,
     "metadata": {},
     "output_type": "execute_result"
    }
   ],
   "source": [
    "data"
   ]
  },
  {
   "cell_type": "code",
   "execution_count": 37,
   "metadata": {},
   "outputs": [
    {
     "data": {
      "text/plain": [
       "array([0.99244298, 0.00755702])"
      ]
     },
     "execution_count": 37,
     "metadata": {},
     "output_type": "execute_result"
    }
   ],
   "source": [
    "w/w.sum()"
   ]
  },
  {
   "cell_type": "code",
   "execution_count": 38,
   "metadata": {},
   "outputs": [
    {
     "data": {
      "image/png": "[encoded data removed]",
      "text/plain": [
       "<Figure size 432x288 with 1 Axes>"
      ]
     },
     "metadata": {
      "needs_background": "light"
     },
     "output_type": "display_data"
    }
   ],
   "source": [
    "plt.figure(figsize=(6,4))\n",
    "plt.scatter(df_data.iloc[:,0].values, df_data.iloc[:,1].values, c='r')\n",
    "plt.scatter(df_data_recuperada.iloc[:,0].values, df_data_recuperada.iloc[:,1].values, c='b')\n",
    "plt.grid()\n",
    "plt.show()"
   ]
  },
  {
   "cell_type": "code",
   "execution_count": null,
   "metadata": {},
   "outputs": [],
   "source": []
  },
  {
   "cell_type": "markdown",
   "metadata": {},
   "source": [
    "###  PCA utilizando librerías"
   ]
  },
  {
   "cell_type": "code",
   "execution_count": 39,
   "metadata": {},
   "outputs": [],
   "source": [
    "from sklearn.decomposition import PCA"
   ]
  },
  {
   "cell_type": "code",
   "execution_count": 40,
   "metadata": {},
   "outputs": [
    {
     "name": "stdout",
     "output_type": "stream",
     "text": [
      "Help on class PCA in module sklearn.decomposition._pca:\n",
      "\n",
      "class PCA(sklearn.decomposition._base._BasePCA)\n",
      " |  PCA(n_components=None, *, copy=True, whiten=False, svd_solver='auto', tol=0.0, iterated_power='auto', random_state=None)\n",
      " |  \n",
      " |  Principal component analysis (PCA).\n",
      " |  \n",
      " |  Linear dimensionality reduction using Singular Value Decomposition of the\n",
      " |  data to project it to a lower dimensional space. The input data is centered\n",
      " |  but not scaled for each feature before applying the SVD.\n",
      " |  \n",
      " |  It uses the LAPACK implementation of the full SVD or a randomized truncated\n",
      " |  SVD by the method of Halko et al. 2009, depending on the shape of the input\n",
      " |  data and the number of components to extract.\n",
      " |  \n",
      " |  It can also use the scipy.sparse.linalg ARPACK implementation of the\n",
      " |  truncated SVD.\n",
      " |  \n",
      " |  Notice that this class does not support sparse input. See\n",
      " |  :class:`TruncatedSVD` for an alternative with sparse data.\n",
      " |  \n",
      " |  Read more in the :ref:`User Guide <PCA>`.\n",
      " |  \n",
      " |  Parameters\n",
      " |  ----------\n",
      " |  n_components : int, float or 'mle', default=None\n",
      " |      Number of components to keep.\n",
      " |      if n_components is not set all components are kept::\n",
      " |  \n",
      " |          n_components == min(n_samples, n_features)\n",
      " |  \n",
      " |      If ``n_components == 'mle'`` and ``svd_solver == 'full'``, Minka's\n",
      " |      MLE is used to guess the dimension. Use of ``n_components == 'mle'``\n",
      " |      will interpret ``svd_solver == 'auto'`` as ``svd_solver == 'full'``.\n",
      " |  \n",
      " |      If ``0 < n_components < 1`` and ``svd_solver == 'full'``, select the\n",
      " |      number of components such that the amount of variance that needs to be\n",
      " |      explained is greater than the percentage specified by n_components.\n",
      " |  \n",
      " |      If ``svd_solver == 'arpack'``, the number of components must be\n",
      " |      strictly less than the minimum of n_features and n_samples.\n",
      " |  \n",
      " |      Hence, the None case results in::\n",
      " |  \n",
      " |          n_components == min(n_samples, n_features) - 1\n",
      " |  \n",
      " |  copy : bool, default=True\n",
      " |      If False, data passed to fit are overwritten and running\n",
      " |      fit(X).transform(X) will not yield the expected results,\n",
      " |      use fit_transform(X) instead.\n",
      " |  \n",
      " |  whiten : bool, default=False\n",
      " |      When True (False by default) the `components_` vectors are multiplied\n",
      " |      by the square root of n_samples and then divided by the singular values\n",
      " |      to ensure uncorrelated outputs with unit component-wise variances.\n",
      " |  \n",
      " |      Whitening will remove some information from the transformed signal\n",
      " |      (the relative variance scales of the components) but can sometime\n",
      " |      improve the predictive accuracy of the downstream estimators by\n",
      " |      making their data respect some hard-wired assumptions.\n",
      " |  \n",
      " |  svd_solver : {'auto', 'full', 'arpack', 'randomized'}, default='auto'\n",
      " |      If auto :\n",
      " |          The solver is selected by a default policy based on `X.shape` and\n",
      " |          `n_components`: if the input data is larger than 500x500 and the\n",
      " |          number of components to extract is lower than 80% of the smallest\n",
      " |          dimension of the data, then the more efficient 'randomized'\n",
      " |          method is enabled. Otherwise the exact full SVD is computed and\n",
      " |          optionally truncated afterwards.\n",
      " |      If full :\n",
      " |          run exact full SVD calling the standard LAPACK solver via\n",
      " |          `scipy.linalg.svd` and select the components by postprocessing\n",
      " |      If arpack :\n",
      " |          run SVD truncated to n_components calling ARPACK solver via\n",
      " |          `scipy.sparse.linalg.svds`. It requires strictly\n",
      " |          0 < n_components < min(X.shape)\n",
      " |      If randomized :\n",
      " |          run randomized SVD by the method of Halko et al.\n",
      " |  \n",
      " |      .. versionadded:: 0.18.0\n",
      " |  \n",
      " |  tol : float, default=0.0\n",
      " |      Tolerance for singular values computed by svd_solver == 'arpack'.\n",
      " |      Must be of range [0.0, infinity).\n",
      " |  \n",
      " |      .. versionadded:: 0.18.0\n",
      " |  \n",
      " |  iterated_power : int or 'auto', default='auto'\n",
      " |      Number of iterations for the power method computed by\n",
      " |      svd_solver == 'randomized'.\n",
      " |      Must be of range [0, infinity).\n",
      " |  \n",
      " |      .. versionadded:: 0.18.0\n",
      " |  \n",
      " |  random_state : int, RandomState instance or None, default=None\n",
      " |      Used when the 'arpack' or 'randomized' solvers are used. Pass an int\n",
      " |      for reproducible results across multiple function calls.\n",
      " |      See :term:`Glossary <random_state>`.\n",
      " |  \n",
      " |      .. versionadded:: 0.18.0\n",
      " |  \n",
      " |  Attributes\n",
      " |  ----------\n",
      " |  components_ : ndarray of shape (n_components, n_features)\n",
      " |      Principal axes in feature space, representing the directions of\n",
      " |      maximum variance in the data. The components are sorted by\n",
      " |      ``explained_variance_``.\n",
      " |  \n",
      " |  explained_variance_ : ndarray of shape (n_components,)\n",
      " |      The amount of variance explained by each of the selected components.\n",
      " |  \n",
      " |      Equal to n_components largest eigenvalues\n",
      " |      of the covariance matrix of X.\n",
      " |  \n",
      " |      .. versionadded:: 0.18\n",
      " |  \n",
      " |  explained_variance_ratio_ : ndarray of shape (n_components,)\n",
      " |      Percentage of variance explained by each of the selected components.\n",
      " |  \n",
      " |      If ``n_components`` is not set then all components are stored and the\n",
      " |      sum of the ratios is equal to 1.0.\n",
      " |  \n",
      " |  singular_values_ : ndarray of shape (n_components,)\n",
      " |      The singular values corresponding to each of the selected components.\n",
      " |      The singular values are equal to the 2-norms of the ``n_components``\n",
      " |      variables in the lower-dimensional space.\n",
      " |  \n",
      " |      .. versionadded:: 0.19\n",
      " |  \n",
      " |  mean_ : ndarray of shape (n_features,)\n",
      " |      Per-feature empirical mean, estimated from the training set.\n",
      " |  \n",
      " |      Equal to `X.mean(axis=0)`.\n",
      " |  \n",
      " |  n_components_ : int\n",
      " |      The estimated number of components. When n_components is set\n",
      " |      to 'mle' or a number between 0 and 1 (with svd_solver == 'full') this\n",
      " |      number is estimated from input data. Otherwise it equals the parameter\n",
      " |      n_components, or the lesser value of n_features and n_samples\n",
      " |      if n_components is None.\n",
      " |  \n",
      " |  n_features_ : int\n",
      " |      Number of features in the training data.\n",
      " |  \n",
      " |  n_samples_ : int\n",
      " |      Number of samples in the training data.\n",
      " |  \n",
      " |  noise_variance_ : float\n",
      " |      The estimated noise covariance following the Probabilistic PCA model\n",
      " |      from Tipping and Bishop 1999. See \"Pattern Recognition and\n",
      " |      Machine Learning\" by C. Bishop, 12.2.1 p. 574 or\n",
      " |      http://www.miketipping.com/papers/met-mppca.pdf. It is required to\n",
      " |      compute the estimated data covariance and score samples.\n",
      " |  \n",
      " |      Equal to the average of (min(n_features, n_samples) - n_components)\n",
      " |      smallest eigenvalues of the covariance matrix of X.\n",
      " |  \n",
      " |  See Also\n",
      " |  --------\n",
      " |  KernelPCA : Kernel Principal Component Analysis.\n",
      " |  SparsePCA : Sparse Principal Component Analysis.\n",
      " |  TruncatedSVD : Dimensionality reduction using truncated SVD.\n",
      " |  IncrementalPCA : Incremental Principal Component Analysis.\n",
      " |  \n",
      " |  References\n",
      " |  ----------\n",
      " |  For n_components == 'mle', this class uses the method of *Minka, T. P.\n",
      " |  \"Automatic choice of dimensionality for PCA\". In NIPS, pp. 598-604*\n",
      " |  \n",
      " |  Implements the probabilistic PCA model from:\n",
      " |  Tipping, M. E., and Bishop, C. M. (1999). \"Probabilistic principal\n",
      " |  component analysis\". Journal of the Royal Statistical Society:\n",
      " |  Series B (Statistical Methodology), 61(3), 611-622.\n",
      " |  via the score and score_samples methods.\n",
      " |  See http://www.miketipping.com/papers/met-mppca.pdf\n",
      " |  \n",
      " |  For svd_solver == 'arpack', refer to `scipy.sparse.linalg.svds`.\n",
      " |  \n",
      " |  For svd_solver == 'randomized', see:\n",
      " |  *Halko, N., Martinsson, P. G., and Tropp, J. A. (2011).\n",
      " |  \"Finding structure with randomness: Probabilistic algorithms for\n",
      " |  constructing approximate matrix decompositions\".\n",
      " |  SIAM review, 53(2), 217-288.* and also\n",
      " |  *Martinsson, P. G., Rokhlin, V., and Tygert, M. (2011).\n",
      " |  \"A randomized algorithm for the decomposition of matrices\".\n",
      " |  Applied and Computational Harmonic Analysis, 30(1), 47-68.*\n",
      " |  \n",
      " |  Examples\n",
      " |  --------\n",
      " |  >>> import numpy as np\n",
      " |  >>> from sklearn.decomposition import PCA\n",
      " |  >>> X = np.array([[-1, -1], [-2, -1], [-3, -2], [1, 1], [2, 1], [3, 2]])\n",
      " |  >>> pca = PCA(n_components=2)\n",
      " |  >>> pca.fit(X)\n",
      " |  PCA(n_components=2)\n",
      " |  >>> print(pca.explained_variance_ratio_)\n",
      " |  [0.9924... 0.0075...]\n",
      " |  >>> print(pca.singular_values_)\n",
      " |  [6.30061... 0.54980...]\n",
      " |  \n",
      " |  >>> pca = PCA(n_components=2, svd_solver='full')\n",
      " |  >>> pca.fit(X)\n",
      " |  PCA(n_components=2, svd_solver='full')\n",
      " |  >>> print(pca.explained_variance_ratio_)\n",
      " |  [0.9924... 0.00755...]\n",
      " |  >>> print(pca.singular_values_)\n",
      " |  [6.30061... 0.54980...]\n",
      " |  \n",
      " |  >>> pca = PCA(n_components=1, svd_solver='arpack')\n",
      " |  >>> pca.fit(X)\n",
      " |  PCA(n_components=1, svd_solver='arpack')\n",
      " |  >>> print(pca.explained_variance_ratio_)\n",
      " |  [0.99244...]\n",
      " |  >>> print(pca.singular_values_)\n",
      " |  [6.30061...]\n",
      " |  \n",
      " |  Method resolution order:\n",
      " |      PCA\n",
      " |      sklearn.decomposition._base._BasePCA\n",
      " |      sklearn.base.TransformerMixin\n",
      " |      sklearn.base.BaseEstimator\n",
      " |      builtins.object\n",
      " |  \n",
      " |  Methods defined here:\n",
      " |  \n",
      " |  __init__(self, n_components=None, *, copy=True, whiten=False, svd_solver='auto', tol=0.0, iterated_power='auto', random_state=None)\n",
      " |      Initialize self.  See help(type(self)) for accurate signature.\n",
      " |  \n",
      " |  fit(self, X, y=None)\n",
      " |      Fit the model with X.\n",
      " |      \n",
      " |      Parameters\n",
      " |      ----------\n",
      " |      X : array-like of shape (n_samples, n_features)\n",
      " |          Training data, where n_samples is the number of samples\n",
      " |          and n_features is the number of features.\n",
      " |      \n",
      " |      y : Ignored\n",
      " |      \n",
      " |      Returns\n",
      " |      -------\n",
      " |      self : object\n",
      " |          Returns the instance itself.\n",
      " |  \n",
      " |  fit_transform(self, X, y=None)\n",
      " |      Fit the model with X and apply the dimensionality reduction on X.\n",
      " |      \n",
      " |      Parameters\n",
      " |      ----------\n",
      " |      X : array-like of shape (n_samples, n_features)\n",
      " |          Training data, where n_samples is the number of samples\n",
      " |          and n_features is the number of features.\n",
      " |      \n",
      " |      y : Ignored\n",
      " |      \n",
      " |      Returns\n",
      " |      -------\n",
      " |      X_new : ndarray of shape (n_samples, n_components)\n",
      " |          Transformed values.\n",
      " |      \n",
      " |      Notes\n",
      " |      -----\n",
      " |      This method returns a Fortran-ordered array. To convert it to a\n",
      " |      C-ordered array, use 'np.ascontiguousarray'.\n",
      " |  \n",
      " |  score(self, X, y=None)\n",
      " |      Return the average log-likelihood of all samples.\n",
      " |      \n",
      " |      See. \"Pattern Recognition and Machine Learning\"\n",
      " |      by C. Bishop, 12.2.1 p. 574\n",
      " |      or http://www.miketipping.com/papers/met-mppca.pdf\n",
      " |      \n",
      " |      Parameters\n",
      " |      ----------\n",
      " |      X : array-like of shape (n_samples, n_features)\n",
      " |          The data.\n",
      " |      \n",
      " |      y : Ignored\n",
      " |      \n",
      " |      Returns\n",
      " |      -------\n",
      " |      ll : float\n",
      " |          Average log-likelihood of the samples under the current model.\n",
      " |  \n",
      " |  score_samples(self, X)\n",
      " |      Return the log-likelihood of each sample.\n",
      " |      \n",
      " |      See. \"Pattern Recognition and Machine Learning\"\n",
      " |      by C. Bishop, 12.2.1 p. 574\n",
      " |      or http://www.miketipping.com/papers/met-mppca.pdf\n",
      " |      \n",
      " |      Parameters\n",
      " |      ----------\n",
      " |      X : array-like of shape (n_samples, n_features)\n",
      " |          The data.\n",
      " |      \n",
      " |      Returns\n",
      " |      -------\n",
      " |      ll : ndarray of shape (n_samples,)\n",
      " |          Log-likelihood of each sample under the current model.\n",
      " |  \n",
      " |  ----------------------------------------------------------------------\n",
      " |  Data and other attributes defined here:\n",
      " |  \n",
      " |  __abstractmethods__ = frozenset()\n",
      " |  \n",
      " |  ----------------------------------------------------------------------\n",
      " |  Methods inherited from sklearn.decomposition._base._BasePCA:\n",
      " |  \n",
      " |  get_covariance(self)\n",
      " |      Compute data covariance with the generative model.\n",
      " |      \n",
      " |      ``cov = components_.T * S**2 * components_ + sigma2 * eye(n_features)``\n",
      " |      where S**2 contains the explained variances, and sigma2 contains the\n",
      " |      noise variances.\n",
      " |      \n",
      " |      Returns\n",
      " |      -------\n",
      " |      cov : array, shape=(n_features, n_features)\n",
      " |          Estimated covariance of data.\n",
      " |  \n",
      " |  get_precision(self)\n",
      " |      Compute data precision matrix with the generative model.\n",
      " |      \n",
      " |      Equals the inverse of the covariance but computed with\n",
      " |      the matrix inversion lemma for efficiency.\n",
      " |      \n",
      " |      Returns\n",
      " |      -------\n",
      " |      precision : array, shape=(n_features, n_features)\n",
      " |          Estimated precision of data.\n",
      " |  \n",
      " |  inverse_transform(self, X)\n",
      " |      Transform data back to its original space.\n",
      " |      \n",
      " |      In other words, return an input X_original whose transform would be X.\n",
      " |      \n",
      " |      Parameters\n",
      " |      ----------\n",
      " |      X : array-like, shape (n_samples, n_components)\n",
      " |          New data, where n_samples is the number of samples\n",
      " |          and n_components is the number of components.\n",
      " |      \n",
      " |      Returns\n",
      " |      -------\n",
      " |      X_original array-like, shape (n_samples, n_features)\n",
      " |      \n",
      " |      Notes\n",
      " |      -----\n",
      " |      If whitening is enabled, inverse_transform will compute the\n",
      " |      exact inverse operation, which includes reversing whitening.\n",
      " |  \n",
      " |  transform(self, X)\n",
      " |      Apply dimensionality reduction to X.\n",
      " |      \n",
      " |      X is projected on the first principal components previously extracted\n",
      " |      from a training set.\n",
      " |      \n",
      " |      Parameters\n",
      " |      ----------\n",
      " |      X : array-like, shape (n_samples, n_features)\n",
      " |          New data, where n_samples is the number of samples\n",
      " |          and n_features is the number of features.\n",
      " |      \n",
      " |      Returns\n",
      " |      -------\n",
      " |      X_new : array-like, shape (n_samples, n_components)\n",
      " |      \n",
      " |      Examples\n",
      " |      --------\n",
      " |      \n",
      " |      >>> import numpy as np\n",
      " |      >>> from sklearn.decomposition import IncrementalPCA\n",
      " |      >>> X = np.array([[-1, -1], [-2, -1], [-3, -2], [1, 1], [2, 1], [3, 2]])\n",
      " |      >>> ipca = IncrementalPCA(n_components=2, batch_size=3)\n",
      " |      >>> ipca.fit(X)\n",
      " |      IncrementalPCA(batch_size=3, n_components=2)\n",
      " |      >>> ipca.transform(X) # doctest: +SKIP\n",
      " |  \n",
      " |  ----------------------------------------------------------------------\n",
      " |  Data descriptors inherited from sklearn.base.TransformerMixin:\n",
      " |  \n",
      " |  __dict__\n",
      " |      dictionary for instance variables (if defined)\n",
      " |  \n",
      " |  __weakref__\n",
      " |      list of weak references to the object (if defined)\n",
      " |  \n",
      " |  ----------------------------------------------------------------------\n",
      " |  Methods inherited from sklearn.base.BaseEstimator:\n",
      " |  \n",
      " |  __getstate__(self)\n",
      " |  \n",
      " |  __repr__(self, N_CHAR_MAX=700)\n",
      " |      Return repr(self).\n",
      " |  \n",
      " |  __setstate__(self, state)\n",
      " |  \n",
      " |  get_params(self, deep=True)\n",
      " |      Get parameters for this estimator.\n",
      " |      \n",
      " |      Parameters\n",
      " |      ----------\n",
      " |      deep : bool, default=True\n",
      " |          If True, will return the parameters for this estimator and\n",
      " |          contained subobjects that are estimators.\n",
      " |      \n",
      " |      Returns\n",
      " |      -------\n",
      " |      params : dict\n",
      " |          Parameter names mapped to their values.\n",
      " |  \n",
      " |  set_params(self, **params)\n",
      " |      Set the parameters of this estimator.\n",
      " |      \n",
      " |      The method works on simple estimators as well as on nested objects\n",
      " |      (such as :class:`~sklearn.pipeline.Pipeline`). The latter have\n",
      " |      parameters of the form ``<component>__<parameter>`` so that it's\n",
      " |      possible to update each component of a nested object.\n",
      " |      \n",
      " |      Parameters\n",
      " |      ----------\n",
      " |      **params : dict\n",
      " |          Estimator parameters.\n",
      " |      \n",
      " |      Returns\n",
      " |      -------\n",
      " |      self : estimator instance\n",
      " |          Estimator instance.\n",
      "\n"
     ]
    }
   ],
   "source": [
    "help(PCA)"
   ]
  },
  {
   "cell_type": "code",
   "execution_count": 45,
   "metadata": {},
   "outputs": [
    {
     "data": {
      "text/plain": [
       "array([[2.5, 2.4],\n",
       "       [0.5, 0.6],\n",
       "       [3. , 3.1],\n",
       "       [2.5, 2.2],\n",
       "       [1.5, 1.2],\n",
       "       [0.2, 0.4],\n",
       "       [4.5, 4.7],\n",
       "       [1.7, 1.2],\n",
       "       [3.7, 3.8],\n",
       "       [2.1, 1.9]])"
      ]
     },
     "execution_count": 45,
     "metadata": {},
     "output_type": "execute_result"
    }
   ],
   "source": [
    "data"
   ]
  },
  {
   "cell_type": "code",
   "execution_count": 43,
   "metadata": {},
   "outputs": [
    {
     "data": {
      "text/plain": [
       "array([[ 0.2900796 ],\n",
       "       [-1.78954813],\n",
       "       [ 0.94352181],\n",
       "       [ 0.18325138],\n",
       "       [-0.90997659],\n",
       "       [-2.06410242],\n",
       "       [ 2.63677788],\n",
       "       [-0.79815922],\n",
       "       [ 1.70878139],\n",
       "       [-0.2006257 ]])"
      ]
     },
     "execution_count": 43,
     "metadata": {},
     "output_type": "execute_result"
    }
   ],
   "source": [
    "pca = PCA(n_components = 1 )\n",
    "pca.fit(data_std)\n",
    "data_new_pca = pca.transform(data_std)\n",
    "data_new_pca"
   ]
  },
  {
   "cell_type": "code",
   "execution_count": 44,
   "metadata": {},
   "outputs": [
    {
     "data": {
      "text/html": [
       "<div>\n",
       "<style scoped>\n",
       "    .dataframe tbody tr th:only-of-type {\n",
       "        vertical-align: middle;\n",
       "    }\n",
       "\n",
       "    .dataframe tbody tr th {\n",
       "        vertical-align: top;\n",
       "    }\n",
       "\n",
       "    .dataframe thead th {\n",
       "        text-align: right;\n",
       "    }\n",
       "</style>\n",
       "<table border=\"1\" class=\"dataframe\">\n",
       "  <thead>\n",
       "    <tr style=\"text-align: right;\">\n",
       "      <th></th>\n",
       "      <th>pca1</th>\n",
       "    </tr>\n",
       "  </thead>\n",
       "  <tbody>\n",
       "    <tr>\n",
       "      <th>0</th>\n",
       "      <td>0.290080</td>\n",
       "    </tr>\n",
       "    <tr>\n",
       "      <th>1</th>\n",
       "      <td>-1.789548</td>\n",
       "    </tr>\n",
       "    <tr>\n",
       "      <th>2</th>\n",
       "      <td>0.943522</td>\n",
       "    </tr>\n",
       "    <tr>\n",
       "      <th>3</th>\n",
       "      <td>0.183251</td>\n",
       "    </tr>\n",
       "    <tr>\n",
       "      <th>4</th>\n",
       "      <td>-0.909977</td>\n",
       "    </tr>\n",
       "    <tr>\n",
       "      <th>5</th>\n",
       "      <td>-2.064102</td>\n",
       "    </tr>\n",
       "    <tr>\n",
       "      <th>6</th>\n",
       "      <td>2.636778</td>\n",
       "    </tr>\n",
       "    <tr>\n",
       "      <th>7</th>\n",
       "      <td>-0.798159</td>\n",
       "    </tr>\n",
       "    <tr>\n",
       "      <th>8</th>\n",
       "      <td>1.708781</td>\n",
       "    </tr>\n",
       "    <tr>\n",
       "      <th>9</th>\n",
       "      <td>-0.200626</td>\n",
       "    </tr>\n",
       "  </tbody>\n",
       "</table>\n",
       "</div>"
      ],
      "text/plain": [
       "       pca1\n",
       "0  0.290080\n",
       "1 -1.789548\n",
       "2  0.943522\n",
       "3  0.183251\n",
       "4 -0.909977\n",
       "5 -2.064102\n",
       "6  2.636778\n",
       "7 -0.798159\n",
       "8  1.708781\n",
       "9 -0.200626"
      ]
     },
     "execution_count": 44,
     "metadata": {},
     "output_type": "execute_result"
    }
   ],
   "source": [
    "df_data_newk"
   ]
  },
  {
   "cell_type": "markdown",
   "metadata": {},
   "source": [
    "### Ejemplo 2"
   ]
  },
  {
   "cell_type": "code",
   "execution_count": 47,
   "metadata": {},
   "outputs": [
    {
     "data": {
      "text/html": [
       "<div>\n",
       "<style scoped>\n",
       "    .dataframe tbody tr th:only-of-type {\n",
       "        vertical-align: middle;\n",
       "    }\n",
       "\n",
       "    .dataframe tbody tr th {\n",
       "        vertical-align: top;\n",
       "    }\n",
       "\n",
       "    .dataframe thead th {\n",
       "        text-align: right;\n",
       "    }\n",
       "</style>\n",
       "<table border=\"1\" class=\"dataframe\">\n",
       "  <thead>\n",
       "    <tr style=\"text-align: right;\">\n",
       "      <th></th>\n",
       "      <th>ingresos</th>\n",
       "      <th>gastos_comunes</th>\n",
       "      <th>pago_coche</th>\n",
       "      <th>gastos_otros</th>\n",
       "      <th>ahorros</th>\n",
       "      <th>vivienda</th>\n",
       "      <th>estado_civil</th>\n",
       "      <th>hijos</th>\n",
       "      <th>trabajo</th>\n",
       "      <th>comprar</th>\n",
       "    </tr>\n",
       "  </thead>\n",
       "  <tbody>\n",
       "    <tr>\n",
       "      <th>0</th>\n",
       "      <td>6000</td>\n",
       "      <td>1000</td>\n",
       "      <td>0</td>\n",
       "      <td>600</td>\n",
       "      <td>50000</td>\n",
       "      <td>400000</td>\n",
       "      <td>0</td>\n",
       "      <td>2</td>\n",
       "      <td>2</td>\n",
       "      <td>1</td>\n",
       "    </tr>\n",
       "    <tr>\n",
       "      <th>1</th>\n",
       "      <td>6745</td>\n",
       "      <td>944</td>\n",
       "      <td>123</td>\n",
       "      <td>429</td>\n",
       "      <td>43240</td>\n",
       "      <td>636897</td>\n",
       "      <td>1</td>\n",
       "      <td>3</td>\n",
       "      <td>6</td>\n",
       "      <td>0</td>\n",
       "    </tr>\n",
       "    <tr>\n",
       "      <th>2</th>\n",
       "      <td>6455</td>\n",
       "      <td>1033</td>\n",
       "      <td>98</td>\n",
       "      <td>795</td>\n",
       "      <td>57463</td>\n",
       "      <td>321779</td>\n",
       "      <td>2</td>\n",
       "      <td>1</td>\n",
       "      <td>8</td>\n",
       "      <td>1</td>\n",
       "    </tr>\n",
       "    <tr>\n",
       "      <th>3</th>\n",
       "      <td>7098</td>\n",
       "      <td>1278</td>\n",
       "      <td>15</td>\n",
       "      <td>254</td>\n",
       "      <td>54506</td>\n",
       "      <td>660933</td>\n",
       "      <td>0</td>\n",
       "      <td>0</td>\n",
       "      <td>3</td>\n",
       "      <td>0</td>\n",
       "    </tr>\n",
       "    <tr>\n",
       "      <th>4</th>\n",
       "      <td>6167</td>\n",
       "      <td>863</td>\n",
       "      <td>223</td>\n",
       "      <td>520</td>\n",
       "      <td>41512</td>\n",
       "      <td>348932</td>\n",
       "      <td>0</td>\n",
       "      <td>0</td>\n",
       "      <td>3</td>\n",
       "      <td>1</td>\n",
       "    </tr>\n",
       "  </tbody>\n",
       "</table>\n",
       "</div>"
      ],
      "text/plain": [
       "   ingresos  gastos_comunes  pago_coche  gastos_otros  ahorros  vivienda  \\\n",
       "0      6000            1000           0           600    50000    400000   \n",
       "1      6745             944         123           429    43240    636897   \n",
       "2      6455            1033          98           795    57463    321779   \n",
       "3      7098            1278          15           254    54506    660933   \n",
       "4      6167             863         223           520    41512    348932   \n",
       "\n",
       "   estado_civil  hijos  trabajo  comprar  \n",
       "0             0      2        2        1  \n",
       "1             1      3        6        0  \n",
       "2             2      1        8        1  \n",
       "3             0      0        3        0  \n",
       "4             0      0        3        1  "
      ]
     },
     "execution_count": 47,
     "metadata": {},
     "output_type": "execute_result"
    }
   ],
   "source": [
    "data = pd.read_csv('../Data/compra_alquilar.csv')\n",
    "data.head()"
   ]
  },
  {
   "cell_type": "code",
   "execution_count": 48,
   "metadata": {},
   "outputs": [
    {
     "data": {
      "text/html": [
       "<div>\n",
       "<style scoped>\n",
       "    .dataframe tbody tr th:only-of-type {\n",
       "        vertical-align: middle;\n",
       "    }\n",
       "\n",
       "    .dataframe tbody tr th {\n",
       "        vertical-align: top;\n",
       "    }\n",
       "\n",
       "    .dataframe thead th {\n",
       "        text-align: right;\n",
       "    }\n",
       "</style>\n",
       "<table border=\"1\" class=\"dataframe\">\n",
       "  <thead>\n",
       "    <tr style=\"text-align: right;\">\n",
       "      <th></th>\n",
       "      <th>ingresos</th>\n",
       "      <th>gastos_comunes</th>\n",
       "      <th>pago_coche</th>\n",
       "      <th>gastos_otros</th>\n",
       "      <th>ahorros</th>\n",
       "      <th>vivienda</th>\n",
       "      <th>estado_civil</th>\n",
       "      <th>hijos</th>\n",
       "      <th>trabajo</th>\n",
       "    </tr>\n",
       "  </thead>\n",
       "  <tbody>\n",
       "    <tr>\n",
       "      <th>0</th>\n",
       "      <td>6000</td>\n",
       "      <td>1000</td>\n",
       "      <td>0</td>\n",
       "      <td>600</td>\n",
       "      <td>50000</td>\n",
       "      <td>400000</td>\n",
       "      <td>0</td>\n",
       "      <td>2</td>\n",
       "      <td>2</td>\n",
       "    </tr>\n",
       "    <tr>\n",
       "      <th>1</th>\n",
       "      <td>6745</td>\n",
       "      <td>944</td>\n",
       "      <td>123</td>\n",
       "      <td>429</td>\n",
       "      <td>43240</td>\n",
       "      <td>636897</td>\n",
       "      <td>1</td>\n",
       "      <td>3</td>\n",
       "      <td>6</td>\n",
       "    </tr>\n",
       "    <tr>\n",
       "      <th>2</th>\n",
       "      <td>6455</td>\n",
       "      <td>1033</td>\n",
       "      <td>98</td>\n",
       "      <td>795</td>\n",
       "      <td>57463</td>\n",
       "      <td>321779</td>\n",
       "      <td>2</td>\n",
       "      <td>1</td>\n",
       "      <td>8</td>\n",
       "    </tr>\n",
       "    <tr>\n",
       "      <th>3</th>\n",
       "      <td>7098</td>\n",
       "      <td>1278</td>\n",
       "      <td>15</td>\n",
       "      <td>254</td>\n",
       "      <td>54506</td>\n",
       "      <td>660933</td>\n",
       "      <td>0</td>\n",
       "      <td>0</td>\n",
       "      <td>3</td>\n",
       "    </tr>\n",
       "    <tr>\n",
       "      <th>4</th>\n",
       "      <td>6167</td>\n",
       "      <td>863</td>\n",
       "      <td>223</td>\n",
       "      <td>520</td>\n",
       "      <td>41512</td>\n",
       "      <td>348932</td>\n",
       "      <td>0</td>\n",
       "      <td>0</td>\n",
       "      <td>3</td>\n",
       "    </tr>\n",
       "  </tbody>\n",
       "</table>\n",
       "</div>"
      ],
      "text/plain": [
       "   ingresos  gastos_comunes  pago_coche  gastos_otros  ahorros  vivienda  \\\n",
       "0      6000            1000           0           600    50000    400000   \n",
       "1      6745             944         123           429    43240    636897   \n",
       "2      6455            1033          98           795    57463    321779   \n",
       "3      7098            1278          15           254    54506    660933   \n",
       "4      6167             863         223           520    41512    348932   \n",
       "\n",
       "   estado_civil  hijos  trabajo  \n",
       "0             0      2        2  \n",
       "1             1      3        6  \n",
       "2             2      1        8  \n",
       "3             0      0        3  \n",
       "4             0      0        3  "
      ]
     },
     "execution_count": 48,
     "metadata": {},
     "output_type": "execute_result"
    }
   ],
   "source": [
    "data = data.drop(['comprar'], axis=1)\n",
    "data.head()"
   ]
  },
  {
   "cell_type": "code",
   "execution_count": 49,
   "metadata": {},
   "outputs": [
    {
     "name": "stdout",
     "output_type": "stream",
     "text": [
      "<class 'pandas.core.frame.DataFrame'>\n",
      "RangeIndex: 202 entries, 0 to 201\n",
      "Data columns (total 9 columns):\n",
      " #   Column          Non-Null Count  Dtype\n",
      "---  ------          --------------  -----\n",
      " 0   ingresos        202 non-null    int64\n",
      " 1   gastos_comunes  202 non-null    int64\n",
      " 2   pago_coche      202 non-null    int64\n",
      " 3   gastos_otros    202 non-null    int64\n",
      " 4   ahorros         202 non-null    int64\n",
      " 5   vivienda        202 non-null    int64\n",
      " 6   estado_civil    202 non-null    int64\n",
      " 7   hijos           202 non-null    int64\n",
      " 8   trabajo         202 non-null    int64\n",
      "dtypes: int64(9)\n",
      "memory usage: 14.3 KB\n"
     ]
    }
   ],
   "source": [
    "data.info()"
   ]
  },
  {
   "cell_type": "code",
   "execution_count": 52,
   "metadata": {},
   "outputs": [
    {
     "data": {
      "text/plain": [
       "Index(['ingresos', 'gastos_comunes', 'pago_coche', 'gastos_otros', 'ahorros',\n",
       "       'vivienda', 'estado_civil', 'hijos', 'trabajo'],\n",
       "      dtype='object')"
      ]
     },
     "execution_count": 52,
     "metadata": {},
     "output_type": "execute_result"
    }
   ],
   "source": [
    "data.columns"
   ]
  },
  {
   "cell_type": "code",
   "execution_count": 55,
   "metadata": {},
   "outputs": [
    {
     "data": {
      "text/html": [
       "<div>\n",
       "<style scoped>\n",
       "    .dataframe tbody tr th:only-of-type {\n",
       "        vertical-align: middle;\n",
       "    }\n",
       "\n",
       "    .dataframe tbody tr th {\n",
       "        vertical-align: top;\n",
       "    }\n",
       "\n",
       "    .dataframe thead th {\n",
       "        text-align: right;\n",
       "    }\n",
       "</style>\n",
       "<table border=\"1\" class=\"dataframe\">\n",
       "  <thead>\n",
       "    <tr style=\"text-align: right;\">\n",
       "      <th></th>\n",
       "      <th>ingresos</th>\n",
       "      <th>gastos_comunes</th>\n",
       "      <th>pago_coche</th>\n",
       "      <th>gastos_otros</th>\n",
       "      <th>ahorros</th>\n",
       "      <th>vivienda</th>\n",
       "      <th>estado_civil</th>\n",
       "      <th>hijos</th>\n",
       "      <th>trabajo</th>\n",
       "    </tr>\n",
       "  </thead>\n",
       "  <tbody>\n",
       "    <tr>\n",
       "      <th>0</th>\n",
       "      <td>0.620129</td>\n",
       "      <td>0.104689</td>\n",
       "      <td>-1.698954</td>\n",
       "      <td>0.504359</td>\n",
       "      <td>0.649475</td>\n",
       "      <td>0.195910</td>\n",
       "      <td>-1.227088</td>\n",
       "      <td>0.562374</td>\n",
       "      <td>-0.984420</td>\n",
       "    </tr>\n",
       "    <tr>\n",
       "      <th>1</th>\n",
       "      <td>1.063927</td>\n",
       "      <td>-0.101625</td>\n",
       "      <td>-0.712042</td>\n",
       "      <td>-0.515401</td>\n",
       "      <td>0.259224</td>\n",
       "      <td>1.937370</td>\n",
       "      <td>-0.029640</td>\n",
       "      <td>1.295273</td>\n",
       "      <td>0.596915</td>\n",
       "    </tr>\n",
       "    <tr>\n",
       "      <th>2</th>\n",
       "      <td>0.891173</td>\n",
       "      <td>0.226266</td>\n",
       "      <td>-0.912634</td>\n",
       "      <td>1.667244</td>\n",
       "      <td>1.080309</td>\n",
       "      <td>-0.379102</td>\n",
       "      <td>1.167809</td>\n",
       "      <td>-0.170526</td>\n",
       "      <td>1.387582</td>\n",
       "    </tr>\n",
       "    <tr>\n",
       "      <th>3</th>\n",
       "      <td>1.274209</td>\n",
       "      <td>1.128886</td>\n",
       "      <td>-1.578599</td>\n",
       "      <td>-1.559015</td>\n",
       "      <td>0.909604</td>\n",
       "      <td>2.114062</td>\n",
       "      <td>-1.227088</td>\n",
       "      <td>-0.903426</td>\n",
       "      <td>-0.589086</td>\n",
       "    </tr>\n",
       "    <tr>\n",
       "      <th>4</th>\n",
       "      <td>0.719611</td>\n",
       "      <td>-0.400042</td>\n",
       "      <td>0.090326</td>\n",
       "      <td>0.027279</td>\n",
       "      <td>0.159468</td>\n",
       "      <td>-0.179497</td>\n",
       "      <td>-1.227088</td>\n",
       "      <td>-0.903426</td>\n",
       "      <td>-0.589086</td>\n",
       "    </tr>\n",
       "  </tbody>\n",
       "</table>\n",
       "</div>"
      ],
      "text/plain": [
       "   ingresos  gastos_comunes  pago_coche  gastos_otros   ahorros  vivienda  \\\n",
       "0  0.620129        0.104689   -1.698954      0.504359  0.649475  0.195910   \n",
       "1  1.063927       -0.101625   -0.712042     -0.515401  0.259224  1.937370   \n",
       "2  0.891173        0.226266   -0.912634      1.667244  1.080309 -0.379102   \n",
       "3  1.274209        1.128886   -1.578599     -1.559015  0.909604  2.114062   \n",
       "4  0.719611       -0.400042    0.090326      0.027279  0.159468 -0.179497   \n",
       "\n",
       "   estado_civil     hijos   trabajo  \n",
       "0     -1.227088  0.562374 -0.984420  \n",
       "1     -0.029640  1.295273  0.596915  \n",
       "2      1.167809 -0.170526  1.387582  \n",
       "3     -1.227088 -0.903426 -0.589086  \n",
       "4     -1.227088 -0.903426 -0.589086  "
      ]
     },
     "execution_count": 55,
     "metadata": {},
     "output_type": "execute_result"
    }
   ],
   "source": [
    "#Análisis de Componentes Principales:\n",
    "\n",
    "#1.- Estrandarizar el conjunto de datos: (data_std = (x - x_mean)/std)\n",
    "from sklearn.preprocessing import StandardScaler\n",
    "scaler = StandardScaler()\n",
    "scaler.fit(data)\n",
    "data_std = scaler.transform(data)\n",
    "data_std_df = pd.DataFrame(data_std, columns=data.columns)\n",
    "data_std_df.head()\n"
   ]
  },
  {
   "cell_type": "code",
   "execution_count": 57,
   "metadata": {},
   "outputs": [
    {
     "data": {
      "text/html": [
       "<div>\n",
       "<style scoped>\n",
       "    .dataframe tbody tr th:only-of-type {\n",
       "        vertical-align: middle;\n",
       "    }\n",
       "\n",
       "    .dataframe tbody tr th {\n",
       "        vertical-align: top;\n",
       "    }\n",
       "\n",
       "    .dataframe thead th {\n",
       "        text-align: right;\n",
       "    }\n",
       "</style>\n",
       "<table border=\"1\" class=\"dataframe\">\n",
       "  <thead>\n",
       "    <tr style=\"text-align: right;\">\n",
       "      <th></th>\n",
       "      <th>0</th>\n",
       "      <th>1</th>\n",
       "      <th>2</th>\n",
       "      <th>3</th>\n",
       "      <th>4</th>\n",
       "      <th>5</th>\n",
       "      <th>6</th>\n",
       "      <th>7</th>\n",
       "      <th>8</th>\n",
       "    </tr>\n",
       "  </thead>\n",
       "  <tbody>\n",
       "    <tr>\n",
       "      <th>0</th>\n",
       "      <td>-1.321915</td>\n",
       "      <td>-0.222950</td>\n",
       "      <td>-1.599863</td>\n",
       "      <td>-0.885014</td>\n",
       "      <td>0.646617</td>\n",
       "      <td>-0.700208</td>\n",
       "      <td>-0.318031</td>\n",
       "      <td>0.751809</td>\n",
       "      <td>0.269984</td>\n",
       "    </tr>\n",
       "    <tr>\n",
       "      <th>1</th>\n",
       "      <td>-1.147878</td>\n",
       "      <td>1.716967</td>\n",
       "      <td>-0.395722</td>\n",
       "      <td>-0.447960</td>\n",
       "      <td>-0.687805</td>\n",
       "      <td>-0.231969</td>\n",
       "      <td>-1.542487</td>\n",
       "      <td>-0.221799</td>\n",
       "      <td>0.438425</td>\n",
       "    </tr>\n",
       "    <tr>\n",
       "      <th>2</th>\n",
       "      <td>-0.090369</td>\n",
       "      <td>1.836066</td>\n",
       "      <td>-1.359382</td>\n",
       "      <td>0.337505</td>\n",
       "      <td>0.742387</td>\n",
       "      <td>0.593030</td>\n",
       "      <td>1.540495</td>\n",
       "      <td>-0.668120</td>\n",
       "      <td>0.153463</td>\n",
       "    </tr>\n",
       "    <tr>\n",
       "      <th>3</th>\n",
       "      <td>-3.455898</td>\n",
       "      <td>-0.078279</td>\n",
       "      <td>0.202382</td>\n",
       "      <td>-1.573584</td>\n",
       "      <td>-0.068551</td>\n",
       "      <td>-0.051945</td>\n",
       "      <td>-0.909409</td>\n",
       "      <td>-0.684486</td>\n",
       "      <td>-0.129045</td>\n",
       "    </tr>\n",
       "    <tr>\n",
       "      <th>4</th>\n",
       "      <td>-0.916933</td>\n",
       "      <td>-1.184676</td>\n",
       "      <td>-0.190036</td>\n",
       "      <td>0.117804</td>\n",
       "      <td>-0.147753</td>\n",
       "      <td>-0.619750</td>\n",
       "      <td>0.450419</td>\n",
       "      <td>-0.194341</td>\n",
       "      <td>0.687452</td>\n",
       "    </tr>\n",
       "  </tbody>\n",
       "</table>\n",
       "</div>"
      ],
      "text/plain": [
       "          0         1         2         3         4         5         6  \\\n",
       "0 -1.321915 -0.222950 -1.599863 -0.885014  0.646617 -0.700208 -0.318031   \n",
       "1 -1.147878  1.716967 -0.395722 -0.447960 -0.687805 -0.231969 -1.542487   \n",
       "2 -0.090369  1.836066 -1.359382  0.337505  0.742387  0.593030  1.540495   \n",
       "3 -3.455898 -0.078279  0.202382 -1.573584 -0.068551 -0.051945 -0.909409   \n",
       "4 -0.916933 -1.184676 -0.190036  0.117804 -0.147753 -0.619750  0.450419   \n",
       "\n",
       "          7         8  \n",
       "0  0.751809  0.269984  \n",
       "1 -0.221799  0.438425  \n",
       "2 -0.668120  0.153463  \n",
       "3 -0.684486 -0.129045  \n",
       "4 -0.194341  0.687452  "
      ]
     },
     "execution_count": 57,
     "metadata": {},
     "output_type": "execute_result"
    }
   ],
   "source": [
    "# 2.- Con la librería PCA de sklearn, aplicamos el Análisis de componentes principales\n",
    "pca = PCA(n_components=9)\n",
    "pca.fit(data_std)\n",
    "data_new_pca = pca.transform(data_std)\n",
    "pd.DataFrame(data_new_pca).head()\n"
   ]
  },
  {
   "cell_type": "code",
   "execution_count": 58,
   "metadata": {},
   "outputs": [
    {
     "data": {
      "text/plain": [
       "array([0.29913557, 0.23294923, 0.11711241, 0.10685622, 0.09635279,\n",
       "       0.05629866, 0.04145579, 0.03017819, 0.01966115])"
      ]
     },
     "execution_count": 58,
     "metadata": {},
     "output_type": "execute_result"
    }
   ],
   "source": [
    "pca.explained_variance_ratio_"
   ]
  },
  {
   "cell_type": "code",
   "execution_count": 60,
   "metadata": {},
   "outputs": [
    {
     "data": {
      "text/html": [
       "<div>\n",
       "<style scoped>\n",
       "    .dataframe tbody tr th:only-of-type {\n",
       "        vertical-align: middle;\n",
       "    }\n",
       "\n",
       "    .dataframe tbody tr th {\n",
       "        vertical-align: top;\n",
       "    }\n",
       "\n",
       "    .dataframe thead th {\n",
       "        text-align: right;\n",
       "    }\n",
       "</style>\n",
       "<table border=\"1\" class=\"dataframe\">\n",
       "  <thead>\n",
       "    <tr style=\"text-align: right;\">\n",
       "      <th></th>\n",
       "      <th>0</th>\n",
       "      <th>1</th>\n",
       "      <th>2</th>\n",
       "      <th>3</th>\n",
       "      <th>4</th>\n",
       "      <th>5</th>\n",
       "      <th>6</th>\n",
       "      <th>7</th>\n",
       "      <th>8</th>\n",
       "    </tr>\n",
       "  </thead>\n",
       "  <tbody>\n",
       "    <tr>\n",
       "      <th>0</th>\n",
       "      <td>-0.493720</td>\n",
       "      <td>-0.318229</td>\n",
       "      <td>0.123771</td>\n",
       "      <td>0.111876</td>\n",
       "      <td>-0.444650</td>\n",
       "      <td>-0.462609</td>\n",
       "      <td>0.252279</td>\n",
       "      <td>0.259859</td>\n",
       "      <td>0.290248</td>\n",
       "    </tr>\n",
       "    <tr>\n",
       "      <th>1</th>\n",
       "      <td>0.306959</td>\n",
       "      <td>0.147373</td>\n",
       "      <td>-0.091641</td>\n",
       "      <td>0.000112</td>\n",
       "      <td>0.288435</td>\n",
       "      <td>0.148985</td>\n",
       "      <td>0.469044</td>\n",
       "      <td>0.521894</td>\n",
       "      <td>0.527156</td>\n",
       "    </tr>\n",
       "    <tr>\n",
       "      <th>2</th>\n",
       "      <td>0.091419</td>\n",
       "      <td>0.363453</td>\n",
       "      <td>0.516144</td>\n",
       "      <td>-0.701986</td>\n",
       "      <td>-0.191767</td>\n",
       "      <td>-0.140513</td>\n",
       "      <td>0.172885</td>\n",
       "      <td>-0.112184</td>\n",
       "      <td>0.036910</td>\n",
       "    </tr>\n",
       "    <tr>\n",
       "      <th>3</th>\n",
       "      <td>0.111222</td>\n",
       "      <td>0.081630</td>\n",
       "      <td>0.780268</td>\n",
       "      <td>0.590704</td>\n",
       "      <td>0.022839</td>\n",
       "      <td>0.150085</td>\n",
       "      <td>-0.007663</td>\n",
       "      <td>0.007404</td>\n",
       "      <td>-0.007493</td>\n",
       "    </tr>\n",
       "    <tr>\n",
       "      <th>4</th>\n",
       "      <td>0.088897</td>\n",
       "      <td>0.763006</td>\n",
       "      <td>-0.265554</td>\n",
       "      <td>0.330744</td>\n",
       "      <td>-0.289002</td>\n",
       "      <td>-0.365556</td>\n",
       "      <td>-0.104639</td>\n",
       "      <td>0.043668</td>\n",
       "      <td>0.000009</td>\n",
       "    </tr>\n",
       "    <tr>\n",
       "      <th>5</th>\n",
       "      <td>-0.075477</td>\n",
       "      <td>0.067903</td>\n",
       "      <td>-0.153697</td>\n",
       "      <td>0.154422</td>\n",
       "      <td>-0.230181</td>\n",
       "      <td>0.290799</td>\n",
       "      <td>0.767070</td>\n",
       "      <td>-0.387964</td>\n",
       "      <td>-0.256446</td>\n",
       "    </tr>\n",
       "    <tr>\n",
       "      <th>6</th>\n",
       "      <td>0.154319</td>\n",
       "      <td>-0.105598</td>\n",
       "      <td>0.027333</td>\n",
       "      <td>0.101876</td>\n",
       "      <td>0.524584</td>\n",
       "      <td>-0.641034</td>\n",
       "      <td>0.212365</td>\n",
       "      <td>-0.460067</td>\n",
       "      <td>0.105053</td>\n",
       "    </tr>\n",
       "    <tr>\n",
       "      <th>7</th>\n",
       "      <td>0.012732</td>\n",
       "      <td>-0.010274</td>\n",
       "      <td>0.061759</td>\n",
       "      <td>-0.037977</td>\n",
       "      <td>0.212759</td>\n",
       "      <td>-0.260847</td>\n",
       "      <td>0.204816</td>\n",
       "      <td>0.532216</td>\n",
       "      <td>-0.745630</td>\n",
       "    </tr>\n",
       "    <tr>\n",
       "      <th>8</th>\n",
       "      <td>0.776990</td>\n",
       "      <td>-0.374440</td>\n",
       "      <td>-0.048557</td>\n",
       "      <td>0.026631</td>\n",
       "      <td>-0.474168</td>\n",
       "      <td>-0.156101</td>\n",
       "      <td>-0.003289</td>\n",
       "      <td>0.011051</td>\n",
       "      <td>-0.060657</td>\n",
       "    </tr>\n",
       "  </tbody>\n",
       "</table>\n",
       "</div>"
      ],
      "text/plain": [
       "          0         1         2         3         4         5         6  \\\n",
       "0 -0.493720 -0.318229  0.123771  0.111876 -0.444650 -0.462609  0.252279   \n",
       "1  0.306959  0.147373 -0.091641  0.000112  0.288435  0.148985  0.469044   \n",
       "2  0.091419  0.363453  0.516144 -0.701986 -0.191767 -0.140513  0.172885   \n",
       "3  0.111222  0.081630  0.780268  0.590704  0.022839  0.150085 -0.007663   \n",
       "4  0.088897  0.763006 -0.265554  0.330744 -0.289002 -0.365556 -0.104639   \n",
       "5 -0.075477  0.067903 -0.153697  0.154422 -0.230181  0.290799  0.767070   \n",
       "6  0.154319 -0.105598  0.027333  0.101876  0.524584 -0.641034  0.212365   \n",
       "7  0.012732 -0.010274  0.061759 -0.037977  0.212759 -0.260847  0.204816   \n",
       "8  0.776990 -0.374440 -0.048557  0.026631 -0.474168 -0.156101 -0.003289   \n",
       "\n",
       "          7         8  \n",
       "0  0.259859  0.290248  \n",
       "1  0.521894  0.527156  \n",
       "2 -0.112184  0.036910  \n",
       "3  0.007404 -0.007493  \n",
       "4  0.043668  0.000009  \n",
       "5 -0.387964 -0.256446  \n",
       "6 -0.460067  0.105053  \n",
       "7  0.532216 -0.745630  \n",
       "8  0.011051 -0.060657  "
      ]
     },
     "execution_count": 60,
     "metadata": {},
     "output_type": "execute_result"
    }
   ],
   "source": [
    "pd.DataFrame(pca.components_)"
   ]
  },
  {
   "cell_type": "code",
   "execution_count": 61,
   "metadata": {},
   "outputs": [
    {
     "data": {
      "text/plain": [
       "array([0.29913557, 0.5320848 , 0.64919721, 0.75605343, 0.85240621,\n",
       "       0.90870487, 0.95016066, 0.98033885, 1.        ])"
      ]
     },
     "execution_count": 61,
     "metadata": {},
     "output_type": "execute_result"
    }
   ],
   "source": [
    "np.cumsum(pca.explained_variance_ratio_)"
   ]
  },
  {
   "cell_type": "code",
   "execution_count": 62,
   "metadata": {},
   "outputs": [
    {
     "data": {
      "text/plain": [
       "9"
      ]
     },
     "execution_count": 62,
     "metadata": {},
     "output_type": "execute_result"
    }
   ],
   "source": [
    "len(pca.explained_variance_ratio_)"
   ]
  },
  {
   "cell_type": "code",
   "execution_count": 67,
   "metadata": {},
   "outputs": [
    {
     "data": {
      "image/png": "[encoded data removed]",
      "text/plain": [
       "<Figure size 720x648 with 1 Axes>"
      ]
     },
     "metadata": {
      "needs_background": "light"
     },
     "output_type": "display_data"
    }
   ],
   "source": [
    "#figura para sabaer la varianza de los datos acumulado (% de información de las componentes principales)\n",
    "\n",
    "plt.figure(figsize=(10,9))\n",
    "plt.plot(np.arange(1,len(pca.explained_variance_ratio_)+1), np.cumsum(pca.explained_variance_ratio_))\n",
    "plt.axhline(y=0.95, color = 'r', linestyle='--')\n",
    "plt.xlabel('Número de componentes principales')\n",
    "plt.ylabel('porcentaje de información')\n",
    "plt.grid()\n",
    "plt.show()"
   ]
  },
  {
   "cell_type": "code",
   "execution_count": 68,
   "metadata": {},
   "outputs": [],
   "source": [
    "def eleccion_de_componmentes_PCA(pca, porcentaje=0.9):\n",
    "    plt.figure(figsize=(10,9))\n",
    "    plt.plot(np.arange(1,len(pca.explained_variance_ratio_)+1), np.cumsum(pca.explained_variance_ratio_))\n",
    "    plt.axhline(y=porcentaje, color = 'r', linestyle='--')\n",
    "    plt.xlabel('Número de componentes principales')\n",
    "    plt.ylabel('porcentaje de información')\n",
    "    plt.grid()\n",
    "    plt.show()\n",
    "    \n",
    "    #return n_component"
   ]
  },
  {
   "cell_type": "code",
   "execution_count": 70,
   "metadata": {},
   "outputs": [
    {
     "data": {
      "image/png": "[encoded data removed]",
      "text/plain": [
       "<Figure size 720x648 with 1 Axes>"
      ]
     },
     "metadata": {
      "needs_background": "light"
     },
     "output_type": "display_data"
    }
   ],
   "source": [
    "eleccion_de_componmentes_PCA(pca, 0.98)"
   ]
  },
  {
   "cell_type": "code",
   "execution_count": 71,
   "metadata": {},
   "outputs": [],
   "source": [
    "#De la gráfica anterior podemos concluir que con un 95% de información de los datros originales podemos\n",
    "#reducir el conjunto de datos a 7 dimenciones\n",
    "n_components = 7\n",
    "#Crear nuevamente la trnasformación de PCA\n",
    "pca_new = PCA(n_components= n_components)\n",
    "pca_new.fit(data_std)\n",
    "data_new_pca = pca_new.transform(data_std)\n"
   ]
  },
  {
   "cell_type": "code",
   "execution_count": 72,
   "metadata": {},
   "outputs": [
    {
     "data": {
      "text/html": [
       "<div>\n",
       "<style scoped>\n",
       "    .dataframe tbody tr th:only-of-type {\n",
       "        vertical-align: middle;\n",
       "    }\n",
       "\n",
       "    .dataframe tbody tr th {\n",
       "        vertical-align: top;\n",
       "    }\n",
       "\n",
       "    .dataframe thead th {\n",
       "        text-align: right;\n",
       "    }\n",
       "</style>\n",
       "<table border=\"1\" class=\"dataframe\">\n",
       "  <thead>\n",
       "    <tr style=\"text-align: right;\">\n",
       "      <th></th>\n",
       "      <th>0</th>\n",
       "      <th>1</th>\n",
       "      <th>2</th>\n",
       "      <th>3</th>\n",
       "      <th>4</th>\n",
       "      <th>5</th>\n",
       "      <th>6</th>\n",
       "    </tr>\n",
       "  </thead>\n",
       "  <tbody>\n",
       "    <tr>\n",
       "      <th>0</th>\n",
       "      <td>-1.321915</td>\n",
       "      <td>-0.222950</td>\n",
       "      <td>-1.599863</td>\n",
       "      <td>-0.885014</td>\n",
       "      <td>0.646617</td>\n",
       "      <td>-0.700208</td>\n",
       "      <td>-0.318031</td>\n",
       "    </tr>\n",
       "    <tr>\n",
       "      <th>1</th>\n",
       "      <td>-1.147878</td>\n",
       "      <td>1.716967</td>\n",
       "      <td>-0.395722</td>\n",
       "      <td>-0.447960</td>\n",
       "      <td>-0.687805</td>\n",
       "      <td>-0.231969</td>\n",
       "      <td>-1.542487</td>\n",
       "    </tr>\n",
       "    <tr>\n",
       "      <th>2</th>\n",
       "      <td>-0.090369</td>\n",
       "      <td>1.836066</td>\n",
       "      <td>-1.359382</td>\n",
       "      <td>0.337505</td>\n",
       "      <td>0.742387</td>\n",
       "      <td>0.593030</td>\n",
       "      <td>1.540495</td>\n",
       "    </tr>\n",
       "    <tr>\n",
       "      <th>3</th>\n",
       "      <td>-3.455898</td>\n",
       "      <td>-0.078279</td>\n",
       "      <td>0.202382</td>\n",
       "      <td>-1.573584</td>\n",
       "      <td>-0.068551</td>\n",
       "      <td>-0.051945</td>\n",
       "      <td>-0.909409</td>\n",
       "    </tr>\n",
       "    <tr>\n",
       "      <th>4</th>\n",
       "      <td>-0.916933</td>\n",
       "      <td>-1.184676</td>\n",
       "      <td>-0.190036</td>\n",
       "      <td>0.117804</td>\n",
       "      <td>-0.147753</td>\n",
       "      <td>-0.619750</td>\n",
       "      <td>0.450419</td>\n",
       "    </tr>\n",
       "    <tr>\n",
       "      <th>...</th>\n",
       "      <td>...</td>\n",
       "      <td>...</td>\n",
       "      <td>...</td>\n",
       "      <td>...</td>\n",
       "      <td>...</td>\n",
       "      <td>...</td>\n",
       "      <td>...</td>\n",
       "    </tr>\n",
       "    <tr>\n",
       "      <th>197</th>\n",
       "      <td>0.707036</td>\n",
       "      <td>-2.506168</td>\n",
       "      <td>0.430903</td>\n",
       "      <td>0.583919</td>\n",
       "      <td>-0.620195</td>\n",
       "      <td>-0.205709</td>\n",
       "      <td>-0.728973</td>\n",
       "    </tr>\n",
       "    <tr>\n",
       "      <th>198</th>\n",
       "      <td>2.038917</td>\n",
       "      <td>1.378909</td>\n",
       "      <td>0.824921</td>\n",
       "      <td>0.039240</td>\n",
       "      <td>0.373044</td>\n",
       "      <td>0.013360</td>\n",
       "      <td>-0.401364</td>\n",
       "    </tr>\n",
       "    <tr>\n",
       "      <th>199</th>\n",
       "      <td>1.481464</td>\n",
       "      <td>0.975900</td>\n",
       "      <td>-0.637578</td>\n",
       "      <td>0.884946</td>\n",
       "      <td>0.128337</td>\n",
       "      <td>-0.655749</td>\n",
       "      <td>-0.662248</td>\n",
       "    </tr>\n",
       "    <tr>\n",
       "      <th>200</th>\n",
       "      <td>1.514633</td>\n",
       "      <td>-0.392176</td>\n",
       "      <td>-0.005710</td>\n",
       "      <td>1.308566</td>\n",
       "      <td>-0.114526</td>\n",
       "      <td>-0.056951</td>\n",
       "      <td>-0.820040</td>\n",
       "    </tr>\n",
       "    <tr>\n",
       "      <th>201</th>\n",
       "      <td>0.353464</td>\n",
       "      <td>-1.720209</td>\n",
       "      <td>0.609888</td>\n",
       "      <td>-1.305719</td>\n",
       "      <td>1.280735</td>\n",
       "      <td>-0.334032</td>\n",
       "      <td>-0.396323</td>\n",
       "    </tr>\n",
       "  </tbody>\n",
       "</table>\n",
       "<p>202 rows × 7 columns</p>\n",
       "</div>"
      ],
      "text/plain": [
       "            0         1         2         3         4         5         6\n",
       "0   -1.321915 -0.222950 -1.599863 -0.885014  0.646617 -0.700208 -0.318031\n",
       "1   -1.147878  1.716967 -0.395722 -0.447960 -0.687805 -0.231969 -1.542487\n",
       "2   -0.090369  1.836066 -1.359382  0.337505  0.742387  0.593030  1.540495\n",
       "3   -3.455898 -0.078279  0.202382 -1.573584 -0.068551 -0.051945 -0.909409\n",
       "4   -0.916933 -1.184676 -0.190036  0.117804 -0.147753 -0.619750  0.450419\n",
       "..        ...       ...       ...       ...       ...       ...       ...\n",
       "197  0.707036 -2.506168  0.430903  0.583919 -0.620195 -0.205709 -0.728973\n",
       "198  2.038917  1.378909  0.824921  0.039240  0.373044  0.013360 -0.401364\n",
       "199  1.481464  0.975900 -0.637578  0.884946  0.128337 -0.655749 -0.662248\n",
       "200  1.514633 -0.392176 -0.005710  1.308566 -0.114526 -0.056951 -0.820040\n",
       "201  0.353464 -1.720209  0.609888 -1.305719  1.280735 -0.334032 -0.396323\n",
       "\n",
       "[202 rows x 7 columns]"
      ]
     },
     "execution_count": 72,
     "metadata": {},
     "output_type": "execute_result"
    }
   ],
   "source": [
    "pd.DataFrame(data_new_pca)"
   ]
  },
  {
   "cell_type": "markdown",
   "metadata": {},
   "source": [
    "## Ejemplo 3"
   ]
  },
  {
   "cell_type": "code",
   "execution_count": 78,
   "metadata": {},
   "outputs": [],
   "source": [
    "data = pd.read_csv('../Data/iris.csv', index_col=[0])"
   ]
  },
  {
   "cell_type": "code",
   "execution_count": 79,
   "metadata": {},
   "outputs": [
    {
     "data": {
      "text/html": [
       "<div>\n",
       "<style scoped>\n",
       "    .dataframe tbody tr th:only-of-type {\n",
       "        vertical-align: middle;\n",
       "    }\n",
       "\n",
       "    .dataframe tbody tr th {\n",
       "        vertical-align: top;\n",
       "    }\n",
       "\n",
       "    .dataframe thead th {\n",
       "        text-align: right;\n",
       "    }\n",
       "</style>\n",
       "<table border=\"1\" class=\"dataframe\">\n",
       "  <thead>\n",
       "    <tr style=\"text-align: right;\">\n",
       "      <th></th>\n",
       "      <th>sepal-length</th>\n",
       "      <th>sepal-width</th>\n",
       "      <th>petal-length</th>\n",
       "      <th>petal-width</th>\n",
       "      <th>Class</th>\n",
       "    </tr>\n",
       "  </thead>\n",
       "  <tbody>\n",
       "    <tr>\n",
       "      <th>0</th>\n",
       "      <td>5.1</td>\n",
       "      <td>3.5</td>\n",
       "      <td>1.4</td>\n",
       "      <td>0.2</td>\n",
       "      <td>Iris-setosa</td>\n",
       "    </tr>\n",
       "    <tr>\n",
       "      <th>1</th>\n",
       "      <td>4.9</td>\n",
       "      <td>3.0</td>\n",
       "      <td>1.4</td>\n",
       "      <td>0.2</td>\n",
       "      <td>Iris-setosa</td>\n",
       "    </tr>\n",
       "    <tr>\n",
       "      <th>2</th>\n",
       "      <td>4.7</td>\n",
       "      <td>3.2</td>\n",
       "      <td>1.3</td>\n",
       "      <td>0.2</td>\n",
       "      <td>Iris-setosa</td>\n",
       "    </tr>\n",
       "    <tr>\n",
       "      <th>3</th>\n",
       "      <td>4.6</td>\n",
       "      <td>3.1</td>\n",
       "      <td>1.5</td>\n",
       "      <td>0.2</td>\n",
       "      <td>Iris-setosa</td>\n",
       "    </tr>\n",
       "    <tr>\n",
       "      <th>4</th>\n",
       "      <td>5.0</td>\n",
       "      <td>3.6</td>\n",
       "      <td>1.4</td>\n",
       "      <td>0.2</td>\n",
       "      <td>Iris-setosa</td>\n",
       "    </tr>\n",
       "  </tbody>\n",
       "</table>\n",
       "</div>"
      ],
      "text/plain": [
       "   sepal-length  sepal-width  petal-length  petal-width        Class\n",
       "0           5.1          3.5           1.4          0.2  Iris-setosa\n",
       "1           4.9          3.0           1.4          0.2  Iris-setosa\n",
       "2           4.7          3.2           1.3          0.2  Iris-setosa\n",
       "3           4.6          3.1           1.5          0.2  Iris-setosa\n",
       "4           5.0          3.6           1.4          0.2  Iris-setosa"
      ]
     },
     "execution_count": 79,
     "metadata": {},
     "output_type": "execute_result"
    }
   ],
   "source": [
    "data.head()"
   ]
  },
  {
   "cell_type": "code",
   "execution_count": 80,
   "metadata": {},
   "outputs": [
    {
     "name": "stdout",
     "output_type": "stream",
     "text": [
      "<class 'pandas.core.frame.DataFrame'>\n",
      "Int64Index: 150 entries, 0 to 149\n",
      "Data columns (total 5 columns):\n",
      " #   Column        Non-Null Count  Dtype  \n",
      "---  ------        --------------  -----  \n",
      " 0   sepal-length  150 non-null    float64\n",
      " 1   sepal-width   150 non-null    float64\n",
      " 2   petal-length  150 non-null    float64\n",
      " 3   petal-width   150 non-null    float64\n",
      " 4   Class         150 non-null    object \n",
      "dtypes: float64(4), object(1)\n",
      "memory usage: 7.0+ KB\n"
     ]
    }
   ],
   "source": [
    "data.info()"
   ]
  },
  {
   "cell_type": "code",
   "execution_count": 81,
   "metadata": {},
   "outputs": [],
   "source": [
    "data = data.drop('Class', axis=1)"
   ]
  },
  {
   "cell_type": "code",
   "execution_count": 82,
   "metadata": {},
   "outputs": [
    {
     "data": {
      "text/html": [
       "<div>\n",
       "<style scoped>\n",
       "    .dataframe tbody tr th:only-of-type {\n",
       "        vertical-align: middle;\n",
       "    }\n",
       "\n",
       "    .dataframe tbody tr th {\n",
       "        vertical-align: top;\n",
       "    }\n",
       "\n",
       "    .dataframe thead th {\n",
       "        text-align: right;\n",
       "    }\n",
       "</style>\n",
       "<table border=\"1\" class=\"dataframe\">\n",
       "  <thead>\n",
       "    <tr style=\"text-align: right;\">\n",
       "      <th></th>\n",
       "      <th>sepal-length</th>\n",
       "      <th>sepal-width</th>\n",
       "      <th>petal-length</th>\n",
       "      <th>petal-width</th>\n",
       "    </tr>\n",
       "  </thead>\n",
       "  <tbody>\n",
       "    <tr>\n",
       "      <th>0</th>\n",
       "      <td>5.1</td>\n",
       "      <td>3.5</td>\n",
       "      <td>1.4</td>\n",
       "      <td>0.2</td>\n",
       "    </tr>\n",
       "    <tr>\n",
       "      <th>1</th>\n",
       "      <td>4.9</td>\n",
       "      <td>3.0</td>\n",
       "      <td>1.4</td>\n",
       "      <td>0.2</td>\n",
       "    </tr>\n",
       "    <tr>\n",
       "      <th>2</th>\n",
       "      <td>4.7</td>\n",
       "      <td>3.2</td>\n",
       "      <td>1.3</td>\n",
       "      <td>0.2</td>\n",
       "    </tr>\n",
       "    <tr>\n",
       "      <th>3</th>\n",
       "      <td>4.6</td>\n",
       "      <td>3.1</td>\n",
       "      <td>1.5</td>\n",
       "      <td>0.2</td>\n",
       "    </tr>\n",
       "    <tr>\n",
       "      <th>4</th>\n",
       "      <td>5.0</td>\n",
       "      <td>3.6</td>\n",
       "      <td>1.4</td>\n",
       "      <td>0.2</td>\n",
       "    </tr>\n",
       "  </tbody>\n",
       "</table>\n",
       "</div>"
      ],
      "text/plain": [
       "   sepal-length  sepal-width  petal-length  petal-width\n",
       "0           5.1          3.5           1.4          0.2\n",
       "1           4.9          3.0           1.4          0.2\n",
       "2           4.7          3.2           1.3          0.2\n",
       "3           4.6          3.1           1.5          0.2\n",
       "4           5.0          3.6           1.4          0.2"
      ]
     },
     "execution_count": 82,
     "metadata": {},
     "output_type": "execute_result"
    }
   ],
   "source": [
    "data.head()"
   ]
  },
  {
   "cell_type": "code",
   "execution_count": 83,
   "metadata": {},
   "outputs": [
    {
     "data": {
      "text/html": [
       "<div>\n",
       "<style scoped>\n",
       "    .dataframe tbody tr th:only-of-type {\n",
       "        vertical-align: middle;\n",
       "    }\n",
       "\n",
       "    .dataframe tbody tr th {\n",
       "        vertical-align: top;\n",
       "    }\n",
       "\n",
       "    .dataframe thead th {\n",
       "        text-align: right;\n",
       "    }\n",
       "</style>\n",
       "<table border=\"1\" class=\"dataframe\">\n",
       "  <thead>\n",
       "    <tr style=\"text-align: right;\">\n",
       "      <th></th>\n",
       "      <th>sepal-length</th>\n",
       "      <th>sepal-width</th>\n",
       "      <th>petal-length</th>\n",
       "      <th>petal-width</th>\n",
       "    </tr>\n",
       "  </thead>\n",
       "  <tbody>\n",
       "    <tr>\n",
       "      <th>0</th>\n",
       "      <td>-0.897674</td>\n",
       "      <td>1.028611</td>\n",
       "      <td>-1.336794</td>\n",
       "      <td>-1.308593</td>\n",
       "    </tr>\n",
       "    <tr>\n",
       "      <th>1</th>\n",
       "      <td>-1.139200</td>\n",
       "      <td>-0.124540</td>\n",
       "      <td>-1.336794</td>\n",
       "      <td>-1.308593</td>\n",
       "    </tr>\n",
       "    <tr>\n",
       "      <th>2</th>\n",
       "      <td>-1.380727</td>\n",
       "      <td>0.336720</td>\n",
       "      <td>-1.393470</td>\n",
       "      <td>-1.308593</td>\n",
       "    </tr>\n",
       "    <tr>\n",
       "      <th>3</th>\n",
       "      <td>-1.501490</td>\n",
       "      <td>0.106090</td>\n",
       "      <td>-1.280118</td>\n",
       "      <td>-1.308593</td>\n",
       "    </tr>\n",
       "    <tr>\n",
       "      <th>4</th>\n",
       "      <td>-1.018437</td>\n",
       "      <td>1.259242</td>\n",
       "      <td>-1.336794</td>\n",
       "      <td>-1.308593</td>\n",
       "    </tr>\n",
       "    <tr>\n",
       "      <th>...</th>\n",
       "      <td>...</td>\n",
       "      <td>...</td>\n",
       "      <td>...</td>\n",
       "      <td>...</td>\n",
       "    </tr>\n",
       "    <tr>\n",
       "      <th>145</th>\n",
       "      <td>1.034539</td>\n",
       "      <td>-0.124540</td>\n",
       "      <td>0.816888</td>\n",
       "      <td>1.443121</td>\n",
       "    </tr>\n",
       "    <tr>\n",
       "      <th>146</th>\n",
       "      <td>0.551486</td>\n",
       "      <td>-1.277692</td>\n",
       "      <td>0.703536</td>\n",
       "      <td>0.918985</td>\n",
       "    </tr>\n",
       "    <tr>\n",
       "      <th>147</th>\n",
       "      <td>0.793012</td>\n",
       "      <td>-0.124540</td>\n",
       "      <td>0.816888</td>\n",
       "      <td>1.050019</td>\n",
       "    </tr>\n",
       "    <tr>\n",
       "      <th>148</th>\n",
       "      <td>0.430722</td>\n",
       "      <td>0.797981</td>\n",
       "      <td>0.930239</td>\n",
       "      <td>1.443121</td>\n",
       "    </tr>\n",
       "    <tr>\n",
       "      <th>149</th>\n",
       "      <td>0.068433</td>\n",
       "      <td>-0.124540</td>\n",
       "      <td>0.760212</td>\n",
       "      <td>0.787951</td>\n",
       "    </tr>\n",
       "  </tbody>\n",
       "</table>\n",
       "<p>150 rows × 4 columns</p>\n",
       "</div>"
      ],
      "text/plain": [
       "     sepal-length  sepal-width  petal-length  petal-width\n",
       "0       -0.897674     1.028611     -1.336794    -1.308593\n",
       "1       -1.139200    -0.124540     -1.336794    -1.308593\n",
       "2       -1.380727     0.336720     -1.393470    -1.308593\n",
       "3       -1.501490     0.106090     -1.280118    -1.308593\n",
       "4       -1.018437     1.259242     -1.336794    -1.308593\n",
       "..            ...          ...           ...          ...\n",
       "145      1.034539    -0.124540      0.816888     1.443121\n",
       "146      0.551486    -1.277692      0.703536     0.918985\n",
       "147      0.793012    -0.124540      0.816888     1.050019\n",
       "148      0.430722     0.797981      0.930239     1.443121\n",
       "149      0.068433    -0.124540      0.760212     0.787951\n",
       "\n",
       "[150 rows x 4 columns]"
      ]
     },
     "execution_count": 83,
     "metadata": {},
     "output_type": "execute_result"
    }
   ],
   "source": [
    "#1.- Estandarizar\n",
    "data_std = (data - data.mean(axis=0))/data.std(axis=0)\n",
    "data_std"
   ]
  },
  {
   "cell_type": "code",
   "execution_count": 84,
   "metadata": {},
   "outputs": [],
   "source": [
    "#2.- Aplicar el análisis de PCA\n",
    "pca_iris = PCA(n_components = 4)\n",
    "pca_iris.fit(data_std)\n",
    "data_pca_new = pca_iris.transform(data_std)\n"
   ]
  },
  {
   "cell_type": "code",
   "execution_count": 89,
   "metadata": {},
   "outputs": [
    {
     "data": {
      "text/html": [
       "<div>\n",
       "<style scoped>\n",
       "    .dataframe tbody tr th:only-of-type {\n",
       "        vertical-align: middle;\n",
       "    }\n",
       "\n",
       "    .dataframe tbody tr th {\n",
       "        vertical-align: top;\n",
       "    }\n",
       "\n",
       "    .dataframe thead th {\n",
       "        text-align: right;\n",
       "    }\n",
       "</style>\n",
       "<table border=\"1\" class=\"dataframe\">\n",
       "  <thead>\n",
       "    <tr style=\"text-align: right;\">\n",
       "      <th></th>\n",
       "      <th>pca1</th>\n",
       "      <th>pca2</th>\n",
       "      <th>pca3</th>\n",
       "      <th>pca4</th>\n",
       "    </tr>\n",
       "  </thead>\n",
       "  <tbody>\n",
       "    <tr>\n",
       "      <th>0</th>\n",
       "      <td>-2.256981</td>\n",
       "      <td>0.504015</td>\n",
       "      <td>-0.121536</td>\n",
       "      <td>-0.022996</td>\n",
       "    </tr>\n",
       "    <tr>\n",
       "      <th>1</th>\n",
       "      <td>-2.079459</td>\n",
       "      <td>-0.653216</td>\n",
       "      <td>-0.226492</td>\n",
       "      <td>-0.102864</td>\n",
       "    </tr>\n",
       "    <tr>\n",
       "      <th>2</th>\n",
       "      <td>-2.360044</td>\n",
       "      <td>-0.317414</td>\n",
       "      <td>0.051308</td>\n",
       "      <td>-0.027732</td>\n",
       "    </tr>\n",
       "    <tr>\n",
       "      <th>3</th>\n",
       "      <td>-2.296504</td>\n",
       "      <td>-0.573447</td>\n",
       "      <td>0.098530</td>\n",
       "      <td>0.066090</td>\n",
       "    </tr>\n",
       "    <tr>\n",
       "      <th>4</th>\n",
       "      <td>-2.380802</td>\n",
       "      <td>0.672514</td>\n",
       "      <td>0.021356</td>\n",
       "      <td>0.037272</td>\n",
       "    </tr>\n",
       "  </tbody>\n",
       "</table>\n",
       "</div>"
      ],
      "text/plain": [
       "       pca1      pca2      pca3      pca4\n",
       "0 -2.256981  0.504015 -0.121536 -0.022996\n",
       "1 -2.079459 -0.653216 -0.226492 -0.102864\n",
       "2 -2.360044 -0.317414  0.051308 -0.027732\n",
       "3 -2.296504 -0.573447  0.098530  0.066090\n",
       "4 -2.380802  0.672514  0.021356  0.037272"
      ]
     },
     "execution_count": 89,
     "metadata": {},
     "output_type": "execute_result"
    }
   ],
   "source": [
    "pd.DataFrame(data_pca_new, columns=['pca1', 'pca2', 'pca3', 'pca4']).head()"
   ]
  },
  {
   "cell_type": "code",
   "execution_count": 93,
   "metadata": {},
   "outputs": [
    {
     "data": {
      "image/png": "[encoded data removed]",
      "text/plain": [
       "<Figure size 720x648 with 1 Axes>"
      ]
     },
     "metadata": {
      "needs_background": "light"
     },
     "output_type": "display_data"
    }
   ],
   "source": [
    "eleccion_de_componmentes_PCA(pca_iris, 0.99)"
   ]
  },
  {
   "cell_type": "code",
   "execution_count": 98,
   "metadata": {},
   "outputs": [
    {
     "data": {
      "text/html": [
       "<div>\n",
       "<style scoped>\n",
       "    .dataframe tbody tr th:only-of-type {\n",
       "        vertical-align: middle;\n",
       "    }\n",
       "\n",
       "    .dataframe tbody tr th {\n",
       "        vertical-align: top;\n",
       "    }\n",
       "\n",
       "    .dataframe thead th {\n",
       "        text-align: right;\n",
       "    }\n",
       "</style>\n",
       "<table border=\"1\" class=\"dataframe\">\n",
       "  <thead>\n",
       "    <tr style=\"text-align: right;\">\n",
       "      <th></th>\n",
       "      <th>pca1</th>\n",
       "      <th>pca2</th>\n",
       "      <th>pca3</th>\n",
       "    </tr>\n",
       "  </thead>\n",
       "  <tbody>\n",
       "    <tr>\n",
       "      <th>0</th>\n",
       "      <td>-2.256981</td>\n",
       "      <td>0.504015</td>\n",
       "      <td>-0.121536</td>\n",
       "    </tr>\n",
       "    <tr>\n",
       "      <th>1</th>\n",
       "      <td>-2.079459</td>\n",
       "      <td>-0.653216</td>\n",
       "      <td>-0.226492</td>\n",
       "    </tr>\n",
       "    <tr>\n",
       "      <th>2</th>\n",
       "      <td>-2.360044</td>\n",
       "      <td>-0.317414</td>\n",
       "      <td>0.051308</td>\n",
       "    </tr>\n",
       "    <tr>\n",
       "      <th>3</th>\n",
       "      <td>-2.296504</td>\n",
       "      <td>-0.573447</td>\n",
       "      <td>0.098530</td>\n",
       "    </tr>\n",
       "    <tr>\n",
       "      <th>4</th>\n",
       "      <td>-2.380802</td>\n",
       "      <td>0.672514</td>\n",
       "      <td>0.021356</td>\n",
       "    </tr>\n",
       "  </tbody>\n",
       "</table>\n",
       "</div>"
      ],
      "text/plain": [
       "       pca1      pca2      pca3\n",
       "0 -2.256981  0.504015 -0.121536\n",
       "1 -2.079459 -0.653216 -0.226492\n",
       "2 -2.360044 -0.317414  0.051308\n",
       "3 -2.296504 -0.573447  0.098530\n",
       "4 -2.380802  0.672514  0.021356"
      ]
     },
     "execution_count": 98,
     "metadata": {},
     "output_type": "execute_result"
    }
   ],
   "source": [
    "#3.- Apartir de la gráfica anterior se puede notar que con 3 componentes se tiene aprox. el 99% de info\n",
    "# volvemo a Aplicar el análisis de PCA con n_components = 3\n",
    "pca_iris = PCA(n_components = 3)\n",
    "pca_iris.fit(data_std)\n",
    "data_pca_new = pca_iris.transform(data_std)\n",
    "PCA_iris_df = pd.DataFrame(data_pca_new, columns=['pca1', 'pca2', 'pca3'])\n",
    "PCA_iris_df.head()"
   ]
  },
  {
   "cell_type": "code",
   "execution_count": 99,
   "metadata": {},
   "outputs": [
    {
     "data": {
      "text/plain": [
       "Text(0.5, 0.92, 'Datos Transformados a 3 dimensiones por PCA')"
      ]
     },
     "execution_count": 99,
     "metadata": {},
     "output_type": "execute_result"
    },
    {
     "data": {
      "image/png": "[encoded data removed]",
      "text/plain": [
       "<Figure size 720x576 with 1 Axes>"
      ]
     },
     "metadata": {
      "needs_background": "light"
     },
     "output_type": "display_data"
    }
   ],
   "source": [
    "# visualizar el nuevo espacio de datos para las muestras de las flores\n",
    "fig = plt.figure(figsize=(10,8))\n",
    "ax=plt.axes(projection='3d')\n",
    "\n",
    "#Creamos la gráfica en 3dim\n",
    "ax.scatter3D(PCA_iris_df.values[:,0], PCA_iris_df.values[:,1], PCA_iris_df.values[:,2])\n",
    "plt.title('Datos Transformados a 3 dimensiones por PCA')"
   ]
  },
  {
   "cell_type": "code",
   "execution_count": null,
   "metadata": {},
   "outputs": [],
   "source": []
  }
 ],
 "metadata": {
  "kernelspec": {
   "display_name": "Python 3 (ipykernel)",
   "language": "python",
   "name": "python3"
  },
  "language_info": {
   "codemirror_mode": {
    "name": "ipython",
    "version": 3
   },
   "file_extension": ".py",
   "mimetype": "text/x-python",
   "name": "python",
   "nbconvert_exporter": "python",
   "pygments_lexer": "ipython3",
   "version": "3.8.8"
  }
 },
 "nbformat": 4,
 "nbformat_minor": 4
}
